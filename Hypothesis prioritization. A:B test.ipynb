{
 "cells": [
  {
   "cell_type": "markdown",
   "metadata": {},
   "source": [
    "# Принятие решений в бизнесе на основе данных.\n",
    "# Приоритезация гипотез. A/B тест"
   ]
  },
  {
   "cell_type": "markdown",
   "metadata": {},
   "source": [
    "## Описание проекта"
   ]
  },
  {
   "cell_type": "markdown",
   "metadata": {},
   "source": [
    "В этом проекте я - аналитик крупного интернет-магазина. Вместе с отделом маркетинга мы подготовили список гипотез для увеличения выручки. \n",
    "\n",
    "\n",
    "Моя задача - приоритизировать гипотезы, запустить A/B-тест, проанализировать результаты и сделать выводы."
   ]
  },
  {
   "cell_type": "markdown",
   "metadata": {},
   "source": [
    "### Ход исследования и задачи"
   ]
  },
  {
   "cell_type": "markdown",
   "metadata": {},
   "source": [
    "####  Приоритизация гипотез"
   ]
  },
  {
   "cell_type": "markdown",
   "metadata": {},
   "source": [
    "- Применить фреймворк ICE для приоритизации гипотез. Отсортировать их по убыванию приоритета.\n",
    "\n",
    "\n",
    "- Применить фреймворк RICE для приоритизации гипотез. Отсортировать их по убыванию приоритета.\n",
    "\n",
    "\n",
    "- Указать, как изменилась приоритизация гипотез при применении RICE вместо ICE. Объяснить, почему так произошло."
   ]
  },
  {
   "cell_type": "markdown",
   "metadata": {},
   "source": [
    "#### Анализ A/B-теста"
   ]
  },
  {
   "cell_type": "markdown",
   "metadata": {},
   "source": [
    "- Построить график кумулятивной выручки по группам. Сделать выводы и предположения.\n",
    "\n",
    "\n",
    "- Построить график кумулятивного среднего чека по группам. Сделать выводы и предположения.\n",
    "\n",
    "\n",
    "- Построить график относительного изменения кумулятивного среднего чека группы B к группе A. Сделать выводы и предположения.\n",
    "\n",
    "\n",
    "- Построить график кумулятивного среднего количества заказов на посетителя по группам. Сделать выводы и предположения.\n",
    "\n",
    "\n",
    "- Построить график относительного изменения кумулятивного среднего количества заказов на посетителя группы B к группе A. Сделать выводы и предположения.\n",
    "\n",
    "\n",
    "- Построить точечный график количества заказов по пользователям. Сделать выводы и предположения.\n",
    "\n",
    "\n",
    "- Определить 95-й и 99-й перцентили количества заказов на пользователя. Выбрать границу для определения аномальных пользователей.\n",
    "\n",
    "\n",
    "- Построить точечный график стоимостей заказов. Сделать выводы и предположения.\n",
    "\n",
    "\n",
    "- Определить 95-й и 99-й перцентили стоимости заказов. Выбрать границу для определения аномальных заказов.\n",
    "\n",
    "\n",
    "- Посчитать статистическую значимость различий в среднем количестве заказов на посетителя между группами по «сырым» данным. Сделать выводы и предположения.\n",
    "\n",
    "\n",
    "- Посчитать статистическую значимость различий в среднем чеке заказа между группами по «сырым» данным. Сделать выводы и предположения.\n",
    "\n",
    "\n",
    "- Посчитать статистическую значимость различий в среднем количестве заказов на посетителя между группами по «очищенным» данным. Сделать выводы и предположения.\n",
    "\n",
    "\n",
    "- Посчитать статистическую значимость различий в среднем чеке заказа между группами по «очищенным» данным. Сделать выводы и предположения.\n",
    "\n",
    "\n",
    "- Принять решение по результатам теста и объясните его. \n",
    "    Варианты решений:\n",
    "    1. Остановить тест, зафиксировать победу одной из групп.\n",
    "    2. Остановить тест, зафиксировать отсутствие различий между группами.\n",
    "    3. Продолжить тест."
   ]
  },
  {
   "cell_type": "markdown",
   "metadata": {},
   "source": [
    "### Описание данных:"
   ]
  },
  {
   "cell_type": "markdown",
   "metadata": {},
   "source": [
    "**Данные для первой части:**\n",
    "- **Файл** `/datasets/hypothesis.csv`\n",
    "\n",
    "\n",
    "- `Hypothesis` — краткое описание гипотезы;\n",
    "- `Reach` — охват пользователей по 10-балльной шкале;\n",
    "- `Impact` — влияние на пользователей по 10-балльной шкале;\n",
    "- `Confidence` — уверенность в гипотезе по 10-балльной шкале;\n",
    "- `Efforts` — затраты ресурсов на проверку гипотезы по 10-балльной шкале. Чем больше значение Efforts, тем дороже проверка гипотезы.\n",
    "\n",
    "\n",
    "**Данные для второй части:**\n",
    "- **Файл** `/datasets/orders.csv` \n",
    "\n",
    "\n",
    "- `transactionId` — идентификатор заказа;\n",
    "- `visitorId` — идентификатор пользователя, совершившего заказ;\n",
    "- `date` — дата, когда был совершён заказ;\n",
    "- `revenue` — выручка заказа;\n",
    "- `group` — группа A/B-теста, в которую попал заказ.\n",
    "\n",
    "\n",
    "- **Файл** `/datasets/visitors.csv`\n",
    "\n",
    "\n",
    "- `date` — дата;\n",
    "- `group` — группа A/B-теста;\n",
    "- `visitors` — количество пользователей в указанную дату в указанной группе A/B-теста"
   ]
  },
  {
   "cell_type": "markdown",
   "metadata": {},
   "source": [
    "### Чтение данных и предобработка. \n",
    "\n",
    "Проверим данные на пропуски и дубликаты. Убедимся, что типы данных во всех колонках соответствуют сохранённым в них значениям."
   ]
  },
  {
   "cell_type": "code",
   "execution_count": 1,
   "metadata": {},
   "outputs": [],
   "source": [
    "import pandas as pd\n",
    "import datetime as dt\n",
    "import numpy as np\n",
    "import scipy.stats as stats\n",
    "import scipy as st\n",
    "from matplotlib import pyplot as plt\n",
    "import seaborn as sns\n",
    "\n",
    "# снимаем ограничение на количество и ширину столбцов \n",
    "pd.set_option('display.max_columns', None)\n",
    "pd.set_option('display.max_colwidth', None)\n",
    "pd.set_option('display.max_rows', None)\n",
    "\n",
    "sns.set(style=\"whitegrid\", palette=\"pastel\", font_scale=1)\n",
    "sns.set_style({'grid.linestyle': '--'})\n",
    "\n",
    "alpha = 0.05"
   ]
  },
  {
   "cell_type": "code",
   "execution_count": 2,
   "metadata": {},
   "outputs": [],
   "source": [
    "hypothesis = pd.read_csv('/datasets/hypothesis.csv')\n",
    "orders = pd.read_csv('/datasets/orders.csv')\n",
    "visitors = pd.read_csv('/datasets/visitors.csv')\n",
    "\n",
    "file_list = [hypothesis, orders, visitors]"
   ]
  },
  {
   "cell_type": "code",
   "execution_count": 3,
   "metadata": {},
   "outputs": [
    {
     "name": "stdout",
     "output_type": "stream",
     "text": [
      "<class 'pandas.core.frame.DataFrame'>\n",
      "RangeIndex: 9 entries, 0 to 8\n",
      "Data columns (total 5 columns):\n",
      " #   Column      Non-Null Count  Dtype \n",
      "---  ------      --------------  ----- \n",
      " 0   Hypothesis  9 non-null      object\n",
      " 1   Reach       9 non-null      int64 \n",
      " 2   Impact      9 non-null      int64 \n",
      " 3   Confidence  9 non-null      int64 \n",
      " 4   Efforts     9 non-null      int64 \n",
      "dtypes: int64(4), object(1)\n",
      "memory usage: 488.0+ bytes\n",
      "Количество дубликатов явных дубликатов = 0\n",
      "<class 'pandas.core.frame.DataFrame'>\n",
      "RangeIndex: 1197 entries, 0 to 1196\n",
      "Data columns (total 5 columns):\n",
      " #   Column         Non-Null Count  Dtype \n",
      "---  ------         --------------  ----- \n",
      " 0   transactionId  1197 non-null   int64 \n",
      " 1   visitorId      1197 non-null   int64 \n",
      " 2   date           1197 non-null   object\n",
      " 3   revenue        1197 non-null   int64 \n",
      " 4   group          1197 non-null   object\n",
      "dtypes: int64(3), object(2)\n",
      "memory usage: 46.9+ KB\n",
      "Количество дубликатов явных дубликатов = 0\n",
      "<class 'pandas.core.frame.DataFrame'>\n",
      "RangeIndex: 62 entries, 0 to 61\n",
      "Data columns (total 3 columns):\n",
      " #   Column    Non-Null Count  Dtype \n",
      "---  ------    --------------  ----- \n",
      " 0   date      62 non-null     object\n",
      " 1   group     62 non-null     object\n",
      " 2   visitors  62 non-null     int64 \n",
      "dtypes: int64(1), object(2)\n",
      "memory usage: 1.6+ KB\n",
      "Количество дубликатов явных дубликатов = 0\n"
     ]
    }
   ],
   "source": [
    "for i in file_list:\n",
    "    i.info()\n",
    "    print('Количество дубликатов явных дубликатов =', i.duplicated().sum())"
   ]
  },
  {
   "cell_type": "markdown",
   "metadata": {},
   "source": [
    "**Вывод:**\n",
    "\n",
    "Пропуски и явные дубликаты во всех трёх датафреймах отсутвуют. Следует привести столбцы `date` к типу данных datetime, также привести все названия колонок к нижнему регистру."
   ]
  },
  {
   "cell_type": "code",
   "execution_count": 4,
   "metadata": {},
   "outputs": [],
   "source": [
    "for i in file_list:\n",
    "    i.columns = map(str.lower, i.columns)\n",
    "    \n",
    "orders['date'] = pd.to_datetime(orders['date'])\n",
    "visitors['date'] = pd.to_datetime(visitors['date'])"
   ]
  },
  {
   "cell_type": "markdown",
   "metadata": {},
   "source": [
    "### Приоритизация гипотез."
   ]
  },
  {
   "cell_type": "markdown",
   "metadata": {},
   "source": [
    "#### Метод `ICE`"
   ]
  },
  {
   "cell_type": "code",
   "execution_count": 5,
   "metadata": {},
   "outputs": [
    {
     "data": {
      "text/html": [
       "<div>\n",
       "<style scoped>\n",
       "    .dataframe tbody tr th:only-of-type {\n",
       "        vertical-align: middle;\n",
       "    }\n",
       "\n",
       "    .dataframe tbody tr th {\n",
       "        vertical-align: top;\n",
       "    }\n",
       "\n",
       "    .dataframe thead th {\n",
       "        text-align: right;\n",
       "    }\n",
       "</style>\n",
       "<table border=\"1\" class=\"dataframe\">\n",
       "  <thead>\n",
       "    <tr style=\"text-align: right;\">\n",
       "      <th></th>\n",
       "      <th>hypothesis</th>\n",
       "      <th>ICE</th>\n",
       "    </tr>\n",
       "  </thead>\n",
       "  <tbody>\n",
       "    <tr>\n",
       "      <th>8</th>\n",
       "      <td>Запустить акцию, дающую скидку на товар в день рождения</td>\n",
       "      <td>16.20</td>\n",
       "    </tr>\n",
       "    <tr>\n",
       "      <th>0</th>\n",
       "      <td>Добавить два новых канала привлечения трафика, что позволит привлекать на 30% больше пользователей</td>\n",
       "      <td>13.33</td>\n",
       "    </tr>\n",
       "    <tr>\n",
       "      <th>7</th>\n",
       "      <td>Добавить форму подписки на все основные страницы, чтобы собрать базу клиентов для email-рассылок</td>\n",
       "      <td>11.20</td>\n",
       "    </tr>\n",
       "    <tr>\n",
       "      <th>6</th>\n",
       "      <td>Показать на главной странице баннеры с актуальными акциями и распродажами, чтобы увеличить конверсию</td>\n",
       "      <td>8.00</td>\n",
       "    </tr>\n",
       "    <tr>\n",
       "      <th>2</th>\n",
       "      <td>Добавить блоки рекомендаций товаров на сайт интернет магазина, чтобы повысить конверсию и средний чек заказа</td>\n",
       "      <td>7.00</td>\n",
       "    </tr>\n",
       "    <tr>\n",
       "      <th>1</th>\n",
       "      <td>Запустить собственную службу доставки, что сократит срок доставки заказов</td>\n",
       "      <td>2.00</td>\n",
       "    </tr>\n",
       "    <tr>\n",
       "      <th>5</th>\n",
       "      <td>Добавить страницу отзывов клиентов о магазине, что позволит увеличить количество заказов</td>\n",
       "      <td>1.33</td>\n",
       "    </tr>\n",
       "    <tr>\n",
       "      <th>3</th>\n",
       "      <td>Изменить структура категорий, что увеличит конверсию, т.к. пользователи быстрее найдут нужный товар</td>\n",
       "      <td>1.12</td>\n",
       "    </tr>\n",
       "    <tr>\n",
       "      <th>4</th>\n",
       "      <td>Изменить цвет фона главной страницы, чтобы увеличить вовлеченность пользователей</td>\n",
       "      <td>1.00</td>\n",
       "    </tr>\n",
       "  </tbody>\n",
       "</table>\n",
       "</div>"
      ],
      "text/plain": [
       "                                                                                                     hypothesis  \\\n",
       "8                                                       Запустить акцию, дающую скидку на товар в день рождения   \n",
       "0            Добавить два новых канала привлечения трафика, что позволит привлекать на 30% больше пользователей   \n",
       "7              Добавить форму подписки на все основные страницы, чтобы собрать базу клиентов для email-рассылок   \n",
       "6          Показать на главной странице баннеры с актуальными акциями и распродажами, чтобы увеличить конверсию   \n",
       "2  Добавить блоки рекомендаций товаров на сайт интернет магазина, чтобы повысить конверсию и средний чек заказа   \n",
       "1                                     Запустить собственную службу доставки, что сократит срок доставки заказов   \n",
       "5                      Добавить страницу отзывов клиентов о магазине, что позволит увеличить количество заказов   \n",
       "3           Изменить структура категорий, что увеличит конверсию, т.к. пользователи быстрее найдут нужный товар   \n",
       "4                              Изменить цвет фона главной страницы, чтобы увеличить вовлеченность пользователей   \n",
       "\n",
       "     ICE  \n",
       "8  16.20  \n",
       "0  13.33  \n",
       "7  11.20  \n",
       "6   8.00  \n",
       "2   7.00  \n",
       "1   2.00  \n",
       "5   1.33  \n",
       "3   1.12  \n",
       "4   1.00  "
      ]
     },
     "execution_count": 5,
     "metadata": {},
     "output_type": "execute_result"
    }
   ],
   "source": [
    "hypothesis['ICE'] = round((hypothesis.impact * hypothesis.confidence) / hypothesis.efforts,2)\n",
    "hypothesis[['hypothesis', 'ICE']].sort_values(by = 'ICE', ascending = False)"
   ]
  },
  {
   "cell_type": "markdown",
   "metadata": {},
   "source": [
    "**Вывод:**\n",
    "Среди всех гипотез по показателю ICE выделить можно трёх лидеров.\n",
    "\n",
    "\n",
    "- `H8` Самая перспективная гипотеза по показателю ICE - \"Запустить акцию, дающую скидку на товар в день рождения\" с показателем 16.2. Это может быть эффективным способом стимулировать продажи за счет привлечения покупателей в день рождения.\n",
    "\n",
    "\n",
    "- `H0` Вторая по перспективности гипотеза - \"Добавить два новых канала привлечения трафика, что позволит привлекать на 30% больше пользователей\" с показателем 13.33. Это может привести к увеличению количества пользователей, что в свою очередь может привести к увеличению количества заказов.\n",
    "\n",
    "\n",
    "- `H7` На третьем месте гипотеза \"Добавить форму подписки на все основные страницы, чтобы собрать базу клиентов для email-рассылок\" с показателем 11.2. Это может быть полезным для создания базы данных клиентов, что позволит проводить более эффективные email-рассылки и увеличивать число продаж.\n",
    "\n",
    "\n",
    "Гипотезы, связанные с увеличением конверсии (гипотезы 6 и 3), имеют относительно низкие показатели ICE (8 и 1.12 соответственно), поэтому могут оказаться менее перспективными, чем гипотезы, направленные на увеличение количества пользователей или на стимулирование продаж.\n",
    "\n",
    "\n",
    "Гипотезы 1, 5 и 4 имеют наименьшие значения показателя ICE, что может свидетельствовать о том, что они могут быть менее эффективными или не окупят затрат на их реализацию."
   ]
  },
  {
   "cell_type": "markdown",
   "metadata": {},
   "source": [
    "#### Метод `RICE`"
   ]
  },
  {
   "cell_type": "code",
   "execution_count": 6,
   "metadata": {},
   "outputs": [
    {
     "data": {
      "text/html": [
       "<div>\n",
       "<style scoped>\n",
       "    .dataframe tbody tr th:only-of-type {\n",
       "        vertical-align: middle;\n",
       "    }\n",
       "\n",
       "    .dataframe tbody tr th {\n",
       "        vertical-align: top;\n",
       "    }\n",
       "\n",
       "    .dataframe thead th {\n",
       "        text-align: right;\n",
       "    }\n",
       "</style>\n",
       "<table border=\"1\" class=\"dataframe\">\n",
       "  <thead>\n",
       "    <tr style=\"text-align: right;\">\n",
       "      <th></th>\n",
       "      <th>hypothesis</th>\n",
       "      <th>RICE</th>\n",
       "      <th>ICE</th>\n",
       "    </tr>\n",
       "  </thead>\n",
       "  <tbody>\n",
       "    <tr>\n",
       "      <th>7</th>\n",
       "      <td>Добавить форму подписки на все основные страницы, чтобы собрать базу клиентов для email-рассылок</td>\n",
       "      <td>112.0</td>\n",
       "      <td>11.20</td>\n",
       "    </tr>\n",
       "    <tr>\n",
       "      <th>2</th>\n",
       "      <td>Добавить блоки рекомендаций товаров на сайт интернет магазина, чтобы повысить конверсию и средний чек заказа</td>\n",
       "      <td>56.0</td>\n",
       "      <td>7.00</td>\n",
       "    </tr>\n",
       "    <tr>\n",
       "      <th>0</th>\n",
       "      <td>Добавить два новых канала привлечения трафика, что позволит привлекать на 30% больше пользователей</td>\n",
       "      <td>40.0</td>\n",
       "      <td>13.33</td>\n",
       "    </tr>\n",
       "    <tr>\n",
       "      <th>6</th>\n",
       "      <td>Показать на главной странице баннеры с актуальными акциями и распродажами, чтобы увеличить конверсию</td>\n",
       "      <td>40.0</td>\n",
       "      <td>8.00</td>\n",
       "    </tr>\n",
       "    <tr>\n",
       "      <th>8</th>\n",
       "      <td>Запустить акцию, дающую скидку на товар в день рождения</td>\n",
       "      <td>16.2</td>\n",
       "      <td>16.20</td>\n",
       "    </tr>\n",
       "    <tr>\n",
       "      <th>3</th>\n",
       "      <td>Изменить структура категорий, что увеличит конверсию, т.к. пользователи быстрее найдут нужный товар</td>\n",
       "      <td>9.0</td>\n",
       "      <td>1.12</td>\n",
       "    </tr>\n",
       "    <tr>\n",
       "      <th>1</th>\n",
       "      <td>Запустить собственную службу доставки, что сократит срок доставки заказов</td>\n",
       "      <td>4.0</td>\n",
       "      <td>2.00</td>\n",
       "    </tr>\n",
       "    <tr>\n",
       "      <th>5</th>\n",
       "      <td>Добавить страницу отзывов клиентов о магазине, что позволит увеличить количество заказов</td>\n",
       "      <td>4.0</td>\n",
       "      <td>1.33</td>\n",
       "    </tr>\n",
       "    <tr>\n",
       "      <th>4</th>\n",
       "      <td>Изменить цвет фона главной страницы, чтобы увеличить вовлеченность пользователей</td>\n",
       "      <td>3.0</td>\n",
       "      <td>1.00</td>\n",
       "    </tr>\n",
       "  </tbody>\n",
       "</table>\n",
       "</div>"
      ],
      "text/plain": [
       "                                                                                                     hypothesis  \\\n",
       "7              Добавить форму подписки на все основные страницы, чтобы собрать базу клиентов для email-рассылок   \n",
       "2  Добавить блоки рекомендаций товаров на сайт интернет магазина, чтобы повысить конверсию и средний чек заказа   \n",
       "0            Добавить два новых канала привлечения трафика, что позволит привлекать на 30% больше пользователей   \n",
       "6          Показать на главной странице баннеры с актуальными акциями и распродажами, чтобы увеличить конверсию   \n",
       "8                                                       Запустить акцию, дающую скидку на товар в день рождения   \n",
       "3           Изменить структура категорий, что увеличит конверсию, т.к. пользователи быстрее найдут нужный товар   \n",
       "1                                     Запустить собственную службу доставки, что сократит срок доставки заказов   \n",
       "5                      Добавить страницу отзывов клиентов о магазине, что позволит увеличить количество заказов   \n",
       "4                              Изменить цвет фона главной страницы, чтобы увеличить вовлеченность пользователей   \n",
       "\n",
       "    RICE    ICE  \n",
       "7  112.0  11.20  \n",
       "2   56.0   7.00  \n",
       "0   40.0  13.33  \n",
       "6   40.0   8.00  \n",
       "8   16.2  16.20  \n",
       "3    9.0   1.12  \n",
       "1    4.0   2.00  \n",
       "5    4.0   1.33  \n",
       "4    3.0   1.00  "
      ]
     },
     "execution_count": 6,
     "metadata": {},
     "output_type": "execute_result"
    }
   ],
   "source": [
    "hypothesis['RICE'] = (hypothesis.reach * hypothesis.impact * hypothesis.confidence) / hypothesis.efforts\n",
    "hypothesis[['hypothesis', 'RICE','ICE']].sort_values(by = 'RICE', ascending = False)"
   ]
  },
  {
   "cell_type": "markdown",
   "metadata": {},
   "source": [
    "**Вывод:**\n",
    "\n",
    "- `H7` Добавить форму подписки на все основные страницы, чтобы собрать базу клиентов для email-рассылок - гипотеза с наибольшим значением RICE, что говорит о ее потенциальной значимости для бизнеса. Вместе с тем, необходимо убедиться, что компания обладает достаточным объемом ресурсов для эффективного взаимодействия с подписчиками.\n",
    "\n",
    "\n",
    "- `H2` Добавить блоки рекомендаций товаров на сайт интернет магазина, чтобы повысить конверсию и средний чек заказа - на втором месте по значению RICE, что говорит о высокой значимости гипотезы. Это предложение может быть особенно полезным для магазинов, предлагающих широкий ассортимент товаров.\n",
    "\n",
    "\n",
    "- `H0` Добавить два новых канала привлечения трафика, что позволит привлекать на 30% больше пользователей - третье место по значению RICE. Гипотеза предполагает увеличение числа пользователей, что может быть особенно полезным для компаний, работающих в сфере B2C.\n",
    "\n",
    "Остальные гипотезы имеют меньшее значение в сравнении с гипотезами 7, 2 и 0."
   ]
  },
  {
   "cell_type": "markdown",
   "metadata": {},
   "source": [
    "#### Вывод по разделу.  Изменение приоретизации в зависимости от метода."
   ]
  },
  {
   "cell_type": "markdown",
   "metadata": {},
   "source": [
    "При применении метода RICE вместо ICE приоритизация гипотез изменилась, и некоторые гипотезы поменяли свои места в списке приоритетов. Это произошло потому, что метод RICE учитывает ещё один фактор — охват пользователей.\n",
    "\n",
    "Например, гипотеза \"Добавить форму подписки на все основные страницы, чтобы собрать базу клиентов для email-рассылок\" имела наивысший приоритет при использовании метода RICE (RICE=112), в то время как при использовании метода ICE она была на третьем месте (ICE=11.20). Это связано с тем, что метод RICE учитывает не только важность гипотезы и её потенциальную прибыльность, но и то, как много пользователей она затронет. В данном случае, добавление формы подписки на все основные страницы может охватить большое количество пользователей и потенциально привести к большей прибыли, чем другие гипотезы.\n",
    "\n",
    "В целом, метод RICE позволяет более рационально расставлять приоритеты между гипотезами, учитывая их важность, потенциальную прибыльность и охват пользователей.\n",
    "\n",
    "\n",
    "\n",
    "\n"
   ]
  },
  {
   "cell_type": "markdown",
   "metadata": {},
   "source": [
    "### Анализ результатов A/B-теста, кумулятивные метрики."
   ]
  },
  {
   "cell_type": "markdown",
   "metadata": {},
   "source": [
    "#### Провека корректности распределения на группы A/B\n",
    "Мы осуществляем три проверки: первая связана с размерами групп в выборке и выявлением возможных различий между ними, вторая - с корректностью расчета необходимого размера выборки для проведения тестирования, третья - пересечение пользователей между группами, не попали ли одни и теже пользователи в разные группы."
   ]
  },
  {
   "cell_type": "code",
   "execution_count": 7,
   "metadata": {
    "scrolled": false
   },
   "outputs": [
    {
     "name": "stdout",
     "output_type": "stream",
     "text": [
      "\n",
      "\n",
      "Кол-во посетителей в группе А: 18736\n",
      "Кол-во посетителей в группе B: 18916\n",
      "Кол-во покупок в группе A: 557\n",
      "Кол-во покупок в группе B: 640\n",
      "Разница в количестве посетителей в группах A и B статистически НЕ значима\n",
      "\n",
      "Начальная конверсия: 0.030\n",
      "Полученная после изменений конверсия: 0.034\n",
      "Относительное изменение конверсии после изменений: 0.121\n",
      "\n",
      "Необходимый размер выборки для корректного проведения тестирования: 35855 посещений.\n",
      "Кол-во посещений в нашем случае: 37652\n",
      "\n",
      "Пересечений пользователей между группами A/B-теста не найдено\n"
     ]
    },
    {
     "data": {
      "image/png": "[encoded data removed]",
      "text/plain": [
       "<Figure size 1296x576 with 1 Axes>"
      ]
     },
     "metadata": {},
     "output_type": "display_data"
    }
   ],
   "source": [
    "# Определение количества посетителей в каждой группе\n",
    "visitors_grouped = visitors.groupby('group')['visitors'].sum()\n",
    "visitors_A = visitors_grouped['A']\n",
    "visitors_B = visitors_grouped['B']\n",
    "print()\n",
    "print()\n",
    "print(f\"Кол-во посетителей в группе А: {visitors_A}\\n\"\n",
    "      f\"Кол-во посетителей в группе B: {visitors_B}\")\n",
    "\n",
    "# Определение количества покупок в каждой группе\n",
    "purchases_grouped = orders.groupby('group').size()\n",
    "purchases_A = purchases_grouped['A']\n",
    "purchases_B = purchases_grouped['B']\n",
    "print(f\"Кол-во покупок в группе A: {purchases_A}\")\n",
    "print(f\"Кол-во покупок в группе B: {purchases_B}\")\n",
    "\n",
    "# Статистический тест\n",
    "def run_statistical_test(group_a, group_b, alpha=0.05):\n",
    "    results = stats.mannwhitneyu(group_a, group_b)\n",
    "    if results.pvalue < alpha:\n",
    "        print('Разница в количестве посетителей в группах A и B статистически значима\\n')\n",
    "    else:\n",
    "        print('Разница в количестве посетителей в группах A и B статистически НЕ значима\\n')\n",
    "run_statistical_test(visitors[visitors['group']=='A']['visitors'], visitors[visitors['group']=='B']['visitors'])\n",
    "\n",
    "# Определение начальной и полученной конверсий\n",
    "initial_conversion = purchases_A / visitors_A \n",
    "resulting_conversion = purchases_B / visitors_B\n",
    "print(f\"Начальная конверсия: {initial_conversion:.3f}\")\n",
    "print(f\"Полученная после изменений конверсия: {resulting_conversion:.3f}\")\n",
    "print(f\"Относительное изменение конверсии после изменений: {abs(1-(initial_conversion/resulting_conversion)):.3f}\")\n",
    "\n",
    "# Определение необходимого размера выборки для корректного проведения тестирования\n",
    "sample_size = 35855\n",
    "print(f\"\\nНеобходимый размер выборки для корректного проведения тестирования: {sample_size} посещений.\")\n",
    "print(f\"Кол-во посещений в нашем случае: {visitors['visitors'].sum()}\")\n",
    "\n",
    "\n",
    "# Для проверки пересечения пользователя между группами нам надо объединить таблицы orders и visitors по столбцам \"visitorid\" и \"group\", \n",
    "# чтобы получить таблицу с информацией о количестве посетителей каждой группы вместе с информацией о заказах каждого пользователя.\n",
    "\n",
    "chekmerge = pd.merge(orders, visitors, on=['group'], how='inner')\n",
    "print()\n",
    "# Проверка наличия пересечений\n",
    "# Эта строка проверяет, есть ли пересечение посетителей (visitorid), которые попали в разные группы теста. \n",
    "# Для этого сначала вычисляется количество уникальных visitorid в таблице, полученной в результате объединения таблиц orders и visitors по полю visitorid и group. \n",
    "# Затем, метод groupby() группирует эти же данные по visitorid, и далее посчитано количество уникальных групп, в которые попал каждый посетитель. \n",
    "# Если количество уникальных групп, в которые попал каждый посетитель, не равно максимальному количеству уникальных групп среди всех посетителей, \n",
    "# то значит, что произошло пересечение групп.\n",
    "\n",
    "if chekmerge['visitorid'].nunique() != chekmerge.groupby('visitorid')['group'].nunique().max():\n",
    "    \n",
    "    print('Пересечений пользователей между группами A/B-теста не найдено')\n",
    "else:\n",
    "    print('Обнаружено пересечение пользователей между группами A/B-теста')\n",
    "\n",
    "# Гистограмма количества посетителей в каждой группе\n",
    "plt.figure(figsize=(18, 8))\n",
    "sns.histplot(data=visitors[visitors['group']=='A'], x='visitors', bins=30, alpha=0.9, label='A')\n",
    "sns.histplot(data=visitors[visitors['group']=='B'], x='visitors', bins=30, alpha=0.5, color = 'orange', label='B')\n",
    "plt.title(\"Гистограммы кол-ва посетителей в день по группам A и B\", fontsize = 18, fontweight='bold')\n",
    "plt.xlabel('Количество посетителей', fontsize=16)\n",
    "plt.ylabel('Количество гупп', fontsize=16)\n",
    "plt.legend(fontsize=16)\n",
    "plt.show()\n"
   ]
  },
  {
   "cell_type": "markdown",
   "metadata": {},
   "source": [
    "**Вывод:** \n",
    "\n",
    "\n",
    "Количествово выборки для A/B тестирования подобрано корректно,статистически значимой разницы в количестве посещений между группами не обнаружено.\n",
    "                                  [Калькулятор который использовался для рассчёта размера выборки](https://www.evanmiller.org/ab-testing/sample-size.html)\n",
    "\n"
   ]
  },
  {
   "cell_type": "markdown",
   "metadata": {},
   "source": [
    "#### График кумулятивной выручки по группам"
   ]
  },
  {
   "cell_type": "markdown",
   "metadata": {},
   "source": [
    "Для начала напишем функцию с помощью которой соберём агрегированные кумулятивные по дням данные о заказах. "
   ]
  },
  {
   "cell_type": "code",
   "execution_count": 8,
   "metadata": {},
   "outputs": [
    {
     "data": {
      "text/html": [
       "<div>\n",
       "<style scoped>\n",
       "    .dataframe tbody tr th:only-of-type {\n",
       "        vertical-align: middle;\n",
       "    }\n",
       "\n",
       "    .dataframe tbody tr th {\n",
       "        vertical-align: top;\n",
       "    }\n",
       "\n",
       "    .dataframe thead th {\n",
       "        text-align: right;\n",
       "    }\n",
       "</style>\n",
       "<table border=\"1\" class=\"dataframe\">\n",
       "  <thead>\n",
       "    <tr style=\"text-align: right;\">\n",
       "      <th></th>\n",
       "      <th>date</th>\n",
       "      <th>group</th>\n",
       "      <th>orders</th>\n",
       "      <th>buyers</th>\n",
       "      <th>revenue</th>\n",
       "      <th>visitors</th>\n",
       "    </tr>\n",
       "  </thead>\n",
       "  <tbody>\n",
       "    <tr>\n",
       "      <th>0</th>\n",
       "      <td>2019-08-01</td>\n",
       "      <td>A</td>\n",
       "      <td>24</td>\n",
       "      <td>20</td>\n",
       "      <td>148579</td>\n",
       "      <td>719</td>\n",
       "    </tr>\n",
       "    <tr>\n",
       "      <th>1</th>\n",
       "      <td>2019-08-01</td>\n",
       "      <td>B</td>\n",
       "      <td>21</td>\n",
       "      <td>20</td>\n",
       "      <td>101217</td>\n",
       "      <td>713</td>\n",
       "    </tr>\n",
       "    <tr>\n",
       "      <th>2</th>\n",
       "      <td>2019-08-02</td>\n",
       "      <td>A</td>\n",
       "      <td>44</td>\n",
       "      <td>38</td>\n",
       "      <td>242401</td>\n",
       "      <td>1338</td>\n",
       "    </tr>\n",
       "    <tr>\n",
       "      <th>3</th>\n",
       "      <td>2019-08-02</td>\n",
       "      <td>B</td>\n",
       "      <td>45</td>\n",
       "      <td>43</td>\n",
       "      <td>266748</td>\n",
       "      <td>1294</td>\n",
       "    </tr>\n",
       "    <tr>\n",
       "      <th>4</th>\n",
       "      <td>2019-08-03</td>\n",
       "      <td>A</td>\n",
       "      <td>68</td>\n",
       "      <td>62</td>\n",
       "      <td>354874</td>\n",
       "      <td>1845</td>\n",
       "    </tr>\n",
       "  </tbody>\n",
       "</table>\n",
       "</div>"
      ],
      "text/plain": [
       "        date group  orders  buyers  revenue  visitors\n",
       "0 2019-08-01     A      24      20   148579       719\n",
       "1 2019-08-01     B      21      20   101217       713\n",
       "2 2019-08-02     A      44      38   242401      1338\n",
       "3 2019-08-02     B      45      43   266748      1294\n",
       "4 2019-08-03     A      68      62   354874      1845"
      ]
     },
     "execution_count": 8,
     "metadata": {},
     "output_type": "execute_result"
    }
   ],
   "source": [
    "def get_cumulative_data(orders, visitors):\n",
    "    # создаем массив уникальных пар значений дат и групп теста\n",
    "    dates_groups = orders[['date','group']].drop_duplicates()\n",
    "    \n",
    "    # получаем агрегированные кумулятивные по дням данные о заказах \n",
    "    orders_aggregated = (\n",
    "        dates_groups.apply(lambda x: \n",
    "            orders[np.logical_and(orders['date'] <= x['date'], orders['group'] == x['group'])]\n",
    "            .agg({\n",
    "                'date' : 'max', \n",
    "                'group' : 'max', \n",
    "                'transactionid' : 'nunique', \n",
    "                'visitorid' : 'nunique', \n",
    "                'revenue' : 'sum'\n",
    "            }), \n",
    "            axis=1)\n",
    "        .sort_values(by=['date','group'])\n",
    "    )\n",
    "    \n",
    "    # получаем агрегированные кумулятивные по дням данные о посетителях интернет-магазина \n",
    "    visitors_aggregated = (\n",
    "        dates_groups.apply(lambda x: \n",
    "            visitors[np.logical_and(visitors['date'] <= x['date'], visitors['group'] == x['group'])]\n",
    "            .agg({\n",
    "                'date' : 'max', \n",
    "                'group' : 'max', \n",
    "                'visitors' : 'sum'\n",
    "            }), \n",
    "            axis=1)\n",
    "        .sort_values(by=['date','group'])\n",
    "    )\n",
    "    \n",
    "    # объединяем кумулятивные данные в одной таблице и присваиваем ее столбцам понятные названия\n",
    "    cumulative_data = (\n",
    "        orders_aggregated\n",
    "        .merge(visitors_aggregated, left_on=['date', 'group'], right_on=['date', 'group'])\n",
    "        .rename(columns={\n",
    "            'transactionid': 'orders', \n",
    "            'visitorid': 'buyers'\n",
    "        })\n",
    "        [['date', 'group', 'orders', 'buyers', 'revenue', 'visitors']]\n",
    "    )\n",
    "    \n",
    "    return cumulative_data\n",
    "\n",
    "cumulativeData = get_cumulative_data(orders, visitors)\n",
    "\n",
    "cumulativeData.head(5)"
   ]
  },
  {
   "cell_type": "code",
   "execution_count": 9,
   "metadata": {},
   "outputs": [
    {
     "data": {
      "image/png": "[encoded data removed]",
      "text/plain": [
       "<Figure size 1296x576 with 1 Axes>"
      ]
     },
     "metadata": {},
     "output_type": "display_data"
    }
   ],
   "source": [
    "# датафрейм с кумулятивным количеством заказов и кумулятивной выручкой по дням в группе А\n",
    "cumulativeRevenueA = cumulativeData[cumulativeData['group'] == 'A'][['date', 'group', \n",
    "                                                                     'orders', 'buyers', \n",
    "                                                                     'revenue', 'visitors']]\n",
    "\n",
    "# датафрейм с кумулятивным количеством заказов и кумулятивной выручкой по дням в группе B\n",
    "cumulativeRevenueB = cumulativeData[cumulativeData['group'] == 'B'][['date', 'group', \n",
    "                                                                     'orders', 'buyers', \n",
    "                                                                     'revenue', 'visitors']]\n",
    "\n",
    "# Строим график выручки группы А\n",
    "plt.figure(figsize=(18, 8))\n",
    "sns.lineplot(x='date', y='revenue', data=cumulativeRevenueA, linewidth=4, label='A')\n",
    "# Строим график выручки группы B\n",
    "sns.lineplot(x='date', y='revenue', data=cumulativeRevenueB, linewidth=4, label='B')\n",
    "\n",
    "\n",
    "plt.title('Кумулятивная выручка по группам теста', fontsize=18, fontweight='bold')\n",
    "plt.xlabel('Дата', fontsize=16)\n",
    "plt.ylabel('Кумулятивная выручка в млн. ₽', fontsize=16)\n",
    "plt.legend(fontsize=18)\n",
    "plt.show()"
   ]
  },
  {
   "cell_type": "markdown",
   "metadata": {},
   "source": [
    "**Вывод:**\n",
    "\n",
    "\n",
    "Мы видим, что кумулятивная выручка для обеих групп увеличивается со временем, но выручка группы B выше, чем выручка группы A. Кроме того, у группы B есть резкий рост в середине теста, который не наблюдается у группы A. Это может сигнализировать о всплесках числа заказов, либо о появлении очень дорогих заказов в выборке.\n",
    "\n",
    "\n",
    "После 17 августа 2019 года, выручка в обеих группах стабилизировалась и не сильно менялась до конца теста.\n"
   ]
  },
  {
   "cell_type": "markdown",
   "metadata": {},
   "source": [
    "####  График кумулятивного среднего чека по группам"
   ]
  },
  {
   "cell_type": "code",
   "execution_count": 10,
   "metadata": {},
   "outputs": [
    {
     "data": {
      "image/png": "[encoded data removed]",
      "text/plain": [
       "<Figure size 1296x576 with 1 Axes>"
      ]
     },
     "metadata": {},
     "output_type": "display_data"
    }
   ],
   "source": [
    "# добавим столбцы с кумулятивным средним чеком по группам в cumulativeData, разделим кумулятивную выручку на кумулятивное число заказов\n",
    "cumulativeData['rev_avg_a'] =  cumulativeRevenueA['revenue']/cumulativeRevenueA['orders']\n",
    "cumulativeData['rev_avg_b'] = cumulativeRevenueB['revenue']/cumulativeRevenueB['orders']\n",
    "\n",
    "# создаем график\n",
    "plt.figure(figsize=(18, 8))\n",
    "sns.lineplot(x='date', y='rev_avg_a', data=cumulativeData, linewidth=4, label='A')\n",
    "sns.lineplot(x='date', y='rev_avg_b', data=cumulativeData, linewidth=4, label='B')\n",
    "\n",
    "# задаем заголовок и подписи осей\n",
    "plt.title('Средний чек по группам теста', fontsize=18, fontweight='bold')\n",
    "plt.xlabel('Дата', fontsize=16)\n",
    "plt.ylabel('Средний чек', fontsize=16)\n",
    "\n",
    "# добавляем легенду\n",
    "plt.legend(fontsize=18)\n",
    "\n",
    "# показываем график\n",
    "plt.show()"
   ]
  },
  {
   "cell_type": "markdown",
   "metadata": {},
   "source": [
    "**Вывод:**\n",
    "\n",
    "Средний чек по обеим группам растёт со временем. По аналогии с кумулятивной выручкой группа B по итогам теста имеет более высокие значения чем группа А, 9320 против 7333. После 17 августа средний чек группы B начинает резкий рост с пиком в 10200 пунктов. Группа А достигает своего пика в 7485 пунктов 13 августа, после чего снижается и только к концу теста выходит за уровень выше 7000. Очевидно что в группу B несколько дней подряд попадали крупные заказы. Где-то уж точно спрятались крупные заказы и выбросы! Найдём их позже.\n"
   ]
  },
  {
   "cell_type": "markdown",
   "metadata": {},
   "source": [
    "#### График относительного изменения кумулятивного среднего чека группы B к группе A"
   ]
  },
  {
   "cell_type": "code",
   "execution_count": 11,
   "metadata": {},
   "outputs": [
    {
     "data": {
      "image/png": "[encoded data removed]",
      "text/plain": [
       "<Figure size 1296x576 with 1 Axes>"
      ]
     },
     "metadata": {},
     "output_type": "display_data"
    }
   ],
   "source": [
    "# собираем данные в одном датафрейме\n",
    "mergedCumulativeRevenue = cumulativeRevenueA.merge(cumulativeRevenueB, \n",
    "                                                   left_on='date', right_on='date', \n",
    "                                                   how='left', suffixes=['A', 'B'])\n",
    "\n",
    "revenue_per_order_A = mergedCumulativeRevenue['revenueA'] / mergedCumulativeRevenue['ordersA']\n",
    "revenue_per_order_B = mergedCumulativeRevenue['revenueB'] / mergedCumulativeRevenue['ordersB']\n",
    "mergedCumulativeRevenue['rac'] = revenue_per_order_B.div(revenue_per_order_A).sub(1)\n",
    "\n",
    "# cтроим отношение средних чеков\n",
    "plt.figure(figsize=(18, 8))\n",
    "sns.lineplot(x='date', y='rac', data=mergedCumulativeRevenue, linewidth=4, label='Relative average check')\n",
    "\n",
    "# добавляем ось X\n",
    "plt.axhline(y=0, color='black', linestyle='--', linewidth=2, dashes = (10,4) )\n",
    "\n",
    "\n",
    "plt.title('Относительное изменение кумулятивного среднего чека группы B к группе A', fontsize=18, fontweight='bold')\n",
    "plt.xlabel('Дата', fontsize=16)\n",
    "plt.ylabel('Относительная шкала изменения', fontsize=16)\n",
    "plt.legend(fontsize=16)\n",
    "plt.show()"
   ]
  },
  {
   "cell_type": "markdown",
   "metadata": {},
   "source": [
    "**Вывод:**\n",
    "\n",
    "- В начале теста (с 1 по 4 августа) средний чек в группе B был ниже, чем в группе A.\n",
    "\n",
    "\n",
    "- С 5 по 9 августа средний чек в группе B значительно вырос, превысив средний чек группы A.\n",
    "\n",
    "\n",
    "- Далее (с 10 по 19 августа) средний чек в группе B оставался примерно на том же уровне, что и с 5 по 9 августа, и был значительно выше, чем в группе A.\n",
    "\n",
    "\n",
    "- С 20 по 31 августа средний чек в группе B продолжал расти и достиг максимального значения (более чем в 2 раза больше среднего чека группы A) 19 августа.\n",
    "\n",
    "\n",
    "Резкие изменения на графике снова подтверждается наше предположение о наличии значительных изменений в среднем чеке в обеих группах."
   ]
  },
  {
   "cell_type": "markdown",
   "metadata": {},
   "source": [
    "#### График кумулятивного среднего количества заказов на посетителя по группам"
   ]
  },
  {
   "cell_type": "code",
   "execution_count": 12,
   "metadata": {
    "scrolled": false
   },
   "outputs": [
    {
     "data": {
      "image/png": "[encoded data removed]",
      "text/plain": [
       "<Figure size 1296x576 with 1 Axes>"
      ]
     },
     "metadata": {},
     "output_type": "display_data"
    }
   ],
   "source": [
    "# считаем кумулятивную конверсию\n",
    "cumulativeData['conversion'] = cumulativeData['orders']/cumulativeData['visitors']\n",
    "\n",
    "# отделяем данные по группе A\n",
    "cumulativeDataA = cumulativeData[cumulativeData['group'] == 'A']\n",
    "\n",
    "# отделяем данные по группе B\n",
    "cumulativeDataB = cumulativeData[cumulativeData['group'] == 'B']\n",
    "\n",
    "# строим график\n",
    "plt.figure(figsize=(18, 8))\n",
    "sns.lineplot(x='date', y='conversion', data=cumulativeDataA, label='A', linewidth=4)\n",
    "sns.lineplot(x='date', y='conversion', data=cumulativeDataB, label='B', linewidth=4)\n",
    "plt.title(' График кумулятивного среднего количества заказов на посетителя по группам', fontsize=18, fontweight='bold')\n",
    "plt.xlabel('Дата', fontsize=16)\n",
    "plt.ylabel('Среднее количество заказов на посетителя', fontsize=16)\n",
    "plt.legend(fontsize=16)\n",
    "plt.show()"
   ]
  },
  {
   "cell_type": "markdown",
   "metadata": {},
   "source": [
    "**Вывод** \n",
    "\n",
    "- В течении первых 10 дней теста среднее количество заказов на посетителя имеет большие колебания по обеим группам. \n",
    "\n",
    "- После 10 августа средне количество заказов по обеим группам стабилизируется.\n",
    "\n",
    "\n",
    "- Для группы A это диапазон от 0.030 до 0.031.\n",
    "- Для группы B диапазон более высокий, от 0.033 до 0.036\n",
    "- По итогам теста лидирует группа B"
   ]
  },
  {
   "cell_type": "markdown",
   "metadata": {},
   "source": [
    "#### График относительного изменения кумулятивного среднего количества заказов на посетителя группы B к группе A"
   ]
  },
  {
   "cell_type": "code",
   "execution_count": 13,
   "metadata": {},
   "outputs": [
    {
     "data": {
      "image/png": "[encoded data removed]",
      "text/plain": [
       "<Figure size 1296x576 with 1 Axes>"
      ]
     },
     "metadata": {},
     "output_type": "display_data"
    }
   ],
   "source": [
    "mergedCumulativeConversions = cumulativeDataA[['date','conversion']].merge(cumulativeDataB[['date','conversion']], \n",
    "                                                                           left_on='date', right_on='date', \n",
    "                                                                           how='left', suffixes=['A', 'B'])\n",
    "\n",
    "plt.figure(figsize=(18, 8))\n",
    "ax = sns.lineplot(data=mergedCumulativeConversions, x='date', \n",
    "                  y=mergedCumulativeConversions['conversionB']/mergedCumulativeConversions['conversionA']-1, linewidth=4)\n",
    "\n",
    "\n",
    "plt.title('Относительное изменения кумулятивного среднего кол-ва заказов на посетителя группы B к группе A', \n",
    "          fontsize=18, fontweight='bold')\n",
    "ax.axhline(y=0, color='black', linestyle='--')\n",
    "ax.axhline(y=0.1, color='black', linestyle='--')\n",
    "plt.xlabel('Дата', fontsize=16)\n",
    "plt.show()"
   ]
  },
  {
   "cell_type": "markdown",
   "metadata": {},
   "source": [
    "**Вывод:**\n",
    "\n",
    "Через неделю после начала тестирования среднее количество заказов на посетителя в группе B остается стабильно на 10% выше, чем в группе A. В середине теста достигается пик разности более чем в 20%. "
   ]
  },
  {
   "cell_type": "markdown",
   "metadata": {},
   "source": [
    "### Анализ результатов A/B-теста, анализ выбросов и всплесков."
   ]
  },
  {
   "cell_type": "markdown",
   "metadata": {},
   "source": [
    "#### Точечный график количества заказов по пользователям"
   ]
  },
  {
   "cell_type": "code",
   "execution_count": 14,
   "metadata": {
    "scrolled": false
   },
   "outputs": [
    {
     "data": {
      "image/png": "[encoded data removed]",
      "text/plain": [
       "<Figure size 1296x576 with 1 Axes>"
      ]
     },
     "metadata": {},
     "output_type": "display_data"
    },
    {
     "name": "stdout",
     "output_type": "stream",
     "text": [
      "\n",
      "\n"
     ]
    },
    {
     "data": {
      "image/png": "[encoded data removed]",
      "text/plain": [
       "<Figure size 1296x576 with 1 Axes>"
      ]
     },
     "metadata": {},
     "output_type": "display_data"
    }
   ],
   "source": [
    "# Подсчитаем количество заказов по пользователям\n",
    "ordersByUsers = (\n",
    "    orders.groupby('visitorid', as_index=False)\n",
    "    .agg({'transactionid': 'nunique'})\n",
    ")\n",
    "\n",
    "ordersByUsers.columns = ['visitorid', 'orders']\n",
    "\n",
    "\n",
    "plt.figure(figsize=(18, 8))\n",
    "ax = sns.histplot(data=ordersByUsers, x='orders', bins=30)\n",
    "plt.title('Гистрограмма распределения количества заказов на одного пользователя', fontsize=18, fontweight='bold')\n",
    "plt.xlabel('Количество заказов', fontsize=16)\n",
    "plt.ylabel('Количество пользователей', fontsize=16)\n",
    "plt.show()\n",
    "print()\n",
    "print()\n",
    "\n",
    "\n",
    "x_values = pd.Series(range(0, len(ordersByUsers)))\n",
    "plt.figure(figsize=(18,8))\n",
    "plt.scatter(x_values, ordersByUsers['orders'])\n",
    "plt.title('Точечная диаграмма числа заказов на одного пользователя', fontsize=18, fontweight='bold')\n",
    "plt.xlabel('Пользователи', fontsize=16)\n",
    "plt.ylabel('Кол-во заказов на одного уникального пользователя', fontsize=16)\n",
    "plt.show()"
   ]
  },
  {
   "cell_type": "markdown",
   "metadata": {},
   "source": [
    "**Вывод:**\n",
    "\n",
    "Судя по графикам, основная масса пользователей совершает не более двух заказов."
   ]
  },
  {
   "cell_type": "markdown",
   "metadata": {},
   "source": [
    "#### Определить 95-й и 99-й перцентили количества заказов на пользователя (определить границу для аномальных пользователей)"
   ]
  },
  {
   "cell_type": "code",
   "execution_count": 15,
   "metadata": {},
   "outputs": [
    {
     "name": "stdout",
     "output_type": "stream",
     "text": [
      "Перцентили:\n",
      "95: 2.0\n",
      "99: 4.0\n"
     ]
    }
   ],
   "source": [
    "percentiles = np.percentile(ordersByUsers['orders'], [95, 99])\n",
    "print('Перцентили:\\n95: {}\\n99: {}'.format(percentiles[0],percentiles[1]))"
   ]
  },
  {
   "cell_type": "markdown",
   "metadata": {},
   "source": [
    "**Вывод:**\n",
    "\n",
    "- Не более 5% пользователей оформляли больше чем 2 заказа за период теста.\n",
    "\n",
    "- Не более 1% пользователей оформляли больше чем 4 заказа за период теста.\n",
    "\n",
    "\n",
    "Можно считать разумным использовать значение в 2 заказа на одного пользователя как верхнюю границу количества заказов и удалить пользователей с числом заказов, превышающим это значение, с целью исключения аномальных данных."
   ]
  },
  {
   "cell_type": "markdown",
   "metadata": {},
   "source": [
    "#### Точечный график стоимостей заказов"
   ]
  },
  {
   "cell_type": "code",
   "execution_count": 16,
   "metadata": {
    "scrolled": false
   },
   "outputs": [
    {
     "data": {
      "image/png": "[encoded data removed]",
      "text/plain": [
       "<Figure size 1296x576 with 1 Axes>"
      ]
     },
     "metadata": {},
     "output_type": "display_data"
    },
    {
     "name": "stdout",
     "output_type": "stream",
     "text": [
      "\n",
      "\n"
     ]
    },
    {
     "data": {
      "image/png": "[encoded data removed]",
      "text/plain": [
       "<Figure size 1296x576 with 1 Axes>"
      ]
     },
     "metadata": {},
     "output_type": "display_data"
    }
   ],
   "source": [
    "plt.figure(figsize=(18,8))\n",
    "plt.hist(orders['revenue'], range=(0,100000), bins = 100)\n",
    "plt.title('Гистрограмма распределения сумм заказов на одного пользователя', fontsize=18, fontweight='bold')\n",
    "plt.xlabel('Сумма заказа', fontsize=16)\n",
    "plt.ylabel('Количество пользователей', fontsize=16)\n",
    "plt.show()\n",
    "\n",
    "print()\n",
    "print()\n",
    "\n",
    "x_values = pd.Series(range(0, len(orders)))\n",
    "plt.figure(figsize=(18,8))\n",
    "plt.scatter(x_values, orders['revenue'])\n",
    "plt.axis([0, 1200, 0, 100000])\n",
    "plt.title('Точечная диаграмма суммы заказов на одного пользователя', fontsize=18, fontweight='bold')\n",
    "plt.xlabel('Пользователи', fontsize=16)\n",
    "plt.ylabel('Сумма заказа', fontsize=16)\n",
    "plt.show()"
   ]
  },
  {
   "cell_type": "markdown",
   "metadata": {},
   "source": [
    "**Вывод:**\n",
    "\n",
    "По обеим графикам можно определить, что основная граница суммы заказов находится ниже 20000. Однако принято отсеивать от 1% до 5% наблюдений с крайними значениями."
   ]
  },
  {
   "cell_type": "markdown",
   "metadata": {},
   "source": [
    "#### Определить 95-й и 99-й перцентили стоимости заказов"
   ]
  },
  {
   "cell_type": "code",
   "execution_count": 17,
   "metadata": {},
   "outputs": [
    {
     "name": "stdout",
     "output_type": "stream",
     "text": [
      "Перцентили:\n",
      "95: 28000\n",
      "99: 58233\n"
     ]
    }
   ],
   "source": [
    "percentiles = np.percentile(orders['revenue'], [95, 99])\n",
    "print('Перцентили:\\n95: {:.0f}\\n99: {:.0f}'.format(percentiles[0],percentiles[1]))"
   ]
  },
  {
   "cell_type": "markdown",
   "metadata": {},
   "source": [
    "**Вывод:**\n",
    "\n",
    "Не более 5% пользователей оформляли более чем на 28 000 руб  за период теста.\n",
    "\n",
    "Не более 1% пользователей оформляли более чем на 58 233 руб  за период теста.\n",
    "\n",
    "Аномальными заказами будем считать те, чья сумма привышает 28 000 руб."
   ]
  },
  {
   "cell_type": "markdown",
   "metadata": {},
   "source": [
    "#### Посчитать статистическую значимость различий в среднем количестве заказов на посетителя между группами по «сырым» данным"
   ]
  },
  {
   "cell_type": "markdown",
   "metadata": {},
   "source": [
    "**Нулевая гипотеза:** Среднее количество заказов на посетителя между группами A и B по «сырым» данным не различается и любые обнаруженные различия являются случайными.\n",
    "\n",
    "\n",
    "**Альтернативная гипотеза:** Среднее количество заказов на посетителя между группами A и B по «сырым» данным различается и обнаруженные различия не являются случайными."
   ]
  },
  {
   "cell_type": "code",
   "execution_count": 18,
   "metadata": {
    "scrolled": true
   },
   "outputs": [
    {
     "name": "stdout",
     "output_type": "stream",
     "text": [
      "Кол-во покупателей в группе A: 503\n",
      "Кол-во покупок в группе А: 557\n",
      "Кол-во посетителей в группе A: 18736\n",
      "\n",
      "Кол-во покупателей в группе B: 586\n",
      "Кол-во покупок в группе B: 640\n",
      "Кол-во посетителей в группе B: 18916\n",
      "\n",
      "Относительный прирост конверсии группы B по отношению к группе A: 0.138\n",
      "\n",
      "P-value: 0.0168\n",
      "\n",
      "Вывод: Среднее количество заказов на посетителя между группами A и B по «сырым» данным различается, обнаруженные различия статистически значимы.\n"
     ]
    }
   ],
   "source": [
    "# Выбираем данные только для группы A из таблицы заказов, группируем их по пользователям и считаем количество уникальных заказов\n",
    "def get_orders_by_users(df, group_name):\n",
    "    orders_by_users = (\n",
    "        df[df['group']==group_name]\n",
    "        .groupby('visitorid', as_index=False)\n",
    "        .agg({'transactionid':'nunique'})\n",
    "    )\n",
    "    orders_by_users.columns = ['visitorid', 'orders']\n",
    "    return orders_by_users\n",
    "\n",
    "\n",
    "ordersByUsersA = get_orders_by_users(orders, 'A')\n",
    "ordersByUsersB = get_orders_by_users(orders, 'B')\n",
    "\n",
    "# Выводим информацию о количестве покупателей, покупках и посетителях для группы A и B\n",
    "print(f\"Кол-во покупателей в группе A: {ordersByUsersA['orders'].count()}\")\n",
    "print(f\"Кол-во покупок в группе А: {ordersByUsersA['orders'].sum()}\")\n",
    "print(f\"Кол-во посетителей в группе A: {visitors[visitors['group']=='A']['visitors'].sum()}\")\n",
    "print()\n",
    "print(f\"Кол-во покупателей в группе B: {ordersByUsersB['orders'].count()}\")\n",
    "print(f\"Кол-во покупок в группе B: {ordersByUsersB['orders'].sum()}\")\n",
    "print(f\"Кол-во посетителей в группе B: {visitors[visitors['group']=='B']['visitors'].sum()}\")\n",
    "\n",
    "orders_by_non_purchased_users_A = pd.Series([0]*(visitors[visitors['group']=='A']['visitors'].sum()-ordersByUsersA['orders'].count()), name='orders')\n",
    "orders_by_non_purchased_users_B = pd.Series([0]*(visitors[visitors['group']=='B']['visitors'].sum()-ordersByUsersB['orders'].count()), name='orders')\n",
    "\n",
    "# Объединим заказы купивших и не купивших пользователей по группам в соответствующие списки\n",
    "sampleA = pd.concat([ordersByUsersA['orders'], orders_by_non_purchased_users_A], axis=0).reset_index(drop=True)\n",
    "sampleB = pd.concat([ordersByUsersB['orders'], orders_by_non_purchased_users_B], axis=0).reset_index(drop=True)\n",
    "\n",
    "alpha = 0.05\n",
    "results = stats.mannwhitneyu(sampleA, sampleB)\n",
    "\n",
    "print(f\"\\nОтносительный прирост конверсии группы B по отношению к группе A: {sampleB.mean()/sampleA.mean()-1:.3f}\")\n",
    "print()\n",
    "print('P-value: {:.4f}'.format(results.pvalue))\n",
    "\n",
    "print()\n",
    "# проверяем статистическую значимость различий в конверсии между группами\n",
    "if results.pvalue < alpha:\n",
    "    print('Вывод: Среднее количество заказов на посетителя между группами A и B по «сырым» данным различается, обнаруженные различия статистически значимы.')\n",
    "else:\n",
    "    print('Вывод: Среднее количество заказов на посетителя между группами A и B по «сырым» данным не различается, любые обнаруженные различия статистически не значимы.')\n",
    "    \n",
    "    "
   ]
  },
  {
   "cell_type": "markdown",
   "metadata": {},
   "source": [
    "**Вывод:**\n",
    "\n",
    "- Количество покупателей и покупок в группе B больше, чем в группе A, но также общее количество посетителей в группе B немного больше, чем в группе A.\n",
    "\n",
    "\n",
    "- Относительный прирост количества заказов группы B по отношению к группе A составляет 0.138, что говорит о том, что количество заказов в группе B выше, чем в группе A.\n",
    "\n",
    "\n",
    "- Значение `p-value` равно 0.0168, что меньше заданного уровня статистической значимости `alpha=0.05`. Это говорит о том, что на основе неочищенных данных есть статистически значимые различия в конверсии между группами A и B."
   ]
  },
  {
   "cell_type": "markdown",
   "metadata": {},
   "source": [
    "#### Посчитать статистическую значимость различий в среднем чеке заказа между группами по «сырым» данным."
   ]
  },
  {
   "cell_type": "markdown",
   "metadata": {},
   "source": [
    "**Нулевая гипотеза:** Средний чек заказа между группами A и B по «сырым» данным не различается и любые обнаруженные различия являются случайными.\n",
    "\n",
    "**Альтернативная гипотеза:** Средний чек заказа между группами A и B о «сырым» данным различается и обнаруженные различия не являются случайными."
   ]
  },
  {
   "cell_type": "code",
   "execution_count": 19,
   "metadata": {},
   "outputs": [
    {
     "name": "stdout",
     "output_type": "stream",
     "text": [
      "Относительное изменение среднего чека в группе B по отношению группы A: 0.259\n",
      "\n",
      "P-value: 0.7293\n",
      "\n",
      "Вывод: Средний чек заказа между группами A и B по «сырым» данным не различается и любые обнаруженные различия статистически не значимы.\n"
     ]
    }
   ],
   "source": [
    "\n",
    "# Относительное изменение среднего чека в группе B по отношению группы A\n",
    "mean_revenue_A = orders.query('group == \"A\"')['revenue'].mean()\n",
    "mean_revenue_B = orders.query('group == \"B\"')['revenue'].mean()\n",
    "relative_difference = (mean_revenue_B / mean_revenue_A - 1)\n",
    "print(f'Относительное изменение среднего чека в группе B по отношению группы A: {relative_difference:.3f}')\n",
    "print()\n",
    "# Проверка гипотезы о равенстве средних чеков в группах A и B\n",
    "results = stats.mannwhitneyu(orders.query('group == \"A\"')['revenue'], orders.query('group == \"B\"')['revenue'])\n",
    "print('P-value: {:.4f}'.format(results.pvalue))   \n",
    "print()\n",
    "if results.pvalue < alpha:\n",
    "    print('Вывод: Средний чек заказа между группами A и B о «сырым» данным различается и обнаруженные различия статистически значимы.')\n",
    "else:\n",
    "    print('Вывод: Средний чек заказа между группами A и B по «сырым» данным не различается и любые обнаруженные различия статистически не значимы.')"
   ]
  },
  {
   "cell_type": "markdown",
   "metadata": {},
   "source": [
    "**Вывод:**\n",
    "\n",
    "\n",
    "- По результатам проведенного теста можно сделать вывод, что различий в средних чеках в группах A и B нет. Однако относительное изменение среднего чека в группе B по отношению группы A составило 0.259, что говорит о потенциальной тенденции к увеличению среднего чека в группе B.\n",
    "\n",
    "\n",
    "- При этом статистически значимых различий в средних чеках между группами не обнаружено."
   ]
  },
  {
   "cell_type": "markdown",
   "metadata": {},
   "source": [
    "#### Посчитать статистическую значимость различий в среднем количестве заказов на посетителя между группами по «очищенным» данным."
   ]
  },
  {
   "cell_type": "markdown",
   "metadata": {},
   "source": [
    "**Нулевая гипотеза:** Среднее количество заказов на посетителя между группами A и B не различается и любые обнаруженные различия являются случайными при использовании очищенных данных.\n",
    "\n",
    "**Альтернативная гипотеза:** Среднее количество заказов на посетителя между группами A и B различается и обнаруженные различия не являются случайными при использовании очищенных данных."
   ]
  },
  {
   "cell_type": "code",
   "execution_count": 20,
   "metadata": {},
   "outputs": [
    {
     "name": "stdout",
     "output_type": "stream",
     "text": [
      "Кол-во аномальных пользователей: 74\n",
      "\n",
      "Относительный прирост среднего количества заказов группы B по отношению к группе A после очистки данных: 0.173\n",
      "\n",
      "P-value: 0.0130\n",
      "\n",
      "Вывод: Среднее количество заказов на посетителя между группами A и B различается и обнаруженные различия не являются статистически значимыми использовании очищенных данных.\n"
     ]
    }
   ],
   "source": [
    "# Зададим предельные кол-во заказов и сумму для формирования списка аномальных пользователей\n",
    "\n",
    "limit_orders = 2\n",
    "limit_revenue = 28000\n",
    "\n",
    "\n",
    "# Посчитаем аномальных пользователей\n",
    "abnormalUsers = pd.concat([\n",
    "    ordersByUsersA.query('orders > @limit_orders')['visitorid'],\n",
    "    ordersByUsersB.query('orders > @limit_orders')['visitorid'],\n",
    "    orders.query('revenue > @limit_revenue')['visitorid']\n",
    "]).drop_duplicates().sort_values()\n",
    "\n",
    "print('Кол-во аномальных пользователей: {}'.format(len(abnormalUsers)))\n",
    "\n",
    "# получаем отфильтрованные выборки по группам A и B\n",
    "sampleAFiltered = pd.concat([\n",
    "    ordersByUsersA[np.logical_not(ordersByUsersA['visitorid'].isin(abnormalUsers))]['orders'],\n",
    "    orders_by_non_purchased_users_A\n",
    "], axis = 0)\n",
    "sampleBFiltered = pd.concat([\n",
    "    ordersByUsersB[np.logical_not(ordersByUsersB['visitorid'].isin(abnormalUsers))]['orders'],\n",
    "    orders_by_non_purchased_users_B\n",
    "], axis = 0)\n",
    "\n",
    "# Вычисляем статистическую значимость различия в среднем количестве заказов\n",
    "conversion_difference = sampleBFiltered.mean() / sampleAFiltered.mean() - 1\n",
    "results = stats.mannwhitneyu(sampleAFiltered, sampleBFiltered)\n",
    "\n",
    "\n",
    "print('\\nОтносительный прирост среднего количества заказов группы B по отношению к группе A после очистки данных: {:.3f}'.format(conversion_difference))\n",
    "print()\n",
    "print('P-value: {:.4f}'.format(results.pvalue))   \n",
    "print()\n",
    "# Выводим результаты теста\n",
    "if results.pvalue < alpha:\n",
    "    print('Вывод: Среднее количество заказов на посетителя между группами A и B различается и обнаруженные различия не являются статистически значимыми использовании очищенных данных.')\n",
    "else:\n",
    "    print('Вывод: Среднее количество заказов на посетителя между группами A и B не различается и любые обнаруженные различия статистически не значимы *при использовании очищенных данных.')\n",
    "    \n",
    "    "
   ]
  },
  {
   "cell_type": "markdown",
   "metadata": {},
   "source": [
    "**Вывод:**\n",
    "\n",
    "После очистки данных от аномальных пользователей статистически значимое различие в среднем количетсве заказов на посетителя между группами A и B сохраняется и составляет 17.3%, а также `P-value` (вероятность получить такое или еще более выраженное различие случайно) уменьшилось до 0.013, что говорит о высокой достоверности различия."
   ]
  },
  {
   "cell_type": "markdown",
   "metadata": {},
   "source": [
    "#### Посчитать статистическую значимость различий в среднем чеке заказа между группами по «очищенным» данным."
   ]
  },
  {
   "cell_type": "markdown",
   "metadata": {},
   "source": [
    "**Нулевая гипотеза:** Средний чек заказа между группами A и B не различается и любые обнаруженные различия являются случайными при использовании очищенных данных. \n",
    "\n",
    "\n",
    "**Альтернативная гипотеза:** Средний чек заказа между группами A и B различается и обнаруженные различия не являются случайными при использовании очищенных данных."
   ]
  },
  {
   "cell_type": "code",
   "execution_count": 21,
   "metadata": {},
   "outputs": [
    {
     "name": "stdout",
     "output_type": "stream",
     "text": [
      "Относительное изменение среднего чека в группе B по отношению группы A после очистки данных: -0.020\n",
      "\n",
      "P-value: 0.7385\n",
      "\n",
      "Вывод: Средний чек заказа между группами A и B по «очищенным» данным не различается и любые обнаруженные различия статистически не значимы.\n"
     ]
    }
   ],
   "source": [
    "# Средний чек по очищенным пользователям\n",
    "group_a_mean = orders[np.logical_and(orders['group'] == 'A', \n",
    "                                     np.logical_not(orders['visitorid'].isin(abnormalUsers)))]['revenue'].mean()\n",
    "\n",
    "group_b_mean = orders[np.logical_and(orders['group'] == 'B', \n",
    "                                     np.logical_not(orders['visitorid'].isin(abnormalUsers)))]['revenue'].mean()\n",
    "\n",
    "relative_difference = (group_b_mean / group_a_mean) - 1\n",
    "print(f\"Относительное изменение среднего чека в группе B по отношению группы A после очистки данных: {relative_difference:.3f}\")\n",
    "\n",
    "\n",
    "# Проверка статистической значимости\n",
    "results = stats.mannwhitneyu(orders[np.logical_and(orders['group']=='A', \n",
    "                                                   np.logical_not(orders['visitorid'].isin(abnormalUsers)))]['revenue'],\n",
    "                             orders[np.logical_and(orders['group']=='B', \n",
    "                                                   np.logical_not(orders['visitorid'].isin(abnormalUsers)))]['revenue'])\n",
    "# Выводим результаты теста\n",
    "print()\n",
    "print('P-value: {:.4f}'.format(results.pvalue))\n",
    "print()\n",
    "if results.pvalue < alpha:\n",
    "    print('Вывод: Средний чек заказа между группами A и B по «очищенным» данным различается и обнаруженные различия статистически значимы.')\n",
    "else:\n",
    "    print('Вывод: Средний чек заказа между группами A и B по «очищенным» данным не различается и любые обнаруженные различия статистически не значимы.')\n",
    "\n"
   ]
  },
  {
   "cell_type": "markdown",
   "metadata": {},
   "source": [
    "**Вывод:**\n",
    "\n",
    "После очистки данных от аномальных пользователей, относительное изменение среднего чека группы B по отношению к группе A составило -0.020, что говорит о том, что в группе B средний чек стал меньше по сравнению с группой A. Однако, разница в средних чеках между группами не является статистически значимой (`P-value` = 0.7385), что может свидетельствовать о том, что различия между группами случайны. Таким образом, можно сделать вывод, что изменение среднего чека не оказало существенного влияния на конверсию между группами."
   ]
  },
  {
   "cell_type": "markdown",
   "metadata": {},
   "source": [
    "### Решение по результатам теста"
   ]
  },
  {
   "cell_type": "markdown",
   "metadata": {},
   "source": [
    "**Варианты принимаемых решений:**\n",
    "\n",
    "- **Остановить тест, зафиксировать победу одной из групп.**\n",
    "\n",
    "\n",
    "- <strike>Остановить тест, зафиксировать отсутствие различий между группами.</strike>\n",
    "- <strike>Продолжить тест.<strike>\n",
    "\n",
    "\n",
    "\n",
    "\n",
    "\n",
    "В итоге, после проведения A/B теста мы получили следующие результаты по кумулятивной метрике: по выручке, среднему чеку и среднему количеству заказов на пользователя, что практически на протяжении всего теста лидирует группа B. Сомнения появились из-за резких колебаний на графике кумулятивного среднего чека в группе B до очистки данных от аномальных пользователей, но после этого разница между средними чеками стала минимальной. По неочищенным данным различий в средних чеках в группах A и B не было, однако после очистки данных разница между средними чеками стала незначительной. \n",
    "\n",
    "\n",
    "До и после очистки данных, показатель среднего количества заказов в группе B превосходит показатель в группе A - сначала на 13.8%, а после очистки данных на 17.3%. Данная разница показателей среднего количества заказов между группами является статистически значимой, что позволяет нам сделать вывод о том, что мы можем **остановить наш A/B тест и зафиксировать победу группы B!** Более того, мы исключили возможность подглядывания в результаты и подтвердили корректность размера выборки данных."
   ]
  }
 ],
 "metadata": {
  "ExecuteTimeLog": [
   {
    "duration": 1879,
    "start_time": "2023-04-28T10:49:47.273Z"
   },
   {
    "duration": 77,
    "start_time": "2023-04-28T10:50:37.369Z"
   },
   {
    "duration": 26,
    "start_time": "2023-04-28T10:50:40.565Z"
   },
   {
    "duration": 138,
    "start_time": "2023-04-28T10:51:31.683Z"
   },
   {
    "duration": 16,
    "start_time": "2023-04-28T10:51:34.608Z"
   },
   {
    "duration": 162,
    "start_time": "2023-04-28T10:52:40.795Z"
   },
   {
    "duration": 171,
    "start_time": "2023-04-28T10:52:43.034Z"
   },
   {
    "duration": 19,
    "start_time": "2023-04-28T10:52:43.871Z"
   },
   {
    "duration": 24,
    "start_time": "2023-04-28T10:54:18.871Z"
   },
   {
    "duration": 98,
    "start_time": "2023-04-28T10:54:22.072Z"
   },
   {
    "duration": 50,
    "start_time": "2023-04-28T10:54:22.537Z"
   },
   {
    "duration": 61,
    "start_time": "2023-04-28T13:53:49.212Z"
   },
   {
    "duration": 9,
    "start_time": "2023-04-28T13:53:53.206Z"
   },
   {
    "duration": 8,
    "start_time": "2023-04-28T13:53:53.984Z"
   },
   {
    "duration": 10,
    "start_time": "2023-04-28T13:53:55.535Z"
   },
   {
    "duration": 1449,
    "start_time": "2023-04-28T13:54:00.833Z"
   },
   {
    "duration": 216,
    "start_time": "2023-04-28T13:54:02.284Z"
   },
   {
    "duration": 29,
    "start_time": "2023-04-28T13:54:02.502Z"
   },
   {
    "duration": 145,
    "start_time": "2023-04-28T13:54:02.533Z"
   },
   {
    "duration": 11,
    "start_time": "2023-04-28T13:54:36.938Z"
   },
   {
    "duration": 12,
    "start_time": "2023-04-28T13:55:34.964Z"
   },
   {
    "duration": 9,
    "start_time": "2023-04-28T13:55:54.078Z"
   },
   {
    "duration": 9,
    "start_time": "2023-04-28T13:58:32.477Z"
   },
   {
    "duration": 5,
    "start_time": "2023-04-28T13:58:38.874Z"
   },
   {
    "duration": 37,
    "start_time": "2023-04-28T13:58:48.337Z"
   },
   {
    "duration": 25,
    "start_time": "2023-04-28T14:01:19.104Z"
   },
   {
    "duration": 11,
    "start_time": "2023-04-28T14:02:40.480Z"
   },
   {
    "duration": 6,
    "start_time": "2023-04-28T14:03:09.011Z"
   },
   {
    "duration": 8,
    "start_time": "2023-04-28T14:03:28.406Z"
   },
   {
    "duration": 13,
    "start_time": "2023-04-28T14:09:39.982Z"
   },
   {
    "duration": 14,
    "start_time": "2023-04-28T14:09:57.382Z"
   },
   {
    "duration": 11,
    "start_time": "2023-04-28T14:14:39.903Z"
   },
   {
    "duration": 11,
    "start_time": "2023-04-28T14:14:50.417Z"
   },
   {
    "duration": 8,
    "start_time": "2023-04-28T14:16:37.706Z"
   },
   {
    "duration": 9,
    "start_time": "2023-04-28T14:17:13.684Z"
   },
   {
    "duration": 11,
    "start_time": "2023-04-28T14:17:21.842Z"
   },
   {
    "duration": 8,
    "start_time": "2023-04-28T14:17:32.783Z"
   },
   {
    "duration": 13,
    "start_time": "2023-04-28T14:19:20.884Z"
   },
   {
    "duration": 14,
    "start_time": "2023-04-28T14:19:25.657Z"
   },
   {
    "duration": 17,
    "start_time": "2023-04-28T14:19:31.449Z"
   },
   {
    "duration": 9,
    "start_time": "2023-04-28T14:19:33.285Z"
   },
   {
    "duration": 17,
    "start_time": "2023-04-28T14:19:40.055Z"
   },
   {
    "duration": 13,
    "start_time": "2023-04-28T14:19:41.658Z"
   },
   {
    "duration": 6,
    "start_time": "2023-04-28T14:21:08.982Z"
   },
   {
    "duration": 3,
    "start_time": "2023-04-28T14:21:40.302Z"
   },
   {
    "duration": 11,
    "start_time": "2023-04-28T14:21:43.910Z"
   },
   {
    "duration": 3,
    "start_time": "2023-04-28T14:25:21.832Z"
   },
   {
    "duration": 11,
    "start_time": "2023-04-28T14:25:25.024Z"
   },
   {
    "duration": 3,
    "start_time": "2023-04-28T14:26:16.585Z"
   },
   {
    "duration": 11,
    "start_time": "2023-04-28T14:26:20.227Z"
   },
   {
    "duration": 11,
    "start_time": "2023-04-28T15:09:05.591Z"
   },
   {
    "duration": 21,
    "start_time": "2023-04-28T15:09:10.115Z"
   },
   {
    "duration": 17,
    "start_time": "2023-04-28T15:09:27.406Z"
   },
   {
    "duration": 25,
    "start_time": "2023-04-28T15:10:17.902Z"
   },
   {
    "duration": 13,
    "start_time": "2023-04-28T15:11:06.320Z"
   },
   {
    "duration": 11,
    "start_time": "2023-04-28T15:11:37.829Z"
   },
   {
    "duration": 12,
    "start_time": "2023-04-28T15:11:41.487Z"
   },
   {
    "duration": 1190,
    "start_time": "2023-04-28T15:51:05.108Z"
   },
   {
    "duration": 93,
    "start_time": "2023-04-28T15:51:06.300Z"
   },
   {
    "duration": 28,
    "start_time": "2023-04-28T15:51:06.395Z"
   },
   {
    "duration": 7,
    "start_time": "2023-04-28T15:51:06.424Z"
   },
   {
    "duration": 17,
    "start_time": "2023-04-28T15:51:06.433Z"
   },
   {
    "duration": 14,
    "start_time": "2023-04-28T15:51:06.452Z"
   },
   {
    "duration": 1669,
    "start_time": "2023-04-29T09:22:51.747Z"
   },
   {
    "duration": 192,
    "start_time": "2023-04-29T09:22:53.418Z"
   },
   {
    "duration": 42,
    "start_time": "2023-04-29T09:22:53.612Z"
   },
   {
    "duration": 9,
    "start_time": "2023-04-29T09:22:53.656Z"
   },
   {
    "duration": 180,
    "start_time": "2023-04-29T09:22:53.668Z"
   },
   {
    "duration": 12,
    "start_time": "2023-04-29T09:22:53.850Z"
   },
   {
    "duration": 5,
    "start_time": "2023-04-29T09:31:31.130Z"
   },
   {
    "duration": 44,
    "start_time": "2023-04-29T09:32:24.523Z"
   },
   {
    "duration": 113,
    "start_time": "2023-04-29T09:33:03.250Z"
   },
   {
    "duration": 23,
    "start_time": "2023-04-29T09:33:35.270Z"
   },
   {
    "duration": 22,
    "start_time": "2023-04-29T09:33:55.648Z"
   },
   {
    "duration": 6,
    "start_time": "2023-04-29T09:34:22.198Z"
   },
   {
    "duration": 23,
    "start_time": "2023-04-29T09:35:01.497Z"
   },
   {
    "duration": 23,
    "start_time": "2023-04-29T09:36:09.461Z"
   },
   {
    "duration": 1031,
    "start_time": "2023-04-29T09:37:03.870Z"
   },
   {
    "duration": 74,
    "start_time": "2023-04-29T09:37:04.903Z"
   },
   {
    "duration": 25,
    "start_time": "2023-04-29T09:37:04.979Z"
   },
   {
    "duration": 6,
    "start_time": "2023-04-29T09:37:05.005Z"
   },
   {
    "duration": 16,
    "start_time": "2023-04-29T09:37:05.014Z"
   },
   {
    "duration": 10,
    "start_time": "2023-04-29T09:37:05.031Z"
   },
   {
    "duration": 139,
    "start_time": "2023-04-29T09:37:05.042Z"
   },
   {
    "duration": 326,
    "start_time": "2023-04-29T09:39:12.386Z"
   },
   {
    "duration": 251,
    "start_time": "2023-04-29T09:39:27.470Z"
   },
   {
    "duration": 5,
    "start_time": "2023-04-29T09:45:02.263Z"
   },
   {
    "duration": 231,
    "start_time": "2023-04-29T09:45:35.133Z"
   },
   {
    "duration": 234,
    "start_time": "2023-04-29T09:45:44.517Z"
   },
   {
    "duration": 5,
    "start_time": "2023-04-29T09:47:01.464Z"
   },
   {
    "duration": 8,
    "start_time": "2023-04-29T09:47:16.568Z"
   },
   {
    "duration": 264,
    "start_time": "2023-04-29T09:47:25.667Z"
   },
   {
    "duration": 274,
    "start_time": "2023-04-29T09:48:57.002Z"
   },
   {
    "duration": 20,
    "start_time": "2023-04-29T09:50:18.567Z"
   },
   {
    "duration": 264,
    "start_time": "2023-04-29T09:50:39.495Z"
   },
   {
    "duration": 308,
    "start_time": "2023-04-29T09:50:49.820Z"
   },
   {
    "duration": 342,
    "start_time": "2023-04-29T09:50:55.966Z"
   },
   {
    "duration": 318,
    "start_time": "2023-04-29T09:52:42.884Z"
   },
   {
    "duration": 323,
    "start_time": "2023-04-29T09:52:50.887Z"
   },
   {
    "duration": 16,
    "start_time": "2023-04-29T09:53:10.836Z"
   },
   {
    "duration": 312,
    "start_time": "2023-04-29T09:53:17.222Z"
   },
   {
    "duration": 292,
    "start_time": "2023-04-29T09:53:32.227Z"
   },
   {
    "duration": 282,
    "start_time": "2023-04-29T09:53:40.428Z"
   },
   {
    "duration": 289,
    "start_time": "2023-04-29T09:53:56.816Z"
   },
   {
    "duration": 4,
    "start_time": "2023-04-29T09:54:18.534Z"
   },
   {
    "duration": 315,
    "start_time": "2023-04-29T09:54:24.784Z"
   },
   {
    "duration": 10,
    "start_time": "2023-04-29T09:55:00.325Z"
   },
   {
    "duration": 12,
    "start_time": "2023-04-29T09:55:10.289Z"
   },
   {
    "duration": 3,
    "start_time": "2023-04-29T09:55:49.228Z"
   },
   {
    "duration": 14,
    "start_time": "2023-04-29T09:55:53.831Z"
   },
   {
    "duration": 4,
    "start_time": "2023-04-29T10:03:20.259Z"
   },
   {
    "duration": 294,
    "start_time": "2023-04-29T10:03:23.083Z"
   },
   {
    "duration": 5,
    "start_time": "2023-04-29T10:03:27.639Z"
   },
   {
    "duration": 311,
    "start_time": "2023-04-29T10:03:28.238Z"
   },
   {
    "duration": 5,
    "start_time": "2023-04-29T10:03:34.428Z"
   },
   {
    "duration": 431,
    "start_time": "2023-04-29T10:03:35.729Z"
   },
   {
    "duration": 4,
    "start_time": "2023-04-29T10:03:39.392Z"
   },
   {
    "duration": 5,
    "start_time": "2023-04-29T10:03:41.165Z"
   },
   {
    "duration": 291,
    "start_time": "2023-04-29T10:03:41.426Z"
   },
   {
    "duration": 4,
    "start_time": "2023-04-29T10:03:53.758Z"
   },
   {
    "duration": 291,
    "start_time": "2023-04-29T10:03:54.023Z"
   },
   {
    "duration": 5,
    "start_time": "2023-04-29T10:05:11.254Z"
   },
   {
    "duration": 315,
    "start_time": "2023-04-29T10:05:13.061Z"
   },
   {
    "duration": 15,
    "start_time": "2023-04-29T10:46:38.325Z"
   },
   {
    "duration": 9,
    "start_time": "2023-04-29T10:47:12.249Z"
   },
   {
    "duration": 9,
    "start_time": "2023-04-29T10:47:41.938Z"
   },
   {
    "duration": 297,
    "start_time": "2023-04-29T10:47:51.640Z"
   },
   {
    "duration": 320,
    "start_time": "2023-04-29T10:48:21.308Z"
   },
   {
    "duration": 698,
    "start_time": "2023-04-29T10:48:28.014Z"
   },
   {
    "duration": 288,
    "start_time": "2023-04-29T10:49:16.769Z"
   },
   {
    "duration": 290,
    "start_time": "2023-04-29T10:49:40.613Z"
   },
   {
    "duration": 297,
    "start_time": "2023-04-29T10:49:45.020Z"
   },
   {
    "duration": 326,
    "start_time": "2023-04-29T10:50:12.615Z"
   },
   {
    "duration": 284,
    "start_time": "2023-04-29T10:50:21.569Z"
   },
   {
    "duration": 377,
    "start_time": "2023-04-29T10:50:30.458Z"
   },
   {
    "duration": 284,
    "start_time": "2023-04-29T10:50:43.267Z"
   },
   {
    "duration": 294,
    "start_time": "2023-04-29T10:51:08.716Z"
   },
   {
    "duration": 5,
    "start_time": "2023-04-29T10:53:03.643Z"
   },
   {
    "duration": 5,
    "start_time": "2023-04-29T10:53:18.309Z"
   },
   {
    "duration": 6,
    "start_time": "2023-04-29T10:53:35.071Z"
   },
   {
    "duration": 5,
    "start_time": "2023-04-29T10:53:47.151Z"
   },
   {
    "duration": 4,
    "start_time": "2023-04-29T10:53:50.951Z"
   },
   {
    "duration": 11,
    "start_time": "2023-04-29T10:54:20.800Z"
   },
   {
    "duration": 9,
    "start_time": "2023-04-29T10:54:37.458Z"
   },
   {
    "duration": 5,
    "start_time": "2023-04-29T10:54:50.563Z"
   },
   {
    "duration": 5,
    "start_time": "2023-04-29T10:54:54.421Z"
   },
   {
    "duration": 7,
    "start_time": "2023-04-29T10:55:39.706Z"
   },
   {
    "duration": 8,
    "start_time": "2023-04-29T10:55:55.332Z"
   },
   {
    "duration": 4,
    "start_time": "2023-04-29T10:56:55.308Z"
   },
   {
    "duration": 18,
    "start_time": "2023-04-29T10:56:59.925Z"
   },
   {
    "duration": 279,
    "start_time": "2023-04-29T10:59:10.682Z"
   },
   {
    "duration": 316,
    "start_time": "2023-04-29T11:00:05.797Z"
   },
   {
    "duration": 20,
    "start_time": "2023-04-29T11:00:24.361Z"
   },
   {
    "duration": 11,
    "start_time": "2023-04-29T11:00:41.180Z"
   },
   {
    "duration": 12,
    "start_time": "2023-04-29T11:01:54.660Z"
   },
   {
    "duration": 9,
    "start_time": "2023-04-29T11:02:48.744Z"
   },
   {
    "duration": 15,
    "start_time": "2023-04-29T11:02:56.038Z"
   },
   {
    "duration": 5,
    "start_time": "2023-04-29T11:24:10.664Z"
   },
   {
    "duration": 5,
    "start_time": "2023-04-29T11:24:20.415Z"
   },
   {
    "duration": 5,
    "start_time": "2023-04-29T11:24:25.573Z"
   },
   {
    "duration": 4,
    "start_time": "2023-04-29T11:24:36.717Z"
   },
   {
    "duration": 10,
    "start_time": "2023-04-29T11:24:50.949Z"
   },
   {
    "duration": 10,
    "start_time": "2023-04-29T11:25:07.712Z"
   },
   {
    "duration": 9,
    "start_time": "2023-04-29T11:25:32.073Z"
   },
   {
    "duration": 13,
    "start_time": "2023-04-29T11:25:35.592Z"
   },
   {
    "duration": 30,
    "start_time": "2023-04-29T11:28:16.212Z"
   },
   {
    "duration": 12,
    "start_time": "2023-04-29T11:39:43.729Z"
   },
   {
    "duration": 35,
    "start_time": "2023-04-29T11:40:10.156Z"
   },
   {
    "duration": 292,
    "start_time": "2023-04-29T11:40:19.813Z"
   },
   {
    "duration": 37,
    "start_time": "2023-04-29T11:42:17.872Z"
   },
   {
    "duration": 351,
    "start_time": "2023-04-29T11:43:57.450Z"
   },
   {
    "duration": 293,
    "start_time": "2023-04-29T11:44:52.319Z"
   },
   {
    "duration": 326,
    "start_time": "2023-04-29T11:46:22.840Z"
   },
   {
    "duration": 314,
    "start_time": "2023-04-29T11:46:40.190Z"
   },
   {
    "duration": 355,
    "start_time": "2023-04-29T11:46:45.833Z"
   },
   {
    "duration": 302,
    "start_time": "2023-04-29T11:47:57.819Z"
   },
   {
    "duration": 417,
    "start_time": "2023-04-29T11:49:58.623Z"
   },
   {
    "duration": 344,
    "start_time": "2023-04-29T11:50:11.479Z"
   },
   {
    "duration": 432,
    "start_time": "2023-04-29T11:50:14.036Z"
   },
   {
    "duration": 82,
    "start_time": "2023-04-29T11:51:20.989Z"
   },
   {
    "duration": 45,
    "start_time": "2023-04-29T11:51:57.394Z"
   },
   {
    "duration": 52,
    "start_time": "2023-04-29T11:52:01.938Z"
   },
   {
    "duration": 55,
    "start_time": "2023-04-29T11:52:39.288Z"
   },
   {
    "duration": 303,
    "start_time": "2023-04-29T11:52:52.531Z"
   },
   {
    "duration": 357,
    "start_time": "2023-04-29T11:52:57.162Z"
   },
   {
    "duration": 325,
    "start_time": "2023-04-29T11:53:05.485Z"
   },
   {
    "duration": 325,
    "start_time": "2023-04-29T11:53:22.423Z"
   },
   {
    "duration": 429,
    "start_time": "2023-04-29T11:53:30.327Z"
   },
   {
    "duration": 1081,
    "start_time": "2023-04-29T11:54:07.365Z"
   },
   {
    "duration": 78,
    "start_time": "2023-04-29T11:54:08.449Z"
   },
   {
    "duration": 25,
    "start_time": "2023-04-29T11:54:08.529Z"
   },
   {
    "duration": 6,
    "start_time": "2023-04-29T11:54:08.556Z"
   },
   {
    "duration": 32,
    "start_time": "2023-04-29T11:54:08.564Z"
   },
   {
    "duration": 14,
    "start_time": "2023-04-29T11:54:08.598Z"
   },
   {
    "duration": 280,
    "start_time": "2023-04-29T11:54:08.613Z"
   },
   {
    "duration": 393,
    "start_time": "2023-04-29T11:54:08.894Z"
   },
   {
    "duration": 346,
    "start_time": "2023-04-29T11:54:09.289Z"
   },
   {
    "duration": 408,
    "start_time": "2023-04-29T11:54:09.637Z"
   },
   {
    "duration": 1021,
    "start_time": "2023-04-29T11:54:33.485Z"
   },
   {
    "duration": 73,
    "start_time": "2023-04-29T11:54:34.508Z"
   },
   {
    "duration": 30,
    "start_time": "2023-04-29T11:54:34.582Z"
   },
   {
    "duration": 19,
    "start_time": "2023-04-29T11:54:34.614Z"
   },
   {
    "duration": 25,
    "start_time": "2023-04-29T11:54:34.635Z"
   },
   {
    "duration": 15,
    "start_time": "2023-04-29T11:54:34.661Z"
   },
   {
    "duration": 280,
    "start_time": "2023-04-29T11:54:34.678Z"
   },
   {
    "duration": 406,
    "start_time": "2023-04-29T11:54:34.959Z"
   },
   {
    "duration": 344,
    "start_time": "2023-04-29T11:54:35.367Z"
   },
   {
    "duration": 422,
    "start_time": "2023-04-29T11:54:35.713Z"
   },
   {
    "duration": 306,
    "start_time": "2023-04-29T11:54:46.731Z"
   },
   {
    "duration": 405,
    "start_time": "2023-04-29T11:55:58.636Z"
   },
   {
    "duration": 391,
    "start_time": "2023-04-29T11:56:04.322Z"
   },
   {
    "duration": 408,
    "start_time": "2023-04-29T11:56:07.729Z"
   },
   {
    "duration": 396,
    "start_time": "2023-04-29T11:56:24.160Z"
   },
   {
    "duration": 403,
    "start_time": "2023-04-29T11:56:33.739Z"
   },
   {
    "duration": 426,
    "start_time": "2023-04-29T11:57:01.532Z"
   },
   {
    "duration": 400,
    "start_time": "2023-04-29T11:57:10.118Z"
   },
   {
    "duration": 411,
    "start_time": "2023-04-29T11:57:19.530Z"
   },
   {
    "duration": 420,
    "start_time": "2023-04-29T11:57:22.836Z"
   },
   {
    "duration": 548,
    "start_time": "2023-04-29T11:57:29.395Z"
   },
   {
    "duration": 508,
    "start_time": "2023-04-29T11:57:38.326Z"
   },
   {
    "duration": 608,
    "start_time": "2023-04-29T11:58:18.127Z"
   },
   {
    "duration": 551,
    "start_time": "2023-04-29T11:58:38.136Z"
   },
   {
    "duration": 455,
    "start_time": "2023-04-29T11:59:01.026Z"
   },
   {
    "duration": 492,
    "start_time": "2023-04-29T11:59:06.858Z"
   },
   {
    "duration": 440,
    "start_time": "2023-04-29T11:59:30.582Z"
   },
   {
    "duration": 454,
    "start_time": "2023-04-29T11:59:38.523Z"
   },
   {
    "duration": 593,
    "start_time": "2023-04-29T12:00:44.578Z"
   },
   {
    "duration": 1285,
    "start_time": "2023-04-29T14:38:01.921Z"
   },
   {
    "duration": 1092,
    "start_time": "2023-04-29T14:38:18.003Z"
   },
   {
    "duration": 208,
    "start_time": "2023-04-29T14:38:19.096Z"
   },
   {
    "duration": 27,
    "start_time": "2023-04-29T14:38:19.306Z"
   },
   {
    "duration": 6,
    "start_time": "2023-04-29T14:38:19.334Z"
   },
   {
    "duration": 15,
    "start_time": "2023-04-29T14:38:19.342Z"
   },
   {
    "duration": 9,
    "start_time": "2023-04-29T14:38:19.358Z"
   },
   {
    "duration": 329,
    "start_time": "2023-04-29T14:38:19.369Z"
   },
   {
    "duration": 277,
    "start_time": "2023-04-29T14:38:19.700Z"
   },
   {
    "duration": 414,
    "start_time": "2023-04-29T14:38:19.978Z"
   },
   {
    "duration": 366,
    "start_time": "2023-04-29T14:38:20.394Z"
   },
   {
    "duration": 427,
    "start_time": "2023-04-29T14:38:20.762Z"
   },
   {
    "duration": 371,
    "start_time": "2023-04-29T14:41:27.171Z"
   },
   {
    "duration": 463,
    "start_time": "2023-04-29T14:41:58.762Z"
   },
   {
    "duration": 345,
    "start_time": "2023-04-29T14:42:54.907Z"
   },
   {
    "duration": 377,
    "start_time": "2023-04-29T14:43:15.882Z"
   },
   {
    "duration": 327,
    "start_time": "2023-04-29T14:43:31.967Z"
   },
   {
    "duration": 339,
    "start_time": "2023-04-29T14:43:46.826Z"
   },
   {
    "duration": 326,
    "start_time": "2023-04-29T14:44:07.163Z"
   },
   {
    "duration": 402,
    "start_time": "2023-04-29T14:44:11.524Z"
   },
   {
    "duration": 363,
    "start_time": "2023-04-29T14:44:14.261Z"
   },
   {
    "duration": 352,
    "start_time": "2023-04-29T14:48:16.648Z"
   },
   {
    "duration": 324,
    "start_time": "2023-04-29T14:49:14.478Z"
   },
   {
    "duration": 351,
    "start_time": "2023-04-29T14:50:24.932Z"
   },
   {
    "duration": 75,
    "start_time": "2023-04-29T14:51:58.222Z"
   },
   {
    "duration": 350,
    "start_time": "2023-04-29T14:52:07.432Z"
   },
   {
    "duration": 424,
    "start_time": "2023-04-29T14:52:20.367Z"
   },
   {
    "duration": 74,
    "start_time": "2023-04-29T14:52:42.319Z"
   },
   {
    "duration": 340,
    "start_time": "2023-04-29T14:52:48.218Z"
   },
   {
    "duration": 380,
    "start_time": "2023-04-29T14:52:59.051Z"
   },
   {
    "duration": 406,
    "start_time": "2023-04-29T14:53:37.523Z"
   },
   {
    "duration": 358,
    "start_time": "2023-04-29T14:53:47.626Z"
   },
   {
    "duration": 477,
    "start_time": "2023-04-29T15:03:44.779Z"
   },
   {
    "duration": 346,
    "start_time": "2023-04-29T15:09:25.627Z"
   },
   {
    "duration": 346,
    "start_time": "2023-04-29T15:09:43.058Z"
   },
   {
    "duration": 383,
    "start_time": "2023-04-29T15:11:20.555Z"
   },
   {
    "duration": 454,
    "start_time": "2023-04-29T15:22:32.567Z"
   },
   {
    "duration": 474,
    "start_time": "2023-04-29T15:23:09.260Z"
   },
   {
    "duration": 452,
    "start_time": "2023-04-29T15:23:34.742Z"
   },
   {
    "duration": 5,
    "start_time": "2023-04-29T15:24:11.356Z"
   },
   {
    "duration": 9,
    "start_time": "2023-04-29T15:24:41.523Z"
   },
   {
    "duration": 76,
    "start_time": "2023-04-29T15:28:17.935Z"
   },
   {
    "duration": 73,
    "start_time": "2023-04-29T15:28:24.275Z"
   },
   {
    "duration": 80,
    "start_time": "2023-04-29T15:28:29.651Z"
   },
   {
    "duration": 75,
    "start_time": "2023-04-29T15:28:33.339Z"
   },
   {
    "duration": 482,
    "start_time": "2023-04-29T15:29:28.073Z"
   },
   {
    "duration": 556,
    "start_time": "2023-04-29T15:30:53.838Z"
   },
   {
    "duration": 1123,
    "start_time": "2023-04-29T15:31:41.589Z"
   },
   {
    "duration": 74,
    "start_time": "2023-04-29T15:31:42.714Z"
   },
   {
    "duration": 34,
    "start_time": "2023-04-29T15:31:42.789Z"
   },
   {
    "duration": 6,
    "start_time": "2023-04-29T15:31:42.824Z"
   },
   {
    "duration": 18,
    "start_time": "2023-04-29T15:31:42.832Z"
   },
   {
    "duration": 10,
    "start_time": "2023-04-29T15:31:42.852Z"
   },
   {
    "duration": 416,
    "start_time": "2023-04-29T15:31:42.863Z"
   },
   {
    "duration": 304,
    "start_time": "2023-04-29T15:31:43.281Z"
   },
   {
    "duration": 436,
    "start_time": "2023-04-29T15:31:43.587Z"
   },
   {
    "duration": 474,
    "start_time": "2023-04-29T15:31:44.025Z"
   },
   {
    "duration": 429,
    "start_time": "2023-04-29T15:31:44.501Z"
   },
   {
    "duration": 544,
    "start_time": "2023-04-29T15:32:15.032Z"
   },
   {
    "duration": 18,
    "start_time": "2023-04-29T15:36:37.655Z"
   },
   {
    "duration": 424,
    "start_time": "2023-04-29T15:39:01.028Z"
   },
   {
    "duration": 18,
    "start_time": "2023-04-29T15:40:11.738Z"
   },
   {
    "duration": 20,
    "start_time": "2023-04-29T15:40:47.191Z"
   },
   {
    "duration": 31,
    "start_time": "2023-04-29T15:41:07.070Z"
   },
   {
    "duration": 10,
    "start_time": "2023-04-29T15:41:54.340Z"
   },
   {
    "duration": 438,
    "start_time": "2023-04-29T15:42:08.227Z"
   },
   {
    "duration": 545,
    "start_time": "2023-04-29T15:42:13.402Z"
   },
   {
    "duration": 10,
    "start_time": "2023-04-29T15:42:22.823Z"
   },
   {
    "duration": 283,
    "start_time": "2023-04-29T15:42:54.673Z"
   },
   {
    "duration": 299,
    "start_time": "2023-04-29T15:43:40.361Z"
   },
   {
    "duration": 297,
    "start_time": "2023-04-29T15:44:02.497Z"
   },
   {
    "duration": 262,
    "start_time": "2023-04-29T15:44:11.612Z"
   },
   {
    "duration": 1150,
    "start_time": "2023-04-29T15:44:36.803Z"
   },
   {
    "duration": 1091,
    "start_time": "2023-04-29T15:44:48.096Z"
   },
   {
    "duration": 72,
    "start_time": "2023-04-29T15:44:49.189Z"
   },
   {
    "duration": 30,
    "start_time": "2023-04-29T15:44:49.263Z"
   },
   {
    "duration": 7,
    "start_time": "2023-04-29T15:44:49.295Z"
   },
   {
    "duration": 16,
    "start_time": "2023-04-29T15:44:49.305Z"
   },
   {
    "duration": 12,
    "start_time": "2023-04-29T15:44:49.323Z"
   },
   {
    "duration": 405,
    "start_time": "2023-04-29T15:44:49.337Z"
   },
   {
    "duration": 295,
    "start_time": "2023-04-29T15:44:49.743Z"
   },
   {
    "duration": 441,
    "start_time": "2023-04-29T15:44:50.040Z"
   },
   {
    "duration": 377,
    "start_time": "2023-04-29T15:44:50.483Z"
   },
   {
    "duration": 462,
    "start_time": "2023-04-29T15:44:50.862Z"
   },
   {
    "duration": 288,
    "start_time": "2023-04-29T15:44:51.326Z"
   },
   {
    "duration": 285,
    "start_time": "2023-04-29T15:45:46.701Z"
   },
   {
    "duration": 354,
    "start_time": "2023-04-29T15:46:09.460Z"
   },
   {
    "duration": 428,
    "start_time": "2023-04-29T15:46:54.637Z"
   },
   {
    "duration": 404,
    "start_time": "2023-04-29T15:47:24.037Z"
   },
   {
    "duration": 363,
    "start_time": "2023-04-29T15:48:07.366Z"
   },
   {
    "duration": 361,
    "start_time": "2023-04-29T15:48:19.989Z"
   },
   {
    "duration": 19,
    "start_time": "2023-04-29T15:51:15.961Z"
   },
   {
    "duration": 102,
    "start_time": "2023-04-29T15:51:55.273Z"
   },
   {
    "duration": 11,
    "start_time": "2023-04-29T15:52:02.147Z"
   },
   {
    "duration": 15,
    "start_time": "2023-04-29T15:52:20.508Z"
   },
   {
    "duration": 1226,
    "start_time": "2023-04-30T10:15:23.578Z"
   },
   {
    "duration": 77,
    "start_time": "2023-04-30T10:15:24.806Z"
   },
   {
    "duration": 30,
    "start_time": "2023-04-30T10:15:24.885Z"
   },
   {
    "duration": 6,
    "start_time": "2023-04-30T10:15:24.917Z"
   },
   {
    "duration": 16,
    "start_time": "2023-04-30T10:15:24.925Z"
   },
   {
    "duration": 11,
    "start_time": "2023-04-30T10:15:24.943Z"
   },
   {
    "duration": 399,
    "start_time": "2023-04-30T10:15:24.957Z"
   },
   {
    "duration": 290,
    "start_time": "2023-04-30T10:15:25.358Z"
   },
   {
    "duration": 406,
    "start_time": "2023-04-30T10:15:25.650Z"
   },
   {
    "duration": 355,
    "start_time": "2023-04-30T10:15:26.058Z"
   },
   {
    "duration": 448,
    "start_time": "2023-04-30T10:15:26.414Z"
   },
   {
    "duration": 104,
    "start_time": "2023-04-30T10:15:26.863Z"
   },
   {
    "duration": 11,
    "start_time": "2023-04-30T10:16:40.856Z"
   },
   {
    "duration": 18,
    "start_time": "2023-04-30T10:18:34.246Z"
   },
   {
    "duration": 10,
    "start_time": "2023-04-30T10:18:47.981Z"
   },
   {
    "duration": 27,
    "start_time": "2023-04-30T10:19:31.349Z"
   },
   {
    "duration": 19,
    "start_time": "2023-04-30T10:22:35.840Z"
   },
   {
    "duration": 18,
    "start_time": "2023-04-30T10:22:50.776Z"
   },
   {
    "duration": 14,
    "start_time": "2023-04-30T10:23:00.312Z"
   },
   {
    "duration": 315,
    "start_time": "2023-04-30T10:23:22.209Z"
   },
   {
    "duration": 1198,
    "start_time": "2023-04-30T10:24:01.787Z"
   },
   {
    "duration": 79,
    "start_time": "2023-04-30T10:24:02.987Z"
   },
   {
    "duration": 39,
    "start_time": "2023-04-30T10:24:03.068Z"
   },
   {
    "duration": 6,
    "start_time": "2023-04-30T10:24:03.110Z"
   },
   {
    "duration": 16,
    "start_time": "2023-04-30T10:24:03.119Z"
   },
   {
    "duration": 12,
    "start_time": "2023-04-30T10:24:03.137Z"
   },
   {
    "duration": 396,
    "start_time": "2023-04-30T10:24:03.150Z"
   },
   {
    "duration": 291,
    "start_time": "2023-04-30T10:24:03.547Z"
   },
   {
    "duration": 435,
    "start_time": "2023-04-30T10:24:03.840Z"
   },
   {
    "duration": 393,
    "start_time": "2023-04-30T10:24:04.276Z"
   },
   {
    "duration": 460,
    "start_time": "2023-04-30T10:24:04.670Z"
   },
   {
    "duration": 120,
    "start_time": "2023-04-30T10:24:05.132Z"
   },
   {
    "duration": 0,
    "start_time": "2023-04-30T10:24:05.254Z"
   },
   {
    "duration": 17,
    "start_time": "2023-04-30T10:24:10.084Z"
   },
   {
    "duration": 356,
    "start_time": "2023-04-30T10:24:56.143Z"
   },
   {
    "duration": 412,
    "start_time": "2023-04-30T10:25:31.983Z"
   },
   {
    "duration": 428,
    "start_time": "2023-04-30T10:26:20.014Z"
   },
   {
    "duration": 506,
    "start_time": "2023-04-30T10:26:27.678Z"
   },
   {
    "duration": 386,
    "start_time": "2023-04-30T10:27:15.517Z"
   },
   {
    "duration": 397,
    "start_time": "2023-04-30T10:27:28.131Z"
   },
   {
    "duration": 411,
    "start_time": "2023-04-30T10:28:08.007Z"
   },
   {
    "duration": 433,
    "start_time": "2023-04-30T10:28:14.709Z"
   },
   {
    "duration": 428,
    "start_time": "2023-04-30T10:28:28.688Z"
   },
   {
    "duration": 425,
    "start_time": "2023-04-30T10:28:42.018Z"
   },
   {
    "duration": 458,
    "start_time": "2023-04-30T10:29:42.883Z"
   },
   {
    "duration": 498,
    "start_time": "2023-04-30T10:32:56.185Z"
   },
   {
    "duration": 470,
    "start_time": "2023-04-30T10:33:27.947Z"
   },
   {
    "duration": 465,
    "start_time": "2023-04-30T10:33:31.692Z"
   },
   {
    "duration": 556,
    "start_time": "2023-04-30T10:34:23.910Z"
   },
   {
    "duration": 467,
    "start_time": "2023-04-30T10:34:29.254Z"
   },
   {
    "duration": 446,
    "start_time": "2023-04-30T10:34:58.462Z"
   },
   {
    "duration": 11,
    "start_time": "2023-04-30T10:37:26.630Z"
   },
   {
    "duration": 175,
    "start_time": "2023-04-30T10:37:31.094Z"
   },
   {
    "duration": 167,
    "start_time": "2023-04-30T10:37:56.584Z"
   },
   {
    "duration": 15,
    "start_time": "2023-04-30T10:39:43.529Z"
   },
   {
    "duration": 16,
    "start_time": "2023-04-30T10:39:57.667Z"
   },
   {
    "duration": 13,
    "start_time": "2023-04-30T10:40:01.916Z"
   },
   {
    "duration": 13,
    "start_time": "2023-04-30T10:40:09.939Z"
   },
   {
    "duration": 143,
    "start_time": "2023-04-30T10:40:53.113Z"
   },
   {
    "duration": 150,
    "start_time": "2023-04-30T10:41:22.216Z"
   },
   {
    "duration": 135,
    "start_time": "2023-04-30T10:41:29.730Z"
   },
   {
    "duration": 153,
    "start_time": "2023-04-30T10:42:11.787Z"
   },
   {
    "duration": 292,
    "start_time": "2023-04-30T10:43:17.635Z"
   },
   {
    "duration": 372,
    "start_time": "2023-04-30T10:44:17.171Z"
   },
   {
    "duration": 452,
    "start_time": "2023-04-30T10:44:41.516Z"
   },
   {
    "duration": 440,
    "start_time": "2023-04-30T10:44:54.436Z"
   },
   {
    "duration": 405,
    "start_time": "2023-04-30T10:45:00.017Z"
   },
   {
    "duration": 209,
    "start_time": "2023-04-30T10:45:10.264Z"
   },
   {
    "duration": 401,
    "start_time": "2023-04-30T10:45:45.999Z"
   },
   {
    "duration": 383,
    "start_time": "2023-04-30T10:46:31.556Z"
   },
   {
    "duration": 175,
    "start_time": "2023-04-30T10:46:42.619Z"
   },
   {
    "duration": 200,
    "start_time": "2023-04-30T10:46:47.585Z"
   },
   {
    "duration": 497,
    "start_time": "2023-04-30T10:47:00.597Z"
   },
   {
    "duration": 229,
    "start_time": "2023-04-30T10:47:42.489Z"
   },
   {
    "duration": 377,
    "start_time": "2023-04-30T10:47:54.853Z"
   },
   {
    "duration": 395,
    "start_time": "2023-04-30T10:47:58.785Z"
   },
   {
    "duration": 390,
    "start_time": "2023-04-30T10:48:19.288Z"
   },
   {
    "duration": 385,
    "start_time": "2023-04-30T10:48:59.491Z"
   },
   {
    "duration": 426,
    "start_time": "2023-04-30T11:19:32.669Z"
   },
   {
    "duration": 495,
    "start_time": "2023-04-30T11:19:44.411Z"
   },
   {
    "duration": 508,
    "start_time": "2023-04-30T11:19:55.861Z"
   },
   {
    "duration": 428,
    "start_time": "2023-04-30T11:21:03.504Z"
   },
   {
    "duration": 481,
    "start_time": "2023-04-30T11:21:16.562Z"
   },
   {
    "duration": 481,
    "start_time": "2023-04-30T11:21:22.672Z"
   },
   {
    "duration": 4,
    "start_time": "2023-04-30T11:24:53.510Z"
   },
   {
    "duration": 6,
    "start_time": "2023-04-30T11:25:31.644Z"
   },
   {
    "duration": 5,
    "start_time": "2023-04-30T11:25:44.608Z"
   },
   {
    "duration": 253,
    "start_time": "2023-04-30T11:32:55.108Z"
   },
   {
    "duration": 248,
    "start_time": "2023-04-30T11:33:00.954Z"
   },
   {
    "duration": 131,
    "start_time": "2023-04-30T11:33:34.629Z"
   },
   {
    "duration": 194,
    "start_time": "2023-04-30T11:33:38.709Z"
   },
   {
    "duration": 194,
    "start_time": "2023-04-30T11:34:15.481Z"
   },
   {
    "duration": 437,
    "start_time": "2023-04-30T11:35:21.842Z"
   },
   {
    "duration": 266,
    "start_time": "2023-04-30T11:35:41.003Z"
   },
   {
    "duration": 284,
    "start_time": "2023-04-30T11:35:51.939Z"
   },
   {
    "duration": 321,
    "start_time": "2023-04-30T11:36:02.413Z"
   },
   {
    "duration": 315,
    "start_time": "2023-04-30T11:36:21.807Z"
   },
   {
    "duration": 330,
    "start_time": "2023-04-30T11:37:03.804Z"
   },
   {
    "duration": 563,
    "start_time": "2023-04-30T11:37:49.464Z"
   },
   {
    "duration": 438,
    "start_time": "2023-04-30T11:37:56.184Z"
   },
   {
    "duration": 652,
    "start_time": "2023-04-30T11:39:18.773Z"
   },
   {
    "duration": 592,
    "start_time": "2023-04-30T11:39:49.940Z"
   },
   {
    "duration": 749,
    "start_time": "2023-04-30T11:40:01.532Z"
   },
   {
    "duration": 592,
    "start_time": "2023-04-30T11:40:10.007Z"
   },
   {
    "duration": 548,
    "start_time": "2023-04-30T11:40:13.267Z"
   },
   {
    "duration": 564,
    "start_time": "2023-04-30T11:40:24.770Z"
   },
   {
    "duration": 704,
    "start_time": "2023-04-30T11:40:30.238Z"
   },
   {
    "duration": 8,
    "start_time": "2023-04-30T12:10:01.812Z"
   },
   {
    "duration": 4,
    "start_time": "2023-04-30T12:10:36.263Z"
   },
   {
    "duration": 143,
    "start_time": "2023-04-30T12:16:57.909Z"
   },
   {
    "duration": 42,
    "start_time": "2023-04-30T12:20:59.743Z"
   },
   {
    "duration": 71,
    "start_time": "2023-04-30T12:22:28.377Z"
   },
   {
    "duration": 46,
    "start_time": "2023-04-30T12:23:02.634Z"
   },
   {
    "duration": 49,
    "start_time": "2023-04-30T12:31:24.221Z"
   },
   {
    "duration": 11,
    "start_time": "2023-04-30T12:32:01.568Z"
   },
   {
    "duration": 11,
    "start_time": "2023-04-30T12:32:14.326Z"
   },
   {
    "duration": 15,
    "start_time": "2023-04-30T12:33:26.470Z"
   },
   {
    "duration": 17,
    "start_time": "2023-04-30T12:33:46.823Z"
   },
   {
    "duration": 16,
    "start_time": "2023-04-30T12:34:10.821Z"
   },
   {
    "duration": 47,
    "start_time": "2023-04-30T12:34:22.021Z"
   },
   {
    "duration": 13,
    "start_time": "2023-04-30T13:05:17.525Z"
   },
   {
    "duration": 1168,
    "start_time": "2023-04-30T13:15:38.268Z"
   },
   {
    "duration": 78,
    "start_time": "2023-04-30T13:15:39.438Z"
   },
   {
    "duration": 26,
    "start_time": "2023-04-30T13:15:39.517Z"
   },
   {
    "duration": 6,
    "start_time": "2023-04-30T13:15:39.546Z"
   },
   {
    "duration": 22,
    "start_time": "2023-04-30T13:15:39.555Z"
   },
   {
    "duration": 13,
    "start_time": "2023-04-30T13:15:39.579Z"
   },
   {
    "duration": 404,
    "start_time": "2023-04-30T13:15:39.594Z"
   },
   {
    "duration": 302,
    "start_time": "2023-04-30T13:15:39.999Z"
   },
   {
    "duration": 448,
    "start_time": "2023-04-30T13:15:40.303Z"
   },
   {
    "duration": 432,
    "start_time": "2023-04-30T13:15:40.753Z"
   },
   {
    "duration": 456,
    "start_time": "2023-04-30T13:15:41.186Z"
   },
   {
    "duration": 381,
    "start_time": "2023-04-30T13:15:41.643Z"
   },
   {
    "duration": 469,
    "start_time": "2023-04-30T13:15:42.025Z"
   },
   {
    "duration": 640,
    "start_time": "2023-04-30T13:15:42.496Z"
   },
   {
    "duration": 6,
    "start_time": "2023-04-30T13:15:43.137Z"
   },
   {
    "duration": 575,
    "start_time": "2023-04-30T13:15:43.144Z"
   },
   {
    "duration": 5,
    "start_time": "2023-04-30T13:15:43.720Z"
   },
   {
    "duration": 78,
    "start_time": "2023-04-30T13:15:43.728Z"
   },
   {
    "duration": 18,
    "start_time": "2023-04-30T13:15:43.808Z"
   },
   {
    "duration": 1628,
    "start_time": "2023-04-30T13:15:43.828Z"
   },
   {
    "duration": 31,
    "start_time": "2023-04-30T13:16:11.670Z"
   },
   {
    "duration": 31,
    "start_time": "2023-04-30T13:17:22.781Z"
   },
   {
    "duration": 33,
    "start_time": "2023-04-30T13:17:46.319Z"
   },
   {
    "duration": 30,
    "start_time": "2023-04-30T13:18:27.204Z"
   },
   {
    "duration": 33,
    "start_time": "2023-04-30T13:18:45.711Z"
   },
   {
    "duration": 1140,
    "start_time": "2023-04-30T13:21:42.823Z"
   },
   {
    "duration": 78,
    "start_time": "2023-04-30T13:21:43.965Z"
   },
   {
    "duration": 29,
    "start_time": "2023-04-30T13:21:44.045Z"
   },
   {
    "duration": 7,
    "start_time": "2023-04-30T13:21:44.076Z"
   },
   {
    "duration": 24,
    "start_time": "2023-04-30T13:21:44.084Z"
   },
   {
    "duration": 13,
    "start_time": "2023-04-30T13:21:44.110Z"
   },
   {
    "duration": 434,
    "start_time": "2023-04-30T13:21:44.125Z"
   },
   {
    "duration": 300,
    "start_time": "2023-04-30T13:21:44.561Z"
   },
   {
    "duration": 424,
    "start_time": "2023-04-30T13:21:44.863Z"
   },
   {
    "duration": 364,
    "start_time": "2023-04-30T13:21:45.293Z"
   },
   {
    "duration": 479,
    "start_time": "2023-04-30T13:21:45.658Z"
   },
   {
    "duration": 402,
    "start_time": "2023-04-30T13:21:46.138Z"
   },
   {
    "duration": 462,
    "start_time": "2023-04-30T13:21:46.541Z"
   },
   {
    "duration": 526,
    "start_time": "2023-04-30T13:21:47.005Z"
   },
   {
    "duration": 5,
    "start_time": "2023-04-30T13:21:47.533Z"
   },
   {
    "duration": 580,
    "start_time": "2023-04-30T13:21:47.541Z"
   },
   {
    "duration": 4,
    "start_time": "2023-04-30T13:21:48.123Z"
   },
   {
    "duration": 43,
    "start_time": "2023-04-30T13:21:48.129Z"
   },
   {
    "duration": 16,
    "start_time": "2023-04-30T13:21:48.191Z"
   },
   {
    "duration": 30,
    "start_time": "2023-04-30T13:21:48.209Z"
   },
   {
    "duration": 139,
    "start_time": "2023-04-30T13:22:54.238Z"
   },
   {
    "duration": 32,
    "start_time": "2023-04-30T13:23:08.222Z"
   },
   {
    "duration": 1272,
    "start_time": "2023-04-30T13:23:25.549Z"
   },
   {
    "duration": 27,
    "start_time": "2023-04-30T13:23:39.719Z"
   },
   {
    "duration": 29,
    "start_time": "2023-04-30T13:24:56.877Z"
   },
   {
    "duration": 17,
    "start_time": "2023-04-30T13:25:07.715Z"
   },
   {
    "duration": 16,
    "start_time": "2023-04-30T13:25:22.514Z"
   },
   {
    "duration": 36,
    "start_time": "2023-04-30T13:25:27.078Z"
   },
   {
    "duration": 22,
    "start_time": "2023-04-30T13:33:53.232Z"
   },
   {
    "duration": 1188,
    "start_time": "2023-04-30T13:42:12.493Z"
   },
   {
    "duration": 16,
    "start_time": "2023-04-30T13:42:27.727Z"
   },
   {
    "duration": 13,
    "start_time": "2023-04-30T13:43:31.379Z"
   },
   {
    "duration": 14,
    "start_time": "2023-04-30T13:43:50.110Z"
   },
   {
    "duration": 2560,
    "start_time": "2023-04-30T20:55:43.731Z"
   },
   {
    "duration": 438,
    "start_time": "2023-04-30T20:55:46.293Z"
   },
   {
    "duration": 77,
    "start_time": "2023-04-30T20:55:46.745Z"
   },
   {
    "duration": 23,
    "start_time": "2023-04-30T20:55:46.835Z"
   },
   {
    "duration": 41,
    "start_time": "2023-04-30T20:55:46.870Z"
   },
   {
    "duration": 31,
    "start_time": "2023-04-30T20:55:46.916Z"
   },
   {
    "duration": 706,
    "start_time": "2023-04-30T20:55:46.953Z"
   },
   {
    "duration": 418,
    "start_time": "2023-04-30T20:55:47.665Z"
   },
   {
    "duration": 835,
    "start_time": "2023-04-30T20:55:48.088Z"
   },
   {
    "duration": 557,
    "start_time": "2023-04-30T20:55:48.930Z"
   },
   {
    "duration": 897,
    "start_time": "2023-04-30T20:55:49.498Z"
   },
   {
    "duration": 781,
    "start_time": "2023-04-30T20:55:50.401Z"
   },
   {
    "duration": 924,
    "start_time": "2023-04-30T20:55:51.187Z"
   },
   {
    "duration": 1282,
    "start_time": "2023-04-30T20:55:52.117Z"
   },
   {
    "duration": 19,
    "start_time": "2023-04-30T20:55:53.404Z"
   },
   {
    "duration": 1167,
    "start_time": "2023-04-30T20:55:53.428Z"
   },
   {
    "duration": 11,
    "start_time": "2023-04-30T20:55:54.600Z"
   },
   {
    "duration": 95,
    "start_time": "2023-04-30T20:55:54.618Z"
   },
   {
    "duration": 28,
    "start_time": "2023-04-30T20:55:54.718Z"
   },
   {
    "duration": 269,
    "start_time": "2023-04-30T20:55:54.751Z"
   },
   {
    "duration": 0,
    "start_time": "2023-04-30T20:55:55.031Z"
   },
   {
    "duration": 21,
    "start_time": "2023-05-01T12:22:30.619Z"
   },
   {
    "duration": 43,
    "start_time": "2023-05-02T15:24:46.118Z"
   },
   {
    "duration": 1220,
    "start_time": "2023-05-02T15:24:51.356Z"
   },
   {
    "duration": 226,
    "start_time": "2023-05-02T15:24:52.578Z"
   },
   {
    "duration": 28,
    "start_time": "2023-05-02T15:24:52.806Z"
   },
   {
    "duration": 5,
    "start_time": "2023-05-02T15:24:52.836Z"
   },
   {
    "duration": 22,
    "start_time": "2023-05-02T15:24:52.843Z"
   },
   {
    "duration": 12,
    "start_time": "2023-05-02T15:24:52.867Z"
   },
   {
    "duration": 358,
    "start_time": "2023-05-02T15:24:52.880Z"
   },
   {
    "duration": 281,
    "start_time": "2023-05-02T15:24:53.240Z"
   },
   {
    "duration": 404,
    "start_time": "2023-05-02T15:24:53.522Z"
   },
   {
    "duration": 404,
    "start_time": "2023-05-02T15:24:53.928Z"
   },
   {
    "duration": 476,
    "start_time": "2023-05-02T15:24:54.334Z"
   },
   {
    "duration": 341,
    "start_time": "2023-05-02T15:24:54.812Z"
   },
   {
    "duration": 456,
    "start_time": "2023-05-02T15:24:55.154Z"
   },
   {
    "duration": 465,
    "start_time": "2023-05-02T15:24:55.612Z"
   },
   {
    "duration": 4,
    "start_time": "2023-05-02T15:24:56.078Z"
   },
   {
    "duration": 485,
    "start_time": "2023-05-02T15:24:56.094Z"
   },
   {
    "duration": 4,
    "start_time": "2023-05-02T15:24:56.581Z"
   },
   {
    "duration": 44,
    "start_time": "2023-05-02T15:24:56.598Z"
   },
   {
    "duration": 15,
    "start_time": "2023-05-02T15:24:56.644Z"
   },
   {
    "duration": 148,
    "start_time": "2023-05-02T15:24:56.660Z"
   },
   {
    "duration": 0,
    "start_time": "2023-05-02T15:24:56.810Z"
   },
   {
    "duration": 11,
    "start_time": "2023-05-02T15:25:25.323Z"
   },
   {
    "duration": 430,
    "start_time": "2023-05-02T15:33:39.218Z"
   },
   {
    "duration": 409,
    "start_time": "2023-05-02T15:33:51.727Z"
   },
   {
    "duration": 490,
    "start_time": "2023-05-02T15:34:29.376Z"
   },
   {
    "duration": 526,
    "start_time": "2023-05-02T15:34:39.247Z"
   },
   {
    "duration": 426,
    "start_time": "2023-05-02T15:34:45.226Z"
   },
   {
    "duration": 498,
    "start_time": "2023-05-02T15:35:45.523Z"
   },
   {
    "duration": 19,
    "start_time": "2023-05-02T15:37:22.831Z"
   },
   {
    "duration": 14,
    "start_time": "2023-05-02T15:37:42.553Z"
   },
   {
    "duration": 30,
    "start_time": "2023-05-02T15:37:45.176Z"
   },
   {
    "duration": 43,
    "start_time": "2023-05-02T16:08:42.824Z"
   },
   {
    "duration": 44,
    "start_time": "2023-05-02T16:09:16.354Z"
   },
   {
    "duration": 41,
    "start_time": "2023-05-02T16:10:07.476Z"
   },
   {
    "duration": 42,
    "start_time": "2023-05-02T16:11:41.926Z"
   },
   {
    "duration": 53,
    "start_time": "2023-05-02T16:11:54.307Z"
   },
   {
    "duration": 41,
    "start_time": "2023-05-02T16:12:29.654Z"
   },
   {
    "duration": 41,
    "start_time": "2023-05-02T16:12:51.009Z"
   },
   {
    "duration": 101,
    "start_time": "2023-05-02T16:32:12.166Z"
   },
   {
    "duration": 17,
    "start_time": "2023-05-02T16:32:14.941Z"
   },
   {
    "duration": 52,
    "start_time": "2023-05-02T16:32:42.681Z"
   },
   {
    "duration": 32,
    "start_time": "2023-05-02T16:50:19.656Z"
   },
   {
    "duration": 41,
    "start_time": "2023-05-02T16:50:36.341Z"
   },
   {
    "duration": 15,
    "start_time": "2023-05-02T16:55:02.798Z"
   },
   {
    "duration": 18,
    "start_time": "2023-05-02T17:01:33.749Z"
   },
   {
    "duration": 27,
    "start_time": "2023-05-02T17:07:13.200Z"
   },
   {
    "duration": 27,
    "start_time": "2023-05-02T17:07:25.571Z"
   },
   {
    "duration": 1127,
    "start_time": "2023-05-02T17:07:44.006Z"
   },
   {
    "duration": 64,
    "start_time": "2023-05-02T17:07:45.135Z"
   },
   {
    "duration": 26,
    "start_time": "2023-05-02T17:07:45.201Z"
   },
   {
    "duration": 7,
    "start_time": "2023-05-02T17:07:45.228Z"
   },
   {
    "duration": 14,
    "start_time": "2023-05-02T17:07:45.237Z"
   },
   {
    "duration": 12,
    "start_time": "2023-05-02T17:07:45.254Z"
   },
   {
    "duration": 142,
    "start_time": "2023-05-02T17:07:45.267Z"
   },
   {
    "duration": 0,
    "start_time": "2023-05-02T17:07:45.412Z"
   },
   {
    "duration": 0,
    "start_time": "2023-05-02T17:07:45.413Z"
   },
   {
    "duration": 0,
    "start_time": "2023-05-02T17:07:45.415Z"
   },
   {
    "duration": 0,
    "start_time": "2023-05-02T17:07:45.416Z"
   },
   {
    "duration": 0,
    "start_time": "2023-05-02T17:07:45.417Z"
   },
   {
    "duration": 0,
    "start_time": "2023-05-02T17:07:45.418Z"
   },
   {
    "duration": 0,
    "start_time": "2023-05-02T17:07:45.419Z"
   },
   {
    "duration": 0,
    "start_time": "2023-05-02T17:07:45.420Z"
   },
   {
    "duration": 0,
    "start_time": "2023-05-02T17:07:45.421Z"
   },
   {
    "duration": 0,
    "start_time": "2023-05-02T17:07:45.423Z"
   },
   {
    "duration": 0,
    "start_time": "2023-05-02T17:07:45.424Z"
   },
   {
    "duration": 0,
    "start_time": "2023-05-02T17:07:45.426Z"
   },
   {
    "duration": 0,
    "start_time": "2023-05-02T17:07:45.427Z"
   },
   {
    "duration": 0,
    "start_time": "2023-05-02T17:07:45.428Z"
   },
   {
    "duration": 27,
    "start_time": "2023-05-02T17:08:51.967Z"
   },
   {
    "duration": 149,
    "start_time": "2023-05-02T17:10:02.350Z"
   },
   {
    "duration": 375,
    "start_time": "2023-05-02T17:14:09.603Z"
   },
   {
    "duration": 382,
    "start_time": "2023-05-02T17:19:20.515Z"
   },
   {
    "duration": 1129,
    "start_time": "2023-05-02T17:20:40.700Z"
   },
   {
    "duration": 66,
    "start_time": "2023-05-02T17:20:41.831Z"
   },
   {
    "duration": 28,
    "start_time": "2023-05-02T17:20:41.898Z"
   },
   {
    "duration": 6,
    "start_time": "2023-05-02T17:20:41.928Z"
   },
   {
    "duration": 14,
    "start_time": "2023-05-02T17:20:41.937Z"
   },
   {
    "duration": 12,
    "start_time": "2023-05-02T17:20:41.953Z"
   },
   {
    "duration": 181,
    "start_time": "2023-05-02T17:20:41.967Z"
   },
   {
    "duration": 396,
    "start_time": "2023-05-02T17:20:42.151Z"
   },
   {
    "duration": 278,
    "start_time": "2023-05-02T17:20:42.548Z"
   },
   {
    "duration": 398,
    "start_time": "2023-05-02T17:20:42.828Z"
   },
   {
    "duration": 359,
    "start_time": "2023-05-02T17:20:43.228Z"
   },
   {
    "duration": 477,
    "start_time": "2023-05-02T17:20:43.589Z"
   },
   {
    "duration": 1116,
    "start_time": "2023-05-02T17:20:54.825Z"
   },
   {
    "duration": 65,
    "start_time": "2023-05-02T17:20:55.943Z"
   },
   {
    "duration": 26,
    "start_time": "2023-05-02T17:20:56.010Z"
   },
   {
    "duration": 7,
    "start_time": "2023-05-02T17:20:56.037Z"
   },
   {
    "duration": 20,
    "start_time": "2023-05-02T17:20:56.046Z"
   },
   {
    "duration": 10,
    "start_time": "2023-05-02T17:20:56.068Z"
   },
   {
    "duration": 125,
    "start_time": "2023-05-02T17:20:56.094Z"
   },
   {
    "duration": 355,
    "start_time": "2023-05-02T17:20:56.221Z"
   },
   {
    "duration": 270,
    "start_time": "2023-05-02T17:20:56.578Z"
   },
   {
    "duration": 407,
    "start_time": "2023-05-02T17:20:56.849Z"
   },
   {
    "duration": 331,
    "start_time": "2023-05-02T17:20:57.257Z"
   },
   {
    "duration": 430,
    "start_time": "2023-05-02T17:20:57.589Z"
   },
   {
    "duration": 340,
    "start_time": "2023-05-02T17:20:58.021Z"
   },
   {
    "duration": 420,
    "start_time": "2023-05-02T17:20:58.363Z"
   },
   {
    "duration": 500,
    "start_time": "2023-05-02T17:20:58.785Z"
   },
   {
    "duration": 9,
    "start_time": "2023-05-02T17:20:59.287Z"
   },
   {
    "duration": 500,
    "start_time": "2023-05-02T17:20:59.297Z"
   },
   {
    "duration": 5,
    "start_time": "2023-05-02T17:20:59.798Z"
   },
   {
    "duration": 42,
    "start_time": "2023-05-02T17:20:59.804Z"
   },
   {
    "duration": 14,
    "start_time": "2023-05-02T17:20:59.848Z"
   },
   {
    "duration": 57,
    "start_time": "2023-05-02T17:20:59.864Z"
   },
   {
    "duration": 12,
    "start_time": "2023-05-02T17:20:59.923Z"
   },
   {
    "duration": 44,
    "start_time": "2023-05-02T17:24:41.946Z"
   },
   {
    "duration": 14,
    "start_time": "2023-05-02T17:25:06.685Z"
   },
   {
    "duration": 14,
    "start_time": "2023-05-02T17:25:10.643Z"
   },
   {
    "duration": 30,
    "start_time": "2023-05-02T17:25:18.634Z"
   },
   {
    "duration": 33,
    "start_time": "2023-05-02T17:25:30.981Z"
   },
   {
    "duration": 1227,
    "start_time": "2023-05-03T11:02:52.348Z"
   },
   {
    "duration": 210,
    "start_time": "2023-05-03T11:02:53.576Z"
   },
   {
    "duration": 29,
    "start_time": "2023-05-03T11:02:53.788Z"
   },
   {
    "duration": 7,
    "start_time": "2023-05-03T11:02:53.819Z"
   },
   {
    "duration": 21,
    "start_time": "2023-05-03T11:02:53.828Z"
   },
   {
    "duration": 13,
    "start_time": "2023-05-03T11:02:53.851Z"
   },
   {
    "duration": 485,
    "start_time": "2023-05-03T11:02:53.865Z"
   },
   {
    "duration": 273,
    "start_time": "2023-05-03T11:02:54.351Z"
   },
   {
    "duration": 397,
    "start_time": "2023-05-03T11:02:54.625Z"
   },
   {
    "duration": 372,
    "start_time": "2023-05-03T11:02:55.024Z"
   },
   {
    "duration": 484,
    "start_time": "2023-05-03T11:02:55.397Z"
   },
   {
    "duration": 360,
    "start_time": "2023-05-03T11:02:55.883Z"
   },
   {
    "duration": 441,
    "start_time": "2023-05-03T11:02:56.245Z"
   },
   {
    "duration": 509,
    "start_time": "2023-05-03T11:02:56.689Z"
   },
   {
    "duration": 5,
    "start_time": "2023-05-03T11:02:57.200Z"
   },
   {
    "duration": 543,
    "start_time": "2023-05-03T11:02:57.207Z"
   },
   {
    "duration": 4,
    "start_time": "2023-05-03T11:02:57.752Z"
   },
   {
    "duration": 59,
    "start_time": "2023-05-03T11:02:57.757Z"
   },
   {
    "duration": 14,
    "start_time": "2023-05-03T11:02:57.817Z"
   },
   {
    "duration": 28,
    "start_time": "2023-05-03T11:02:57.833Z"
   },
   {
    "duration": 32,
    "start_time": "2023-05-03T11:02:57.863Z"
   }
  ],
  "kernelspec": {
   "display_name": "Python 3 (ipykernel)",
   "language": "python",
   "name": "python3"
  },
  "language_info": {
   "codemirror_mode": {
    "name": "ipython",
    "version": 3
   },
   "file_extension": ".py",
   "mimetype": "text/x-python",
   "name": "python",
   "nbconvert_exporter": "python",
   "pygments_lexer": "ipython3",
   "version": "3.9.5"
  },
  "toc": {
   "base_numbering": 1,
   "nav_menu": {
    "height": "515px",
    "width": "838px"
   },
   "number_sections": true,
   "sideBar": true,
   "skip_h1_title": true,
   "title_cell": "Table of Contents",
   "title_sidebar": "Contents",
   "toc_cell": false,
   "toc_position": {},
   "toc_section_display": true,
   "toc_window_display": false
  }
 },
 "nbformat": 4,
 "nbformat_minor": 2
}
