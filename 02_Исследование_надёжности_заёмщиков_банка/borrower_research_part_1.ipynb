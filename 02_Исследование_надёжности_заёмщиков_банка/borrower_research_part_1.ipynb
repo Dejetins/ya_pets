{
 "cells": [
  {
   "cell_type": "markdown",
   "id": "4f11de00",
   "metadata": {
    "deletable": false,
    "editable": false,
    "id": "4f11de00"
   },
   "source": [
    "# Исследование надежности заемщиков"
   ]
  },
  {
   "cell_type": "markdown",
   "id": "f09d6878",
   "metadata": {
    "deletable": false,
    "editable": false,
    "id": "f09d6878"
   },
   "source": [
    "Это первая часть проекта, она будет проверена автоматически. Вторую часть проверит ревьюер. "
   ]
  },
  {
   "cell_type": "markdown",
   "id": "516620ee",
   "metadata": {
    "deletable": false,
    "editable": false,
    "id": "516620ee"
   },
   "source": [
    "## Откройте таблицу и изучите общую информацию о данных"
   ]
  },
  {
   "cell_type": "markdown",
   "id": "76a8a9ce",
   "metadata": {
    "deletable": false,
    "editable": false,
    "id": "76a8a9ce",
    "tags": [
     "start_task"
    ]
   },
   "source": [
    "**Задание 1. Импортируйте библиотеку pandas. Считайте данные из csv-файла в датафрейм и сохраните в переменную `data`. Путь к файлу:**\n",
    "\n",
    "`/datasets/data.csv`"
   ]
  },
  {
   "cell_type": "code",
   "execution_count": 1,
   "id": "fab207d0",
   "metadata": {
    "id": "fab207d0"
   },
   "outputs": [],
   "source": [
    "# импортируйте библиотеку pandas\n",
    "import pandas as pd\n"
   ]
  },
  {
   "cell_type": "code",
   "execution_count": 2,
   "id": "6c82b607",
   "metadata": {
    "id": "6c82b607"
   },
   "outputs": [],
   "source": [
    "# прочитайте csv-файл\n",
    "data = pd.read_csv('/datasets/data.csv')"
   ]
  },
  {
   "cell_type": "markdown",
   "id": "08bbb5b3",
   "metadata": {
    "deletable": false,
    "editable": false,
    "id": "08bbb5b3",
    "tags": [
     "start_task"
    ]
   },
   "source": [
    "**Задание 2. Выведите первые 20 строчек датафрейма `data` на экран.**"
   ]
  },
  {
   "cell_type": "code",
   "execution_count": 3,
   "id": "4ff33b36",
   "metadata": {
    "id": "4ff33b36"
   },
   "outputs": [
    {
     "data": {
      "text/html": [
       "<div>\n",
       "<style scoped>\n",
       "    .dataframe tbody tr th:only-of-type {\n",
       "        vertical-align: middle;\n",
       "    }\n",
       "\n",
       "    .dataframe tbody tr th {\n",
       "        vertical-align: top;\n",
       "    }\n",
       "\n",
       "    .dataframe thead th {\n",
       "        text-align: right;\n",
       "    }\n",
       "</style>\n",
       "<table border=\"1\" class=\"dataframe\">\n",
       "  <thead>\n",
       "    <tr style=\"text-align: right;\">\n",
       "      <th></th>\n",
       "      <th>children</th>\n",
       "      <th>days_employed</th>\n",
       "      <th>dob_years</th>\n",
       "      <th>education</th>\n",
       "      <th>education_id</th>\n",
       "      <th>family_status</th>\n",
       "      <th>family_status_id</th>\n",
       "      <th>gender</th>\n",
       "      <th>income_type</th>\n",
       "      <th>debt</th>\n",
       "      <th>total_income</th>\n",
       "      <th>purpose</th>\n",
       "    </tr>\n",
       "  </thead>\n",
       "  <tbody>\n",
       "    <tr>\n",
       "      <th>0</th>\n",
       "      <td>1</td>\n",
       "      <td>-8437.673028</td>\n",
       "      <td>42</td>\n",
       "      <td>высшее</td>\n",
       "      <td>0</td>\n",
       "      <td>женат / замужем</td>\n",
       "      <td>0</td>\n",
       "      <td>F</td>\n",
       "      <td>сотрудник</td>\n",
       "      <td>0</td>\n",
       "      <td>253875.639453</td>\n",
       "      <td>покупка жилья</td>\n",
       "    </tr>\n",
       "    <tr>\n",
       "      <th>1</th>\n",
       "      <td>1</td>\n",
       "      <td>-4024.803754</td>\n",
       "      <td>36</td>\n",
       "      <td>среднее</td>\n",
       "      <td>1</td>\n",
       "      <td>женат / замужем</td>\n",
       "      <td>0</td>\n",
       "      <td>F</td>\n",
       "      <td>сотрудник</td>\n",
       "      <td>0</td>\n",
       "      <td>112080.014102</td>\n",
       "      <td>приобретение автомобиля</td>\n",
       "    </tr>\n",
       "    <tr>\n",
       "      <th>2</th>\n",
       "      <td>0</td>\n",
       "      <td>-5623.422610</td>\n",
       "      <td>33</td>\n",
       "      <td>Среднее</td>\n",
       "      <td>1</td>\n",
       "      <td>женат / замужем</td>\n",
       "      <td>0</td>\n",
       "      <td>M</td>\n",
       "      <td>сотрудник</td>\n",
       "      <td>0</td>\n",
       "      <td>145885.952297</td>\n",
       "      <td>покупка жилья</td>\n",
       "    </tr>\n",
       "    <tr>\n",
       "      <th>3</th>\n",
       "      <td>3</td>\n",
       "      <td>-4124.747207</td>\n",
       "      <td>32</td>\n",
       "      <td>среднее</td>\n",
       "      <td>1</td>\n",
       "      <td>женат / замужем</td>\n",
       "      <td>0</td>\n",
       "      <td>M</td>\n",
       "      <td>сотрудник</td>\n",
       "      <td>0</td>\n",
       "      <td>267628.550329</td>\n",
       "      <td>дополнительное образование</td>\n",
       "    </tr>\n",
       "    <tr>\n",
       "      <th>4</th>\n",
       "      <td>0</td>\n",
       "      <td>340266.072047</td>\n",
       "      <td>53</td>\n",
       "      <td>среднее</td>\n",
       "      <td>1</td>\n",
       "      <td>гражданский брак</td>\n",
       "      <td>1</td>\n",
       "      <td>F</td>\n",
       "      <td>пенсионер</td>\n",
       "      <td>0</td>\n",
       "      <td>158616.077870</td>\n",
       "      <td>сыграть свадьбу</td>\n",
       "    </tr>\n",
       "    <tr>\n",
       "      <th>5</th>\n",
       "      <td>0</td>\n",
       "      <td>-926.185831</td>\n",
       "      <td>27</td>\n",
       "      <td>высшее</td>\n",
       "      <td>0</td>\n",
       "      <td>гражданский брак</td>\n",
       "      <td>1</td>\n",
       "      <td>M</td>\n",
       "      <td>компаньон</td>\n",
       "      <td>0</td>\n",
       "      <td>255763.565419</td>\n",
       "      <td>покупка жилья</td>\n",
       "    </tr>\n",
       "    <tr>\n",
       "      <th>6</th>\n",
       "      <td>0</td>\n",
       "      <td>-2879.202052</td>\n",
       "      <td>43</td>\n",
       "      <td>высшее</td>\n",
       "      <td>0</td>\n",
       "      <td>женат / замужем</td>\n",
       "      <td>0</td>\n",
       "      <td>F</td>\n",
       "      <td>компаньон</td>\n",
       "      <td>0</td>\n",
       "      <td>240525.971920</td>\n",
       "      <td>операции с жильем</td>\n",
       "    </tr>\n",
       "    <tr>\n",
       "      <th>7</th>\n",
       "      <td>0</td>\n",
       "      <td>-152.779569</td>\n",
       "      <td>50</td>\n",
       "      <td>СРЕДНЕЕ</td>\n",
       "      <td>1</td>\n",
       "      <td>женат / замужем</td>\n",
       "      <td>0</td>\n",
       "      <td>M</td>\n",
       "      <td>сотрудник</td>\n",
       "      <td>0</td>\n",
       "      <td>135823.934197</td>\n",
       "      <td>образование</td>\n",
       "    </tr>\n",
       "    <tr>\n",
       "      <th>8</th>\n",
       "      <td>2</td>\n",
       "      <td>-6929.865299</td>\n",
       "      <td>35</td>\n",
       "      <td>ВЫСШЕЕ</td>\n",
       "      <td>0</td>\n",
       "      <td>гражданский брак</td>\n",
       "      <td>1</td>\n",
       "      <td>F</td>\n",
       "      <td>сотрудник</td>\n",
       "      <td>0</td>\n",
       "      <td>95856.832424</td>\n",
       "      <td>на проведение свадьбы</td>\n",
       "    </tr>\n",
       "    <tr>\n",
       "      <th>9</th>\n",
       "      <td>0</td>\n",
       "      <td>-2188.756445</td>\n",
       "      <td>41</td>\n",
       "      <td>среднее</td>\n",
       "      <td>1</td>\n",
       "      <td>женат / замужем</td>\n",
       "      <td>0</td>\n",
       "      <td>M</td>\n",
       "      <td>сотрудник</td>\n",
       "      <td>0</td>\n",
       "      <td>144425.938277</td>\n",
       "      <td>покупка жилья для семьи</td>\n",
       "    </tr>\n",
       "    <tr>\n",
       "      <th>10</th>\n",
       "      <td>2</td>\n",
       "      <td>-4171.483647</td>\n",
       "      <td>36</td>\n",
       "      <td>высшее</td>\n",
       "      <td>0</td>\n",
       "      <td>женат / замужем</td>\n",
       "      <td>0</td>\n",
       "      <td>M</td>\n",
       "      <td>компаньон</td>\n",
       "      <td>0</td>\n",
       "      <td>113943.491460</td>\n",
       "      <td>покупка недвижимости</td>\n",
       "    </tr>\n",
       "    <tr>\n",
       "      <th>11</th>\n",
       "      <td>0</td>\n",
       "      <td>-792.701887</td>\n",
       "      <td>40</td>\n",
       "      <td>среднее</td>\n",
       "      <td>1</td>\n",
       "      <td>женат / замужем</td>\n",
       "      <td>0</td>\n",
       "      <td>F</td>\n",
       "      <td>сотрудник</td>\n",
       "      <td>0</td>\n",
       "      <td>77069.234271</td>\n",
       "      <td>покупка коммерческой недвижимости</td>\n",
       "    </tr>\n",
       "    <tr>\n",
       "      <th>12</th>\n",
       "      <td>0</td>\n",
       "      <td>NaN</td>\n",
       "      <td>65</td>\n",
       "      <td>среднее</td>\n",
       "      <td>1</td>\n",
       "      <td>гражданский брак</td>\n",
       "      <td>1</td>\n",
       "      <td>M</td>\n",
       "      <td>пенсионер</td>\n",
       "      <td>0</td>\n",
       "      <td>NaN</td>\n",
       "      <td>сыграть свадьбу</td>\n",
       "    </tr>\n",
       "    <tr>\n",
       "      <th>13</th>\n",
       "      <td>0</td>\n",
       "      <td>-1846.641941</td>\n",
       "      <td>54</td>\n",
       "      <td>неоконченное высшее</td>\n",
       "      <td>2</td>\n",
       "      <td>женат / замужем</td>\n",
       "      <td>0</td>\n",
       "      <td>F</td>\n",
       "      <td>сотрудник</td>\n",
       "      <td>0</td>\n",
       "      <td>130458.228857</td>\n",
       "      <td>приобретение автомобиля</td>\n",
       "    </tr>\n",
       "    <tr>\n",
       "      <th>14</th>\n",
       "      <td>0</td>\n",
       "      <td>-1844.956182</td>\n",
       "      <td>56</td>\n",
       "      <td>высшее</td>\n",
       "      <td>0</td>\n",
       "      <td>гражданский брак</td>\n",
       "      <td>1</td>\n",
       "      <td>F</td>\n",
       "      <td>компаньон</td>\n",
       "      <td>1</td>\n",
       "      <td>165127.911772</td>\n",
       "      <td>покупка жилой недвижимости</td>\n",
       "    </tr>\n",
       "    <tr>\n",
       "      <th>15</th>\n",
       "      <td>1</td>\n",
       "      <td>-972.364419</td>\n",
       "      <td>26</td>\n",
       "      <td>среднее</td>\n",
       "      <td>1</td>\n",
       "      <td>женат / замужем</td>\n",
       "      <td>0</td>\n",
       "      <td>F</td>\n",
       "      <td>сотрудник</td>\n",
       "      <td>0</td>\n",
       "      <td>116820.904450</td>\n",
       "      <td>строительство собственной недвижимости</td>\n",
       "    </tr>\n",
       "    <tr>\n",
       "      <th>16</th>\n",
       "      <td>0</td>\n",
       "      <td>-1719.934226</td>\n",
       "      <td>35</td>\n",
       "      <td>среднее</td>\n",
       "      <td>1</td>\n",
       "      <td>женат / замужем</td>\n",
       "      <td>0</td>\n",
       "      <td>F</td>\n",
       "      <td>сотрудник</td>\n",
       "      <td>0</td>\n",
       "      <td>289202.704229</td>\n",
       "      <td>недвижимость</td>\n",
       "    </tr>\n",
       "    <tr>\n",
       "      <th>17</th>\n",
       "      <td>0</td>\n",
       "      <td>-2369.999720</td>\n",
       "      <td>33</td>\n",
       "      <td>высшее</td>\n",
       "      <td>0</td>\n",
       "      <td>гражданский брак</td>\n",
       "      <td>1</td>\n",
       "      <td>M</td>\n",
       "      <td>сотрудник</td>\n",
       "      <td>0</td>\n",
       "      <td>90410.586745</td>\n",
       "      <td>строительство недвижимости</td>\n",
       "    </tr>\n",
       "    <tr>\n",
       "      <th>18</th>\n",
       "      <td>0</td>\n",
       "      <td>400281.136913</td>\n",
       "      <td>53</td>\n",
       "      <td>среднее</td>\n",
       "      <td>1</td>\n",
       "      <td>вдовец / вдова</td>\n",
       "      <td>2</td>\n",
       "      <td>F</td>\n",
       "      <td>пенсионер</td>\n",
       "      <td>0</td>\n",
       "      <td>56823.777243</td>\n",
       "      <td>на покупку подержанного автомобиля</td>\n",
       "    </tr>\n",
       "    <tr>\n",
       "      <th>19</th>\n",
       "      <td>0</td>\n",
       "      <td>-10038.818549</td>\n",
       "      <td>48</td>\n",
       "      <td>СРЕДНЕЕ</td>\n",
       "      <td>1</td>\n",
       "      <td>в разводе</td>\n",
       "      <td>3</td>\n",
       "      <td>F</td>\n",
       "      <td>сотрудник</td>\n",
       "      <td>0</td>\n",
       "      <td>242831.107982</td>\n",
       "      <td>на покупку своего автомобиля</td>\n",
       "    </tr>\n",
       "  </tbody>\n",
       "</table>\n",
       "</div>"
      ],
      "text/plain": [
       "    children  days_employed  dob_years            education  education_id  \\\n",
       "0          1   -8437.673028         42               высшее             0   \n",
       "1          1   -4024.803754         36              среднее             1   \n",
       "2          0   -5623.422610         33              Среднее             1   \n",
       "3          3   -4124.747207         32              среднее             1   \n",
       "4          0  340266.072047         53              среднее             1   \n",
       "5          0    -926.185831         27               высшее             0   \n",
       "6          0   -2879.202052         43               высшее             0   \n",
       "7          0    -152.779569         50              СРЕДНЕЕ             1   \n",
       "8          2   -6929.865299         35               ВЫСШЕЕ             0   \n",
       "9          0   -2188.756445         41              среднее             1   \n",
       "10         2   -4171.483647         36               высшее             0   \n",
       "11         0    -792.701887         40              среднее             1   \n",
       "12         0            NaN         65              среднее             1   \n",
       "13         0   -1846.641941         54  неоконченное высшее             2   \n",
       "14         0   -1844.956182         56               высшее             0   \n",
       "15         1    -972.364419         26              среднее             1   \n",
       "16         0   -1719.934226         35              среднее             1   \n",
       "17         0   -2369.999720         33               высшее             0   \n",
       "18         0  400281.136913         53              среднее             1   \n",
       "19         0  -10038.818549         48              СРЕДНЕЕ             1   \n",
       "\n",
       "       family_status  family_status_id gender income_type  debt  \\\n",
       "0    женат / замужем                 0      F   сотрудник     0   \n",
       "1    женат / замужем                 0      F   сотрудник     0   \n",
       "2    женат / замужем                 0      M   сотрудник     0   \n",
       "3    женат / замужем                 0      M   сотрудник     0   \n",
       "4   гражданский брак                 1      F   пенсионер     0   \n",
       "5   гражданский брак                 1      M   компаньон     0   \n",
       "6    женат / замужем                 0      F   компаньон     0   \n",
       "7    женат / замужем                 0      M   сотрудник     0   \n",
       "8   гражданский брак                 1      F   сотрудник     0   \n",
       "9    женат / замужем                 0      M   сотрудник     0   \n",
       "10   женат / замужем                 0      M   компаньон     0   \n",
       "11   женат / замужем                 0      F   сотрудник     0   \n",
       "12  гражданский брак                 1      M   пенсионер     0   \n",
       "13   женат / замужем                 0      F   сотрудник     0   \n",
       "14  гражданский брак                 1      F   компаньон     1   \n",
       "15   женат / замужем                 0      F   сотрудник     0   \n",
       "16   женат / замужем                 0      F   сотрудник     0   \n",
       "17  гражданский брак                 1      M   сотрудник     0   \n",
       "18    вдовец / вдова                 2      F   пенсионер     0   \n",
       "19         в разводе                 3      F   сотрудник     0   \n",
       "\n",
       "     total_income                                 purpose  \n",
       "0   253875.639453                           покупка жилья  \n",
       "1   112080.014102                 приобретение автомобиля  \n",
       "2   145885.952297                           покупка жилья  \n",
       "3   267628.550329              дополнительное образование  \n",
       "4   158616.077870                         сыграть свадьбу  \n",
       "5   255763.565419                           покупка жилья  \n",
       "6   240525.971920                       операции с жильем  \n",
       "7   135823.934197                             образование  \n",
       "8    95856.832424                   на проведение свадьбы  \n",
       "9   144425.938277                 покупка жилья для семьи  \n",
       "10  113943.491460                    покупка недвижимости  \n",
       "11   77069.234271       покупка коммерческой недвижимости  \n",
       "12            NaN                         сыграть свадьбу  \n",
       "13  130458.228857                 приобретение автомобиля  \n",
       "14  165127.911772              покупка жилой недвижимости  \n",
       "15  116820.904450  строительство собственной недвижимости  \n",
       "16  289202.704229                            недвижимость  \n",
       "17   90410.586745              строительство недвижимости  \n",
       "18   56823.777243      на покупку подержанного автомобиля  \n",
       "19  242831.107982            на покупку своего автомобиля  "
      ]
     },
     "metadata": {},
     "output_type": "display_data"
    }
   ],
   "source": [
    "# ваш код здесь\n",
    "display(data.head(20))"
   ]
  },
  {
   "cell_type": "markdown",
   "id": "c8f382ae",
   "metadata": {
    "deletable": false,
    "editable": false,
    "id": "c8f382ae",
    "tags": [
     "start_task"
    ]
   },
   "source": [
    "**Задание 3. Выведите основную информацию о датафрейме с помощью метода `info()`.**"
   ]
  },
  {
   "cell_type": "code",
   "execution_count": 4,
   "id": "e1ed9908",
   "metadata": {
    "id": "e1ed9908"
   },
   "outputs": [
    {
     "name": "stdout",
     "output_type": "stream",
     "text": [
      "<class 'pandas.core.frame.DataFrame'>\n",
      "RangeIndex: 21525 entries, 0 to 21524\n",
      "Data columns (total 12 columns):\n",
      " #   Column            Non-Null Count  Dtype  \n",
      "---  ------            --------------  -----  \n",
      " 0   children          21525 non-null  int64  \n",
      " 1   days_employed     19351 non-null  float64\n",
      " 2   dob_years         21525 non-null  int64  \n",
      " 3   education         21525 non-null  object \n",
      " 4   education_id      21525 non-null  int64  \n",
      " 5   family_status     21525 non-null  object \n",
      " 6   family_status_id  21525 non-null  int64  \n",
      " 7   gender            21525 non-null  object \n",
      " 8   income_type       21525 non-null  object \n",
      " 9   debt              21525 non-null  int64  \n",
      " 10  total_income      19351 non-null  float64\n",
      " 11  purpose           21525 non-null  object \n",
      "dtypes: float64(2), int64(5), object(5)\n",
      "memory usage: 2.0+ MB\n",
      "None\n"
     ]
    }
   ],
   "source": [
    "# ваш код здесь\n",
    "print(data.info())"
   ]
  },
  {
   "cell_type": "markdown",
   "id": "f969a1cd",
   "metadata": {
    "deletable": false,
    "editable": false,
    "id": "f969a1cd"
   },
   "source": [
    "## Предобработка данных"
   ]
  },
  {
   "cell_type": "markdown",
   "id": "7283e864",
   "metadata": {
    "deletable": false,
    "editable": false,
    "id": "7283e864"
   },
   "source": [
    "### Удаление пропусков"
   ]
  },
  {
   "cell_type": "markdown",
   "id": "c9a0745e",
   "metadata": {
    "deletable": false,
    "editable": false,
    "id": "c9a0745e",
    "tags": [
     "start_task"
    ]
   },
   "source": [
    "**Задание 4. Выведите количество пропущенных значений для каждого столбца. Используйте комбинацию двух методов.**"
   ]
  },
  {
   "cell_type": "code",
   "execution_count": 5,
   "id": "b7a096e1",
   "metadata": {
    "id": "b7a096e1"
   },
   "outputs": [
    {
     "name": "stdout",
     "output_type": "stream",
     "text": [
      "children               0\n",
      "days_employed       2174\n",
      "dob_years              0\n",
      "education              0\n",
      "education_id           0\n",
      "family_status          0\n",
      "family_status_id       0\n",
      "gender                 0\n",
      "income_type            0\n",
      "debt                   0\n",
      "total_income        2174\n",
      "purpose                0\n",
      "dtype: int64\n"
     ]
    }
   ],
   "source": [
    "# ваш код здесь\n",
    "print(data.isna().sum())"
   ]
  },
  {
   "cell_type": "markdown",
   "id": "c2578616",
   "metadata": {
    "deletable": false,
    "editable": false,
    "id": "c2578616",
    "tags": [
     "start_task"
    ]
   },
   "source": [
    "**Задание 5. В двух столбцах есть пропущенные значения. Один из них — `days_employed`. Пропуски в этом столбце вы обработаете на следующем этапе. Другой столбец с пропущенными значениями — `total_income` — хранит данные о доходах. На сумму дохода сильнее всего влияет тип занятости, поэтому заполнить пропуски в этом столбце нужно медианным значением по каждому типу из столбца `income_type`. Например, у человека с типом занятости `сотрудник` пропуск в столбце `total_income` должен быть заполнен медианным доходом среди всех записей с тем же типом.**"
   ]
  },
  {
   "cell_type": "code",
   "execution_count": 6,
   "id": "e8afc4bc",
   "metadata": {
    "id": "e8afc4bc"
   },
   "outputs": [
    {
     "name": "stdout",
     "output_type": "stream",
     "text": [
      "None\n"
     ]
    },
    {
     "data": {
      "text/html": [
       "<div>\n",
       "<style scoped>\n",
       "    .dataframe tbody tr th:only-of-type {\n",
       "        vertical-align: middle;\n",
       "    }\n",
       "\n",
       "    .dataframe tbody tr th {\n",
       "        vertical-align: top;\n",
       "    }\n",
       "\n",
       "    .dataframe thead th {\n",
       "        text-align: right;\n",
       "    }\n",
       "</style>\n",
       "<table border=\"1\" class=\"dataframe\">\n",
       "  <thead>\n",
       "    <tr style=\"text-align: right;\">\n",
       "      <th></th>\n",
       "      <th>children</th>\n",
       "      <th>days_employed</th>\n",
       "      <th>dob_years</th>\n",
       "      <th>education</th>\n",
       "      <th>education_id</th>\n",
       "      <th>family_status</th>\n",
       "      <th>family_status_id</th>\n",
       "      <th>gender</th>\n",
       "      <th>income_type</th>\n",
       "      <th>debt</th>\n",
       "      <th>total_income</th>\n",
       "      <th>purpose</th>\n",
       "    </tr>\n",
       "  </thead>\n",
       "  <tbody>\n",
       "    <tr>\n",
       "      <th>0</th>\n",
       "      <td>1</td>\n",
       "      <td>-8437.673028</td>\n",
       "      <td>42</td>\n",
       "      <td>высшее</td>\n",
       "      <td>0</td>\n",
       "      <td>женат / замужем</td>\n",
       "      <td>0</td>\n",
       "      <td>F</td>\n",
       "      <td>сотрудник</td>\n",
       "      <td>0</td>\n",
       "      <td>253875.639453</td>\n",
       "      <td>покупка жилья</td>\n",
       "    </tr>\n",
       "    <tr>\n",
       "      <th>1</th>\n",
       "      <td>1</td>\n",
       "      <td>-4024.803754</td>\n",
       "      <td>36</td>\n",
       "      <td>среднее</td>\n",
       "      <td>1</td>\n",
       "      <td>женат / замужем</td>\n",
       "      <td>0</td>\n",
       "      <td>F</td>\n",
       "      <td>сотрудник</td>\n",
       "      <td>0</td>\n",
       "      <td>112080.014102</td>\n",
       "      <td>приобретение автомобиля</td>\n",
       "    </tr>\n",
       "    <tr>\n",
       "      <th>2</th>\n",
       "      <td>0</td>\n",
       "      <td>-5623.422610</td>\n",
       "      <td>33</td>\n",
       "      <td>Среднее</td>\n",
       "      <td>1</td>\n",
       "      <td>женат / замужем</td>\n",
       "      <td>0</td>\n",
       "      <td>M</td>\n",
       "      <td>сотрудник</td>\n",
       "      <td>0</td>\n",
       "      <td>145885.952297</td>\n",
       "      <td>покупка жилья</td>\n",
       "    </tr>\n",
       "    <tr>\n",
       "      <th>3</th>\n",
       "      <td>3</td>\n",
       "      <td>-4124.747207</td>\n",
       "      <td>32</td>\n",
       "      <td>среднее</td>\n",
       "      <td>1</td>\n",
       "      <td>женат / замужем</td>\n",
       "      <td>0</td>\n",
       "      <td>M</td>\n",
       "      <td>сотрудник</td>\n",
       "      <td>0</td>\n",
       "      <td>267628.550329</td>\n",
       "      <td>дополнительное образование</td>\n",
       "    </tr>\n",
       "    <tr>\n",
       "      <th>4</th>\n",
       "      <td>0</td>\n",
       "      <td>340266.072047</td>\n",
       "      <td>53</td>\n",
       "      <td>среднее</td>\n",
       "      <td>1</td>\n",
       "      <td>гражданский брак</td>\n",
       "      <td>1</td>\n",
       "      <td>F</td>\n",
       "      <td>пенсионер</td>\n",
       "      <td>0</td>\n",
       "      <td>158616.077870</td>\n",
       "      <td>сыграть свадьбу</td>\n",
       "    </tr>\n",
       "    <tr>\n",
       "      <th>5</th>\n",
       "      <td>0</td>\n",
       "      <td>-926.185831</td>\n",
       "      <td>27</td>\n",
       "      <td>высшее</td>\n",
       "      <td>0</td>\n",
       "      <td>гражданский брак</td>\n",
       "      <td>1</td>\n",
       "      <td>M</td>\n",
       "      <td>компаньон</td>\n",
       "      <td>0</td>\n",
       "      <td>255763.565419</td>\n",
       "      <td>покупка жилья</td>\n",
       "    </tr>\n",
       "    <tr>\n",
       "      <th>6</th>\n",
       "      <td>0</td>\n",
       "      <td>-2879.202052</td>\n",
       "      <td>43</td>\n",
       "      <td>высшее</td>\n",
       "      <td>0</td>\n",
       "      <td>женат / замужем</td>\n",
       "      <td>0</td>\n",
       "      <td>F</td>\n",
       "      <td>компаньон</td>\n",
       "      <td>0</td>\n",
       "      <td>240525.971920</td>\n",
       "      <td>операции с жильем</td>\n",
       "    </tr>\n",
       "    <tr>\n",
       "      <th>7</th>\n",
       "      <td>0</td>\n",
       "      <td>-152.779569</td>\n",
       "      <td>50</td>\n",
       "      <td>СРЕДНЕЕ</td>\n",
       "      <td>1</td>\n",
       "      <td>женат / замужем</td>\n",
       "      <td>0</td>\n",
       "      <td>M</td>\n",
       "      <td>сотрудник</td>\n",
       "      <td>0</td>\n",
       "      <td>135823.934197</td>\n",
       "      <td>образование</td>\n",
       "    </tr>\n",
       "    <tr>\n",
       "      <th>8</th>\n",
       "      <td>2</td>\n",
       "      <td>-6929.865299</td>\n",
       "      <td>35</td>\n",
       "      <td>ВЫСШЕЕ</td>\n",
       "      <td>0</td>\n",
       "      <td>гражданский брак</td>\n",
       "      <td>1</td>\n",
       "      <td>F</td>\n",
       "      <td>сотрудник</td>\n",
       "      <td>0</td>\n",
       "      <td>95856.832424</td>\n",
       "      <td>на проведение свадьбы</td>\n",
       "    </tr>\n",
       "    <tr>\n",
       "      <th>9</th>\n",
       "      <td>0</td>\n",
       "      <td>-2188.756445</td>\n",
       "      <td>41</td>\n",
       "      <td>среднее</td>\n",
       "      <td>1</td>\n",
       "      <td>женат / замужем</td>\n",
       "      <td>0</td>\n",
       "      <td>M</td>\n",
       "      <td>сотрудник</td>\n",
       "      <td>0</td>\n",
       "      <td>144425.938277</td>\n",
       "      <td>покупка жилья для семьи</td>\n",
       "    </tr>\n",
       "  </tbody>\n",
       "</table>\n",
       "</div>"
      ],
      "text/plain": [
       "   children  days_employed  dob_years education  education_id  \\\n",
       "0         1   -8437.673028         42    высшее             0   \n",
       "1         1   -4024.803754         36   среднее             1   \n",
       "2         0   -5623.422610         33   Среднее             1   \n",
       "3         3   -4124.747207         32   среднее             1   \n",
       "4         0  340266.072047         53   среднее             1   \n",
       "5         0    -926.185831         27    высшее             0   \n",
       "6         0   -2879.202052         43    высшее             0   \n",
       "7         0    -152.779569         50   СРЕДНЕЕ             1   \n",
       "8         2   -6929.865299         35    ВЫСШЕЕ             0   \n",
       "9         0   -2188.756445         41   среднее             1   \n",
       "\n",
       "      family_status  family_status_id gender income_type  debt   total_income  \\\n",
       "0   женат / замужем                 0      F   сотрудник     0  253875.639453   \n",
       "1   женат / замужем                 0      F   сотрудник     0  112080.014102   \n",
       "2   женат / замужем                 0      M   сотрудник     0  145885.952297   \n",
       "3   женат / замужем                 0      M   сотрудник     0  267628.550329   \n",
       "4  гражданский брак                 1      F   пенсионер     0  158616.077870   \n",
       "5  гражданский брак                 1      M   компаньон     0  255763.565419   \n",
       "6   женат / замужем                 0      F   компаньон     0  240525.971920   \n",
       "7   женат / замужем                 0      M   сотрудник     0  135823.934197   \n",
       "8  гражданский брак                 1      F   сотрудник     0   95856.832424   \n",
       "9   женат / замужем                 0      M   сотрудник     0  144425.938277   \n",
       "\n",
       "                      purpose  \n",
       "0               покупка жилья  \n",
       "1     приобретение автомобиля  \n",
       "2               покупка жилья  \n",
       "3  дополнительное образование  \n",
       "4             сыграть свадьбу  \n",
       "5               покупка жилья  \n",
       "6           операции с жильем  \n",
       "7                 образование  \n",
       "8       на проведение свадьбы  \n",
       "9     покупка жилья для семьи  "
      ]
     },
     "execution_count": 6,
     "metadata": {},
     "output_type": "execute_result"
    }
   ],
   "source": [
    "# ваш код здесь\n",
    "median_income = data.groupby('income_type')['total_income'].transform('median')\n",
    "print(data['total_income'].fillna(median_income, inplace=True)) \n",
    "data.head(10)"
   ]
  },
  {
   "cell_type": "markdown",
   "id": "ae986d46",
   "metadata": {
    "deletable": false,
    "editable": false,
    "id": "ae986d46"
   },
   "source": [
    "### Обработка аномальных значений"
   ]
  },
  {
   "cell_type": "markdown",
   "id": "b049cbae",
   "metadata": {
    "deletable": false,
    "editable": false,
    "id": "b049cbae",
    "tags": [
     "start_task"
    ]
   },
   "source": [
    "**Задание 6. В данных могут встречаться артефакты (аномалии) — значения, которые не отражают действительность и появились по какой-то ошибке. Таким артефактом будет отрицательное количество дней трудового стажа в столбце `days_employed`. Для реальных данных это нормально. Обработайте значения в этом столбце: замените все отрицательные значения положительными с помощью метода `abs()`.**"
   ]
  },
  {
   "cell_type": "code",
   "execution_count": 7,
   "id": "187779b0",
   "metadata": {
    "id": "187779b0"
   },
   "outputs": [
    {
     "data": {
      "text/html": [
       "<div>\n",
       "<style scoped>\n",
       "    .dataframe tbody tr th:only-of-type {\n",
       "        vertical-align: middle;\n",
       "    }\n",
       "\n",
       "    .dataframe tbody tr th {\n",
       "        vertical-align: top;\n",
       "    }\n",
       "\n",
       "    .dataframe thead th {\n",
       "        text-align: right;\n",
       "    }\n",
       "</style>\n",
       "<table border=\"1\" class=\"dataframe\">\n",
       "  <thead>\n",
       "    <tr style=\"text-align: right;\">\n",
       "      <th></th>\n",
       "      <th>children</th>\n",
       "      <th>days_employed</th>\n",
       "      <th>dob_years</th>\n",
       "      <th>education</th>\n",
       "      <th>education_id</th>\n",
       "      <th>family_status</th>\n",
       "      <th>family_status_id</th>\n",
       "      <th>gender</th>\n",
       "      <th>income_type</th>\n",
       "      <th>debt</th>\n",
       "      <th>total_income</th>\n",
       "      <th>purpose</th>\n",
       "    </tr>\n",
       "  </thead>\n",
       "  <tbody>\n",
       "    <tr>\n",
       "      <th>0</th>\n",
       "      <td>1</td>\n",
       "      <td>8437.673028</td>\n",
       "      <td>42</td>\n",
       "      <td>высшее</td>\n",
       "      <td>0</td>\n",
       "      <td>женат / замужем</td>\n",
       "      <td>0</td>\n",
       "      <td>F</td>\n",
       "      <td>сотрудник</td>\n",
       "      <td>0</td>\n",
       "      <td>253875.639453</td>\n",
       "      <td>покупка жилья</td>\n",
       "    </tr>\n",
       "    <tr>\n",
       "      <th>1</th>\n",
       "      <td>1</td>\n",
       "      <td>4024.803754</td>\n",
       "      <td>36</td>\n",
       "      <td>среднее</td>\n",
       "      <td>1</td>\n",
       "      <td>женат / замужем</td>\n",
       "      <td>0</td>\n",
       "      <td>F</td>\n",
       "      <td>сотрудник</td>\n",
       "      <td>0</td>\n",
       "      <td>112080.014102</td>\n",
       "      <td>приобретение автомобиля</td>\n",
       "    </tr>\n",
       "    <tr>\n",
       "      <th>2</th>\n",
       "      <td>0</td>\n",
       "      <td>5623.422610</td>\n",
       "      <td>33</td>\n",
       "      <td>Среднее</td>\n",
       "      <td>1</td>\n",
       "      <td>женат / замужем</td>\n",
       "      <td>0</td>\n",
       "      <td>M</td>\n",
       "      <td>сотрудник</td>\n",
       "      <td>0</td>\n",
       "      <td>145885.952297</td>\n",
       "      <td>покупка жилья</td>\n",
       "    </tr>\n",
       "    <tr>\n",
       "      <th>3</th>\n",
       "      <td>3</td>\n",
       "      <td>4124.747207</td>\n",
       "      <td>32</td>\n",
       "      <td>среднее</td>\n",
       "      <td>1</td>\n",
       "      <td>женат / замужем</td>\n",
       "      <td>0</td>\n",
       "      <td>M</td>\n",
       "      <td>сотрудник</td>\n",
       "      <td>0</td>\n",
       "      <td>267628.550329</td>\n",
       "      <td>дополнительное образование</td>\n",
       "    </tr>\n",
       "    <tr>\n",
       "      <th>4</th>\n",
       "      <td>0</td>\n",
       "      <td>340266.072047</td>\n",
       "      <td>53</td>\n",
       "      <td>среднее</td>\n",
       "      <td>1</td>\n",
       "      <td>гражданский брак</td>\n",
       "      <td>1</td>\n",
       "      <td>F</td>\n",
       "      <td>пенсионер</td>\n",
       "      <td>0</td>\n",
       "      <td>158616.077870</td>\n",
       "      <td>сыграть свадьбу</td>\n",
       "    </tr>\n",
       "    <tr>\n",
       "      <th>5</th>\n",
       "      <td>0</td>\n",
       "      <td>926.185831</td>\n",
       "      <td>27</td>\n",
       "      <td>высшее</td>\n",
       "      <td>0</td>\n",
       "      <td>гражданский брак</td>\n",
       "      <td>1</td>\n",
       "      <td>M</td>\n",
       "      <td>компаньон</td>\n",
       "      <td>0</td>\n",
       "      <td>255763.565419</td>\n",
       "      <td>покупка жилья</td>\n",
       "    </tr>\n",
       "    <tr>\n",
       "      <th>6</th>\n",
       "      <td>0</td>\n",
       "      <td>2879.202052</td>\n",
       "      <td>43</td>\n",
       "      <td>высшее</td>\n",
       "      <td>0</td>\n",
       "      <td>женат / замужем</td>\n",
       "      <td>0</td>\n",
       "      <td>F</td>\n",
       "      <td>компаньон</td>\n",
       "      <td>0</td>\n",
       "      <td>240525.971920</td>\n",
       "      <td>операции с жильем</td>\n",
       "    </tr>\n",
       "    <tr>\n",
       "      <th>7</th>\n",
       "      <td>0</td>\n",
       "      <td>152.779569</td>\n",
       "      <td>50</td>\n",
       "      <td>СРЕДНЕЕ</td>\n",
       "      <td>1</td>\n",
       "      <td>женат / замужем</td>\n",
       "      <td>0</td>\n",
       "      <td>M</td>\n",
       "      <td>сотрудник</td>\n",
       "      <td>0</td>\n",
       "      <td>135823.934197</td>\n",
       "      <td>образование</td>\n",
       "    </tr>\n",
       "    <tr>\n",
       "      <th>8</th>\n",
       "      <td>2</td>\n",
       "      <td>6929.865299</td>\n",
       "      <td>35</td>\n",
       "      <td>ВЫСШЕЕ</td>\n",
       "      <td>0</td>\n",
       "      <td>гражданский брак</td>\n",
       "      <td>1</td>\n",
       "      <td>F</td>\n",
       "      <td>сотрудник</td>\n",
       "      <td>0</td>\n",
       "      <td>95856.832424</td>\n",
       "      <td>на проведение свадьбы</td>\n",
       "    </tr>\n",
       "    <tr>\n",
       "      <th>9</th>\n",
       "      <td>0</td>\n",
       "      <td>2188.756445</td>\n",
       "      <td>41</td>\n",
       "      <td>среднее</td>\n",
       "      <td>1</td>\n",
       "      <td>женат / замужем</td>\n",
       "      <td>0</td>\n",
       "      <td>M</td>\n",
       "      <td>сотрудник</td>\n",
       "      <td>0</td>\n",
       "      <td>144425.938277</td>\n",
       "      <td>покупка жилья для семьи</td>\n",
       "    </tr>\n",
       "    <tr>\n",
       "      <th>10</th>\n",
       "      <td>2</td>\n",
       "      <td>4171.483647</td>\n",
       "      <td>36</td>\n",
       "      <td>высшее</td>\n",
       "      <td>0</td>\n",
       "      <td>женат / замужем</td>\n",
       "      <td>0</td>\n",
       "      <td>M</td>\n",
       "      <td>компаньон</td>\n",
       "      <td>0</td>\n",
       "      <td>113943.491460</td>\n",
       "      <td>покупка недвижимости</td>\n",
       "    </tr>\n",
       "    <tr>\n",
       "      <th>11</th>\n",
       "      <td>0</td>\n",
       "      <td>792.701887</td>\n",
       "      <td>40</td>\n",
       "      <td>среднее</td>\n",
       "      <td>1</td>\n",
       "      <td>женат / замужем</td>\n",
       "      <td>0</td>\n",
       "      <td>F</td>\n",
       "      <td>сотрудник</td>\n",
       "      <td>0</td>\n",
       "      <td>77069.234271</td>\n",
       "      <td>покупка коммерческой недвижимости</td>\n",
       "    </tr>\n",
       "    <tr>\n",
       "      <th>12</th>\n",
       "      <td>0</td>\n",
       "      <td>NaN</td>\n",
       "      <td>65</td>\n",
       "      <td>среднее</td>\n",
       "      <td>1</td>\n",
       "      <td>гражданский брак</td>\n",
       "      <td>1</td>\n",
       "      <td>M</td>\n",
       "      <td>пенсионер</td>\n",
       "      <td>0</td>\n",
       "      <td>118514.486412</td>\n",
       "      <td>сыграть свадьбу</td>\n",
       "    </tr>\n",
       "    <tr>\n",
       "      <th>13</th>\n",
       "      <td>0</td>\n",
       "      <td>1846.641941</td>\n",
       "      <td>54</td>\n",
       "      <td>неоконченное высшее</td>\n",
       "      <td>2</td>\n",
       "      <td>женат / замужем</td>\n",
       "      <td>0</td>\n",
       "      <td>F</td>\n",
       "      <td>сотрудник</td>\n",
       "      <td>0</td>\n",
       "      <td>130458.228857</td>\n",
       "      <td>приобретение автомобиля</td>\n",
       "    </tr>\n",
       "    <tr>\n",
       "      <th>14</th>\n",
       "      <td>0</td>\n",
       "      <td>1844.956182</td>\n",
       "      <td>56</td>\n",
       "      <td>высшее</td>\n",
       "      <td>0</td>\n",
       "      <td>гражданский брак</td>\n",
       "      <td>1</td>\n",
       "      <td>F</td>\n",
       "      <td>компаньон</td>\n",
       "      <td>1</td>\n",
       "      <td>165127.911772</td>\n",
       "      <td>покупка жилой недвижимости</td>\n",
       "    </tr>\n",
       "    <tr>\n",
       "      <th>15</th>\n",
       "      <td>1</td>\n",
       "      <td>972.364419</td>\n",
       "      <td>26</td>\n",
       "      <td>среднее</td>\n",
       "      <td>1</td>\n",
       "      <td>женат / замужем</td>\n",
       "      <td>0</td>\n",
       "      <td>F</td>\n",
       "      <td>сотрудник</td>\n",
       "      <td>0</td>\n",
       "      <td>116820.904450</td>\n",
       "      <td>строительство собственной недвижимости</td>\n",
       "    </tr>\n",
       "    <tr>\n",
       "      <th>16</th>\n",
       "      <td>0</td>\n",
       "      <td>1719.934226</td>\n",
       "      <td>35</td>\n",
       "      <td>среднее</td>\n",
       "      <td>1</td>\n",
       "      <td>женат / замужем</td>\n",
       "      <td>0</td>\n",
       "      <td>F</td>\n",
       "      <td>сотрудник</td>\n",
       "      <td>0</td>\n",
       "      <td>289202.704229</td>\n",
       "      <td>недвижимость</td>\n",
       "    </tr>\n",
       "    <tr>\n",
       "      <th>17</th>\n",
       "      <td>0</td>\n",
       "      <td>2369.999720</td>\n",
       "      <td>33</td>\n",
       "      <td>высшее</td>\n",
       "      <td>0</td>\n",
       "      <td>гражданский брак</td>\n",
       "      <td>1</td>\n",
       "      <td>M</td>\n",
       "      <td>сотрудник</td>\n",
       "      <td>0</td>\n",
       "      <td>90410.586745</td>\n",
       "      <td>строительство недвижимости</td>\n",
       "    </tr>\n",
       "    <tr>\n",
       "      <th>18</th>\n",
       "      <td>0</td>\n",
       "      <td>400281.136913</td>\n",
       "      <td>53</td>\n",
       "      <td>среднее</td>\n",
       "      <td>1</td>\n",
       "      <td>вдовец / вдова</td>\n",
       "      <td>2</td>\n",
       "      <td>F</td>\n",
       "      <td>пенсионер</td>\n",
       "      <td>0</td>\n",
       "      <td>56823.777243</td>\n",
       "      <td>на покупку подержанного автомобиля</td>\n",
       "    </tr>\n",
       "    <tr>\n",
       "      <th>19</th>\n",
       "      <td>0</td>\n",
       "      <td>10038.818549</td>\n",
       "      <td>48</td>\n",
       "      <td>СРЕДНЕЕ</td>\n",
       "      <td>1</td>\n",
       "      <td>в разводе</td>\n",
       "      <td>3</td>\n",
       "      <td>F</td>\n",
       "      <td>сотрудник</td>\n",
       "      <td>0</td>\n",
       "      <td>242831.107982</td>\n",
       "      <td>на покупку своего автомобиля</td>\n",
       "    </tr>\n",
       "  </tbody>\n",
       "</table>\n",
       "</div>"
      ],
      "text/plain": [
       "    children  days_employed  dob_years            education  education_id  \\\n",
       "0          1    8437.673028         42               высшее             0   \n",
       "1          1    4024.803754         36              среднее             1   \n",
       "2          0    5623.422610         33              Среднее             1   \n",
       "3          3    4124.747207         32              среднее             1   \n",
       "4          0  340266.072047         53              среднее             1   \n",
       "5          0     926.185831         27               высшее             0   \n",
       "6          0    2879.202052         43               высшее             0   \n",
       "7          0     152.779569         50              СРЕДНЕЕ             1   \n",
       "8          2    6929.865299         35               ВЫСШЕЕ             0   \n",
       "9          0    2188.756445         41              среднее             1   \n",
       "10         2    4171.483647         36               высшее             0   \n",
       "11         0     792.701887         40              среднее             1   \n",
       "12         0            NaN         65              среднее             1   \n",
       "13         0    1846.641941         54  неоконченное высшее             2   \n",
       "14         0    1844.956182         56               высшее             0   \n",
       "15         1     972.364419         26              среднее             1   \n",
       "16         0    1719.934226         35              среднее             1   \n",
       "17         0    2369.999720         33               высшее             0   \n",
       "18         0  400281.136913         53              среднее             1   \n",
       "19         0   10038.818549         48              СРЕДНЕЕ             1   \n",
       "\n",
       "       family_status  family_status_id gender income_type  debt  \\\n",
       "0    женат / замужем                 0      F   сотрудник     0   \n",
       "1    женат / замужем                 0      F   сотрудник     0   \n",
       "2    женат / замужем                 0      M   сотрудник     0   \n",
       "3    женат / замужем                 0      M   сотрудник     0   \n",
       "4   гражданский брак                 1      F   пенсионер     0   \n",
       "5   гражданский брак                 1      M   компаньон     0   \n",
       "6    женат / замужем                 0      F   компаньон     0   \n",
       "7    женат / замужем                 0      M   сотрудник     0   \n",
       "8   гражданский брак                 1      F   сотрудник     0   \n",
       "9    женат / замужем                 0      M   сотрудник     0   \n",
       "10   женат / замужем                 0      M   компаньон     0   \n",
       "11   женат / замужем                 0      F   сотрудник     0   \n",
       "12  гражданский брак                 1      M   пенсионер     0   \n",
       "13   женат / замужем                 0      F   сотрудник     0   \n",
       "14  гражданский брак                 1      F   компаньон     1   \n",
       "15   женат / замужем                 0      F   сотрудник     0   \n",
       "16   женат / замужем                 0      F   сотрудник     0   \n",
       "17  гражданский брак                 1      M   сотрудник     0   \n",
       "18    вдовец / вдова                 2      F   пенсионер     0   \n",
       "19         в разводе                 3      F   сотрудник     0   \n",
       "\n",
       "     total_income                                 purpose  \n",
       "0   253875.639453                           покупка жилья  \n",
       "1   112080.014102                 приобретение автомобиля  \n",
       "2   145885.952297                           покупка жилья  \n",
       "3   267628.550329              дополнительное образование  \n",
       "4   158616.077870                         сыграть свадьбу  \n",
       "5   255763.565419                           покупка жилья  \n",
       "6   240525.971920                       операции с жильем  \n",
       "7   135823.934197                             образование  \n",
       "8    95856.832424                   на проведение свадьбы  \n",
       "9   144425.938277                 покупка жилья для семьи  \n",
       "10  113943.491460                    покупка недвижимости  \n",
       "11   77069.234271       покупка коммерческой недвижимости  \n",
       "12  118514.486412                         сыграть свадьбу  \n",
       "13  130458.228857                 приобретение автомобиля  \n",
       "14  165127.911772              покупка жилой недвижимости  \n",
       "15  116820.904450  строительство собственной недвижимости  \n",
       "16  289202.704229                            недвижимость  \n",
       "17   90410.586745              строительство недвижимости  \n",
       "18   56823.777243      на покупку подержанного автомобиля  \n",
       "19  242831.107982            на покупку своего автомобиля  "
      ]
     },
     "metadata": {},
     "output_type": "display_data"
    }
   ],
   "source": [
    "# ваш код здесь\n",
    "data.loc[data['days_employed'] <0, 'days_employed'] = abs(data['days_employed'])\n",
    "display(data.head(20))"
   ]
  },
  {
   "cell_type": "markdown",
   "id": "a13054c2",
   "metadata": {
    "deletable": false,
    "editable": false,
    "id": "a13054c2",
    "tags": [
     "start_task"
    ]
   },
   "source": [
    "**Задание 7. Для каждого типа занятости выведите медианное значение трудового стажа `days_employed` в днях.**"
   ]
  },
  {
   "cell_type": "code",
   "execution_count": 8,
   "id": "f3f5810c",
   "metadata": {
    "id": "f3f5810c"
   },
   "outputs": [
    {
     "data": {
      "text/plain": [
       "income_type\n",
       "безработный        366413.652744\n",
       "в декрете            3296.759962\n",
       "госслужащий          2689.368353\n",
       "компаньон            1547.382223\n",
       "пенсионер          365213.306266\n",
       "предприниматель       520.848083\n",
       "сотрудник            1574.202821\n",
       "студент               578.751554\n",
       "Name: days_employed, dtype: float64"
      ]
     },
     "execution_count": 8,
     "metadata": {},
     "output_type": "execute_result"
    }
   ],
   "source": [
    "# ваш код здесь\n",
    "data.groupby('income_type')['days_employed'].median()"
   ]
  },
  {
   "cell_type": "markdown",
   "id": "dbc3168c",
   "metadata": {
    "deletable": false,
    "editable": false,
    "id": "dbc3168c"
   },
   "source": [
    "У двух типов (безработные и пенсионеры) получатся аномально большие значения. Исправить такие значения сложно, поэтому оставьте их как есть."
   ]
  },
  {
   "cell_type": "markdown",
   "id": "ff4378c2",
   "metadata": {
    "deletable": false,
    "editable": false,
    "id": "ff4378c2",
    "tags": [
     "start_task"
    ]
   },
   "source": [
    "**Задание 8. Выведите перечень уникальных значений столбца `children`.**"
   ]
  },
  {
   "cell_type": "code",
   "execution_count": 9,
   "id": "9bd0c232",
   "metadata": {
    "id": "9bd0c232"
   },
   "outputs": [
    {
     "name": "stdout",
     "output_type": "stream",
     "text": [
      "[ 1  0  3  2 -1  4 20  5]\n"
     ]
    }
   ],
   "source": [
    "# ваш код здесь\n",
    "print(data['children'].unique())"
   ]
  },
  {
   "cell_type": "markdown",
   "id": "8e911990",
   "metadata": {
    "deletable": false,
    "editable": false,
    "id": "8e911990",
    "tags": [
     "start_task"
    ]
   },
   "source": [
    "**Задание 9. В столбце `children` есть два аномальных значения. Удалите строки, в которых встречаются такие аномальные значения из датафрейма `data`.**"
   ]
  },
  {
   "cell_type": "code",
   "execution_count": 10,
   "id": "6d5ba289",
   "metadata": {
    "id": "6d5ba289"
   },
   "outputs": [],
   "source": [
    "# ваш код здесь\n",
    "data = data.loc[(data['children'] != -1) & (data['children'] <6)]"
   ]
  },
  {
   "cell_type": "markdown",
   "id": "18d77455",
   "metadata": {
    "deletable": false,
    "editable": false,
    "id": "18d77455",
    "tags": [
     "start_task"
    ]
   },
   "source": [
    "**Задание 10. Ещё раз выведите перечень уникальных значений столбца `children`, чтобы убедиться, что артефакты удалены.**"
   ]
  },
  {
   "cell_type": "code",
   "execution_count": 11,
   "id": "2c5fa92c",
   "metadata": {
    "id": "2c5fa92c"
   },
   "outputs": [
    {
     "name": "stdout",
     "output_type": "stream",
     "text": [
      "[1 0 3 2 4 5]\n"
     ]
    }
   ],
   "source": [
    "# ваш код здесь\n",
    "print(data['children'].unique())"
   ]
  },
  {
   "cell_type": "markdown",
   "id": "0ec07dee",
   "metadata": {
    "deletable": false,
    "editable": false,
    "id": "0ec07dee"
   },
   "source": [
    "### Удаление пропусков (продолжение)"
   ]
  },
  {
   "cell_type": "markdown",
   "id": "0fc3ae3f",
   "metadata": {
    "deletable": false,
    "editable": false,
    "id": "0fc3ae3f",
    "tags": [
     "start_task"
    ]
   },
   "source": [
    "**Задание 11. Заполните пропуски в столбце `days_employed` медианными значениями по каждому типу занятости `income_type`.**"
   ]
  },
  {
   "cell_type": "code",
   "execution_count": 12,
   "id": "e2aea7ac",
   "metadata": {
    "id": "e2aea7ac"
   },
   "outputs": [],
   "source": [
    "# ваш код здесь\n",
    "for t in data['income_type'].unique():\n",
    "    data.loc[(data['income_type'] == t) & (data['days_employed'].isna()), 'days_employed'] = \\\n",
    "    data.loc[(data['income_type'] == t), 'days_employed'].median()"
   ]
  },
  {
   "cell_type": "markdown",
   "id": "97b0b795",
   "metadata": {
    "deletable": false,
    "editable": false,
    "id": "97b0b795",
    "tags": [
     "start_task"
    ]
   },
   "source": [
    "**Задание 12. Убедитесь, что все пропуски заполнены. Проверьте себя и ещё раз выведите количество пропущенных значений для каждого столбца с помощью двух методов.**"
   ]
  },
  {
   "cell_type": "code",
   "execution_count": 13,
   "id": "79632a21",
   "metadata": {
    "id": "79632a21"
   },
   "outputs": [
    {
     "data": {
      "text/plain": [
       "children            0\n",
       "days_employed       0\n",
       "dob_years           0\n",
       "education           0\n",
       "education_id        0\n",
       "family_status       0\n",
       "family_status_id    0\n",
       "gender              0\n",
       "income_type         0\n",
       "debt                0\n",
       "total_income        0\n",
       "purpose             0\n",
       "dtype: int64"
      ]
     },
     "execution_count": 13,
     "metadata": {},
     "output_type": "execute_result"
    }
   ],
   "source": [
    "# ваш код здесь\n",
    "data.isna().sum()"
   ]
  },
  {
   "cell_type": "markdown",
   "id": "bd4aeb20",
   "metadata": {
    "deletable": false,
    "editable": false,
    "id": "bd4aeb20"
   },
   "source": [
    "### Изменение типов данных"
   ]
  },
  {
   "cell_type": "markdown",
   "id": "963bfa58",
   "metadata": {
    "deletable": false,
    "editable": false,
    "id": "963bfa58",
    "tags": [
     "start_task"
    ]
   },
   "source": [
    "**Задание 13. Замените вещественный тип данных в столбце `total_income` на целочисленный с помощью метода `astype()`.**"
   ]
  },
  {
   "cell_type": "code",
   "execution_count": 14,
   "id": "73da6ea0",
   "metadata": {
    "id": "73da6ea0"
   },
   "outputs": [],
   "source": [
    "# ваш код здесь\n",
    "data['total_income'] = data['total_income'].astype('int')"
   ]
  },
  {
   "cell_type": "markdown",
   "id": "d290239e",
   "metadata": {
    "deletable": false,
    "editable": false,
    "id": "d290239e"
   },
   "source": [
    "### Обработка дубликатов"
   ]
  },
  {
   "cell_type": "markdown",
   "id": "1b5844fd",
   "metadata": {
    "deletable": false,
    "editable": false,
    "id": "1b5844fd",
    "tags": [
     "start_task"
    ]
   },
   "source": [
    "**Задание 14. Обработайте неявные дубликаты в столбце `education`. В этом столбце есть одни и те же значения, но записанные по-разному: с использованием заглавных и строчных букв. Приведите их к нижнему регистру.**"
   ]
  },
  {
   "cell_type": "code",
   "execution_count": 23,
   "id": "3f2504b3",
   "metadata": {
    "id": "3f2504b3"
   },
   "outputs": [
    {
     "name": "stdout",
     "output_type": "stream",
     "text": [
      "['высшее' 'среднее' 'Среднее' 'СРЕДНЕЕ' 'ВЫСШЕЕ' 'неоконченное высшее'\n",
      " 'начальное' 'Высшее' 'НЕОКОНЧЕННОЕ ВЫСШЕЕ' 'Неоконченное высшее'\n",
      " 'НАЧАЛЬНОЕ' 'Начальное' 'Ученая степень' 'УЧЕНАЯ СТЕПЕНЬ'\n",
      " 'ученая степень']\n"
     ]
    }
   ],
   "source": [
    "# ваш код здесь\n",
    "data['education'] = data['education'].str.lower()"
   ]
  },
  {
   "cell_type": "markdown",
   "id": "4c22acbc",
   "metadata": {
    "deletable": false,
    "editable": false,
    "id": "4c22acbc",
    "tags": [
     "start_task"
    ]
   },
   "source": [
    "**Задание 15. Выведите на экран количество строк-дубликатов в данных. Если такие строки присутствуют, удалите их.**"
   ]
  },
  {
   "cell_type": "code",
   "execution_count": 24,
   "id": "d34a4325",
   "metadata": {
    "id": "d34a4325"
   },
   "outputs": [
    {
     "data": {
      "text/plain": [
       "54"
      ]
     },
     "execution_count": 24,
     "metadata": {},
     "output_type": "execute_result"
    }
   ],
   "source": [
    "# посчитайте дубликаты\n",
    "data.duplicated().sum()"
   ]
  },
  {
   "cell_type": "code",
   "execution_count": 17,
   "id": "6e1a6499",
   "metadata": {
    "id": "6e1a6499"
   },
   "outputs": [],
   "source": [
    "# удалите дубликаты\n",
    "data = data.drop_duplicates()"
   ]
  },
  {
   "cell_type": "markdown",
   "id": "e5686ccc",
   "metadata": {
    "deletable": false,
    "editable": false,
    "id": "e5686ccc"
   },
   "source": [
    "### Категоризация данных"
   ]
  },
  {
   "cell_type": "markdown",
   "id": "636e9acd",
   "metadata": {
    "deletable": false,
    "editable": false,
    "id": "636e9acd",
    "tags": [
     "start_task"
    ]
   },
   "source": [
    "**Задание 16. На основании диапазонов, указанных ниже, создайте в датафрейме `data` столбец `total_income_category` с категориями:**\n",
    "\n",
    "- 0–30000 — `'E'`;\n",
    "- 30001–50000 — `'D'`;\n",
    "- 50001–200000 — `'C'`;\n",
    "- 200001–1000000 — `'B'`;\n",
    "- 1000001 и выше — `'A'`.\n",
    "\n",
    "\n",
    "**Например, кредитополучателю с доходом 25000 нужно назначить категорию `'E'`, а клиенту, получающему 235000, — `'B'`. Используйте собственную функцию с именем `categorize_income()` и метод `apply()`.**"
   ]
  },
  {
   "cell_type": "code",
   "execution_count": 18,
   "id": "880a77e5",
   "metadata": {
    "id": "880a77e5"
   },
   "outputs": [],
   "source": [
    "# создайте функцию categorize_income()\n",
    "def categorize_income(income):\n",
    "    try:\n",
    "        if 0 <= income <= 30000:\n",
    "            return 'E'\n",
    "        elif 30001 <= income <= 50000:\n",
    "            return 'D'\n",
    "        elif 50001 <= income <= 200000:\n",
    "            return 'C'\n",
    "        elif 200001 <= income <= 1000000:\n",
    "            return 'B'\n",
    "        elif income >= 1000001:\n",
    "            return 'A'\n",
    "    except:\n",
    "        pass"
   ]
  },
  {
   "cell_type": "code",
   "execution_count": 19,
   "id": "6f25f161",
   "metadata": {
    "id": "6f25f161"
   },
   "outputs": [],
   "source": [
    "# примените функцию методом apply()\n",
    "data['total_income_category'] = data['total_income'].apply(categorize_income)"
   ]
  },
  {
   "cell_type": "markdown",
   "id": "3363b685",
   "metadata": {
    "deletable": false,
    "editable": false,
    "id": "3363b685",
    "tags": [
     "start_task"
    ]
   },
   "source": [
    "**Задание 17. Выведите на экран перечень уникальных целей взятия кредита из столбца `purpose`.**"
   ]
  },
  {
   "cell_type": "code",
   "execution_count": 25,
   "id": "e59f2c15",
   "metadata": {
    "id": "e59f2c15"
   },
   "outputs": [
    {
     "data": {
      "text/plain": [
       "array(['покупка жилья', 'приобретение автомобиля',\n",
       "       'дополнительное образование', 'сыграть свадьбу',\n",
       "       'операции с жильем', 'образование', 'на проведение свадьбы',\n",
       "       'покупка жилья для семьи', 'покупка недвижимости',\n",
       "       'покупка коммерческой недвижимости', 'покупка жилой недвижимости',\n",
       "       'строительство собственной недвижимости', 'недвижимость',\n",
       "       'строительство недвижимости', 'на покупку подержанного автомобиля',\n",
       "       'на покупку своего автомобиля',\n",
       "       'операции с коммерческой недвижимостью',\n",
       "       'строительство жилой недвижимости', 'жилье',\n",
       "       'операции со своей недвижимостью', 'автомобили',\n",
       "       'заняться образованием', 'сделка с подержанным автомобилем',\n",
       "       'получение образования', 'автомобиль', 'свадьба',\n",
       "       'получение дополнительного образования', 'покупка своего жилья',\n",
       "       'операции с недвижимостью', 'получение высшего образования',\n",
       "       'свой автомобиль', 'сделка с автомобилем',\n",
       "       'профильное образование', 'высшее образование',\n",
       "       'покупка жилья для сдачи', 'на покупку автомобиля', 'ремонт жилью',\n",
       "       'заняться высшим образованием'], dtype=object)"
      ]
     },
     "execution_count": 25,
     "metadata": {},
     "output_type": "execute_result"
    }
   ],
   "source": [
    "# ваш код здесь\n",
    "data['purpose'].unique()"
   ]
  },
  {
   "cell_type": "markdown",
   "id": "bb33e847",
   "metadata": {
    "deletable": false,
    "editable": false,
    "id": "bb33e847",
    "tags": [
     "start_task"
    ]
   },
   "source": [
    "**Задание 18. Создайте функцию, которая на основании данных из столбца `purpose` сформирует новый столбец `purpose_category`, в который войдут следующие категории:**\n",
    "\n",
    "- `'операции с автомобилем'`,\n",
    "- `'операции с недвижимостью'`,\n",
    "- `'проведение свадьбы'`,\n",
    "- `'получение образования'`.\n",
    "\n",
    "**Например, если в столбце `purpose` находится подстрока `'на покупку автомобиля'`, то в столбце `purpose_category` должна появиться строка `'операции с автомобилем'`.**\n",
    "\n",
    "**Используйте собственную функцию с именем `categorize_purpose()` и метод `apply()`. Изучите данные в столбце `purpose` и определите, какие подстроки помогут вам правильно определить категорию.**"
   ]
  },
  {
   "cell_type": "code",
   "execution_count": 21,
   "id": "63909b83",
   "metadata": {
    "id": "63909b83"
   },
   "outputs": [],
   "source": [
    "def categorize_purpose(row):\n",
    "    try:\n",
    "        if 'автом' in row:\n",
    "            return 'операции с автомобилем'\n",
    "        elif 'жил' in row or 'недвиж' in row:\n",
    "            return 'операции с недвижимостью'\n",
    "        elif 'свад' in row:\n",
    "            return 'проведение свадьбы'\n",
    "        elif 'образов' in row:\n",
    "            return 'получение образования'\n",
    "    except:\n",
    "        return 'нет категории'\n"
   ]
  },
  {
   "cell_type": "code",
   "execution_count": 22,
   "id": "7cb4a81d",
   "metadata": {
    "id": "7cb4a81d"
   },
   "outputs": [],
   "source": [
    "# примените функцию методом apply()\n",
    "data['purpose_category'] = data['purpose'].apply(categorize_purpose)"
   ]
  }
 ],
 "metadata": {
  "ExecuteTimeLog": [
   {
    "duration": 53,
    "start_time": "2023-03-01T08:16:12.067Z"
   },
   {
    "duration": 7,
    "start_time": "2023-03-01T08:16:16.579Z"
   },
   {
    "duration": 406,
    "start_time": "2023-03-01T08:16:33.059Z"
   },
   {
    "duration": 155,
    "start_time": "2023-03-01T08:16:35.093Z"
   },
   {
    "duration": 24,
    "start_time": "2023-03-01T08:16:37.247Z"
   },
   {
    "duration": 15,
    "start_time": "2023-03-01T08:17:19.349Z"
   },
   {
    "duration": 9,
    "start_time": "2023-03-01T08:18:58.043Z"
   },
   {
    "duration": 3,
    "start_time": "2023-03-01T08:21:24.492Z"
   },
   {
    "duration": 4,
    "start_time": "2023-03-01T08:21:35.030Z"
   },
   {
    "duration": 4,
    "start_time": "2023-03-01T08:21:40.594Z"
   },
   {
    "duration": 4,
    "start_time": "2023-03-01T08:21:52.578Z"
   },
   {
    "duration": 3,
    "start_time": "2023-03-01T08:22:13.423Z"
   },
   {
    "duration": 4,
    "start_time": "2023-03-01T08:22:25.123Z"
   },
   {
    "duration": 4,
    "start_time": "2023-03-01T08:22:46.790Z"
   },
   {
    "duration": 22,
    "start_time": "2023-03-01T08:23:15.931Z"
   },
   {
    "duration": 29,
    "start_time": "2023-03-01T08:23:28.570Z"
   },
   {
    "duration": 18,
    "start_time": "2023-03-01T08:23:40.040Z"
   },
   {
    "duration": 18,
    "start_time": "2023-03-01T08:23:58.026Z"
   },
   {
    "duration": 15,
    "start_time": "2023-03-01T08:24:04.466Z"
   },
   {
    "duration": 10,
    "start_time": "2023-03-01T08:24:10.102Z"
   },
   {
    "duration": 18,
    "start_time": "2023-03-01T08:24:20.165Z"
   },
   {
    "duration": 19,
    "start_time": "2023-03-01T08:24:52.235Z"
   },
   {
    "duration": 14,
    "start_time": "2023-03-01T08:24:59.477Z"
   },
   {
    "duration": 7,
    "start_time": "2023-03-01T08:25:09.992Z"
   },
   {
    "duration": 4,
    "start_time": "2023-03-01T08:25:15.024Z"
   },
   {
    "duration": 16,
    "start_time": "2023-03-01T08:26:22.768Z"
   },
   {
    "duration": 25,
    "start_time": "2023-03-01T08:26:40.617Z"
   },
   {
    "duration": 26,
    "start_time": "2023-03-01T08:28:24.024Z"
   },
   {
    "duration": 17,
    "start_time": "2023-03-01T08:28:25.955Z"
   },
   {
    "duration": 13,
    "start_time": "2023-03-01T08:34:22.911Z"
   },
   {
    "duration": 8,
    "start_time": "2023-03-01T08:34:40.840Z"
   },
   {
    "duration": 11,
    "start_time": "2023-03-01T08:34:47.649Z"
   },
   {
    "duration": 671,
    "start_time": "2023-03-01T08:35:40.132Z"
   },
   {
    "duration": 68,
    "start_time": "2023-03-01T08:36:56.789Z"
   },
   {
    "duration": 1264,
    "start_time": "2023-03-01T08:38:31.639Z"
   },
   {
    "duration": 1174,
    "start_time": "2023-03-01T08:38:36.156Z"
   },
   {
    "duration": 10,
    "start_time": "2023-03-01T08:38:44.084Z"
   },
   {
    "duration": 587,
    "start_time": "2023-03-01T08:38:50.974Z"
   },
   {
    "duration": 13,
    "start_time": "2023-03-01T08:39:01.916Z"
   },
   {
    "duration": 43,
    "start_time": "2023-03-01T08:39:04.904Z"
   },
   {
    "duration": 76,
    "start_time": "2023-03-01T08:39:15.144Z"
   },
   {
    "duration": 21,
    "start_time": "2023-03-01T08:39:18.187Z"
   },
   {
    "duration": 24,
    "start_time": "2023-03-01T08:39:33.409Z"
   },
   {
    "duration": 7,
    "start_time": "2023-03-01T08:39:59.892Z"
   },
   {
    "duration": 5,
    "start_time": "2023-03-01T08:40:05.198Z"
   },
   {
    "duration": 5,
    "start_time": "2023-03-01T08:40:08.053Z"
   },
   {
    "duration": 6,
    "start_time": "2023-03-01T08:40:21.590Z"
   },
   {
    "duration": 23,
    "start_time": "2023-03-01T08:43:21.893Z"
   },
   {
    "duration": 23,
    "start_time": "2023-03-01T08:43:33.800Z"
   },
   {
    "duration": 23,
    "start_time": "2023-03-01T08:43:45.191Z"
   },
   {
    "duration": 6,
    "start_time": "2023-03-01T08:44:00.994Z"
   },
   {
    "duration": 5,
    "start_time": "2023-03-01T08:44:03.824Z"
   },
   {
    "duration": 5,
    "start_time": "2023-03-01T08:44:16.679Z"
   },
   {
    "duration": 21,
    "start_time": "2023-03-01T08:44:23.487Z"
   },
   {
    "duration": 35,
    "start_time": "2023-03-01T08:44:54.570Z"
   },
   {
    "duration": 8,
    "start_time": "2023-03-01T08:47:31.560Z"
   },
   {
    "duration": 4,
    "start_time": "2023-03-01T08:48:33.497Z"
   },
   {
    "duration": 6,
    "start_time": "2023-03-01T09:06:39.932Z"
   },
   {
    "duration": 5,
    "start_time": "2023-03-01T09:06:47.078Z"
   },
   {
    "duration": 77,
    "start_time": "2023-03-01T09:06:56.152Z"
   },
   {
    "duration": 5,
    "start_time": "2023-03-01T09:07:02.661Z"
   },
   {
    "duration": 5,
    "start_time": "2023-03-01T09:07:07.958Z"
   },
   {
    "duration": 7,
    "start_time": "2023-03-01T09:08:20.325Z"
   },
   {
    "duration": 5,
    "start_time": "2023-03-01T09:08:24.593Z"
   },
   {
    "duration": 5,
    "start_time": "2023-03-01T09:08:55.494Z"
   },
   {
    "duration": 6,
    "start_time": "2023-03-01T09:09:05.413Z"
   },
   {
    "duration": 4,
    "start_time": "2023-03-01T09:09:16.347Z"
   },
   {
    "duration": 5,
    "start_time": "2023-03-01T09:15:12.312Z"
   },
   {
    "duration": 9,
    "start_time": "2023-03-01T09:17:50.797Z"
   },
   {
    "duration": 1396,
    "start_time": "2023-03-01T09:20:02.049Z"
   },
   {
    "duration": 8,
    "start_time": "2023-03-01T09:22:01.444Z"
   },
   {
    "duration": 7,
    "start_time": "2023-03-01T09:22:08.702Z"
   },
   {
    "duration": 978,
    "start_time": "2023-03-01T09:22:31.844Z"
   },
   {
    "duration": 983,
    "start_time": "2023-03-01T09:22:36.993Z"
   },
   {
    "duration": 1006,
    "start_time": "2023-03-01T09:22:51.739Z"
   },
   {
    "duration": 9,
    "start_time": "2023-03-01T09:23:54.669Z"
   },
   {
    "duration": 1033,
    "start_time": "2023-03-01T09:24:04.944Z"
   },
   {
    "duration": 983,
    "start_time": "2023-03-01T09:24:42.606Z"
   },
   {
    "duration": 880,
    "start_time": "2023-03-01T09:24:53.499Z"
   },
   {
    "duration": 448,
    "start_time": "2023-03-01T09:25:00.244Z"
   },
   {
    "duration": 83,
    "start_time": "2023-03-01T09:25:00.696Z"
   },
   {
    "duration": 22,
    "start_time": "2023-03-01T09:25:00.781Z"
   },
   {
    "duration": 62,
    "start_time": "2023-03-01T09:25:00.805Z"
   },
   {
    "duration": 34,
    "start_time": "2023-03-01T09:25:00.869Z"
   },
   {
    "duration": 65,
    "start_time": "2023-03-01T09:25:00.904Z"
   },
   {
    "duration": 42,
    "start_time": "2023-03-01T09:25:00.971Z"
   },
   {
    "duration": 48,
    "start_time": "2023-03-01T09:25:01.014Z"
   },
   {
    "duration": 35,
    "start_time": "2023-03-01T09:25:01.064Z"
   },
   {
    "duration": 53,
    "start_time": "2023-03-01T09:25:01.101Z"
   },
   {
    "duration": 35,
    "start_time": "2023-03-01T09:25:01.156Z"
   },
   {
    "duration": 52,
    "start_time": "2023-03-01T09:25:01.192Z"
   },
   {
    "duration": 44,
    "start_time": "2023-03-01T09:25:01.246Z"
   },
   {
    "duration": 31,
    "start_time": "2023-03-01T09:25:01.293Z"
   },
   {
    "duration": 75,
    "start_time": "2023-03-01T09:25:01.326Z"
   },
   {
    "duration": 59,
    "start_time": "2023-03-01T09:25:01.403Z"
   },
   {
    "duration": 40,
    "start_time": "2023-03-01T09:25:01.464Z"
   },
   {
    "duration": 45,
    "start_time": "2023-03-01T09:25:01.506Z"
   },
   {
    "duration": 23,
    "start_time": "2023-03-01T09:25:01.553Z"
   },
   {
    "duration": 21,
    "start_time": "2023-03-01T09:25:01.578Z"
   },
   {
    "duration": 43,
    "start_time": "2023-03-01T09:25:01.600Z"
   },
   {
    "duration": 36,
    "start_time": "2023-03-01T09:25:01.646Z"
   },
   {
    "duration": 4,
    "start_time": "2023-03-01T09:25:05.273Z"
   },
   {
    "duration": 5,
    "start_time": "2023-03-01T09:25:13.295Z"
   },
   {
    "duration": 5,
    "start_time": "2023-03-01T09:25:27.453Z"
   },
   {
    "duration": 5,
    "start_time": "2023-03-01T09:25:37.946Z"
   },
   {
    "duration": 5,
    "start_time": "2023-03-01T09:25:49.914Z"
   },
   {
    "duration": 5,
    "start_time": "2023-03-01T09:25:55.857Z"
   },
   {
    "duration": 5,
    "start_time": "2023-03-01T09:26:03.303Z"
   },
   {
    "duration": 414,
    "start_time": "2023-03-01T09:26:09.351Z"
   },
   {
    "duration": 76,
    "start_time": "2023-03-01T09:26:09.768Z"
   },
   {
    "duration": 30,
    "start_time": "2023-03-01T09:26:09.846Z"
   },
   {
    "duration": 23,
    "start_time": "2023-03-01T09:26:09.878Z"
   },
   {
    "duration": 25,
    "start_time": "2023-03-01T09:26:09.903Z"
   },
   {
    "duration": 23,
    "start_time": "2023-03-01T09:26:09.930Z"
   },
   {
    "duration": 24,
    "start_time": "2023-03-01T09:26:09.955Z"
   },
   {
    "duration": 8,
    "start_time": "2023-03-01T09:26:09.981Z"
   },
   {
    "duration": 36,
    "start_time": "2023-03-01T09:26:09.991Z"
   },
   {
    "duration": 10,
    "start_time": "2023-03-01T09:26:10.029Z"
   },
   {
    "duration": 31,
    "start_time": "2023-03-01T09:26:10.041Z"
   },
   {
    "duration": 8,
    "start_time": "2023-03-01T09:26:10.075Z"
   },
   {
    "duration": 5,
    "start_time": "2023-03-01T09:26:10.085Z"
   },
   {
    "duration": 18,
    "start_time": "2023-03-01T09:26:10.092Z"
   },
   {
    "duration": 10,
    "start_time": "2023-03-01T09:26:10.112Z"
   },
   {
    "duration": 26,
    "start_time": "2023-03-01T09:26:10.123Z"
   },
   {
    "duration": 5,
    "start_time": "2023-03-01T09:26:10.151Z"
   },
   {
    "duration": 7,
    "start_time": "2023-03-01T09:26:10.158Z"
   },
   {
    "duration": 11,
    "start_time": "2023-03-01T09:26:10.167Z"
   },
   {
    "duration": 6,
    "start_time": "2023-03-01T09:26:10.179Z"
   },
   {
    "duration": 6,
    "start_time": "2023-03-01T09:26:10.186Z"
   },
   {
    "duration": 6,
    "start_time": "2023-03-01T09:26:10.193Z"
   },
   {
    "duration": 417,
    "start_time": "2023-03-01T09:27:02.945Z"
   },
   {
    "duration": 71,
    "start_time": "2023-03-01T09:27:03.364Z"
   },
   {
    "duration": 24,
    "start_time": "2023-03-01T09:27:03.437Z"
   },
   {
    "duration": 20,
    "start_time": "2023-03-01T09:27:03.463Z"
   },
   {
    "duration": 8,
    "start_time": "2023-03-01T09:27:03.486Z"
   },
   {
    "duration": 33,
    "start_time": "2023-03-01T09:27:03.495Z"
   },
   {
    "duration": 30,
    "start_time": "2023-03-01T09:27:03.530Z"
   },
   {
    "duration": 8,
    "start_time": "2023-03-01T09:27:03.562Z"
   },
   {
    "duration": 7,
    "start_time": "2023-03-01T09:27:03.571Z"
   },
   {
    "duration": 10,
    "start_time": "2023-03-01T09:27:03.580Z"
   },
   {
    "duration": 6,
    "start_time": "2023-03-01T09:27:03.591Z"
   },
   {
    "duration": 18,
    "start_time": "2023-03-01T09:27:03.599Z"
   },
   {
    "duration": 32,
    "start_time": "2023-03-01T09:27:03.619Z"
   },
   {
    "duration": 9,
    "start_time": "2023-03-01T09:27:03.655Z"
   },
   {
    "duration": 15,
    "start_time": "2023-03-01T09:27:03.666Z"
   },
   {
    "duration": 10,
    "start_time": "2023-03-01T09:27:03.683Z"
   },
   {
    "duration": 5,
    "start_time": "2023-03-01T09:27:03.694Z"
   },
   {
    "duration": 15,
    "start_time": "2023-03-01T09:27:03.700Z"
   },
   {
    "duration": 36,
    "start_time": "2023-03-01T09:27:03.717Z"
   },
   {
    "duration": 14,
    "start_time": "2023-03-01T09:27:03.755Z"
   },
   {
    "duration": 6,
    "start_time": "2023-03-01T09:27:03.771Z"
   },
   {
    "duration": 11,
    "start_time": "2023-03-01T09:27:03.779Z"
   },
   {
    "duration": 397,
    "start_time": "2023-03-01T09:27:16.193Z"
   },
   {
    "duration": 84,
    "start_time": "2023-03-01T09:27:16.592Z"
   },
   {
    "duration": 23,
    "start_time": "2023-03-01T09:27:16.678Z"
   },
   {
    "duration": 27,
    "start_time": "2023-03-01T09:27:16.703Z"
   },
   {
    "duration": 13,
    "start_time": "2023-03-01T09:27:16.733Z"
   },
   {
    "duration": 22,
    "start_time": "2023-03-01T09:27:16.749Z"
   },
   {
    "duration": 21,
    "start_time": "2023-03-01T09:27:16.773Z"
   },
   {
    "duration": 34,
    "start_time": "2023-03-01T09:27:16.796Z"
   },
   {
    "duration": 4,
    "start_time": "2023-03-01T09:27:16.832Z"
   },
   {
    "duration": 26,
    "start_time": "2023-03-01T09:27:16.838Z"
   },
   {
    "duration": 5,
    "start_time": "2023-03-01T09:27:16.866Z"
   },
   {
    "duration": 5,
    "start_time": "2023-03-01T09:27:16.873Z"
   },
   {
    "duration": 7,
    "start_time": "2023-03-01T09:27:16.880Z"
   },
   {
    "duration": 3,
    "start_time": "2023-03-01T09:27:16.890Z"
   },
   {
    "duration": 8,
    "start_time": "2023-03-01T09:27:16.895Z"
   },
   {
    "duration": 4,
    "start_time": "2023-03-01T09:27:16.905Z"
   },
   {
    "duration": 5,
    "start_time": "2023-03-01T09:27:16.911Z"
   },
   {
    "duration": 7,
    "start_time": "2023-03-01T09:27:16.927Z"
   },
   {
    "duration": 10,
    "start_time": "2023-03-01T09:27:16.942Z"
   },
   {
    "duration": 6,
    "start_time": "2023-03-01T09:27:16.954Z"
   },
   {
    "duration": 12,
    "start_time": "2023-03-01T09:27:16.961Z"
   },
   {
    "duration": 5,
    "start_time": "2023-03-01T09:27:16.975Z"
   },
   {
    "duration": 484,
    "start_time": "2023-03-01T09:27:30.318Z"
   },
   {
    "duration": 79,
    "start_time": "2023-03-01T09:27:30.804Z"
   },
   {
    "duration": 21,
    "start_time": "2023-03-01T09:27:30.885Z"
   },
   {
    "duration": 53,
    "start_time": "2023-03-01T09:27:30.908Z"
   },
   {
    "duration": 45,
    "start_time": "2023-03-01T09:27:30.964Z"
   },
   {
    "duration": 68,
    "start_time": "2023-03-01T09:27:31.011Z"
   },
   {
    "duration": 34,
    "start_time": "2023-03-01T09:27:31.081Z"
   },
   {
    "duration": 12,
    "start_time": "2023-03-01T09:27:31.117Z"
   },
   {
    "duration": 41,
    "start_time": "2023-03-01T09:27:31.130Z"
   },
   {
    "duration": 31,
    "start_time": "2023-03-01T09:27:31.172Z"
   },
   {
    "duration": 40,
    "start_time": "2023-03-01T09:27:31.205Z"
   },
   {
    "duration": 22,
    "start_time": "2023-03-01T09:27:31.246Z"
   },
   {
    "duration": 23,
    "start_time": "2023-03-01T09:27:31.270Z"
   },
   {
    "duration": 21,
    "start_time": "2023-03-01T09:27:31.296Z"
   },
   {
    "duration": 29,
    "start_time": "2023-03-01T09:27:31.319Z"
   },
   {
    "duration": 28,
    "start_time": "2023-03-01T09:27:31.350Z"
   },
   {
    "duration": 23,
    "start_time": "2023-03-01T09:27:31.379Z"
   },
   {
    "duration": 9,
    "start_time": "2023-03-01T09:27:31.404Z"
   },
   {
    "duration": 5,
    "start_time": "2023-03-01T09:27:31.415Z"
   },
   {
    "duration": 15,
    "start_time": "2023-03-01T09:27:31.421Z"
   },
   {
    "duration": 22,
    "start_time": "2023-03-01T09:27:31.438Z"
   },
   {
    "duration": 6,
    "start_time": "2023-03-01T09:27:31.462Z"
   },
   {
    "duration": 7,
    "start_time": "2023-03-01T09:29:07.461Z"
   },
   {
    "duration": 4,
    "start_time": "2023-03-01T09:29:10.744Z"
   },
   {
    "duration": 84,
    "start_time": "2023-03-01T09:30:45.925Z"
   },
   {
    "duration": 6,
    "start_time": "2023-03-01T09:34:53.268Z"
   },
   {
    "duration": 17,
    "start_time": "2023-03-01T09:42:23.813Z"
   },
   {
    "duration": 451,
    "start_time": "2023-03-01T09:42:33.203Z"
   },
   {
    "duration": 71,
    "start_time": "2023-03-01T09:42:33.657Z"
   },
   {
    "duration": 31,
    "start_time": "2023-03-01T09:42:33.731Z"
   },
   {
    "duration": 16,
    "start_time": "2023-03-01T09:42:33.763Z"
   },
   {
    "duration": 9,
    "start_time": "2023-03-01T09:42:33.782Z"
   },
   {
    "duration": 55,
    "start_time": "2023-03-01T09:42:33.793Z"
   },
   {
    "duration": 19,
    "start_time": "2023-03-01T09:42:33.851Z"
   },
   {
    "duration": 7,
    "start_time": "2023-03-01T09:42:33.872Z"
   },
   {
    "duration": 5,
    "start_time": "2023-03-01T09:42:33.881Z"
   },
   {
    "duration": 8,
    "start_time": "2023-03-01T09:42:33.888Z"
   },
   {
    "duration": 43,
    "start_time": "2023-03-01T09:42:33.897Z"
   },
   {
    "duration": 76,
    "start_time": "2023-03-01T09:42:33.944Z"
   },
   {
    "duration": 0,
    "start_time": "2023-03-01T09:42:34.023Z"
   },
   {
    "duration": 0,
    "start_time": "2023-03-01T09:42:34.024Z"
   },
   {
    "duration": 0,
    "start_time": "2023-03-01T09:42:34.032Z"
   },
   {
    "duration": 0,
    "start_time": "2023-03-01T09:42:34.033Z"
   },
   {
    "duration": 0,
    "start_time": "2023-03-01T09:42:34.034Z"
   },
   {
    "duration": 0,
    "start_time": "2023-03-01T09:42:34.036Z"
   },
   {
    "duration": 0,
    "start_time": "2023-03-01T09:42:34.038Z"
   },
   {
    "duration": 0,
    "start_time": "2023-03-01T09:42:34.042Z"
   },
   {
    "duration": 0,
    "start_time": "2023-03-01T09:42:34.044Z"
   },
   {
    "duration": 0,
    "start_time": "2023-03-01T09:42:34.046Z"
   },
   {
    "duration": 16,
    "start_time": "2023-03-01T09:43:39.292Z"
   },
   {
    "duration": 16,
    "start_time": "2023-03-01T09:43:46.929Z"
   },
   {
    "duration": 15,
    "start_time": "2023-03-01T09:44:38.613Z"
   },
   {
    "duration": 8,
    "start_time": "2023-03-01T09:44:57.561Z"
   },
   {
    "duration": 8,
    "start_time": "2023-03-01T09:45:15.105Z"
   },
   {
    "duration": 411,
    "start_time": "2023-03-01T09:45:21.154Z"
   },
   {
    "duration": 83,
    "start_time": "2023-03-01T09:45:21.567Z"
   },
   {
    "duration": 24,
    "start_time": "2023-03-01T09:45:21.653Z"
   },
   {
    "duration": 16,
    "start_time": "2023-03-01T09:45:21.679Z"
   },
   {
    "duration": 14,
    "start_time": "2023-03-01T09:45:21.698Z"
   },
   {
    "duration": 31,
    "start_time": "2023-03-01T09:45:21.713Z"
   },
   {
    "duration": 19,
    "start_time": "2023-03-01T09:45:21.747Z"
   },
   {
    "duration": 9,
    "start_time": "2023-03-01T09:45:21.768Z"
   },
   {
    "duration": 6,
    "start_time": "2023-03-01T09:45:21.779Z"
   },
   {
    "duration": 50,
    "start_time": "2023-03-01T09:45:21.787Z"
   },
   {
    "duration": 8,
    "start_time": "2023-03-01T09:45:21.849Z"
   },
   {
    "duration": 95,
    "start_time": "2023-03-01T09:45:21.859Z"
   },
   {
    "duration": 0,
    "start_time": "2023-03-01T09:45:21.957Z"
   },
   {
    "duration": 0,
    "start_time": "2023-03-01T09:45:21.958Z"
   },
   {
    "duration": 0,
    "start_time": "2023-03-01T09:45:21.959Z"
   },
   {
    "duration": 0,
    "start_time": "2023-03-01T09:45:21.960Z"
   },
   {
    "duration": 0,
    "start_time": "2023-03-01T09:45:21.961Z"
   },
   {
    "duration": 0,
    "start_time": "2023-03-01T09:45:21.963Z"
   },
   {
    "duration": 0,
    "start_time": "2023-03-01T09:45:21.963Z"
   },
   {
    "duration": 0,
    "start_time": "2023-03-01T09:45:21.964Z"
   },
   {
    "duration": 0,
    "start_time": "2023-03-01T09:45:21.965Z"
   },
   {
    "duration": 0,
    "start_time": "2023-03-01T09:45:21.966Z"
   },
   {
    "duration": 12,
    "start_time": "2023-03-01T09:45:58.501Z"
   },
   {
    "duration": 7,
    "start_time": "2023-03-01T09:50:52.184Z"
   },
   {
    "duration": 14,
    "start_time": "2023-03-01T09:52:10.259Z"
   },
   {
    "duration": 21,
    "start_time": "2023-03-01T09:53:07.836Z"
   },
   {
    "duration": 15,
    "start_time": "2023-03-01T09:53:35.536Z"
   },
   {
    "duration": 11,
    "start_time": "2023-03-01T09:53:46.464Z"
   },
   {
    "duration": 420,
    "start_time": "2023-03-01T09:53:53.416Z"
   },
   {
    "duration": 70,
    "start_time": "2023-03-01T09:53:53.838Z"
   },
   {
    "duration": 25,
    "start_time": "2023-03-01T09:53:53.910Z"
   },
   {
    "duration": 15,
    "start_time": "2023-03-01T09:53:53.937Z"
   },
   {
    "duration": 13,
    "start_time": "2023-03-01T09:53:53.954Z"
   },
   {
    "duration": 25,
    "start_time": "2023-03-01T09:53:53.969Z"
   },
   {
    "duration": 22,
    "start_time": "2023-03-01T09:53:54.028Z"
   },
   {
    "duration": 13,
    "start_time": "2023-03-01T09:53:54.051Z"
   },
   {
    "duration": 13,
    "start_time": "2023-03-01T09:53:54.066Z"
   },
   {
    "duration": 18,
    "start_time": "2023-03-01T09:53:54.080Z"
   },
   {
    "duration": 11,
    "start_time": "2023-03-01T09:53:54.099Z"
   },
   {
    "duration": 17,
    "start_time": "2023-03-01T09:53:54.111Z"
   },
   {
    "duration": 2,
    "start_time": "2023-03-01T09:53:54.129Z"
   },
   {
    "duration": 4,
    "start_time": "2023-03-01T09:53:54.135Z"
   },
   {
    "duration": 10,
    "start_time": "2023-03-01T09:53:54.141Z"
   },
   {
    "duration": 8,
    "start_time": "2023-03-01T09:53:54.152Z"
   },
   {
    "duration": 7,
    "start_time": "2023-03-01T09:53:54.162Z"
   },
   {
    "duration": 5,
    "start_time": "2023-03-01T09:53:54.171Z"
   },
   {
    "duration": 15,
    "start_time": "2023-03-01T09:53:54.178Z"
   },
   {
    "duration": 8,
    "start_time": "2023-03-01T09:53:54.194Z"
   },
   {
    "duration": 6,
    "start_time": "2023-03-01T09:53:54.203Z"
   },
   {
    "duration": 5,
    "start_time": "2023-03-01T09:53:54.211Z"
   },
   {
    "duration": 13,
    "start_time": "2023-03-01T09:54:12.920Z"
   },
   {
    "duration": 6,
    "start_time": "2023-03-01T09:54:53.965Z"
   },
   {
    "duration": 10,
    "start_time": "2023-03-01T09:55:00.426Z"
   },
   {
    "duration": 79,
    "start_time": "2023-03-01T09:57:15.996Z"
   },
   {
    "duration": 15,
    "start_time": "2023-03-01T09:57:26.134Z"
   },
   {
    "duration": 6,
    "start_time": "2023-03-01T09:57:28.642Z"
   },
   {
    "duration": 8,
    "start_time": "2023-03-01T09:57:34.664Z"
   },
   {
    "duration": 19,
    "start_time": "2023-03-01T10:00:37.842Z"
   },
   {
    "duration": 9,
    "start_time": "2023-03-01T10:01:06.373Z"
   },
   {
    "duration": 10,
    "start_time": "2023-03-01T10:02:49.877Z"
   },
   {
    "duration": 14,
    "start_time": "2023-03-01T10:03:09.047Z"
   },
   {
    "duration": 9,
    "start_time": "2023-03-01T10:03:50.206Z"
   },
   {
    "duration": 21,
    "start_time": "2023-03-01T10:04:06.561Z"
   },
   {
    "duration": 9,
    "start_time": "2023-03-01T10:04:38.335Z"
   },
   {
    "duration": 10,
    "start_time": "2023-03-01T10:04:52.866Z"
   },
   {
    "duration": 9,
    "start_time": "2023-03-01T10:05:05.043Z"
   },
   {
    "duration": 419,
    "start_time": "2023-03-01T10:05:12.111Z"
   },
   {
    "duration": 71,
    "start_time": "2023-03-01T10:05:12.532Z"
   },
   {
    "duration": 23,
    "start_time": "2023-03-01T10:05:12.605Z"
   },
   {
    "duration": 15,
    "start_time": "2023-03-01T10:05:12.630Z"
   },
   {
    "duration": 9,
    "start_time": "2023-03-01T10:05:12.648Z"
   },
   {
    "duration": 21,
    "start_time": "2023-03-01T10:05:12.659Z"
   },
   {
    "duration": 47,
    "start_time": "2023-03-01T10:05:12.682Z"
   },
   {
    "duration": 7,
    "start_time": "2023-03-01T10:05:12.731Z"
   },
   {
    "duration": 10,
    "start_time": "2023-03-01T10:05:12.740Z"
   },
   {
    "duration": 9,
    "start_time": "2023-03-01T10:05:12.751Z"
   },
   {
    "duration": 4,
    "start_time": "2023-03-01T10:05:12.762Z"
   },
   {
    "duration": 19,
    "start_time": "2023-03-01T10:05:12.768Z"
   },
   {
    "duration": 3,
    "start_time": "2023-03-01T10:05:12.789Z"
   },
   {
    "duration": 3,
    "start_time": "2023-03-01T10:05:12.826Z"
   },
   {
    "duration": 11,
    "start_time": "2023-03-01T10:05:12.831Z"
   },
   {
    "duration": 10,
    "start_time": "2023-03-01T10:05:12.844Z"
   },
   {
    "duration": 6,
    "start_time": "2023-03-01T10:05:12.856Z"
   },
   {
    "duration": 5,
    "start_time": "2023-03-01T10:05:12.863Z"
   },
   {
    "duration": 8,
    "start_time": "2023-03-01T10:05:12.870Z"
   },
   {
    "duration": 10,
    "start_time": "2023-03-01T10:05:12.880Z"
   },
   {
    "duration": 7,
    "start_time": "2023-03-01T10:05:12.892Z"
   },
   {
    "duration": 8,
    "start_time": "2023-03-01T10:05:12.901Z"
   },
   {
    "duration": 18,
    "start_time": "2023-03-01T10:05:26.942Z"
   },
   {
    "duration": 9,
    "start_time": "2023-03-01T10:05:46.322Z"
   },
   {
    "duration": 386,
    "start_time": "2023-03-01T10:05:56.244Z"
   },
   {
    "duration": 67,
    "start_time": "2023-03-01T10:05:56.632Z"
   },
   {
    "duration": 23,
    "start_time": "2023-03-01T10:05:56.700Z"
   },
   {
    "duration": 15,
    "start_time": "2023-03-01T10:05:56.724Z"
   },
   {
    "duration": 8,
    "start_time": "2023-03-01T10:05:56.741Z"
   },
   {
    "duration": 17,
    "start_time": "2023-03-01T10:05:56.751Z"
   },
   {
    "duration": 18,
    "start_time": "2023-03-01T10:05:56.769Z"
   },
   {
    "duration": 7,
    "start_time": "2023-03-01T10:05:56.788Z"
   },
   {
    "duration": 31,
    "start_time": "2023-03-01T10:05:56.796Z"
   },
   {
    "duration": 7,
    "start_time": "2023-03-01T10:05:56.829Z"
   },
   {
    "duration": 4,
    "start_time": "2023-03-01T10:05:56.837Z"
   },
   {
    "duration": 10,
    "start_time": "2023-03-01T10:05:56.843Z"
   },
   {
    "duration": 2,
    "start_time": "2023-03-01T10:05:56.854Z"
   },
   {
    "duration": 5,
    "start_time": "2023-03-01T10:05:56.859Z"
   },
   {
    "duration": 5,
    "start_time": "2023-03-01T10:05:56.866Z"
   },
   {
    "duration": 14,
    "start_time": "2023-03-01T10:05:56.872Z"
   },
   {
    "duration": 9,
    "start_time": "2023-03-01T10:05:56.887Z"
   },
   {
    "duration": 17,
    "start_time": "2023-03-01T10:05:56.897Z"
   },
   {
    "duration": 15,
    "start_time": "2023-03-01T10:05:56.915Z"
   },
   {
    "duration": 13,
    "start_time": "2023-03-01T10:05:56.932Z"
   },
   {
    "duration": 4,
    "start_time": "2023-03-01T10:05:56.947Z"
   },
   {
    "duration": 7,
    "start_time": "2023-03-01T10:05:56.953Z"
   },
   {
    "duration": 70,
    "start_time": "2023-03-01T10:06:06.753Z"
   },
   {
    "duration": 11,
    "start_time": "2023-03-01T10:06:09.419Z"
   },
   {
    "duration": 10,
    "start_time": "2023-03-01T10:06:14.682Z"
   },
   {
    "duration": 399,
    "start_time": "2023-03-01T10:06:20.252Z"
   },
   {
    "duration": 79,
    "start_time": "2023-03-01T10:06:20.653Z"
   },
   {
    "duration": 25,
    "start_time": "2023-03-01T10:06:20.734Z"
   },
   {
    "duration": 24,
    "start_time": "2023-03-01T10:06:20.760Z"
   },
   {
    "duration": 11,
    "start_time": "2023-03-01T10:06:20.787Z"
   },
   {
    "duration": 39,
    "start_time": "2023-03-01T10:06:20.800Z"
   },
   {
    "duration": 25,
    "start_time": "2023-03-01T10:06:20.841Z"
   },
   {
    "duration": 9,
    "start_time": "2023-03-01T10:06:20.868Z"
   },
   {
    "duration": 4,
    "start_time": "2023-03-01T10:06:20.879Z"
   },
   {
    "duration": 11,
    "start_time": "2023-03-01T10:06:20.884Z"
   },
   {
    "duration": 8,
    "start_time": "2023-03-01T10:06:20.928Z"
   },
   {
    "duration": 36,
    "start_time": "2023-03-01T10:06:20.938Z"
   },
   {
    "duration": 3,
    "start_time": "2023-03-01T10:06:20.976Z"
   },
   {
    "duration": 5,
    "start_time": "2023-03-01T10:06:20.982Z"
   },
   {
    "duration": 5,
    "start_time": "2023-03-01T10:06:20.988Z"
   },
   {
    "duration": 5,
    "start_time": "2023-03-01T10:06:20.994Z"
   },
   {
    "duration": 5,
    "start_time": "2023-03-01T10:06:21.001Z"
   },
   {
    "duration": 19,
    "start_time": "2023-03-01T10:06:21.008Z"
   },
   {
    "duration": 29,
    "start_time": "2023-03-01T10:06:21.033Z"
   },
   {
    "duration": 8,
    "start_time": "2023-03-01T10:06:21.064Z"
   },
   {
    "duration": 4,
    "start_time": "2023-03-01T10:06:21.074Z"
   },
   {
    "duration": 9,
    "start_time": "2023-03-01T10:06:21.079Z"
   },
   {
    "duration": 20,
    "start_time": "2023-03-01T10:06:24.735Z"
   },
   {
    "duration": 9,
    "start_time": "2023-03-01T10:06:32.423Z"
   },
   {
    "duration": 79,
    "start_time": "2023-03-01T10:06:43.821Z"
   },
   {
    "duration": 11,
    "start_time": "2023-03-01T10:06:49.307Z"
   },
   {
    "duration": 14,
    "start_time": "2023-03-01T10:07:08.415Z"
   },
   {
    "duration": 13,
    "start_time": "2023-03-01T10:07:11.246Z"
   },
   {
    "duration": 398,
    "start_time": "2023-03-01T10:07:16.522Z"
   },
   {
    "duration": 80,
    "start_time": "2023-03-01T10:07:16.922Z"
   },
   {
    "duration": 25,
    "start_time": "2023-03-01T10:07:17.003Z"
   },
   {
    "duration": 27,
    "start_time": "2023-03-01T10:07:17.031Z"
   },
   {
    "duration": 9,
    "start_time": "2023-03-01T10:07:17.060Z"
   },
   {
    "duration": 45,
    "start_time": "2023-03-01T10:07:17.071Z"
   },
   {
    "duration": 18,
    "start_time": "2023-03-01T10:07:17.118Z"
   },
   {
    "duration": 8,
    "start_time": "2023-03-01T10:07:17.138Z"
   },
   {
    "duration": 7,
    "start_time": "2023-03-01T10:07:17.147Z"
   },
   {
    "duration": 9,
    "start_time": "2023-03-01T10:07:17.156Z"
   },
   {
    "duration": 6,
    "start_time": "2023-03-01T10:07:17.167Z"
   },
   {
    "duration": 9,
    "start_time": "2023-03-01T10:07:17.175Z"
   },
   {
    "duration": 5,
    "start_time": "2023-03-01T10:07:17.185Z"
   },
   {
    "duration": 13,
    "start_time": "2023-03-01T10:07:17.192Z"
   },
   {
    "duration": 5,
    "start_time": "2023-03-01T10:07:17.206Z"
   },
   {
    "duration": 10,
    "start_time": "2023-03-01T10:07:17.226Z"
   },
   {
    "duration": 3,
    "start_time": "2023-03-01T10:07:17.238Z"
   },
   {
    "duration": 7,
    "start_time": "2023-03-01T10:07:17.243Z"
   },
   {
    "duration": 6,
    "start_time": "2023-03-01T10:07:17.251Z"
   },
   {
    "duration": 5,
    "start_time": "2023-03-01T10:07:17.259Z"
   },
   {
    "duration": 5,
    "start_time": "2023-03-01T10:07:17.266Z"
   },
   {
    "duration": 8,
    "start_time": "2023-03-01T10:07:17.273Z"
   },
   {
    "duration": 22,
    "start_time": "2023-03-01T10:07:22.603Z"
   },
   {
    "duration": 70,
    "start_time": "2023-03-01T10:07:40.942Z"
   },
   {
    "duration": 66,
    "start_time": "2023-03-01T10:07:44.023Z"
   },
   {
    "duration": 27,
    "start_time": "2023-03-01T10:07:50.547Z"
   },
   {
    "duration": 20,
    "start_time": "2023-03-01T10:08:10.410Z"
   },
   {
    "duration": 419,
    "start_time": "2023-03-01T10:08:24.097Z"
   },
   {
    "duration": 69,
    "start_time": "2023-03-01T10:08:24.518Z"
   },
   {
    "duration": 26,
    "start_time": "2023-03-01T10:08:24.589Z"
   },
   {
    "duration": 22,
    "start_time": "2023-03-01T10:08:24.617Z"
   },
   {
    "duration": 33,
    "start_time": "2023-03-01T10:08:24.642Z"
   },
   {
    "duration": 26,
    "start_time": "2023-03-01T10:08:24.677Z"
   },
   {
    "duration": 18,
    "start_time": "2023-03-01T10:08:24.704Z"
   },
   {
    "duration": 9,
    "start_time": "2023-03-01T10:08:24.727Z"
   },
   {
    "duration": 25,
    "start_time": "2023-03-01T10:08:24.737Z"
   },
   {
    "duration": 14,
    "start_time": "2023-03-01T10:08:24.765Z"
   },
   {
    "duration": 5,
    "start_time": "2023-03-01T10:08:24.781Z"
   },
   {
    "duration": 38,
    "start_time": "2023-03-01T10:08:24.788Z"
   },
   {
    "duration": 2,
    "start_time": "2023-03-01T10:08:24.828Z"
   },
   {
    "duration": 31,
    "start_time": "2023-03-01T10:08:24.833Z"
   },
   {
    "duration": 31,
    "start_time": "2023-03-01T10:08:24.866Z"
   },
   {
    "duration": 18,
    "start_time": "2023-03-01T10:08:24.898Z"
   },
   {
    "duration": 9,
    "start_time": "2023-03-01T10:08:24.918Z"
   },
   {
    "duration": 21,
    "start_time": "2023-03-01T10:08:24.928Z"
   },
   {
    "duration": 15,
    "start_time": "2023-03-01T10:08:24.951Z"
   },
   {
    "duration": 3,
    "start_time": "2023-03-01T10:08:24.971Z"
   },
   {
    "duration": 23,
    "start_time": "2023-03-01T10:08:24.975Z"
   },
   {
    "duration": 17,
    "start_time": "2023-03-01T10:08:25.000Z"
   },
   {
    "duration": 11,
    "start_time": "2023-03-01T10:08:32.947Z"
   },
   {
    "duration": 108,
    "start_time": "2023-03-01T10:08:58.636Z"
   },
   {
    "duration": 417,
    "start_time": "2023-03-01T10:09:04.913Z"
   },
   {
    "duration": 68,
    "start_time": "2023-03-01T10:09:05.331Z"
   },
   {
    "duration": 21,
    "start_time": "2023-03-01T10:09:05.401Z"
   },
   {
    "duration": 14,
    "start_time": "2023-03-01T10:09:05.424Z"
   },
   {
    "duration": 8,
    "start_time": "2023-03-01T10:09:05.440Z"
   },
   {
    "duration": 26,
    "start_time": "2023-03-01T10:09:05.450Z"
   },
   {
    "duration": 18,
    "start_time": "2023-03-01T10:09:05.478Z"
   },
   {
    "duration": 31,
    "start_time": "2023-03-01T10:09:05.497Z"
   },
   {
    "duration": 4,
    "start_time": "2023-03-01T10:09:05.529Z"
   },
   {
    "duration": 23,
    "start_time": "2023-03-01T10:09:05.535Z"
   },
   {
    "duration": 6,
    "start_time": "2023-03-01T10:09:05.560Z"
   },
   {
    "duration": 13,
    "start_time": "2023-03-01T10:09:05.568Z"
   },
   {
    "duration": 3,
    "start_time": "2023-03-01T10:09:05.583Z"
   },
   {
    "duration": 3,
    "start_time": "2023-03-01T10:09:05.590Z"
   },
   {
    "duration": 7,
    "start_time": "2023-03-01T10:09:05.595Z"
   },
   {
    "duration": 24,
    "start_time": "2023-03-01T10:09:05.603Z"
   },
   {
    "duration": 10,
    "start_time": "2023-03-01T10:09:05.628Z"
   },
   {
    "duration": 9,
    "start_time": "2023-03-01T10:09:05.640Z"
   },
   {
    "duration": 14,
    "start_time": "2023-03-01T10:09:05.651Z"
   },
   {
    "duration": 21,
    "start_time": "2023-03-01T10:09:05.667Z"
   },
   {
    "duration": 14,
    "start_time": "2023-03-01T10:09:05.689Z"
   },
   {
    "duration": 11,
    "start_time": "2023-03-01T10:09:05.705Z"
   },
   {
    "duration": 925,
    "start_time": "2023-03-01T10:10:57.580Z"
   },
   {
    "duration": 840,
    "start_time": "2023-03-01T10:11:01.274Z"
   },
   {
    "duration": 5,
    "start_time": "2023-03-01T10:11:37.661Z"
   },
   {
    "duration": 418,
    "start_time": "2023-03-01T10:14:43.341Z"
   },
   {
    "duration": 68,
    "start_time": "2023-03-01T10:14:43.761Z"
   },
   {
    "duration": 25,
    "start_time": "2023-03-01T10:14:43.833Z"
   },
   {
    "duration": 26,
    "start_time": "2023-03-01T10:14:43.861Z"
   },
   {
    "duration": 15,
    "start_time": "2023-03-01T10:14:43.890Z"
   },
   {
    "duration": 29,
    "start_time": "2023-03-01T10:14:43.927Z"
   },
   {
    "duration": 18,
    "start_time": "2023-03-01T10:14:43.958Z"
   },
   {
    "duration": 9,
    "start_time": "2023-03-01T10:14:43.977Z"
   },
   {
    "duration": 8,
    "start_time": "2023-03-01T10:14:43.988Z"
   },
   {
    "duration": 34,
    "start_time": "2023-03-01T10:14:43.997Z"
   },
   {
    "duration": 10,
    "start_time": "2023-03-01T10:14:44.033Z"
   },
   {
    "duration": 41,
    "start_time": "2023-03-01T10:14:44.044Z"
   },
   {
    "duration": 9,
    "start_time": "2023-03-01T10:14:44.086Z"
   },
   {
    "duration": 9,
    "start_time": "2023-03-01T10:14:44.098Z"
   },
   {
    "duration": 18,
    "start_time": "2023-03-01T10:14:44.109Z"
   },
   {
    "duration": 7,
    "start_time": "2023-03-01T10:14:44.129Z"
   },
   {
    "duration": 4,
    "start_time": "2023-03-01T10:14:44.138Z"
   },
   {
    "duration": 4,
    "start_time": "2023-03-01T10:14:44.144Z"
   },
   {
    "duration": 5,
    "start_time": "2023-03-01T10:14:44.149Z"
   },
   {
    "duration": 5,
    "start_time": "2023-03-01T10:14:44.156Z"
   },
   {
    "duration": 7,
    "start_time": "2023-03-01T10:14:44.163Z"
   },
   {
    "duration": 5,
    "start_time": "2023-03-01T10:14:44.172Z"
   },
   {
    "duration": 4,
    "start_time": "2023-03-01T10:38:13.242Z"
   },
   {
    "duration": 17,
    "start_time": "2023-03-01T10:40:04.457Z"
   },
   {
    "duration": 6,
    "start_time": "2023-03-01T10:43:45.168Z"
   }
  ],
  "colab": {
   "provenance": []
  },
  "kernelspec": {
   "display_name": "Python 3 (ipykernel)",
   "language": "python",
   "name": "python3"
  },
  "language_info": {
   "codemirror_mode": {
    "name": "ipython",
    "version": 3
   },
   "file_extension": ".py",
   "mimetype": "text/x-python",
   "name": "python",
   "nbconvert_exporter": "python",
   "pygments_lexer": "ipython3",
   "version": "3.9.5"
  },
  "toc": {
   "base_numbering": 1,
   "nav_menu": {},
   "number_sections": true,
   "sideBar": true,
   "skip_h1_title": true,
   "title_cell": "Table of Contents",
   "title_sidebar": "Contents",
   "toc_cell": false,
   "toc_position": {},
   "toc_section_display": true,
   "toc_window_display": false
  }
 },
 "nbformat": 4,
 "nbformat_minor": 5
}
