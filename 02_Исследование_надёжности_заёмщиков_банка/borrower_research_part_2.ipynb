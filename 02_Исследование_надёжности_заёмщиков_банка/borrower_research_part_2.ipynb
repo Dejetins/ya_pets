{
 "cells": [
  {
   "cell_type": "markdown",
   "id": "386f2ae7",
   "metadata": {
    "deletable": false,
    "editable": false,
    "id": "386f2ae7"
   },
   "source": [
    "# Исследование надежности заемщиков\n"
   ]
  },
  {
   "cell_type": "markdown",
   "id": "ffe86f65",
   "metadata": {
    "deletable": false,
    "editable": false,
    "id": "ffe86f65"
   },
   "source": [
    "Во второй части проекта вы выполните шаги 3 и 4. Их вручную проверит ревьюер.\n",
    "Чтобы вам не пришлось писать код заново для шагов 1 и 2, мы добавили авторские решения в ячейки с кодом. \n",
    "\n"
   ]
  },
  {
   "cell_type": "markdown",
   "id": "26613308",
   "metadata": {
    "deletable": false,
    "editable": false,
    "id": "26613308"
   },
   "source": [
    "## Откройте таблицу и изучите общую информацию о данных"
   ]
  },
  {
   "cell_type": "markdown",
   "id": "3c9f838e",
   "metadata": {
    "deletable": false,
    "editable": false,
    "id": "3c9f838e"
   },
   "source": [
    "**Задание 1. Импортируйте библиотеку pandas. Считайте данные из csv-файла в датафрейм и сохраните в переменную `data`. Путь к файлу:**\n",
    "\n",
    "`/datasets/data.csv`"
   ]
  },
  {
   "cell_type": "code",
   "execution_count": 1,
   "id": "77a68a90",
   "metadata": {
    "deletable": false,
    "id": "77a68a90"
   },
   "outputs": [],
   "source": [
    "import pandas as pd\n",
    "\n",
    "try:\n",
    "    data = pd.read_csv('/datasets/data.csv')\n",
    "except:\n",
    "    data = pd.read_csv('https://code.s3.yandex.net/datasets/data.csv')"
   ]
  },
  {
   "cell_type": "markdown",
   "id": "45365635",
   "metadata": {
    "deletable": false,
    "editable": false,
    "id": "45365635"
   },
   "source": [
    "**Задание 2. Выведите первые 20 строчек датафрейма `data` на экран.**"
   ]
  },
  {
   "cell_type": "code",
   "execution_count": 2,
   "id": "b0451a9a",
   "metadata": {
    "deletable": false,
    "id": "b0451a9a",
    "outputId": "1a8f3ef2-d323-4ec2-ddf7-89670b5944c4"
   },
   "outputs": [
    {
     "data": {
      "text/html": [
       "<div>\n",
       "<style scoped>\n",
       "    .dataframe tbody tr th:only-of-type {\n",
       "        vertical-align: middle;\n",
       "    }\n",
       "\n",
       "    .dataframe tbody tr th {\n",
       "        vertical-align: top;\n",
       "    }\n",
       "\n",
       "    .dataframe thead th {\n",
       "        text-align: right;\n",
       "    }\n",
       "</style>\n",
       "<table border=\"1\" class=\"dataframe\">\n",
       "  <thead>\n",
       "    <tr style=\"text-align: right;\">\n",
       "      <th></th>\n",
       "      <th>children</th>\n",
       "      <th>days_employed</th>\n",
       "      <th>dob_years</th>\n",
       "      <th>education</th>\n",
       "      <th>education_id</th>\n",
       "      <th>family_status</th>\n",
       "      <th>family_status_id</th>\n",
       "      <th>gender</th>\n",
       "      <th>income_type</th>\n",
       "      <th>debt</th>\n",
       "      <th>total_income</th>\n",
       "      <th>purpose</th>\n",
       "    </tr>\n",
       "  </thead>\n",
       "  <tbody>\n",
       "    <tr>\n",
       "      <th>0</th>\n",
       "      <td>1</td>\n",
       "      <td>-8437.673028</td>\n",
       "      <td>42</td>\n",
       "      <td>высшее</td>\n",
       "      <td>0</td>\n",
       "      <td>женат / замужем</td>\n",
       "      <td>0</td>\n",
       "      <td>F</td>\n",
       "      <td>сотрудник</td>\n",
       "      <td>0</td>\n",
       "      <td>253875.639453</td>\n",
       "      <td>покупка жилья</td>\n",
       "    </tr>\n",
       "    <tr>\n",
       "      <th>1</th>\n",
       "      <td>1</td>\n",
       "      <td>-4024.803754</td>\n",
       "      <td>36</td>\n",
       "      <td>среднее</td>\n",
       "      <td>1</td>\n",
       "      <td>женат / замужем</td>\n",
       "      <td>0</td>\n",
       "      <td>F</td>\n",
       "      <td>сотрудник</td>\n",
       "      <td>0</td>\n",
       "      <td>112080.014102</td>\n",
       "      <td>приобретение автомобиля</td>\n",
       "    </tr>\n",
       "    <tr>\n",
       "      <th>2</th>\n",
       "      <td>0</td>\n",
       "      <td>-5623.422610</td>\n",
       "      <td>33</td>\n",
       "      <td>Среднее</td>\n",
       "      <td>1</td>\n",
       "      <td>женат / замужем</td>\n",
       "      <td>0</td>\n",
       "      <td>M</td>\n",
       "      <td>сотрудник</td>\n",
       "      <td>0</td>\n",
       "      <td>145885.952297</td>\n",
       "      <td>покупка жилья</td>\n",
       "    </tr>\n",
       "    <tr>\n",
       "      <th>3</th>\n",
       "      <td>3</td>\n",
       "      <td>-4124.747207</td>\n",
       "      <td>32</td>\n",
       "      <td>среднее</td>\n",
       "      <td>1</td>\n",
       "      <td>женат / замужем</td>\n",
       "      <td>0</td>\n",
       "      <td>M</td>\n",
       "      <td>сотрудник</td>\n",
       "      <td>0</td>\n",
       "      <td>267628.550329</td>\n",
       "      <td>дополнительное образование</td>\n",
       "    </tr>\n",
       "    <tr>\n",
       "      <th>4</th>\n",
       "      <td>0</td>\n",
       "      <td>340266.072047</td>\n",
       "      <td>53</td>\n",
       "      <td>среднее</td>\n",
       "      <td>1</td>\n",
       "      <td>гражданский брак</td>\n",
       "      <td>1</td>\n",
       "      <td>F</td>\n",
       "      <td>пенсионер</td>\n",
       "      <td>0</td>\n",
       "      <td>158616.077870</td>\n",
       "      <td>сыграть свадьбу</td>\n",
       "    </tr>\n",
       "    <tr>\n",
       "      <th>5</th>\n",
       "      <td>0</td>\n",
       "      <td>-926.185831</td>\n",
       "      <td>27</td>\n",
       "      <td>высшее</td>\n",
       "      <td>0</td>\n",
       "      <td>гражданский брак</td>\n",
       "      <td>1</td>\n",
       "      <td>M</td>\n",
       "      <td>компаньон</td>\n",
       "      <td>0</td>\n",
       "      <td>255763.565419</td>\n",
       "      <td>покупка жилья</td>\n",
       "    </tr>\n",
       "    <tr>\n",
       "      <th>6</th>\n",
       "      <td>0</td>\n",
       "      <td>-2879.202052</td>\n",
       "      <td>43</td>\n",
       "      <td>высшее</td>\n",
       "      <td>0</td>\n",
       "      <td>женат / замужем</td>\n",
       "      <td>0</td>\n",
       "      <td>F</td>\n",
       "      <td>компаньон</td>\n",
       "      <td>0</td>\n",
       "      <td>240525.971920</td>\n",
       "      <td>операции с жильем</td>\n",
       "    </tr>\n",
       "    <tr>\n",
       "      <th>7</th>\n",
       "      <td>0</td>\n",
       "      <td>-152.779569</td>\n",
       "      <td>50</td>\n",
       "      <td>СРЕДНЕЕ</td>\n",
       "      <td>1</td>\n",
       "      <td>женат / замужем</td>\n",
       "      <td>0</td>\n",
       "      <td>M</td>\n",
       "      <td>сотрудник</td>\n",
       "      <td>0</td>\n",
       "      <td>135823.934197</td>\n",
       "      <td>образование</td>\n",
       "    </tr>\n",
       "    <tr>\n",
       "      <th>8</th>\n",
       "      <td>2</td>\n",
       "      <td>-6929.865299</td>\n",
       "      <td>35</td>\n",
       "      <td>ВЫСШЕЕ</td>\n",
       "      <td>0</td>\n",
       "      <td>гражданский брак</td>\n",
       "      <td>1</td>\n",
       "      <td>F</td>\n",
       "      <td>сотрудник</td>\n",
       "      <td>0</td>\n",
       "      <td>95856.832424</td>\n",
       "      <td>на проведение свадьбы</td>\n",
       "    </tr>\n",
       "    <tr>\n",
       "      <th>9</th>\n",
       "      <td>0</td>\n",
       "      <td>-2188.756445</td>\n",
       "      <td>41</td>\n",
       "      <td>среднее</td>\n",
       "      <td>1</td>\n",
       "      <td>женат / замужем</td>\n",
       "      <td>0</td>\n",
       "      <td>M</td>\n",
       "      <td>сотрудник</td>\n",
       "      <td>0</td>\n",
       "      <td>144425.938277</td>\n",
       "      <td>покупка жилья для семьи</td>\n",
       "    </tr>\n",
       "    <tr>\n",
       "      <th>10</th>\n",
       "      <td>2</td>\n",
       "      <td>-4171.483647</td>\n",
       "      <td>36</td>\n",
       "      <td>высшее</td>\n",
       "      <td>0</td>\n",
       "      <td>женат / замужем</td>\n",
       "      <td>0</td>\n",
       "      <td>M</td>\n",
       "      <td>компаньон</td>\n",
       "      <td>0</td>\n",
       "      <td>113943.491460</td>\n",
       "      <td>покупка недвижимости</td>\n",
       "    </tr>\n",
       "    <tr>\n",
       "      <th>11</th>\n",
       "      <td>0</td>\n",
       "      <td>-792.701887</td>\n",
       "      <td>40</td>\n",
       "      <td>среднее</td>\n",
       "      <td>1</td>\n",
       "      <td>женат / замужем</td>\n",
       "      <td>0</td>\n",
       "      <td>F</td>\n",
       "      <td>сотрудник</td>\n",
       "      <td>0</td>\n",
       "      <td>77069.234271</td>\n",
       "      <td>покупка коммерческой недвижимости</td>\n",
       "    </tr>\n",
       "    <tr>\n",
       "      <th>12</th>\n",
       "      <td>0</td>\n",
       "      <td>NaN</td>\n",
       "      <td>65</td>\n",
       "      <td>среднее</td>\n",
       "      <td>1</td>\n",
       "      <td>гражданский брак</td>\n",
       "      <td>1</td>\n",
       "      <td>M</td>\n",
       "      <td>пенсионер</td>\n",
       "      <td>0</td>\n",
       "      <td>NaN</td>\n",
       "      <td>сыграть свадьбу</td>\n",
       "    </tr>\n",
       "    <tr>\n",
       "      <th>13</th>\n",
       "      <td>0</td>\n",
       "      <td>-1846.641941</td>\n",
       "      <td>54</td>\n",
       "      <td>неоконченное высшее</td>\n",
       "      <td>2</td>\n",
       "      <td>женат / замужем</td>\n",
       "      <td>0</td>\n",
       "      <td>F</td>\n",
       "      <td>сотрудник</td>\n",
       "      <td>0</td>\n",
       "      <td>130458.228857</td>\n",
       "      <td>приобретение автомобиля</td>\n",
       "    </tr>\n",
       "    <tr>\n",
       "      <th>14</th>\n",
       "      <td>0</td>\n",
       "      <td>-1844.956182</td>\n",
       "      <td>56</td>\n",
       "      <td>высшее</td>\n",
       "      <td>0</td>\n",
       "      <td>гражданский брак</td>\n",
       "      <td>1</td>\n",
       "      <td>F</td>\n",
       "      <td>компаньон</td>\n",
       "      <td>1</td>\n",
       "      <td>165127.911772</td>\n",
       "      <td>покупка жилой недвижимости</td>\n",
       "    </tr>\n",
       "    <tr>\n",
       "      <th>15</th>\n",
       "      <td>1</td>\n",
       "      <td>-972.364419</td>\n",
       "      <td>26</td>\n",
       "      <td>среднее</td>\n",
       "      <td>1</td>\n",
       "      <td>женат / замужем</td>\n",
       "      <td>0</td>\n",
       "      <td>F</td>\n",
       "      <td>сотрудник</td>\n",
       "      <td>0</td>\n",
       "      <td>116820.904450</td>\n",
       "      <td>строительство собственной недвижимости</td>\n",
       "    </tr>\n",
       "    <tr>\n",
       "      <th>16</th>\n",
       "      <td>0</td>\n",
       "      <td>-1719.934226</td>\n",
       "      <td>35</td>\n",
       "      <td>среднее</td>\n",
       "      <td>1</td>\n",
       "      <td>женат / замужем</td>\n",
       "      <td>0</td>\n",
       "      <td>F</td>\n",
       "      <td>сотрудник</td>\n",
       "      <td>0</td>\n",
       "      <td>289202.704229</td>\n",
       "      <td>недвижимость</td>\n",
       "    </tr>\n",
       "    <tr>\n",
       "      <th>17</th>\n",
       "      <td>0</td>\n",
       "      <td>-2369.999720</td>\n",
       "      <td>33</td>\n",
       "      <td>высшее</td>\n",
       "      <td>0</td>\n",
       "      <td>гражданский брак</td>\n",
       "      <td>1</td>\n",
       "      <td>M</td>\n",
       "      <td>сотрудник</td>\n",
       "      <td>0</td>\n",
       "      <td>90410.586745</td>\n",
       "      <td>строительство недвижимости</td>\n",
       "    </tr>\n",
       "    <tr>\n",
       "      <th>18</th>\n",
       "      <td>0</td>\n",
       "      <td>400281.136913</td>\n",
       "      <td>53</td>\n",
       "      <td>среднее</td>\n",
       "      <td>1</td>\n",
       "      <td>вдовец / вдова</td>\n",
       "      <td>2</td>\n",
       "      <td>F</td>\n",
       "      <td>пенсионер</td>\n",
       "      <td>0</td>\n",
       "      <td>56823.777243</td>\n",
       "      <td>на покупку подержанного автомобиля</td>\n",
       "    </tr>\n",
       "    <tr>\n",
       "      <th>19</th>\n",
       "      <td>0</td>\n",
       "      <td>-10038.818549</td>\n",
       "      <td>48</td>\n",
       "      <td>СРЕДНЕЕ</td>\n",
       "      <td>1</td>\n",
       "      <td>в разводе</td>\n",
       "      <td>3</td>\n",
       "      <td>F</td>\n",
       "      <td>сотрудник</td>\n",
       "      <td>0</td>\n",
       "      <td>242831.107982</td>\n",
       "      <td>на покупку своего автомобиля</td>\n",
       "    </tr>\n",
       "  </tbody>\n",
       "</table>\n",
       "</div>"
      ],
      "text/plain": [
       "    children  days_employed  dob_years            education  education_id  \\\n",
       "0          1   -8437.673028         42               высшее             0   \n",
       "1          1   -4024.803754         36              среднее             1   \n",
       "2          0   -5623.422610         33              Среднее             1   \n",
       "3          3   -4124.747207         32              среднее             1   \n",
       "4          0  340266.072047         53              среднее             1   \n",
       "5          0    -926.185831         27               высшее             0   \n",
       "6          0   -2879.202052         43               высшее             0   \n",
       "7          0    -152.779569         50              СРЕДНЕЕ             1   \n",
       "8          2   -6929.865299         35               ВЫСШЕЕ             0   \n",
       "9          0   -2188.756445         41              среднее             1   \n",
       "10         2   -4171.483647         36               высшее             0   \n",
       "11         0    -792.701887         40              среднее             1   \n",
       "12         0            NaN         65              среднее             1   \n",
       "13         0   -1846.641941         54  неоконченное высшее             2   \n",
       "14         0   -1844.956182         56               высшее             0   \n",
       "15         1    -972.364419         26              среднее             1   \n",
       "16         0   -1719.934226         35              среднее             1   \n",
       "17         0   -2369.999720         33               высшее             0   \n",
       "18         0  400281.136913         53              среднее             1   \n",
       "19         0  -10038.818549         48              СРЕДНЕЕ             1   \n",
       "\n",
       "       family_status  family_status_id gender income_type  debt  \\\n",
       "0    женат / замужем                 0      F   сотрудник     0   \n",
       "1    женат / замужем                 0      F   сотрудник     0   \n",
       "2    женат / замужем                 0      M   сотрудник     0   \n",
       "3    женат / замужем                 0      M   сотрудник     0   \n",
       "4   гражданский брак                 1      F   пенсионер     0   \n",
       "5   гражданский брак                 1      M   компаньон     0   \n",
       "6    женат / замужем                 0      F   компаньон     0   \n",
       "7    женат / замужем                 0      M   сотрудник     0   \n",
       "8   гражданский брак                 1      F   сотрудник     0   \n",
       "9    женат / замужем                 0      M   сотрудник     0   \n",
       "10   женат / замужем                 0      M   компаньон     0   \n",
       "11   женат / замужем                 0      F   сотрудник     0   \n",
       "12  гражданский брак                 1      M   пенсионер     0   \n",
       "13   женат / замужем                 0      F   сотрудник     0   \n",
       "14  гражданский брак                 1      F   компаньон     1   \n",
       "15   женат / замужем                 0      F   сотрудник     0   \n",
       "16   женат / замужем                 0      F   сотрудник     0   \n",
       "17  гражданский брак                 1      M   сотрудник     0   \n",
       "18    вдовец / вдова                 2      F   пенсионер     0   \n",
       "19         в разводе                 3      F   сотрудник     0   \n",
       "\n",
       "     total_income                                 purpose  \n",
       "0   253875.639453                           покупка жилья  \n",
       "1   112080.014102                 приобретение автомобиля  \n",
       "2   145885.952297                           покупка жилья  \n",
       "3   267628.550329              дополнительное образование  \n",
       "4   158616.077870                         сыграть свадьбу  \n",
       "5   255763.565419                           покупка жилья  \n",
       "6   240525.971920                       операции с жильем  \n",
       "7   135823.934197                             образование  \n",
       "8    95856.832424                   на проведение свадьбы  \n",
       "9   144425.938277                 покупка жилья для семьи  \n",
       "10  113943.491460                    покупка недвижимости  \n",
       "11   77069.234271       покупка коммерческой недвижимости  \n",
       "12            NaN                         сыграть свадьбу  \n",
       "13  130458.228857                 приобретение автомобиля  \n",
       "14  165127.911772              покупка жилой недвижимости  \n",
       "15  116820.904450  строительство собственной недвижимости  \n",
       "16  289202.704229                            недвижимость  \n",
       "17   90410.586745              строительство недвижимости  \n",
       "18   56823.777243      на покупку подержанного автомобиля  \n",
       "19  242831.107982            на покупку своего автомобиля  "
      ]
     },
     "execution_count": 2,
     "metadata": {},
     "output_type": "execute_result"
    }
   ],
   "source": [
    "data.head(20)"
   ]
  },
  {
   "cell_type": "markdown",
   "id": "0ed8f27f",
   "metadata": {
    "deletable": false,
    "editable": false,
    "id": "0ed8f27f"
   },
   "source": [
    "**Задание 3. Выведите основную информацию о датафрейме с помощью метода `info()`.**"
   ]
  },
  {
   "cell_type": "code",
   "execution_count": 3,
   "id": "ab3f863b",
   "metadata": {
    "deletable": false,
    "id": "ab3f863b",
    "outputId": "15376089-8dad-46c9-b520-c05248d43158"
   },
   "outputs": [
    {
     "name": "stdout",
     "output_type": "stream",
     "text": [
      "<class 'pandas.core.frame.DataFrame'>\n",
      "RangeIndex: 21525 entries, 0 to 21524\n",
      "Data columns (total 12 columns):\n",
      " #   Column            Non-Null Count  Dtype  \n",
      "---  ------            --------------  -----  \n",
      " 0   children          21525 non-null  int64  \n",
      " 1   days_employed     19351 non-null  float64\n",
      " 2   dob_years         21525 non-null  int64  \n",
      " 3   education         21525 non-null  object \n",
      " 4   education_id      21525 non-null  int64  \n",
      " 5   family_status     21525 non-null  object \n",
      " 6   family_status_id  21525 non-null  int64  \n",
      " 7   gender            21525 non-null  object \n",
      " 8   income_type       21525 non-null  object \n",
      " 9   debt              21525 non-null  int64  \n",
      " 10  total_income      19351 non-null  float64\n",
      " 11  purpose           21525 non-null  object \n",
      "dtypes: float64(2), int64(5), object(5)\n",
      "memory usage: 2.0+ MB\n"
     ]
    }
   ],
   "source": [
    "data.info()"
   ]
  },
  {
   "cell_type": "markdown",
   "id": "60e3e22d",
   "metadata": {
    "deletable": false,
    "editable": false,
    "id": "60e3e22d"
   },
   "source": [
    "## Предобработка данных"
   ]
  },
  {
   "cell_type": "markdown",
   "id": "03dc170c",
   "metadata": {
    "deletable": false,
    "editable": false,
    "id": "03dc170c"
   },
   "source": [
    "### Удаление пропусков"
   ]
  },
  {
   "cell_type": "markdown",
   "id": "a4f54eef",
   "metadata": {
    "deletable": false,
    "editable": false,
    "id": "a4f54eef"
   },
   "source": [
    "**Задание 4. Выведите количество пропущенных значений для каждого столбца. Используйте комбинацию двух методов.**"
   ]
  },
  {
   "cell_type": "code",
   "execution_count": 4,
   "id": "2dc372b2",
   "metadata": {
    "deletable": false,
    "id": "2dc372b2",
    "outputId": "81f4d817-781c-465c-ed15-91ce4446810d"
   },
   "outputs": [
    {
     "data": {
      "text/plain": [
       "children               0\n",
       "days_employed       2174\n",
       "dob_years              0\n",
       "education              0\n",
       "education_id           0\n",
       "family_status          0\n",
       "family_status_id       0\n",
       "gender                 0\n",
       "income_type            0\n",
       "debt                   0\n",
       "total_income        2174\n",
       "purpose                0\n",
       "dtype: int64"
      ]
     },
     "execution_count": 4,
     "metadata": {},
     "output_type": "execute_result"
    }
   ],
   "source": [
    "data.isna().sum()"
   ]
  },
  {
   "cell_type": "markdown",
   "id": "14f011b1",
   "metadata": {
    "deletable": false,
    "editable": false,
    "id": "14f011b1"
   },
   "source": [
    "**Задание 5. В двух столбцах есть пропущенные значения. Один из них — `days_employed`. Пропуски в этом столбце вы обработаете на следующем этапе. Другой столбец с пропущенными значениями — `total_income` — хранит данные о доходах. На сумму дохода сильнее всего влияет тип занятости, поэтому заполнить пропуски в этом столбце нужно медианным значением по каждому типу из столбца `income_type`. Например, у человека с типом занятости `сотрудник` пропуск в столбце `total_income` должен быть заполнен медианным доходом среди всех записей с тем же типом.**"
   ]
  },
  {
   "cell_type": "code",
   "execution_count": 5,
   "id": "bdabfb6e",
   "metadata": {
    "deletable": false,
    "id": "bdabfb6e"
   },
   "outputs": [],
   "source": [
    "for t in data['income_type'].unique():\n",
    "    data.loc[(data['income_type'] == t) & (data['total_income'].isna()), 'total_income'] = \\\n",
    "    data.loc[(data['income_type'] == t), 'total_income'].median()"
   ]
  },
  {
   "cell_type": "markdown",
   "id": "5be34059",
   "metadata": {
    "deletable": false,
    "editable": false,
    "id": "5be34059"
   },
   "source": [
    "### Обработка аномальных значений"
   ]
  },
  {
   "cell_type": "markdown",
   "id": "a87606cb",
   "metadata": {
    "deletable": false,
    "editable": false,
    "id": "a87606cb"
   },
   "source": [
    "**Задание 6. В данных могут встречаться артефакты (аномалии) — значения, которые не отражают действительность и появились по какой-то ошибке. таким артефактом будет отрицательное количество дней трудового стажа в столбце `days_employed`. Для реальных данных это нормально. Обработайте значения в этом столбце: замените все отрицательные значения положительными с помощью метода `abs()`.**"
   ]
  },
  {
   "cell_type": "code",
   "execution_count": 6,
   "id": "020c46cc",
   "metadata": {
    "deletable": false,
    "id": "020c46cc"
   },
   "outputs": [],
   "source": [
    "data['days_employed'] = data['days_employed'].abs()"
   ]
  },
  {
   "cell_type": "markdown",
   "id": "45538a3a",
   "metadata": {
    "deletable": false,
    "editable": false,
    "id": "45538a3a"
   },
   "source": [
    "**Задание 7. Для каждого типа занятости выведите медианное значение трудового стажа `days_employed` в днях.**"
   ]
  },
  {
   "cell_type": "code",
   "execution_count": 7,
   "id": "cd3e6328",
   "metadata": {
    "deletable": false,
    "id": "cd3e6328",
    "outputId": "801ef80e-522b-4668-f34e-565af7432bcf"
   },
   "outputs": [
    {
     "data": {
      "text/plain": [
       "income_type\n",
       "безработный        366413.652744\n",
       "в декрете            3296.759962\n",
       "госслужащий          2689.368353\n",
       "компаньон            1547.382223\n",
       "пенсионер          365213.306266\n",
       "предприниматель       520.848083\n",
       "сотрудник            1574.202821\n",
       "студент               578.751554\n",
       "Name: days_employed, dtype: float64"
      ]
     },
     "execution_count": 7,
     "metadata": {},
     "output_type": "execute_result"
    }
   ],
   "source": [
    "data.groupby('income_type')['days_employed'].agg('median')"
   ]
  },
  {
   "cell_type": "markdown",
   "id": "90c5f058",
   "metadata": {
    "deletable": false,
    "editable": false,
    "id": "90c5f058"
   },
   "source": [
    "У двух типов (безработные и пенсионеры) получатся аномально большие значения. Исправить такие значения сложно, поэтому оставьте их как есть."
   ]
  },
  {
   "cell_type": "markdown",
   "id": "9652e50d",
   "metadata": {
    "deletable": false,
    "editable": false,
    "id": "9652e50d"
   },
   "source": [
    "**Задание 8. Выведите перечень уникальных значений столбца `children`.**"
   ]
  },
  {
   "cell_type": "code",
   "execution_count": 8,
   "id": "dbb37b8e",
   "metadata": {
    "deletable": false,
    "id": "dbb37b8e",
    "outputId": "6975b15c-7f95-4697-d16d-a0c79b657b03"
   },
   "outputs": [
    {
     "data": {
      "text/plain": [
       "array([ 1,  0,  3,  2, -1,  4, 20,  5])"
      ]
     },
     "execution_count": 8,
     "metadata": {},
     "output_type": "execute_result"
    }
   ],
   "source": [
    "data['children'].unique()"
   ]
  },
  {
   "cell_type": "markdown",
   "id": "2b8b0715",
   "metadata": {
    "deletable": false,
    "editable": false,
    "id": "2b8b0715"
   },
   "source": [
    "**Задание 9. В столбце `children` есть два аномальных значения. Удалите строки, в которых встречаются такие аномальные значения из датафрейма `data`.**"
   ]
  },
  {
   "cell_type": "code",
   "execution_count": 9,
   "id": "20009df8",
   "metadata": {
    "deletable": false,
    "id": "20009df8"
   },
   "outputs": [],
   "source": [
    "data = data[(data['children'] != -1) & (data['children'] != 20)]"
   ]
  },
  {
   "cell_type": "markdown",
   "id": "8c6ac9f1",
   "metadata": {
    "deletable": false,
    "editable": false,
    "id": "8c6ac9f1"
   },
   "source": [
    "**Задание 10. Ещё раз выведите перечень уникальных значений столбца `children`, чтобы убедиться, что артефакты удалены.**"
   ]
  },
  {
   "cell_type": "code",
   "execution_count": 10,
   "id": "07337b81",
   "metadata": {
    "deletable": false,
    "id": "07337b81",
    "outputId": "b2097101-d49d-44d9-901b-32a65c9463d1"
   },
   "outputs": [
    {
     "data": {
      "text/plain": [
       "array([1, 0, 3, 2, 4, 5])"
      ]
     },
     "execution_count": 10,
     "metadata": {},
     "output_type": "execute_result"
    }
   ],
   "source": [
    "data['children'].unique()"
   ]
  },
  {
   "cell_type": "markdown",
   "id": "ee3f52d4",
   "metadata": {
    "deletable": false,
    "editable": false,
    "id": "ee3f52d4"
   },
   "source": [
    "### Удаление пропусков (продолжение)"
   ]
  },
  {
   "cell_type": "markdown",
   "id": "a700b0e4",
   "metadata": {
    "deletable": false,
    "editable": false,
    "id": "a700b0e4"
   },
   "source": [
    "**Задание 11. Заполните пропуски в столбце `days_employed` медианными значениями по каждого типа занятости `income_type`.**"
   ]
  },
  {
   "cell_type": "code",
   "execution_count": 11,
   "id": "61946b83",
   "metadata": {
    "deletable": false,
    "id": "61946b83"
   },
   "outputs": [],
   "source": [
    "for t in data['income_type'].unique():\n",
    "    data.loc[(data['income_type'] == t) & (data['days_employed'].isna()), 'days_employed'] = \\\n",
    "    data.loc[(data['income_type'] == t), 'days_employed'].median()"
   ]
  },
  {
   "cell_type": "markdown",
   "id": "550dcd9b",
   "metadata": {
    "deletable": false,
    "editable": false,
    "id": "550dcd9b"
   },
   "source": [
    "**Задание 12. Убедитесь, что все пропуски заполнены. Проверьте себя и ещё раз выведите количество пропущенных значений для каждого столбца с помощью двух методов.**"
   ]
  },
  {
   "cell_type": "code",
   "execution_count": 12,
   "id": "937c7014",
   "metadata": {
    "deletable": false,
    "id": "937c7014",
    "outputId": "8da1e4e1-358e-4e87-98c9-f261bce0a7b2"
   },
   "outputs": [
    {
     "data": {
      "text/plain": [
       "children            0\n",
       "days_employed       0\n",
       "dob_years           0\n",
       "education           0\n",
       "education_id        0\n",
       "family_status       0\n",
       "family_status_id    0\n",
       "gender              0\n",
       "income_type         0\n",
       "debt                0\n",
       "total_income        0\n",
       "purpose             0\n",
       "dtype: int64"
      ]
     },
     "execution_count": 12,
     "metadata": {},
     "output_type": "execute_result"
    }
   ],
   "source": [
    "data.isna().sum()"
   ]
  },
  {
   "cell_type": "markdown",
   "id": "d522e295",
   "metadata": {
    "deletable": false,
    "editable": false,
    "id": "d522e295"
   },
   "source": [
    "### Изменение типов данных"
   ]
  },
  {
   "cell_type": "markdown",
   "id": "c229c581",
   "metadata": {
    "deletable": false,
    "editable": false,
    "id": "c229c581"
   },
   "source": [
    "**Задание 13. Замените вещественный тип данных в столбце `total_income` на целочисленный с помощью метода `astype()`.**"
   ]
  },
  {
   "cell_type": "code",
   "execution_count": 13,
   "id": "31036462",
   "metadata": {
    "deletable": false,
    "id": "31036462"
   },
   "outputs": [],
   "source": [
    "data['total_income'] = data['total_income'].astype(int)"
   ]
  },
  {
   "cell_type": "markdown",
   "id": "b8e3d1d9",
   "metadata": {
    "deletable": false,
    "editable": false,
    "id": "b8e3d1d9"
   },
   "source": [
    "### Обработка дубликатов"
   ]
  },
  {
   "cell_type": "markdown",
   "id": "9be53c49",
   "metadata": {
    "deletable": false,
    "editable": false,
    "id": "9be53c49"
   },
   "source": [
    "**Задание 14. Обработайте неявные дубликаты в столбце `education`. В этом столбце есть одни и те же значения, но записанные по-разному: с использованием заглавных и строчных букв. Приведите их к нижнему регистру.**"
   ]
  },
  {
   "cell_type": "code",
   "execution_count": 14,
   "id": "d89e73e1",
   "metadata": {
    "deletable": false,
    "id": "d89e73e1"
   },
   "outputs": [],
   "source": [
    "data['education'] = data['education'].str.lower()"
   ]
  },
  {
   "cell_type": "markdown",
   "id": "01d4500e",
   "metadata": {
    "deletable": false,
    "editable": false,
    "id": "01d4500e"
   },
   "source": [
    "**Задание 15. Выведите на экран количество строк-дубликатов в данных. Если такие строки присутствуют, удалите их.**"
   ]
  },
  {
   "cell_type": "code",
   "execution_count": 15,
   "id": "e10efb23",
   "metadata": {
    "deletable": false,
    "id": "e10efb23",
    "outputId": "9684deba-1934-42d1-99e1-cda61740f822"
   },
   "outputs": [
    {
     "data": {
      "text/plain": [
       "71"
      ]
     },
     "execution_count": 15,
     "metadata": {},
     "output_type": "execute_result"
    }
   ],
   "source": [
    "data.duplicated().sum()"
   ]
  },
  {
   "cell_type": "code",
   "execution_count": 16,
   "id": "df853f20",
   "metadata": {
    "deletable": false,
    "id": "df853f20"
   },
   "outputs": [],
   "source": [
    "data = data.drop_duplicates()"
   ]
  },
  {
   "cell_type": "markdown",
   "id": "627be38f",
   "metadata": {
    "deletable": false,
    "editable": false,
    "id": "627be38f"
   },
   "source": [
    "### Категоризация данных"
   ]
  },
  {
   "cell_type": "markdown",
   "id": "4684c3e0",
   "metadata": {
    "deletable": false,
    "editable": false,
    "id": "4684c3e0"
   },
   "source": [
    "**Задание 16. На основании диапазонов, указанных ниже, создайте в датафрейме `data` столбец `total_income_category` с категориями:**\n",
    "\n",
    "- 0–30000 — `'E'`;\n",
    "- 30001–50000 — `'D'`;\n",
    "- 50001–200000 — `'C'`;\n",
    "- 200001–1000000 — `'B'`;\n",
    "- 1000001 и выше — `'A'`.\n",
    "\n",
    "\n",
    "**Например, кредитополучателю с доходом 25000 нужно назначить категорию `'E'`, а клиенту, получающему 235000, — `'B'`. Используйте собственную функцию с именем `categorize_income()` и метод `apply()`.**"
   ]
  },
  {
   "cell_type": "code",
   "execution_count": 17,
   "id": "78965238",
   "metadata": {
    "deletable": false,
    "id": "78965238"
   },
   "outputs": [],
   "source": [
    "def categorize_income(income):\n",
    "    try:\n",
    "        if 0 <= income <= 30000:\n",
    "            return 'E (от 0 до 30000)'\n",
    "        elif 30001 <= income <= 50000:\n",
    "            return 'D (от 30001 до 50000)'\n",
    "        elif 50001 <= income <= 200000:\n",
    "            return 'C (от 50001 до 200000)'\n",
    "        elif 200001 <= income <= 1000000:\n",
    "            return 'B (от 200001 до 1000000)'\n",
    "        elif income >= 1000001:\n",
    "            return 'A ( от 1000001 и выше)'\n",
    "    except:\n",
    "        pass"
   ]
  },
  {
   "cell_type": "code",
   "execution_count": 18,
   "id": "0980ada1",
   "metadata": {
    "deletable": false,
    "id": "0980ada1"
   },
   "outputs": [],
   "source": [
    "data['total_income_category'] = data['total_income'].apply(categorize_income)"
   ]
  },
  {
   "cell_type": "markdown",
   "id": "9917bba0",
   "metadata": {
    "deletable": false,
    "editable": false,
    "id": "9917bba0"
   },
   "source": [
    "**Задание 17. Выведите на экран перечень уникальных целей взятия кредита из столбца `purpose`.**"
   ]
  },
  {
   "cell_type": "code",
   "execution_count": 19,
   "id": "ee07b65e",
   "metadata": {
    "deletable": false,
    "id": "ee07b65e",
    "outputId": "673c12d9-7d7e-4ae0-9812-c622c89dd244"
   },
   "outputs": [
    {
     "data": {
      "text/plain": [
       "array(['покупка жилья', 'приобретение автомобиля',\n",
       "       'дополнительное образование', 'сыграть свадьбу',\n",
       "       'операции с жильем', 'образование', 'на проведение свадьбы',\n",
       "       'покупка жилья для семьи', 'покупка недвижимости',\n",
       "       'покупка коммерческой недвижимости', 'покупка жилой недвижимости',\n",
       "       'строительство собственной недвижимости', 'недвижимость',\n",
       "       'строительство недвижимости', 'на покупку подержанного автомобиля',\n",
       "       'на покупку своего автомобиля',\n",
       "       'операции с коммерческой недвижимостью',\n",
       "       'строительство жилой недвижимости', 'жилье',\n",
       "       'операции со своей недвижимостью', 'автомобили',\n",
       "       'заняться образованием', 'сделка с подержанным автомобилем',\n",
       "       'получение образования', 'автомобиль', 'свадьба',\n",
       "       'получение дополнительного образования', 'покупка своего жилья',\n",
       "       'операции с недвижимостью', 'получение высшего образования',\n",
       "       'свой автомобиль', 'сделка с автомобилем',\n",
       "       'профильное образование', 'высшее образование',\n",
       "       'покупка жилья для сдачи', 'на покупку автомобиля', 'ремонт жилью',\n",
       "       'заняться высшим образованием'], dtype=object)"
      ]
     },
     "execution_count": 19,
     "metadata": {},
     "output_type": "execute_result"
    }
   ],
   "source": [
    "data['purpose'].unique()"
   ]
  },
  {
   "cell_type": "markdown",
   "id": "52b79d56",
   "metadata": {
    "deletable": false,
    "editable": false,
    "id": "52b79d56"
   },
   "source": [
    "**Задание 18. Создайте функцию, которая на основании данных из столбца `purpose` сформирует новый столбец `purpose_category`, в который войдут следующие категории:**\n",
    "\n",
    "- `'операции с автомобилем'`,\n",
    "- `'операции с недвижимостью'`,\n",
    "- `'проведение свадьбы'`,\n",
    "- `'получение образования'`.\n",
    "\n",
    "**Например, если в столбце `purpose` находится подстрока `'на покупку автомобиля'`, то в столбце `purpose_category` должна появиться строка `'операции с автомобилем'`.**\n",
    "\n",
    "**Используйте собственную функцию с именем `categorize_purpose()` и метод `apply()`. Изучите данные в столбце `purpose` и определите, какие подстроки помогут вам правильно определить категорию.**"
   ]
  },
  {
   "cell_type": "code",
   "execution_count": 20,
   "id": "be41da5d",
   "metadata": {
    "deletable": false,
    "id": "be41da5d"
   },
   "outputs": [],
   "source": [
    "def categorize_purpose(data):\n",
    "    try:\n",
    "        if 'автом' in data:\n",
    "            return 'операции с автомобилем'\n",
    "        elif 'жил' in data or 'недвиж' in data:\n",
    "            return 'операции с недвижимостью'\n",
    "        elif 'свад' in data:\n",
    "            return 'проведение свадьбы'\n",
    "        elif 'образов' in data:\n",
    "            return 'получение образования'\n",
    "    except:\n",
    "        return 'нет категории'"
   ]
  },
  {
   "cell_type": "code",
   "execution_count": 40,
   "id": "94c4a19a",
   "metadata": {
    "deletable": false,
    "id": "94c4a19a",
    "scrolled": false
   },
   "outputs": [
    {
     "data": {
      "text/plain": [
       "операции с недвижимостью    10751\n",
       "операции с автомобилем       4279\n",
       "получение образования        3988\n",
       "проведение свадьбы           2313\n",
       "Name: purpose_category, dtype: int64"
      ]
     },
     "execution_count": 40,
     "metadata": {},
     "output_type": "execute_result"
    }
   ],
   "source": [
    "data['purpose_category'] = data['purpose'].apply(categorize_purpose)\n",
    "data['purpose_category'].value_counts()"
   ]
  },
  {
   "cell_type": "markdown",
   "id": "3d596c34",
   "metadata": {
    "deletable": false,
    "editable": false,
    "id": "3d596c34"
   },
   "source": [
    "### Шаг 3. Исследуйте данные и ответьте на вопросы"
   ]
  },
  {
   "cell_type": "markdown",
   "id": "85280bd7",
   "metadata": {},
   "source": [
    "_"
   ]
  },
  {
   "cell_type": "markdown",
   "id": "37b1fce4",
   "metadata": {},
   "source": [
    "**Для начала посмотрим на все вещественные и целочисленные значения `data` и проведём валидацию соотносимых данных и столбцов.**"
   ]
  },
  {
   "cell_type": "code",
   "execution_count": 22,
   "id": "3dd70bb5",
   "metadata": {
    "scrolled": false
   },
   "outputs": [
    {
     "data": {
      "text/html": [
       "<div>\n",
       "<style scoped>\n",
       "    .dataframe tbody tr th:only-of-type {\n",
       "        vertical-align: middle;\n",
       "    }\n",
       "\n",
       "    .dataframe tbody tr th {\n",
       "        vertical-align: top;\n",
       "    }\n",
       "\n",
       "    .dataframe thead th {\n",
       "        text-align: right;\n",
       "    }\n",
       "</style>\n",
       "<table border=\"1\" class=\"dataframe\">\n",
       "  <thead>\n",
       "    <tr style=\"text-align: right;\">\n",
       "      <th></th>\n",
       "      <th>children</th>\n",
       "      <th>days_employed</th>\n",
       "      <th>dob_years</th>\n",
       "      <th>education_id</th>\n",
       "      <th>family_status_id</th>\n",
       "      <th>debt</th>\n",
       "      <th>total_income</th>\n",
       "    </tr>\n",
       "  </thead>\n",
       "  <tbody>\n",
       "    <tr>\n",
       "      <th>count</th>\n",
       "      <td>21331.00</td>\n",
       "      <td>21331.00</td>\n",
       "      <td>21331.00</td>\n",
       "      <td>21331.00</td>\n",
       "      <td>21331.00</td>\n",
       "      <td>21331.00</td>\n",
       "      <td>21331.00</td>\n",
       "    </tr>\n",
       "    <tr>\n",
       "      <th>mean</th>\n",
       "      <td>0.47</td>\n",
       "      <td>67148.97</td>\n",
       "      <td>43.28</td>\n",
       "      <td>0.82</td>\n",
       "      <td>0.97</td>\n",
       "      <td>0.08</td>\n",
       "      <td>165342.75</td>\n",
       "    </tr>\n",
       "    <tr>\n",
       "      <th>std</th>\n",
       "      <td>0.75</td>\n",
       "      <td>139281.14</td>\n",
       "      <td>12.58</td>\n",
       "      <td>0.55</td>\n",
       "      <td>1.42</td>\n",
       "      <td>0.27</td>\n",
       "      <td>98313.99</td>\n",
       "    </tr>\n",
       "    <tr>\n",
       "      <th>min</th>\n",
       "      <td>0.00</td>\n",
       "      <td>24.14</td>\n",
       "      <td>0.00</td>\n",
       "      <td>0.00</td>\n",
       "      <td>0.00</td>\n",
       "      <td>0.00</td>\n",
       "      <td>20667.00</td>\n",
       "    </tr>\n",
       "    <tr>\n",
       "      <th>25%</th>\n",
       "      <td>0.00</td>\n",
       "      <td>1024.53</td>\n",
       "      <td>33.00</td>\n",
       "      <td>1.00</td>\n",
       "      <td>0.00</td>\n",
       "      <td>0.00</td>\n",
       "      <td>107507.00</td>\n",
       "    </tr>\n",
       "    <tr>\n",
       "      <th>50%</th>\n",
       "      <td>0.00</td>\n",
       "      <td>1996.73</td>\n",
       "      <td>42.00</td>\n",
       "      <td>1.00</td>\n",
       "      <td>0.00</td>\n",
       "      <td>0.00</td>\n",
       "      <td>142594.00</td>\n",
       "    </tr>\n",
       "    <tr>\n",
       "      <th>75%</th>\n",
       "      <td>1.00</td>\n",
       "      <td>5337.76</td>\n",
       "      <td>53.00</td>\n",
       "      <td>1.00</td>\n",
       "      <td>1.00</td>\n",
       "      <td>0.00</td>\n",
       "      <td>195842.00</td>\n",
       "    </tr>\n",
       "    <tr>\n",
       "      <th>max</th>\n",
       "      <td>5.00</td>\n",
       "      <td>401755.40</td>\n",
       "      <td>75.00</td>\n",
       "      <td>4.00</td>\n",
       "      <td>4.00</td>\n",
       "      <td>1.00</td>\n",
       "      <td>2265604.00</td>\n",
       "    </tr>\n",
       "  </tbody>\n",
       "</table>\n",
       "</div>"
      ],
      "text/plain": [
       "       children  days_employed  dob_years  education_id  family_status_id  \\\n",
       "count  21331.00       21331.00   21331.00      21331.00          21331.00   \n",
       "mean       0.47       67148.97      43.28          0.82              0.97   \n",
       "std        0.75      139281.14      12.58          0.55              1.42   \n",
       "min        0.00          24.14       0.00          0.00              0.00   \n",
       "25%        0.00        1024.53      33.00          1.00              0.00   \n",
       "50%        0.00        1996.73      42.00          1.00              0.00   \n",
       "75%        1.00        5337.76      53.00          1.00              1.00   \n",
       "max        5.00      401755.40      75.00          4.00              4.00   \n",
       "\n",
       "           debt  total_income  \n",
       "count  21331.00      21331.00  \n",
       "mean       0.08     165342.75  \n",
       "std        0.27      98313.99  \n",
       "min        0.00      20667.00  \n",
       "25%        0.00     107507.00  \n",
       "50%        0.00     142594.00  \n",
       "75%        0.00     195842.00  \n",
       "max        1.00    2265604.00  "
      ]
     },
     "execution_count": 22,
     "metadata": {},
     "output_type": "execute_result"
    }
   ],
   "source": [
    "data.describe().round(2)"
   ]
  },
  {
   "cell_type": "markdown",
   "id": "8f0b6804",
   "metadata": {},
   "source": [
    "**Выводы по столбцам:**"
   ]
  },
  {
   "cell_type": "markdown",
   "id": "20adeb81",
   "metadata": {},
   "source": [
    "_"
   ]
  },
  {
   "cell_type": "markdown",
   "id": "6bafeef3",
   "metadata": {},
   "source": [
    "**children** (количество детей) - всё в порядке, несоответствий не обнаружено."
   ]
  },
  {
   "cell_type": "markdown",
   "id": "95b239b8",
   "metadata": {},
   "source": [
    "_"
   ]
  },
  {
   "cell_type": "markdown",
   "id": "f0444781",
   "metadata": {},
   "source": [
    "**days_employed** (общий трудовой стаж в днях) - **найдено несоответствие**. "
   ]
  },
  {
   "cell_type": "markdown",
   "id": "0e81fdff",
   "metadata": {},
   "source": [
    "  Значение `max` слишком велико, не является возможным. Чтобы убедиться в этом поделим максимальное значение столбца `days_employed` на количество дней в году, 401755 / 365, это более **1100** лет трудового стажа. Значения `mean` и стандарное отклонение `std` так же выходят за рамки человеческой жизни. Если допустить, что некоторые аномальные значения указаны в часах, а не в днях, то поделив 401755 на 24, получается 16 739 дней, что является почти 45 годам трудового стажа, уже на правду. Так как не все значения в столбце указаны в часах, нам необходимо определить временные рамки, если значение выходит за них мы будем переводить часы в дни, остальное оставляем без изменений. Трудовой договор в России можно заключать с 16 лет, верхней границей будет максимальный возраст нашего датасета, это 75 лет. Получается 59 полных лет, с текущего дня прошло 21 548 дней, округлим до 21550.**\n",
    "\n",
    "    *p.s. В данном случае мы не будем разделять верхнюю границу возраста для мужчин и женщин т.к. максимальное значение возвраста для женщин в нашем датасете = 74.*"
   ]
  },
  {
   "cell_type": "markdown",
   "id": "5e86378e",
   "metadata": {},
   "source": [
    "_"
   ]
  },
  {
   "cell_type": "markdown",
   "id": "5d4d9135",
   "metadata": {},
   "source": [
    "**dob_years** - (возраст клиента в годах) **найдено несоответсвие.**"
   ]
  },
  {
   "cell_type": "markdown",
   "id": "dbf17025",
   "metadata": {},
   "source": [
    "Минимальное значение не может быть равно нулю. Эти пропуски будем заполнять средним значением по `income_type`"
   ]
  },
  {
   "cell_type": "markdown",
   "id": "c9fa40ce",
   "metadata": {},
   "source": [
    "_"
   ]
  },
  {
   "cell_type": "markdown",
   "id": "535510df",
   "metadata": {},
   "source": [
    "**total_income** - (ежемесячный доход) **всё в порядке**, грубых несоответствий не обнаружено, **но** следует проверить эту строчку с максимальным значением на тип занятости."
   ]
  },
  {
   "cell_type": "markdown",
   "id": "4fd63217",
   "metadata": {},
   "source": [
    "###  Закончим предобработку данных и ответим на вопросы"
   ]
  },
  {
   "cell_type": "markdown",
   "id": "85a50f9b",
   "metadata": {},
   "source": [
    "**Исправим значения столбца `days_employed`**"
   ]
  },
  {
   "cell_type": "code",
   "execution_count": 23,
   "id": "020628d6",
   "metadata": {
    "scrolled": true
   },
   "outputs": [
    {
     "data": {
      "text/html": [
       "<div>\n",
       "<style scoped>\n",
       "    .dataframe tbody tr th:only-of-type {\n",
       "        vertical-align: middle;\n",
       "    }\n",
       "\n",
       "    .dataframe tbody tr th {\n",
       "        vertical-align: top;\n",
       "    }\n",
       "\n",
       "    .dataframe thead th {\n",
       "        text-align: right;\n",
       "    }\n",
       "</style>\n",
       "<table border=\"1\" class=\"dataframe\">\n",
       "  <thead>\n",
       "    <tr style=\"text-align: right;\">\n",
       "      <th></th>\n",
       "      <th>children</th>\n",
       "      <th>days_employed</th>\n",
       "      <th>dob_years</th>\n",
       "      <th>education</th>\n",
       "      <th>education_id</th>\n",
       "      <th>family_status</th>\n",
       "      <th>family_status_id</th>\n",
       "      <th>gender</th>\n",
       "      <th>income_type</th>\n",
       "      <th>debt</th>\n",
       "      <th>total_income</th>\n",
       "      <th>purpose</th>\n",
       "      <th>total_income_category</th>\n",
       "      <th>purpose_category</th>\n",
       "    </tr>\n",
       "  </thead>\n",
       "  <tbody>\n",
       "    <tr>\n",
       "      <th>0</th>\n",
       "      <td>1</td>\n",
       "      <td>8437.673028</td>\n",
       "      <td>42</td>\n",
       "      <td>высшее</td>\n",
       "      <td>0</td>\n",
       "      <td>женат / замужем</td>\n",
       "      <td>0</td>\n",
       "      <td>F</td>\n",
       "      <td>сотрудник</td>\n",
       "      <td>0</td>\n",
       "      <td>253875</td>\n",
       "      <td>покупка жилья</td>\n",
       "      <td>B (от 200001 до 1000000)</td>\n",
       "      <td>операции с недвижимостью</td>\n",
       "    </tr>\n",
       "    <tr>\n",
       "      <th>1</th>\n",
       "      <td>1</td>\n",
       "      <td>4024.803754</td>\n",
       "      <td>36</td>\n",
       "      <td>среднее</td>\n",
       "      <td>1</td>\n",
       "      <td>женат / замужем</td>\n",
       "      <td>0</td>\n",
       "      <td>F</td>\n",
       "      <td>сотрудник</td>\n",
       "      <td>0</td>\n",
       "      <td>112080</td>\n",
       "      <td>приобретение автомобиля</td>\n",
       "      <td>C (от 50001 до 200000)</td>\n",
       "      <td>операции с автомобилем</td>\n",
       "    </tr>\n",
       "    <tr>\n",
       "      <th>2</th>\n",
       "      <td>0</td>\n",
       "      <td>5623.422610</td>\n",
       "      <td>33</td>\n",
       "      <td>среднее</td>\n",
       "      <td>1</td>\n",
       "      <td>женат / замужем</td>\n",
       "      <td>0</td>\n",
       "      <td>M</td>\n",
       "      <td>сотрудник</td>\n",
       "      <td>0</td>\n",
       "      <td>145885</td>\n",
       "      <td>покупка жилья</td>\n",
       "      <td>C (от 50001 до 200000)</td>\n",
       "      <td>операции с недвижимостью</td>\n",
       "    </tr>\n",
       "    <tr>\n",
       "      <th>3</th>\n",
       "      <td>3</td>\n",
       "      <td>4124.747207</td>\n",
       "      <td>32</td>\n",
       "      <td>среднее</td>\n",
       "      <td>1</td>\n",
       "      <td>женат / замужем</td>\n",
       "      <td>0</td>\n",
       "      <td>M</td>\n",
       "      <td>сотрудник</td>\n",
       "      <td>0</td>\n",
       "      <td>267628</td>\n",
       "      <td>дополнительное образование</td>\n",
       "      <td>B (от 200001 до 1000000)</td>\n",
       "      <td>получение образования</td>\n",
       "    </tr>\n",
       "    <tr>\n",
       "      <th>4</th>\n",
       "      <td>0</td>\n",
       "      <td>14177.753002</td>\n",
       "      <td>53</td>\n",
       "      <td>среднее</td>\n",
       "      <td>1</td>\n",
       "      <td>гражданский брак</td>\n",
       "      <td>1</td>\n",
       "      <td>F</td>\n",
       "      <td>пенсионер</td>\n",
       "      <td>0</td>\n",
       "      <td>158616</td>\n",
       "      <td>сыграть свадьбу</td>\n",
       "      <td>C (от 50001 до 200000)</td>\n",
       "      <td>проведение свадьбы</td>\n",
       "    </tr>\n",
       "  </tbody>\n",
       "</table>\n",
       "</div>"
      ],
      "text/plain": [
       "   children  days_employed  dob_years education  education_id  \\\n",
       "0         1    8437.673028         42    высшее             0   \n",
       "1         1    4024.803754         36   среднее             1   \n",
       "2         0    5623.422610         33   среднее             1   \n",
       "3         3    4124.747207         32   среднее             1   \n",
       "4         0   14177.753002         53   среднее             1   \n",
       "\n",
       "      family_status  family_status_id gender income_type  debt  total_income  \\\n",
       "0   женат / замужем                 0      F   сотрудник     0        253875   \n",
       "1   женат / замужем                 0      F   сотрудник     0        112080   \n",
       "2   женат / замужем                 0      M   сотрудник     0        145885   \n",
       "3   женат / замужем                 0      M   сотрудник     0        267628   \n",
       "4  гражданский брак                 1      F   пенсионер     0        158616   \n",
       "\n",
       "                      purpose     total_income_category  \\\n",
       "0               покупка жилья  B (от 200001 до 1000000)   \n",
       "1     приобретение автомобиля    C (от 50001 до 200000)   \n",
       "2               покупка жилья    C (от 50001 до 200000)   \n",
       "3  дополнительное образование  B (от 200001 до 1000000)   \n",
       "4             сыграть свадьбу    C (от 50001 до 200000)   \n",
       "\n",
       "           purpose_category  \n",
       "0  операции с недвижимостью  \n",
       "1    операции с автомобилем  \n",
       "2  операции с недвижимостью  \n",
       "3     получение образования  \n",
       "4        проведение свадьбы  "
      ]
     },
     "execution_count": 23,
     "metadata": {},
     "output_type": "execute_result"
    }
   ],
   "source": [
    "#Отбираем некорректные через метод `loc` и сразу заменяем их разделив на 24\n",
    "\n",
    "data.loc[data['days_employed'] > 21550, 'days_employed'] = data.loc[data['days_employed'] > 21550, 'days_employed'] / 24\n",
    "\n",
    "#Проверяем результат\n",
    "data.head(5)"
   ]
  },
  {
   "cell_type": "code",
   "execution_count": 24,
   "id": "33fb61fa",
   "metadata": {
    "scrolled": false
   },
   "outputs": [
    {
     "data": {
      "text/html": [
       "<div>\n",
       "<style scoped>\n",
       "    .dataframe tbody tr th:only-of-type {\n",
       "        vertical-align: middle;\n",
       "    }\n",
       "\n",
       "    .dataframe tbody tr th {\n",
       "        vertical-align: top;\n",
       "    }\n",
       "\n",
       "    .dataframe thead th {\n",
       "        text-align: right;\n",
       "    }\n",
       "</style>\n",
       "<table border=\"1\" class=\"dataframe\">\n",
       "  <thead>\n",
       "    <tr style=\"text-align: right;\">\n",
       "      <th></th>\n",
       "      <th>children</th>\n",
       "      <th>days_employed</th>\n",
       "      <th>dob_years</th>\n",
       "      <th>education_id</th>\n",
       "      <th>family_status_id</th>\n",
       "      <th>debt</th>\n",
       "      <th>total_income</th>\n",
       "    </tr>\n",
       "  </thead>\n",
       "  <tbody>\n",
       "    <tr>\n",
       "      <th>count</th>\n",
       "      <td>21331.000000</td>\n",
       "      <td>21331.000000</td>\n",
       "      <td>21331.000000</td>\n",
       "      <td>21331.000000</td>\n",
       "      <td>21331.000000</td>\n",
       "      <td>21331.000000</td>\n",
       "      <td>2.133100e+04</td>\n",
       "    </tr>\n",
       "    <tr>\n",
       "      <th>mean</th>\n",
       "      <td>0.474005</td>\n",
       "      <td>4597.015637</td>\n",
       "      <td>43.277952</td>\n",
       "      <td>0.816980</td>\n",
       "      <td>0.974497</td>\n",
       "      <td>0.081196</td>\n",
       "      <td>1.653427e+05</td>\n",
       "    </tr>\n",
       "    <tr>\n",
       "      <th>std</th>\n",
       "      <td>0.752378</td>\n",
       "      <td>5350.743938</td>\n",
       "      <td>12.575300</td>\n",
       "      <td>0.549282</td>\n",
       "      <td>1.421787</td>\n",
       "      <td>0.273143</td>\n",
       "      <td>9.831399e+04</td>\n",
       "    </tr>\n",
       "    <tr>\n",
       "      <th>min</th>\n",
       "      <td>0.000000</td>\n",
       "      <td>24.141633</td>\n",
       "      <td>0.000000</td>\n",
       "      <td>0.000000</td>\n",
       "      <td>0.000000</td>\n",
       "      <td>0.000000</td>\n",
       "      <td>2.066700e+04</td>\n",
       "    </tr>\n",
       "    <tr>\n",
       "      <th>25%</th>\n",
       "      <td>0.000000</td>\n",
       "      <td>1024.525170</td>\n",
       "      <td>33.000000</td>\n",
       "      <td>1.000000</td>\n",
       "      <td>0.000000</td>\n",
       "      <td>0.000000</td>\n",
       "      <td>1.075070e+05</td>\n",
       "    </tr>\n",
       "    <tr>\n",
       "      <th>50%</th>\n",
       "      <td>0.000000</td>\n",
       "      <td>1996.732855</td>\n",
       "      <td>42.000000</td>\n",
       "      <td>1.000000</td>\n",
       "      <td>0.000000</td>\n",
       "      <td>0.000000</td>\n",
       "      <td>1.425940e+05</td>\n",
       "    </tr>\n",
       "    <tr>\n",
       "      <th>75%</th>\n",
       "      <td>1.000000</td>\n",
       "      <td>5337.759969</td>\n",
       "      <td>53.000000</td>\n",
       "      <td>1.000000</td>\n",
       "      <td>1.000000</td>\n",
       "      <td>0.000000</td>\n",
       "      <td>1.958420e+05</td>\n",
       "    </tr>\n",
       "    <tr>\n",
       "      <th>max</th>\n",
       "      <td>5.000000</td>\n",
       "      <td>18388.949901</td>\n",
       "      <td>75.000000</td>\n",
       "      <td>4.000000</td>\n",
       "      <td>4.000000</td>\n",
       "      <td>1.000000</td>\n",
       "      <td>2.265604e+06</td>\n",
       "    </tr>\n",
       "  </tbody>\n",
       "</table>\n",
       "</div>"
      ],
      "text/plain": [
       "           children  days_employed     dob_years  education_id  \\\n",
       "count  21331.000000   21331.000000  21331.000000  21331.000000   \n",
       "mean       0.474005    4597.015637     43.277952      0.816980   \n",
       "std        0.752378    5350.743938     12.575300      0.549282   \n",
       "min        0.000000      24.141633      0.000000      0.000000   \n",
       "25%        0.000000    1024.525170     33.000000      1.000000   \n",
       "50%        0.000000    1996.732855     42.000000      1.000000   \n",
       "75%        1.000000    5337.759969     53.000000      1.000000   \n",
       "max        5.000000   18388.949901     75.000000      4.000000   \n",
       "\n",
       "       family_status_id          debt  total_income  \n",
       "count      21331.000000  21331.000000  2.133100e+04  \n",
       "mean           0.974497      0.081196  1.653427e+05  \n",
       "std            1.421787      0.273143  9.831399e+04  \n",
       "min            0.000000      0.000000  2.066700e+04  \n",
       "25%            0.000000      0.000000  1.075070e+05  \n",
       "50%            0.000000      0.000000  1.425940e+05  \n",
       "75%            1.000000      0.000000  1.958420e+05  \n",
       "max            4.000000      1.000000  2.265604e+06  "
      ]
     },
     "execution_count": 24,
     "metadata": {},
     "output_type": "execute_result"
    }
   ],
   "source": [
    "data.describe()"
   ]
  },
  {
   "cell_type": "markdown",
   "id": "923dd641",
   "metadata": {},
   "source": [
    "**Значения трудового стажа приведены к нормальным показателям**"
   ]
  },
  {
   "cell_type": "markdown",
   "id": "b17345a0",
   "metadata": {},
   "source": [
    "_"
   ]
  },
  {
   "cell_type": "markdown",
   "id": "5bcb358d",
   "metadata": {},
   "source": [
    "**Добавим пропущенные значения в `dob_years`**"
   ]
  },
  {
   "cell_type": "code",
   "execution_count": 25,
   "id": "b025d323",
   "metadata": {},
   "outputs": [],
   "source": [
    "# С помощью цикла перебираем все уникальные значения в столбце income_type\n",
    "for year in data['income_type'].unique():\n",
    "    # Находим среднее значение dob_years для каждого типа занятости\n",
    "    mean_value = data.loc[data['income_type'] == year, 'dob_years'].mean()\n",
    "    # Находим dob_years равные нулю и типу занятости как у временной переменной year, \n",
    "    # меняем её значение на среднее по типу занятости\n",
    "    data.loc[(data['dob_years'] == 0) & (data['income_type'] == year), 'dob_years'] = mean_value"
   ]
  },
  {
   "cell_type": "code",
   "execution_count": 26,
   "id": "c4ed55fb",
   "metadata": {},
   "outputs": [
    {
     "data": {
      "text/plain": [
       "0"
      ]
     },
     "execution_count": 26,
     "metadata": {},
     "output_type": "execute_result"
    }
   ],
   "source": [
    "#Проверяем результат\n",
    "data.loc[data['dob_years'] == 0, 'dob_years'].count()"
   ]
  },
  {
   "cell_type": "markdown",
   "id": "c3794fab",
   "metadata": {},
   "source": [
    "_"
   ]
  },
  {
   "cell_type": "markdown",
   "id": "b964aa36",
   "metadata": {},
   "source": [
    "**Посмотрим на строку с максимальным значением из столбца `total_income`**"
   ]
  },
  {
   "cell_type": "code",
   "execution_count": 27,
   "id": "ca9b05ff",
   "metadata": {
    "scrolled": true
   },
   "outputs": [
    {
     "data": {
      "text/html": [
       "<div>\n",
       "<style scoped>\n",
       "    .dataframe tbody tr th:only-of-type {\n",
       "        vertical-align: middle;\n",
       "    }\n",
       "\n",
       "    .dataframe tbody tr th {\n",
       "        vertical-align: top;\n",
       "    }\n",
       "\n",
       "    .dataframe thead th {\n",
       "        text-align: right;\n",
       "    }\n",
       "</style>\n",
       "<table border=\"1\" class=\"dataframe\">\n",
       "  <thead>\n",
       "    <tr style=\"text-align: right;\">\n",
       "      <th></th>\n",
       "      <th>children</th>\n",
       "      <th>days_employed</th>\n",
       "      <th>dob_years</th>\n",
       "      <th>education</th>\n",
       "      <th>education_id</th>\n",
       "      <th>family_status</th>\n",
       "      <th>family_status_id</th>\n",
       "      <th>gender</th>\n",
       "      <th>income_type</th>\n",
       "      <th>debt</th>\n",
       "      <th>total_income</th>\n",
       "      <th>purpose</th>\n",
       "      <th>total_income_category</th>\n",
       "      <th>purpose_category</th>\n",
       "    </tr>\n",
       "  </thead>\n",
       "  <tbody>\n",
       "    <tr>\n",
       "      <th>12412</th>\n",
       "      <td>0</td>\n",
       "      <td>1477.438114</td>\n",
       "      <td>44.0</td>\n",
       "      <td>высшее</td>\n",
       "      <td>0</td>\n",
       "      <td>женат / замужем</td>\n",
       "      <td>0</td>\n",
       "      <td>M</td>\n",
       "      <td>компаньон</td>\n",
       "      <td>0</td>\n",
       "      <td>2265604</td>\n",
       "      <td>ремонт жилью</td>\n",
       "      <td>A ( от 1000001 и выше)</td>\n",
       "      <td>операции с недвижимостью</td>\n",
       "    </tr>\n",
       "  </tbody>\n",
       "</table>\n",
       "</div>"
      ],
      "text/plain": [
       "       children  days_employed  dob_years education  education_id  \\\n",
       "12412         0    1477.438114       44.0    высшее             0   \n",
       "\n",
       "         family_status  family_status_id gender income_type  debt  \\\n",
       "12412  женат / замужем                 0      M   компаньон     0   \n",
       "\n",
       "       total_income       purpose   total_income_category  \\\n",
       "12412       2265604  ремонт жилью  A ( от 1000001 и выше)   \n",
       "\n",
       "               purpose_category  \n",
       "12412  операции с недвижимостью  "
      ]
     },
     "metadata": {},
     "output_type": "display_data"
    }
   ],
   "source": [
    "display(data[data['total_income'] == data['total_income'].max()])"
   ]
  },
  {
   "cell_type": "markdown",
   "id": "b0270f5b",
   "metadata": {},
   "source": [
    "**Видим мужчину 44 лет с высшим образованием, не женат, тип занятости - компаньон. Высокий ежемесячный доход с такими показателями считаю допустимым.**"
   ]
  },
  {
   "cell_type": "markdown",
   "id": "61d265aa",
   "metadata": {},
   "source": [
    "_"
   ]
  },
  {
   "cell_type": "markdown",
   "id": "25f6bc95",
   "metadata": {},
   "source": [
    "**После предобработки проверим тип данных в столбцах**"
   ]
  },
  {
   "cell_type": "code",
   "execution_count": 28,
   "id": "8857cedc",
   "metadata": {
    "scrolled": false
   },
   "outputs": [
    {
     "name": "stdout",
     "output_type": "stream",
     "text": [
      "<class 'pandas.core.frame.DataFrame'>\n",
      "Int64Index: 21331 entries, 0 to 21524\n",
      "Data columns (total 14 columns):\n",
      " #   Column                 Non-Null Count  Dtype  \n",
      "---  ------                 --------------  -----  \n",
      " 0   children               21331 non-null  int64  \n",
      " 1   days_employed          21331 non-null  float64\n",
      " 2   dob_years              21331 non-null  float64\n",
      " 3   education              21331 non-null  object \n",
      " 4   education_id           21331 non-null  int64  \n",
      " 5   family_status          21331 non-null  object \n",
      " 6   family_status_id       21331 non-null  int64  \n",
      " 7   gender                 21331 non-null  object \n",
      " 8   income_type            21331 non-null  object \n",
      " 9   debt                   21331 non-null  int64  \n",
      " 10  total_income           21331 non-null  int64  \n",
      " 11  purpose                21331 non-null  object \n",
      " 12  total_income_category  21331 non-null  object \n",
      " 13  purpose_category       21331 non-null  object \n",
      "dtypes: float64(2), int64(5), object(7)\n",
      "memory usage: 2.4+ MB\n"
     ]
    }
   ],
   "source": [
    "data.info()"
   ]
  },
  {
   "cell_type": "markdown",
   "id": "8bc2cc63",
   "metadata": {},
   "source": [
    "**Столбец  `days_employed` определяется как float64, а должен быть целочисленным (int), исправим это с помощью метода `astype`, в остальном всё в порядке, пропусков нет.**"
   ]
  },
  {
   "cell_type": "code",
   "execution_count": 29,
   "id": "54f11df4",
   "metadata": {},
   "outputs": [],
   "source": [
    "data['days_employed'] = data['days_employed'].astype(int)"
   ]
  },
  {
   "cell_type": "code",
   "execution_count": 30,
   "id": "9d568fd5",
   "metadata": {
    "scrolled": false
   },
   "outputs": [
    {
     "name": "stdout",
     "output_type": "stream",
     "text": [
      "<class 'pandas.core.frame.DataFrame'>\n",
      "Int64Index: 21331 entries, 0 to 21524\n",
      "Data columns (total 14 columns):\n",
      " #   Column                 Non-Null Count  Dtype  \n",
      "---  ------                 --------------  -----  \n",
      " 0   children               21331 non-null  int64  \n",
      " 1   days_employed          21331 non-null  int64  \n",
      " 2   dob_years              21331 non-null  float64\n",
      " 3   education              21331 non-null  object \n",
      " 4   education_id           21331 non-null  int64  \n",
      " 5   family_status          21331 non-null  object \n",
      " 6   family_status_id       21331 non-null  int64  \n",
      " 7   gender                 21331 non-null  object \n",
      " 8   income_type            21331 non-null  object \n",
      " 9   debt                   21331 non-null  int64  \n",
      " 10  total_income           21331 non-null  int64  \n",
      " 11  purpose                21331 non-null  object \n",
      " 12  total_income_category  21331 non-null  object \n",
      " 13  purpose_category       21331 non-null  object \n",
      "dtypes: float64(1), int64(6), object(7)\n",
      "memory usage: 2.4+ MB\n"
     ]
    }
   ],
   "source": [
    "#Проверяем результат\n",
    "data.info()"
   ]
  },
  {
   "cell_type": "markdown",
   "id": "74e28545",
   "metadata": {},
   "source": [
    "_"
   ]
  },
  {
   "cell_type": "markdown",
   "id": "648db036",
   "metadata": {
    "deletable": false,
    "editable": false,
    "id": "648db036"
   },
   "source": [
    "#### 3.1 Есть ли зависимость между количеством детей и возвратом кредита в срок?"
   ]
  },
  {
   "cell_type": "markdown",
   "id": "e1eb1c87",
   "metadata": {},
   "source": [
    "Для ответа на этот вопрос нам необходимо создать сводную таблицу, в которой выделить три группы по количеству детей, и сравнить их показатели просроченной задолжности. Распределить группы следующим образом:\n",
    "- 1) Нет детей\n",
    "- 2) Есть дети\n",
    "- 3) Многодетная (3 и более детей)"
   ]
  },
  {
   "cell_type": "code",
   "execution_count": 31,
   "id": "8a48a1e8",
   "metadata": {},
   "outputs": [],
   "source": [
    "# Создадим функцию, которая будет возвращать соответвующуе название группы\n",
    "def family_category(children):\n",
    "    if 1 <= children <= 2:\n",
    "        return 'Есть дети'\n",
    "    if children >= 3:\n",
    "        return 'Многодетная'\n",
    "    return 'Нет детей'"
   ]
  },
  {
   "cell_type": "code",
   "execution_count": 32,
   "id": "b1a0be67",
   "metadata": {
    "scrolled": true
   },
   "outputs": [
    {
     "name": "stdout",
     "output_type": "stream",
     "text": [
      "Многодетная\n"
     ]
    }
   ],
   "source": [
    "# Проверим работу функции\n",
    "print(family_category(3))"
   ]
  },
  {
   "cell_type": "code",
   "execution_count": 33,
   "id": "1cabf8d6",
   "metadata": {},
   "outputs": [],
   "source": [
    "# Для создания сводной таблицы добавим результаты функции family_category\n",
    "data['family_category'] = data['children'].apply(family_category)"
   ]
  },
  {
   "cell_type": "code",
   "execution_count": 59,
   "id": "96a64e9e",
   "metadata": {},
   "outputs": [
    {
     "data": {
      "text/html": [
       "<div>\n",
       "<style scoped>\n",
       "    .dataframe tbody tr th:only-of-type {\n",
       "        vertical-align: middle;\n",
       "    }\n",
       "\n",
       "    .dataframe tbody tr th {\n",
       "        vertical-align: top;\n",
       "    }\n",
       "\n",
       "    .dataframe thead th {\n",
       "        text-align: right;\n",
       "    }\n",
       "</style>\n",
       "<table border=\"1\" class=\"dataframe\">\n",
       "  <thead>\n",
       "    <tr style=\"text-align: right;\">\n",
       "      <th></th>\n",
       "      <th>count</th>\n",
       "      <th>mean</th>\n",
       "      <th>sum</th>\n",
       "    </tr>\n",
       "    <tr>\n",
       "      <th>children</th>\n",
       "      <th></th>\n",
       "      <th></th>\n",
       "      <th></th>\n",
       "    </tr>\n",
       "  </thead>\n",
       "  <tbody>\n",
       "    <tr>\n",
       "      <th>0</th>\n",
       "      <td>14091.0</td>\n",
       "      <td>0.075438</td>\n",
       "      <td>1063.0</td>\n",
       "    </tr>\n",
       "    <tr>\n",
       "      <th>1</th>\n",
       "      <td>4808.0</td>\n",
       "      <td>0.092346</td>\n",
       "      <td>444.0</td>\n",
       "    </tr>\n",
       "    <tr>\n",
       "      <th>2</th>\n",
       "      <td>2052.0</td>\n",
       "      <td>0.094542</td>\n",
       "      <td>194.0</td>\n",
       "    </tr>\n",
       "    <tr>\n",
       "      <th>3</th>\n",
       "      <td>330.0</td>\n",
       "      <td>0.081818</td>\n",
       "      <td>27.0</td>\n",
       "    </tr>\n",
       "    <tr>\n",
       "      <th>4</th>\n",
       "      <td>41.0</td>\n",
       "      <td>0.097561</td>\n",
       "      <td>4.0</td>\n",
       "    </tr>\n",
       "    <tr>\n",
       "      <th>5</th>\n",
       "      <td>9.0</td>\n",
       "      <td>0.000000</td>\n",
       "      <td>0.0</td>\n",
       "    </tr>\n",
       "  </tbody>\n",
       "</table>\n",
       "</div>"
      ],
      "text/plain": [
       "            count      mean     sum\n",
       "children                           \n",
       "0         14091.0  0.075438  1063.0\n",
       "1          4808.0  0.092346   444.0\n",
       "2          2052.0  0.094542   194.0\n",
       "3           330.0  0.081818    27.0\n",
       "4            41.0  0.097561     4.0\n",
       "5             9.0  0.000000     0.0"
      ]
     },
     "metadata": {},
     "output_type": "display_data"
    }
   ],
   "source": [
    "# Создадим сводную таблицу методом pivot_table() ** Updated\n",
    "debt_family = data.pivot_table(index = ['children'], values = 'debt', aggfunc = {'sum', 'count', 'mean'})\n",
    "display(debt_family)"
   ]
  },
  {
   "cell_type": "markdown",
   "id": "2eb9088e",
   "metadata": {
    "deletable": false,
    "id": "2eb9088e"
   },
   "source": [
    "**Вывод:** Да, зависимость есть. Заёмщики не имеющие детей отдадут кредит с большей вероятностью, доля должников в этой категории составляет 7,5%. Более высокий риск просрочить платеж имеют те заёмщики, у кого 1 или 2 ребёнка, здесь доля должников составляет 9,2 % и 9,4%. Многодетных заёмщиков в нашем случае не стоит брать в рассчёт, так как выборка очень маленькая."
   ]
  },
  {
   "cell_type": "markdown",
   "id": "74c9b3a7",
   "metadata": {
    "deletable": false,
    "editable": false,
    "id": "74c9b3a7"
   },
   "source": [
    "#### 3.2 Есть ли зависимость между семейным положением и возвратом кредита в срок?"
   ]
  },
  {
   "cell_type": "markdown",
   "id": "2910d797",
   "metadata": {},
   "source": [
    "**Для ответа на этот вопрос будем действовать аналогичным образом. Создадим сводную таблицу, где выделим все пять групп и сравним долю должников в каждой.**"
   ]
  },
  {
   "cell_type": "code",
   "execution_count": 35,
   "id": "8098ab3b",
   "metadata": {
    "deletable": false,
    "id": "8098ab3b"
   },
   "outputs": [
    {
     "data": {
      "text/html": [
       "<div>\n",
       "<style scoped>\n",
       "    .dataframe tbody tr th:only-of-type {\n",
       "        vertical-align: middle;\n",
       "    }\n",
       "\n",
       "    .dataframe tbody tr th {\n",
       "        vertical-align: top;\n",
       "    }\n",
       "\n",
       "    .dataframe thead th {\n",
       "        text-align: right;\n",
       "    }\n",
       "</style>\n",
       "<table border=\"1\" class=\"dataframe\">\n",
       "  <thead>\n",
       "    <tr style=\"text-align: right;\">\n",
       "      <th></th>\n",
       "      <th>no_debt</th>\n",
       "      <th>have_debt</th>\n",
       "      <th>debtor_share</th>\n",
       "    </tr>\n",
       "    <tr>\n",
       "      <th>family_status</th>\n",
       "      <th></th>\n",
       "      <th></th>\n",
       "      <th></th>\n",
       "    </tr>\n",
       "  </thead>\n",
       "  <tbody>\n",
       "    <tr>\n",
       "      <th>Не женат / не замужем</th>\n",
       "      <td>2523</td>\n",
       "      <td>273</td>\n",
       "      <td>9.76%</td>\n",
       "    </tr>\n",
       "    <tr>\n",
       "      <th>гражданский брак</th>\n",
       "      <td>3749</td>\n",
       "      <td>385</td>\n",
       "      <td>9.31%</td>\n",
       "    </tr>\n",
       "    <tr>\n",
       "      <th>женат / замужем</th>\n",
       "      <td>11334</td>\n",
       "      <td>927</td>\n",
       "      <td>7.56%</td>\n",
       "    </tr>\n",
       "    <tr>\n",
       "      <th>в разводе</th>\n",
       "      <td>1105</td>\n",
       "      <td>84</td>\n",
       "      <td>7.06%</td>\n",
       "    </tr>\n",
       "    <tr>\n",
       "      <th>вдовец / вдова</th>\n",
       "      <td>888</td>\n",
       "      <td>63</td>\n",
       "      <td>6.62%</td>\n",
       "    </tr>\n",
       "  </tbody>\n",
       "</table>\n",
       "</div>"
      ],
      "text/plain": [
       "                       no_debt  have_debt debtor_share\n",
       "family_status                                         \n",
       "Не женат / не замужем     2523        273        9.76%\n",
       "гражданский брак          3749        385        9.31%\n",
       "женат / замужем          11334        927        7.56%\n",
       "в разводе                 1105         84        7.06%\n",
       "вдовец / вдова             888         63        6.62%"
      ]
     },
     "execution_count": 35,
     "metadata": {},
     "output_type": "execute_result"
    }
   ],
   "source": [
    "# Создадим сводную таблицу методом pivot_table()\n",
    "debt_family_status = data.pivot_table(index='family_status', columns='debt', values='gender', aggfunc='count')\n",
    "\n",
    "# Добавим столбцы для определения наличия просроченной задолженности\n",
    "debt_family_status.columns = ['no_debt', 'have_debt']\n",
    "\n",
    "# Считаем долю должников, разделим всех должников на общее количество каждой группы\n",
    "debt_family_status['debtor_share'] = debt_family_status['have_debt'] / (debt_family_status['have_debt'] + debt_family_status['no_debt'])\n",
    "\n",
    "# Для наглядности переведём значение в проценты\n",
    "debt_family_status['debtor_share'] = debt_family_status['debtor_share'].map('{:.2%}'.format)\n",
    "\n",
    "# Сортируем по столбцу доля лолжников по убыванию\n",
    "debt_family_status.sort_values(by='debtor_share', ascending=False)"
   ]
  },
  {
   "cell_type": "markdown",
   "id": "c389ca63",
   "metadata": {
    "deletable": false,
    "id": "c389ca63"
   },
   "source": [
    "**Вывод:** Да, зависимость есть. На выборке по семейному положению нам удалось выделить более и менее рисковые группы. К более рисковым заёмщикам относятся не замужние и не женатые заёмщики, а так же те, кто не зарегистрировал свой бранчный союз официально, доля должников в двух этих группах самая высокая, 9,76% и 9,31%. Заёмщики состоящие в официальном браке имеют меньшую склонность к просрочке платежей, доля должников здесь 7,56%. Самыми ответсвенными оказались одинокие люди, вдовцы и вдовы всего 6,62%, находящиеся в разводе - 7,06%. "
   ]
  },
  {
   "cell_type": "markdown",
   "id": "d0104635",
   "metadata": {},
   "source": [
    "_"
   ]
  },
  {
   "cell_type": "markdown",
   "id": "9529de68",
   "metadata": {
    "deletable": false,
    "editable": false,
    "id": "9529de68"
   },
   "source": [
    "#### 3.3 Есть ли зависимость между уровнем дохода и возвратом кредита в срок?"
   ]
  },
  {
   "cell_type": "markdown",
   "id": "9d19b327",
   "metadata": {},
   "source": [
    "**Создадим сводную таблицу по созданным выше категориям дохода и сравним долю должников.**"
   ]
  },
  {
   "cell_type": "code",
   "execution_count": 36,
   "id": "8787f44a",
   "metadata": {
    "deletable": false,
    "id": "8787f44a"
   },
   "outputs": [
    {
     "data": {
      "text/html": [
       "<div>\n",
       "<style scoped>\n",
       "    .dataframe tbody tr th:only-of-type {\n",
       "        vertical-align: middle;\n",
       "    }\n",
       "\n",
       "    .dataframe tbody tr th {\n",
       "        vertical-align: top;\n",
       "    }\n",
       "\n",
       "    .dataframe thead th {\n",
       "        text-align: right;\n",
       "    }\n",
       "</style>\n",
       "<table border=\"1\" class=\"dataframe\">\n",
       "  <thead>\n",
       "    <tr style=\"text-align: right;\">\n",
       "      <th></th>\n",
       "      <th>no_debt</th>\n",
       "      <th>have_debt</th>\n",
       "      <th>debtor_share</th>\n",
       "    </tr>\n",
       "    <tr>\n",
       "      <th>total_income_category</th>\n",
       "      <th></th>\n",
       "      <th></th>\n",
       "      <th></th>\n",
       "    </tr>\n",
       "  </thead>\n",
       "  <tbody>\n",
       "    <tr>\n",
       "      <th>E (от 0 до 30000)</th>\n",
       "      <td>20</td>\n",
       "      <td>2</td>\n",
       "      <td>9.09%</td>\n",
       "    </tr>\n",
       "    <tr>\n",
       "      <th>C (от 50001 до 200000)</th>\n",
       "      <td>14568</td>\n",
       "      <td>1353</td>\n",
       "      <td>8.50%</td>\n",
       "    </tr>\n",
       "    <tr>\n",
       "      <th>A ( от 1000001 и выше)</th>\n",
       "      <td>23</td>\n",
       "      <td>2</td>\n",
       "      <td>8.00%</td>\n",
       "    </tr>\n",
       "    <tr>\n",
       "      <th>B (от 200001 до 1000000)</th>\n",
       "      <td>4660</td>\n",
       "      <td>354</td>\n",
       "      <td>7.06%</td>\n",
       "    </tr>\n",
       "    <tr>\n",
       "      <th>D (от 30001 до 50000)</th>\n",
       "      <td>328</td>\n",
       "      <td>21</td>\n",
       "      <td>6.02%</td>\n",
       "    </tr>\n",
       "  </tbody>\n",
       "</table>\n",
       "</div>"
      ],
      "text/plain": [
       "                          no_debt  have_debt debtor_share\n",
       "total_income_category                                    \n",
       "E (от 0 до 30000)              20          2        9.09%\n",
       "C (от 50001 до 200000)      14568       1353        8.50%\n",
       "A ( от 1000001 и выше)         23          2        8.00%\n",
       "B (от 200001 до 1000000)     4660        354        7.06%\n",
       "D (от 30001 до 50000)         328         21        6.02%"
      ]
     },
     "execution_count": 36,
     "metadata": {},
     "output_type": "execute_result"
    }
   ],
   "source": [
    "# Создадим сводную таблицу методом pivot_table()\n",
    "income_status = data.pivot_table(index='total_income_category', columns='debt', values='gender', aggfunc='count')\n",
    "\n",
    "# Добавим столбцы для определения наличия просроченной задолженности\n",
    "income_status.columns = ['no_debt', 'have_debt']\n",
    "\n",
    "# Считаем долю должников, разделим всех должников на общее количество каждой группы\n",
    "income_status['debtor_share'] = income_status['have_debt'] / (income_status['have_debt'] + income_status['no_debt'])\n",
    "\n",
    "# Для наглядности переведём значение в проценты\n",
    "income_status['debtor_share'] = income_status['debtor_share'].map('{:.2%}'.format)\n",
    "\n",
    "# Сортируем по столбцу доля лолжников по убыванию\n",
    "income_status.sort_values(by='debtor_share', ascending=False)"
   ]
  },
  {
   "cell_type": "markdown",
   "id": "6dd14b57",
   "metadata": {
    "deletable": false,
    "id": "6dd14b57"
   },
   "source": [
    "**Вывод:** Да, зависимость есть. В этой выборке стоит сравнивать только категории B и C, так как по остальным группам результаты не являются репрезентативными. Люди с доходом от 50 000 до 200 000 т.р. более склонны пропускать платежи, чем те, чей ежемесячный доход составляет от 200 000 т.р. до 1 млн. руб. Доля должников в группе С состовляет 8,5%, группа B - 7,06%. Рекомендация: Сделать отдельный анализ по этой выборке, разбить на более мелкие группы, уменьшить шаг до  20-30 т.р. для дохода до 200 т.р. Но этого понадобится в несколько раз больше данных, чем было представлено. "
   ]
  },
  {
   "cell_type": "markdown",
   "id": "1dcc9b12",
   "metadata": {
    "deletable": false,
    "editable": false,
    "id": "1dcc9b12"
   },
   "source": [
    "#### 3.4 Как разные цели кредита влияют на его возврат в срок?"
   ]
  },
  {
   "cell_type": "code",
   "execution_count": 37,
   "id": "c602bc8b",
   "metadata": {
    "deletable": false,
    "id": "c602bc8b",
    "scrolled": true
   },
   "outputs": [
    {
     "data": {
      "text/html": [
       "<div>\n",
       "<style scoped>\n",
       "    .dataframe tbody tr th:only-of-type {\n",
       "        vertical-align: middle;\n",
       "    }\n",
       "\n",
       "    .dataframe tbody tr th {\n",
       "        vertical-align: top;\n",
       "    }\n",
       "\n",
       "    .dataframe thead th {\n",
       "        text-align: right;\n",
       "    }\n",
       "</style>\n",
       "<table border=\"1\" class=\"dataframe\">\n",
       "  <thead>\n",
       "    <tr style=\"text-align: right;\">\n",
       "      <th></th>\n",
       "      <th>no_debt</th>\n",
       "      <th>have_debt</th>\n",
       "      <th>debtor_share</th>\n",
       "    </tr>\n",
       "    <tr>\n",
       "      <th>purpose_category</th>\n",
       "      <th></th>\n",
       "      <th></th>\n",
       "      <th></th>\n",
       "    </tr>\n",
       "  </thead>\n",
       "  <tbody>\n",
       "    <tr>\n",
       "      <th>операции с автомобилем</th>\n",
       "      <td>3879</td>\n",
       "      <td>400</td>\n",
       "      <td>9.35%</td>\n",
       "    </tr>\n",
       "    <tr>\n",
       "      <th>получение образования</th>\n",
       "      <td>3619</td>\n",
       "      <td>369</td>\n",
       "      <td>9.25%</td>\n",
       "    </tr>\n",
       "    <tr>\n",
       "      <th>проведение свадьбы</th>\n",
       "      <td>2130</td>\n",
       "      <td>183</td>\n",
       "      <td>7.91%</td>\n",
       "    </tr>\n",
       "    <tr>\n",
       "      <th>операции с недвижимостью</th>\n",
       "      <td>9971</td>\n",
       "      <td>780</td>\n",
       "      <td>7.26%</td>\n",
       "    </tr>\n",
       "  </tbody>\n",
       "</table>\n",
       "</div>"
      ],
      "text/plain": [
       "                          no_debt  have_debt debtor_share\n",
       "purpose_category                                         \n",
       "операции с автомобилем       3879        400        9.35%\n",
       "получение образования        3619        369        9.25%\n",
       "проведение свадьбы           2130        183        7.91%\n",
       "операции с недвижимостью     9971        780        7.26%"
      ]
     },
     "execution_count": 37,
     "metadata": {},
     "output_type": "execute_result"
    }
   ],
   "source": [
    "# Создадим сводную таблицу методом pivot_table()\n",
    "purpose_status = data.pivot_table(index='purpose_category', columns='debt', values='gender', aggfunc='count')\n",
    "\n",
    "# Добавим столбцы для определения наличия просроченной задолженности\n",
    "purpose_status.columns = ['no_debt', 'have_debt']\n",
    "\n",
    "# Считаем долю должников, разделим всех должников на общее количество каждой группы\n",
    "purpose_status['debtor_share'] = purpose_status['have_debt'] / (purpose_status['have_debt'] + purpose_status['no_debt'])\n",
    "\n",
    "# Для наглядности переведём значение в проценты\n",
    "purpose_status['debtor_share'] = purpose_status['debtor_share'].map('{:.2%}'.format)\n",
    "\n",
    "# Сортируем по столбцу доля лолжников по убыванию\n",
    "purpose_status.sort_values(by='debtor_share', ascending=False)\n"
   ]
  },
  {
   "cell_type": "markdown",
   "id": "cf05ed63",
   "metadata": {
    "deletable": false,
    "id": "cf05ed63"
   },
   "source": [
    "**Вывод:** Взглянув на выборку по целям кредита тоже можно тоже выделить разную степень ответсветвенности заёмщика. В группу риска попадают те заёмщики, кто собирается купить автомобиль, у них самая высокая доля просрочки платежа, 9,35%. Так же очень близко к ним расположились те, кто хочет получить образование на заёмные средства, доля просрочки 9,25%. Чуть более ответсвенны те, кто хочет сыграть свадьбу на кредитные деньги, доля просроченных платежей составляет 7,91%, похожие значения мы уведили выше, у заёмщиков состоящих в браке. Самыми ответсвенными заёмщиками в этой выборке оказались люди которые хотят приобрести жильё, тут доля просроченных платежей состовляет 7,26%. Такие показатели могут быть связаны с развитием в последние годы различных государсвенных программ, например \"Льготная ипотека\", \"Дальневосточная ипотека\", \"Семейная ипотека\". "
   ]
  },
  {
   "cell_type": "markdown",
   "id": "46c1f10b",
   "metadata": {
    "deletable": false,
    "editable": false,
    "id": "46c1f10b"
   },
   "source": [
    "#### 3.5 Приведите возможные причины появления пропусков в исходных данных."
   ]
  },
  {
   "cell_type": "markdown",
   "id": "3697d2a9",
   "metadata": {
    "deletable": false,
    "id": "3697d2a9"
   },
   "source": [
    "*Ответ:* \n",
    "- Сокрытие информации\n",
    "- Технические проблемы\n",
    "- Неверный ввод данных"
   ]
  },
  {
   "cell_type": "markdown",
   "id": "3137d257",
   "metadata": {
    "deletable": false,
    "editable": false,
    "id": "3137d257"
   },
   "source": [
    "#### 3.6 Объясните, почему заполнить пропуски медианным значением — лучшее решение для количественных переменных."
   ]
  },
  {
   "cell_type": "markdown",
   "id": "cf40012a",
   "metadata": {
    "deletable": false,
    "id": "cf40012a"
   },
   "source": [
    "*Ответ:* Для количественных значений медиана лучше, т.к. в нашем случае был большой разброс значений, а медиана более устойчива к этому фактору."
   ]
  },
  {
   "cell_type": "markdown",
   "id": "57bc304e",
   "metadata": {
    "deletable": false,
    "editable": false,
    "id": "57bc304e"
   },
   "source": [
    "### Шаг 4: общий вывод."
   ]
  },
  {
   "cell_type": "markdown",
   "id": "1ab75d1c",
   "metadata": {
    "deletable": false,
    "id": "1ab75d1c"
   },
   "source": [
    "Напишите ваш общий вывод."
   ]
  },
  {
   "cell_type": "markdown",
   "id": "78921cd4",
   "metadata": {},
   "source": [
    "**Резюмируем: Полученные данные позволяют выделить несколько групп более благонадежных заёмщиков.**\n",
    "\n",
    "- Желающие взять ипотечный кредит, доля просрочки 7,26%\n",
    "- Женатые без детей, доля просрочки 7,56%\n",
    "- Разведенные, вдовы и вдовцы, доля просрочки 6,02%\n",
    "- с высоким уровнем дохода (от 200001 до 1 000 000), доля просрочки 7,06%\n",
    "\n",
    "**С другой стороны можем выделить несколько групп с повышенным риском к образованию просроченной задолженности.**\n",
    "\n",
    "- Холостые или состоящие в гражданском браке, их доля 9,76% и 9,31%\n",
    "- Заёмщики с имеющие одного или двух детей, здесь доля должников составляет 9,2 % и 9,4% \n",
    "- Желающие взять автокредит или оплатить образование, доля должников 9,35% и 9,25%"
   ]
  },
  {
   "cell_type": "markdown",
   "id": "f07d5242",
   "metadata": {
    "deletable": false,
    "id": "7fcff25e"
   },
   "source": []
  }
 ],
 "metadata": {
  "ExecuteTimeLog": [
   {
    "duration": 494,
    "start_time": "2023-03-01T10:48:43.047Z"
   },
   {
    "duration": 25,
    "start_time": "2023-03-01T10:48:43.544Z"
   },
   {
    "duration": 15,
    "start_time": "2023-03-01T10:48:43.571Z"
   },
   {
    "duration": 14,
    "start_time": "2023-03-01T10:48:43.587Z"
   },
   {
    "duration": 60,
    "start_time": "2023-03-01T10:48:43.603Z"
   },
   {
    "duration": 4,
    "start_time": "2023-03-01T10:48:43.665Z"
   },
   {
    "duration": 18,
    "start_time": "2023-03-01T10:48:43.671Z"
   },
   {
    "duration": 4,
    "start_time": "2023-03-01T10:48:43.691Z"
   },
   {
    "duration": 13,
    "start_time": "2023-03-01T10:48:43.697Z"
   },
   {
    "duration": 20,
    "start_time": "2023-03-01T10:48:43.712Z"
   },
   {
    "duration": 78,
    "start_time": "2023-03-01T10:48:43.734Z"
   },
   {
    "duration": 9,
    "start_time": "2023-03-01T10:48:43.814Z"
   },
   {
    "duration": 10,
    "start_time": "2023-03-01T10:48:43.825Z"
   },
   {
    "duration": 23,
    "start_time": "2023-03-01T10:48:43.838Z"
   },
   {
    "duration": 28,
    "start_time": "2023-03-01T10:48:43.863Z"
   },
   {
    "duration": 23,
    "start_time": "2023-03-01T10:48:43.893Z"
   },
   {
    "duration": 10,
    "start_time": "2023-03-01T10:48:43.918Z"
   },
   {
    "duration": 34,
    "start_time": "2023-03-01T10:48:43.930Z"
   },
   {
    "duration": 9,
    "start_time": "2023-03-01T10:48:43.966Z"
   },
   {
    "duration": 4,
    "start_time": "2023-03-01T10:48:43.977Z"
   },
   {
    "duration": 25,
    "start_time": "2023-03-01T10:48:43.983Z"
   },
   {
    "duration": 5,
    "start_time": "2023-03-01T10:48:44.011Z"
   },
   {
    "duration": 5,
    "start_time": "2023-03-01T10:48:44.018Z"
   },
   {
    "duration": 15,
    "start_time": "2023-03-01T10:48:44.024Z"
   },
   {
    "duration": 12,
    "start_time": "2023-03-01T10:48:44.042Z"
   },
   {
    "duration": 29,
    "start_time": "2023-03-01T10:49:09.891Z"
   },
   {
    "duration": 19,
    "start_time": "2023-03-01T10:49:21.072Z"
   },
   {
    "duration": 102,
    "start_time": "2023-03-01T11:15:18.397Z"
   },
   {
    "duration": 11,
    "start_time": "2023-03-01T11:15:50.813Z"
   },
   {
    "duration": 20,
    "start_time": "2023-03-01T11:16:02.500Z"
   },
   {
    "duration": 26,
    "start_time": "2023-03-01T11:16:16.887Z"
   },
   {
    "duration": 24,
    "start_time": "2023-03-01T11:17:24.371Z"
   },
   {
    "duration": 18,
    "start_time": "2023-03-01T11:19:54.263Z"
   },
   {
    "duration": 20,
    "start_time": "2023-03-01T11:20:07.479Z"
   },
   {
    "duration": 38,
    "start_time": "2023-03-01T11:36:01.154Z"
   },
   {
    "duration": 12,
    "start_time": "2023-03-01T11:37:40.344Z"
   },
   {
    "duration": 18,
    "start_time": "2023-03-01T11:37:49.624Z"
   },
   {
    "duration": 14,
    "start_time": "2023-03-01T11:38:09.282Z"
   },
   {
    "duration": 13,
    "start_time": "2023-03-01T11:40:12.871Z"
   },
   {
    "duration": 21,
    "start_time": "2023-03-01T11:40:33.825Z"
   },
   {
    "duration": 9,
    "start_time": "2023-03-01T11:47:21.081Z"
   },
   {
    "duration": 74,
    "start_time": "2023-03-01T11:48:38.183Z"
   },
   {
    "duration": 13,
    "start_time": "2023-03-01T11:48:52.322Z"
   },
   {
    "duration": 18,
    "start_time": "2023-03-01T11:48:58.562Z"
   },
   {
    "duration": 14,
    "start_time": "2023-03-01T11:49:10.738Z"
   },
   {
    "duration": 13,
    "start_time": "2023-03-01T11:49:21.707Z"
   },
   {
    "duration": 9,
    "start_time": "2023-03-01T11:50:17.549Z"
   },
   {
    "duration": 1153,
    "start_time": "2023-03-01T11:54:12.491Z"
   },
   {
    "duration": 9,
    "start_time": "2023-03-01T11:54:24.675Z"
   },
   {
    "duration": 10,
    "start_time": "2023-03-01T11:54:27.595Z"
   },
   {
    "duration": 11,
    "start_time": "2023-03-01T11:54:34.434Z"
   },
   {
    "duration": 8,
    "start_time": "2023-03-01T11:54:49.601Z"
   },
   {
    "duration": 9,
    "start_time": "2023-03-01T11:56:01.246Z"
   },
   {
    "duration": 12,
    "start_time": "2023-03-01T11:56:09.955Z"
   },
   {
    "duration": 13,
    "start_time": "2023-03-01T11:56:29.598Z"
   },
   {
    "duration": 13,
    "start_time": "2023-03-01T11:56:36.809Z"
   },
   {
    "duration": 433,
    "start_time": "2023-03-01T11:56:53.870Z"
   },
   {
    "duration": 21,
    "start_time": "2023-03-01T11:56:54.305Z"
   },
   {
    "duration": 21,
    "start_time": "2023-03-01T11:56:54.327Z"
   },
   {
    "duration": 9,
    "start_time": "2023-03-01T11:56:54.350Z"
   },
   {
    "duration": 34,
    "start_time": "2023-03-01T11:56:54.361Z"
   },
   {
    "duration": 4,
    "start_time": "2023-03-01T11:56:54.396Z"
   },
   {
    "duration": 26,
    "start_time": "2023-03-01T11:56:54.401Z"
   },
   {
    "duration": 4,
    "start_time": "2023-03-01T11:56:54.429Z"
   },
   {
    "duration": 10,
    "start_time": "2023-03-01T11:56:54.435Z"
   },
   {
    "duration": 5,
    "start_time": "2023-03-01T11:56:54.447Z"
   },
   {
    "duration": 33,
    "start_time": "2023-03-01T11:56:54.453Z"
   },
   {
    "duration": 10,
    "start_time": "2023-03-01T11:56:54.487Z"
   },
   {
    "duration": 31,
    "start_time": "2023-03-01T11:56:54.499Z"
   },
   {
    "duration": 15,
    "start_time": "2023-03-01T11:56:54.531Z"
   },
   {
    "duration": 20,
    "start_time": "2023-03-01T11:56:54.548Z"
   },
   {
    "duration": 18,
    "start_time": "2023-03-01T11:56:54.570Z"
   },
   {
    "duration": 4,
    "start_time": "2023-03-01T11:56:54.590Z"
   },
   {
    "duration": 39,
    "start_time": "2023-03-01T11:56:54.596Z"
   },
   {
    "duration": 19,
    "start_time": "2023-03-01T11:56:54.636Z"
   },
   {
    "duration": 9,
    "start_time": "2023-03-01T11:56:54.657Z"
   },
   {
    "duration": 21,
    "start_time": "2023-03-01T11:56:54.668Z"
   },
   {
    "duration": 20,
    "start_time": "2023-03-01T11:56:54.692Z"
   },
   {
    "duration": 2,
    "start_time": "2023-03-01T11:56:54.727Z"
   },
   {
    "duration": 5,
    "start_time": "2023-03-01T11:56:54.731Z"
   },
   {
    "duration": 9,
    "start_time": "2023-03-01T11:56:54.737Z"
   },
   {
    "duration": 16,
    "start_time": "2023-03-01T11:57:01.449Z"
   },
   {
    "duration": 15,
    "start_time": "2023-03-01T12:33:49.215Z"
   },
   {
    "duration": 12,
    "start_time": "2023-03-01T12:35:08.454Z"
   },
   {
    "duration": 16,
    "start_time": "2023-03-01T12:35:10.935Z"
   },
   {
    "duration": 14,
    "start_time": "2023-03-01T12:43:19.189Z"
   },
   {
    "duration": 4,
    "start_time": "2023-03-01T12:44:37.440Z"
   },
   {
    "duration": 4,
    "start_time": "2023-03-01T12:44:52.038Z"
   },
   {
    "duration": 16,
    "start_time": "2023-03-01T12:44:56.782Z"
   },
   {
    "duration": 20,
    "start_time": "2023-03-01T12:45:20.588Z"
   },
   {
    "duration": 23,
    "start_time": "2023-03-01T12:45:57.980Z"
   },
   {
    "duration": 32,
    "start_time": "2023-03-01T12:46:25.527Z"
   },
   {
    "duration": 15,
    "start_time": "2023-03-01T12:46:52.110Z"
   },
   {
    "duration": 20,
    "start_time": "2023-03-01T12:46:56.390Z"
   },
   {
    "duration": 65,
    "start_time": "2023-03-01T12:48:29.698Z"
   },
   {
    "duration": 13,
    "start_time": "2023-03-01T12:48:33.882Z"
   },
   {
    "duration": 12,
    "start_time": "2023-03-01T12:48:36.853Z"
   },
   {
    "duration": 12,
    "start_time": "2023-03-01T12:48:42.683Z"
   },
   {
    "duration": 14,
    "start_time": "2023-03-01T12:48:51.411Z"
   },
   {
    "duration": 1740,
    "start_time": "2023-03-01T12:49:01.026Z"
   },
   {
    "duration": 25,
    "start_time": "2023-03-01T12:49:02.768Z"
   },
   {
    "duration": 17,
    "start_time": "2023-03-01T12:49:02.795Z"
   },
   {
    "duration": 22,
    "start_time": "2023-03-01T12:49:02.814Z"
   },
   {
    "duration": 35,
    "start_time": "2023-03-01T12:49:02.837Z"
   },
   {
    "duration": 4,
    "start_time": "2023-03-01T12:49:02.874Z"
   },
   {
    "duration": 20,
    "start_time": "2023-03-01T12:49:02.880Z"
   },
   {
    "duration": 26,
    "start_time": "2023-03-01T12:49:02.902Z"
   },
   {
    "duration": 14,
    "start_time": "2023-03-01T12:49:02.930Z"
   },
   {
    "duration": 7,
    "start_time": "2023-03-01T12:49:02.948Z"
   },
   {
    "duration": 51,
    "start_time": "2023-03-01T12:49:02.957Z"
   },
   {
    "duration": 12,
    "start_time": "2023-03-01T12:49:03.010Z"
   },
   {
    "duration": 6,
    "start_time": "2023-03-01T12:49:03.024Z"
   },
   {
    "duration": 23,
    "start_time": "2023-03-01T12:49:03.031Z"
   },
   {
    "duration": 38,
    "start_time": "2023-03-01T12:49:03.056Z"
   },
   {
    "duration": 18,
    "start_time": "2023-03-01T12:49:03.095Z"
   },
   {
    "duration": 4,
    "start_time": "2023-03-01T12:49:03.115Z"
   },
   {
    "duration": 14,
    "start_time": "2023-03-01T12:49:03.120Z"
   },
   {
    "duration": 13,
    "start_time": "2023-03-01T12:49:03.136Z"
   },
   {
    "duration": 4,
    "start_time": "2023-03-01T12:49:03.150Z"
   },
   {
    "duration": 26,
    "start_time": "2023-03-01T12:49:03.156Z"
   },
   {
    "duration": 12,
    "start_time": "2023-03-01T12:49:03.184Z"
   },
   {
    "duration": 38,
    "start_time": "2023-03-01T12:49:03.197Z"
   },
   {
    "duration": 20,
    "start_time": "2023-03-01T12:49:03.237Z"
   },
   {
    "duration": 20,
    "start_time": "2023-03-01T12:49:03.258Z"
   },
   {
    "duration": 3,
    "start_time": "2023-03-01T12:49:03.280Z"
   },
   {
    "duration": 17,
    "start_time": "2023-03-01T12:49:03.285Z"
   },
   {
    "duration": 6,
    "start_time": "2023-03-01T12:49:03.306Z"
   },
   {
    "duration": 35,
    "start_time": "2023-03-01T12:56:14.318Z"
   },
   {
    "duration": 30,
    "start_time": "2023-03-01T12:56:37.785Z"
   },
   {
    "duration": 30,
    "start_time": "2023-03-01T12:56:45.649Z"
   },
   {
    "duration": 4,
    "start_time": "2023-03-01T13:00:40.843Z"
   },
   {
    "duration": 19,
    "start_time": "2023-03-01T13:00:43.377Z"
   },
   {
    "duration": 34,
    "start_time": "2023-03-01T13:02:31.144Z"
   },
   {
    "duration": 33,
    "start_time": "2023-03-01T13:02:38.227Z"
   },
   {
    "duration": 39,
    "start_time": "2023-03-01T13:13:46.185Z"
   },
   {
    "duration": 34,
    "start_time": "2023-03-01T13:14:42.431Z"
   },
   {
    "duration": 100,
    "start_time": "2023-03-01T13:25:32.445Z"
   },
   {
    "duration": 16,
    "start_time": "2023-03-01T14:00:44.867Z"
   },
   {
    "duration": 67,
    "start_time": "2023-03-01T14:03:02.290Z"
   },
   {
    "duration": 7,
    "start_time": "2023-03-01T14:03:05.762Z"
   },
   {
    "duration": 7,
    "start_time": "2023-03-01T14:03:11.860Z"
   },
   {
    "duration": 11,
    "start_time": "2023-03-01T14:03:17.153Z"
   },
   {
    "duration": 12,
    "start_time": "2023-03-01T14:03:31.597Z"
   },
   {
    "duration": 10,
    "start_time": "2023-03-01T14:03:33.858Z"
   },
   {
    "duration": 9,
    "start_time": "2023-03-01T14:03:39.298Z"
   },
   {
    "duration": 17,
    "start_time": "2023-03-01T14:03:49.102Z"
   },
   {
    "duration": 7,
    "start_time": "2023-03-01T14:04:14.202Z"
   },
   {
    "duration": 6,
    "start_time": "2023-03-01T14:04:16.464Z"
   },
   {
    "duration": 10,
    "start_time": "2023-03-01T14:04:19.093Z"
   },
   {
    "duration": 16,
    "start_time": "2023-03-01T14:04:54.715Z"
   },
   {
    "duration": 30,
    "start_time": "2023-03-01T14:41:38.622Z"
   },
   {
    "duration": 45,
    "start_time": "2023-03-01T14:41:54.940Z"
   },
   {
    "duration": 78,
    "start_time": "2023-03-01T14:53:00.277Z"
   },
   {
    "duration": 75,
    "start_time": "2023-03-01T14:53:02.074Z"
   },
   {
    "duration": 7,
    "start_time": "2023-03-01T14:56:39.346Z"
   },
   {
    "duration": 8,
    "start_time": "2023-03-01T15:20:01.774Z"
   },
   {
    "duration": 18,
    "start_time": "2023-03-01T16:13:40.698Z"
   },
   {
    "duration": 19,
    "start_time": "2023-03-01T16:13:48.110Z"
   },
   {
    "duration": 32,
    "start_time": "2023-03-01T16:14:05.891Z"
   },
   {
    "duration": 18,
    "start_time": "2023-03-01T16:14:35.550Z"
   },
   {
    "duration": 24,
    "start_time": "2023-03-01T16:14:40.508Z"
   },
   {
    "duration": 74,
    "start_time": "2023-03-01T17:09:54.656Z"
   },
   {
    "duration": 6,
    "start_time": "2023-03-01T17:11:40.047Z"
   },
   {
    "duration": 5,
    "start_time": "2023-03-01T17:11:42.324Z"
   },
   {
    "duration": 15,
    "start_time": "2023-03-01T17:15:03.573Z"
   },
   {
    "duration": 15,
    "start_time": "2023-03-01T17:15:54.685Z"
   },
   {
    "duration": 34,
    "start_time": "2023-03-01T17:16:25.628Z"
   },
   {
    "duration": 30,
    "start_time": "2023-03-01T17:19:04.804Z"
   },
   {
    "duration": 11,
    "start_time": "2023-03-01T17:28:54.305Z"
   },
   {
    "duration": 7,
    "start_time": "2023-03-01T17:29:04.232Z"
   },
   {
    "duration": 32,
    "start_time": "2023-03-01T17:37:48.711Z"
   },
   {
    "duration": 31,
    "start_time": "2023-03-01T17:38:18.674Z"
   },
   {
    "duration": 7,
    "start_time": "2023-03-01T17:38:22.709Z"
   },
   {
    "duration": 11,
    "start_time": "2023-03-01T17:39:25.278Z"
   },
   {
    "duration": 9,
    "start_time": "2023-03-01T17:39:46.846Z"
   },
   {
    "duration": 32,
    "start_time": "2023-03-01T17:42:09.261Z"
   },
   {
    "duration": 30,
    "start_time": "2023-03-01T17:42:14.667Z"
   },
   {
    "duration": 5,
    "start_time": "2023-03-01T17:45:42.478Z"
   },
   {
    "duration": 7,
    "start_time": "2023-03-01T17:45:48.454Z"
   },
   {
    "duration": 7,
    "start_time": "2023-03-01T17:47:14.671Z"
   },
   {
    "duration": 6,
    "start_time": "2023-03-01T17:47:20.287Z"
   },
   {
    "duration": 6,
    "start_time": "2023-03-01T17:47:25.499Z"
   },
   {
    "duration": 6,
    "start_time": "2023-03-01T17:47:28.520Z"
   },
   {
    "duration": 7,
    "start_time": "2023-03-01T17:47:31.238Z"
   },
   {
    "duration": 6,
    "start_time": "2023-03-01T17:47:35.118Z"
   },
   {
    "duration": 6,
    "start_time": "2023-03-01T17:47:38.753Z"
   },
   {
    "duration": 7,
    "start_time": "2023-03-01T17:47:50.314Z"
   },
   {
    "duration": 1155,
    "start_time": "2023-03-01T17:48:01.732Z"
   },
   {
    "duration": 1086,
    "start_time": "2023-03-01T17:48:14.272Z"
   },
   {
    "duration": 8,
    "start_time": "2023-03-01T17:48:22.046Z"
   },
   {
    "duration": 7,
    "start_time": "2023-03-01T17:48:36.231Z"
   },
   {
    "duration": 12,
    "start_time": "2023-03-01T17:48:44.764Z"
   },
   {
    "duration": 7,
    "start_time": "2023-03-01T17:48:57.180Z"
   },
   {
    "duration": 8,
    "start_time": "2023-03-01T17:51:01.985Z"
   },
   {
    "duration": 10,
    "start_time": "2023-03-01T17:51:05.159Z"
   },
   {
    "duration": 30,
    "start_time": "2023-03-01T17:58:34.307Z"
   },
   {
    "duration": 5,
    "start_time": "2023-03-01T17:59:56.240Z"
   },
   {
    "duration": 44,
    "start_time": "2023-03-02T07:36:14.826Z"
   },
   {
    "duration": 522,
    "start_time": "2023-03-02T07:36:25.837Z"
   },
   {
    "duration": 23,
    "start_time": "2023-03-02T07:36:26.363Z"
   },
   {
    "duration": 15,
    "start_time": "2023-03-02T07:36:26.388Z"
   },
   {
    "duration": 20,
    "start_time": "2023-03-02T07:36:26.405Z"
   },
   {
    "duration": 31,
    "start_time": "2023-03-02T07:36:26.427Z"
   },
   {
    "duration": 3,
    "start_time": "2023-03-02T07:36:26.460Z"
   },
   {
    "duration": 14,
    "start_time": "2023-03-02T07:36:26.465Z"
   },
   {
    "duration": 4,
    "start_time": "2023-03-02T07:36:26.481Z"
   },
   {
    "duration": 8,
    "start_time": "2023-03-02T07:36:26.487Z"
   },
   {
    "duration": 27,
    "start_time": "2023-03-02T07:36:26.497Z"
   },
   {
    "duration": 36,
    "start_time": "2023-03-02T07:36:26.526Z"
   },
   {
    "duration": 9,
    "start_time": "2023-03-02T07:36:26.564Z"
   },
   {
    "duration": 14,
    "start_time": "2023-03-02T07:36:26.574Z"
   },
   {
    "duration": 28,
    "start_time": "2023-03-02T07:36:26.590Z"
   },
   {
    "duration": 36,
    "start_time": "2023-03-02T07:36:26.620Z"
   },
   {
    "duration": 26,
    "start_time": "2023-03-02T07:36:26.658Z"
   },
   {
    "duration": 7,
    "start_time": "2023-03-02T07:36:26.686Z"
   },
   {
    "duration": 32,
    "start_time": "2023-03-02T07:36:26.694Z"
   },
   {
    "duration": 40,
    "start_time": "2023-03-02T07:36:26.728Z"
   },
   {
    "duration": 6,
    "start_time": "2023-03-02T07:36:26.769Z"
   },
   {
    "duration": 36,
    "start_time": "2023-03-02T07:36:26.776Z"
   },
   {
    "duration": 54,
    "start_time": "2023-03-02T07:36:26.815Z"
   },
   {
    "duration": 17,
    "start_time": "2023-03-02T07:36:26.870Z"
   },
   {
    "duration": 69,
    "start_time": "2023-03-02T07:36:26.889Z"
   },
   {
    "duration": 34,
    "start_time": "2023-03-02T07:36:26.961Z"
   },
   {
    "duration": 7,
    "start_time": "2023-03-02T07:36:26.997Z"
   },
   {
    "duration": 75,
    "start_time": "2023-03-02T07:36:27.021Z"
   },
   {
    "duration": 0,
    "start_time": "2023-03-02T07:36:27.098Z"
   },
   {
    "duration": 0,
    "start_time": "2023-03-02T07:36:27.099Z"
   },
   {
    "duration": 0,
    "start_time": "2023-03-02T07:36:27.100Z"
   },
   {
    "duration": 0,
    "start_time": "2023-03-02T07:36:27.101Z"
   },
   {
    "duration": 0,
    "start_time": "2023-03-02T07:36:27.102Z"
   },
   {
    "duration": 4,
    "start_time": "2023-03-02T07:36:52.232Z"
   },
   {
    "duration": 33,
    "start_time": "2023-03-02T07:37:26.388Z"
   },
   {
    "duration": 4,
    "start_time": "2023-03-02T07:40:57.267Z"
   },
   {
    "duration": 4,
    "start_time": "2023-03-02T07:41:04.297Z"
   },
   {
    "duration": 4,
    "start_time": "2023-03-02T07:41:07.021Z"
   },
   {
    "duration": 12,
    "start_time": "2023-03-02T07:42:26.456Z"
   },
   {
    "duration": 10,
    "start_time": "2023-03-02T07:43:56.007Z"
   },
   {
    "duration": 13,
    "start_time": "2023-03-02T07:44:03.777Z"
   },
   {
    "duration": 71,
    "start_time": "2023-03-02T07:51:02.485Z"
   },
   {
    "duration": 19,
    "start_time": "2023-03-02T07:51:17.167Z"
   },
   {
    "duration": 15,
    "start_time": "2023-03-02T08:32:41.150Z"
   },
   {
    "duration": 19,
    "start_time": "2023-03-02T08:38:12.129Z"
   },
   {
    "duration": 2,
    "start_time": "2023-03-02T09:06:45.816Z"
   },
   {
    "duration": 3,
    "start_time": "2023-03-02T09:11:21.457Z"
   },
   {
    "duration": 2,
    "start_time": "2023-03-02T09:11:26.821Z"
   },
   {
    "duration": 3,
    "start_time": "2023-03-02T09:12:20.424Z"
   },
   {
    "duration": 2,
    "start_time": "2023-03-02T09:12:21.255Z"
   },
   {
    "duration": 6,
    "start_time": "2023-03-02T09:18:20.891Z"
   },
   {
    "duration": 26,
    "start_time": "2023-03-02T09:28:03.976Z"
   },
   {
    "duration": 20,
    "start_time": "2023-03-02T09:28:16.252Z"
   },
   {
    "duration": 21,
    "start_time": "2023-03-02T09:29:22.092Z"
   },
   {
    "duration": 25,
    "start_time": "2023-03-02T09:31:15.594Z"
   },
   {
    "duration": 21,
    "start_time": "2023-03-02T09:31:38.579Z"
   },
   {
    "duration": 20,
    "start_time": "2023-03-02T09:31:42.968Z"
   },
   {
    "duration": 19,
    "start_time": "2023-03-02T09:31:48.539Z"
   },
   {
    "duration": 20,
    "start_time": "2023-03-02T09:31:51.917Z"
   },
   {
    "duration": 18,
    "start_time": "2023-03-02T09:31:55.754Z"
   },
   {
    "duration": 76,
    "start_time": "2023-03-02T09:32:54.098Z"
   },
   {
    "duration": 71,
    "start_time": "2023-03-02T09:32:57.742Z"
   },
   {
    "duration": 98,
    "start_time": "2023-03-02T09:33:01.956Z"
   },
   {
    "duration": 90,
    "start_time": "2023-03-02T09:33:05.608Z"
   },
   {
    "duration": 74,
    "start_time": "2023-03-02T09:33:22.952Z"
   },
   {
    "duration": 78,
    "start_time": "2023-03-02T09:33:30.248Z"
   },
   {
    "duration": 22,
    "start_time": "2023-03-02T09:33:49.893Z"
   },
   {
    "duration": 74,
    "start_time": "2023-03-02T09:34:56.878Z"
   },
   {
    "duration": 20,
    "start_time": "2023-03-02T09:36:54.191Z"
   },
   {
    "duration": 21,
    "start_time": "2023-03-02T09:37:18.709Z"
   },
   {
    "duration": 94,
    "start_time": "2023-03-02T09:39:23.509Z"
   },
   {
    "duration": 76,
    "start_time": "2023-03-02T09:39:26.621Z"
   },
   {
    "duration": 70,
    "start_time": "2023-03-02T09:39:39.860Z"
   },
   {
    "duration": 21,
    "start_time": "2023-03-02T09:39:51.191Z"
   },
   {
    "duration": 306,
    "start_time": "2023-03-02T09:39:54.167Z"
   },
   {
    "duration": 20,
    "start_time": "2023-03-02T09:40:08.149Z"
   },
   {
    "duration": 446,
    "start_time": "2023-03-02T09:40:16.013Z"
   },
   {
    "duration": 349,
    "start_time": "2023-03-02T09:40:20.877Z"
   },
   {
    "duration": 21,
    "start_time": "2023-03-02T09:40:25.103Z"
   },
   {
    "duration": 465,
    "start_time": "2023-03-02T09:40:31.235Z"
   },
   {
    "duration": 22,
    "start_time": "2023-03-02T09:40:31.702Z"
   },
   {
    "duration": 60,
    "start_time": "2023-03-02T09:40:31.726Z"
   },
   {
    "duration": 122,
    "start_time": "2023-03-02T09:40:31.789Z"
   },
   {
    "duration": 46,
    "start_time": "2023-03-02T09:40:31.913Z"
   },
   {
    "duration": 10,
    "start_time": "2023-03-02T09:40:31.961Z"
   },
   {
    "duration": 48,
    "start_time": "2023-03-02T09:40:31.973Z"
   },
   {
    "duration": 41,
    "start_time": "2023-03-02T09:40:32.023Z"
   },
   {
    "duration": 118,
    "start_time": "2023-03-02T09:40:32.066Z"
   },
   {
    "duration": 54,
    "start_time": "2023-03-02T09:40:32.187Z"
   },
   {
    "duration": 93,
    "start_time": "2023-03-02T09:40:32.243Z"
   },
   {
    "duration": 12,
    "start_time": "2023-03-02T09:40:32.337Z"
   },
   {
    "duration": 23,
    "start_time": "2023-03-02T09:40:32.351Z"
   },
   {
    "duration": 46,
    "start_time": "2023-03-02T09:40:32.375Z"
   },
   {
    "duration": 59,
    "start_time": "2023-03-02T09:40:32.422Z"
   },
   {
    "duration": 18,
    "start_time": "2023-03-02T09:40:32.482Z"
   },
   {
    "duration": 26,
    "start_time": "2023-03-02T09:40:32.502Z"
   },
   {
    "duration": 62,
    "start_time": "2023-03-02T09:40:32.530Z"
   },
   {
    "duration": 37,
    "start_time": "2023-03-02T09:40:32.594Z"
   },
   {
    "duration": 73,
    "start_time": "2023-03-02T09:40:32.632Z"
   },
   {
    "duration": 48,
    "start_time": "2023-03-02T09:40:32.707Z"
   },
   {
    "duration": 80,
    "start_time": "2023-03-02T09:40:32.756Z"
   },
   {
    "duration": 18,
    "start_time": "2023-03-02T09:40:32.838Z"
   },
   {
    "duration": 46,
    "start_time": "2023-03-02T09:40:32.858Z"
   },
   {
    "duration": 46,
    "start_time": "2023-03-02T09:40:32.906Z"
   },
   {
    "duration": 14,
    "start_time": "2023-03-02T09:40:32.953Z"
   },
   {
    "duration": 55,
    "start_time": "2023-03-02T09:40:32.969Z"
   },
   {
    "duration": 27,
    "start_time": "2023-03-02T09:40:33.027Z"
   },
   {
    "duration": 25,
    "start_time": "2023-03-02T09:40:33.055Z"
   },
   {
    "duration": 42,
    "start_time": "2023-03-02T09:40:33.081Z"
   },
   {
    "duration": 28,
    "start_time": "2023-03-02T09:40:33.124Z"
   },
   {
    "duration": 50,
    "start_time": "2023-03-02T09:40:33.154Z"
   },
   {
    "duration": 50,
    "start_time": "2023-03-02T09:40:33.205Z"
   },
   {
    "duration": 90,
    "start_time": "2023-03-02T09:40:33.257Z"
   },
   {
    "duration": 40,
    "start_time": "2023-03-02T09:40:33.348Z"
   },
   {
    "duration": 42,
    "start_time": "2023-03-02T09:40:33.389Z"
   },
   {
    "duration": 27,
    "start_time": "2023-03-02T09:40:33.433Z"
   },
   {
    "duration": 48,
    "start_time": "2023-03-02T09:40:33.461Z"
   },
   {
    "duration": 40,
    "start_time": "2023-03-02T09:40:33.510Z"
   },
   {
    "duration": 21,
    "start_time": "2023-03-02T09:40:40.858Z"
   },
   {
    "duration": 19,
    "start_time": "2023-03-02T09:41:03.977Z"
   },
   {
    "duration": 21,
    "start_time": "2023-03-02T09:41:40.047Z"
   },
   {
    "duration": 21,
    "start_time": "2023-03-02T09:42:32.501Z"
   },
   {
    "duration": 5,
    "start_time": "2023-03-02T09:42:45.429Z"
   },
   {
    "duration": 20,
    "start_time": "2023-03-02T09:42:48.325Z"
   },
   {
    "duration": 23,
    "start_time": "2023-03-02T09:43:01.158Z"
   },
   {
    "duration": 21,
    "start_time": "2023-03-02T09:43:27.047Z"
   },
   {
    "duration": 20,
    "start_time": "2023-03-02T10:47:20.051Z"
   },
   {
    "duration": 21,
    "start_time": "2023-03-02T10:49:36.253Z"
   },
   {
    "duration": 486,
    "start_time": "2023-03-02T12:32:36.743Z"
   },
   {
    "duration": 25,
    "start_time": "2023-03-02T12:32:37.231Z"
   },
   {
    "duration": 14,
    "start_time": "2023-03-02T12:32:37.258Z"
   },
   {
    "duration": 8,
    "start_time": "2023-03-02T12:32:37.274Z"
   },
   {
    "duration": 32,
    "start_time": "2023-03-02T12:32:37.283Z"
   },
   {
    "duration": 4,
    "start_time": "2023-03-02T12:32:37.317Z"
   },
   {
    "duration": 39,
    "start_time": "2023-03-02T12:32:37.323Z"
   },
   {
    "duration": 4,
    "start_time": "2023-03-02T12:32:37.364Z"
   },
   {
    "duration": 9,
    "start_time": "2023-03-02T12:32:37.370Z"
   },
   {
    "duration": 4,
    "start_time": "2023-03-02T12:32:37.382Z"
   },
   {
    "duration": 35,
    "start_time": "2023-03-02T12:32:37.387Z"
   },
   {
    "duration": 9,
    "start_time": "2023-03-02T12:32:37.423Z"
   },
   {
    "duration": 4,
    "start_time": "2023-03-02T12:32:37.456Z"
   },
   {
    "duration": 13,
    "start_time": "2023-03-02T12:32:37.461Z"
   },
   {
    "duration": 22,
    "start_time": "2023-03-02T12:32:37.475Z"
   },
   {
    "duration": 18,
    "start_time": "2023-03-02T12:32:37.499Z"
   },
   {
    "duration": 4,
    "start_time": "2023-03-02T12:32:37.519Z"
   },
   {
    "duration": 34,
    "start_time": "2023-03-02T12:32:37.525Z"
   },
   {
    "duration": 6,
    "start_time": "2023-03-02T12:32:37.561Z"
   },
   {
    "duration": 5,
    "start_time": "2023-03-02T12:32:37.568Z"
   },
   {
    "duration": 23,
    "start_time": "2023-03-02T12:32:37.574Z"
   },
   {
    "duration": 62,
    "start_time": "2023-03-02T12:32:37.599Z"
   },
   {
    "duration": 14,
    "start_time": "2023-03-02T12:32:37.663Z"
   },
   {
    "duration": 27,
    "start_time": "2023-03-02T12:32:37.679Z"
   },
   {
    "duration": 51,
    "start_time": "2023-03-02T12:32:37.708Z"
   },
   {
    "duration": 5,
    "start_time": "2023-03-02T12:32:37.760Z"
   },
   {
    "duration": 13,
    "start_time": "2023-03-02T12:32:37.766Z"
   },
   {
    "duration": 15,
    "start_time": "2023-03-02T12:32:37.782Z"
   },
   {
    "duration": 4,
    "start_time": "2023-03-02T12:32:37.798Z"
   },
   {
    "duration": 13,
    "start_time": "2023-03-02T12:32:37.804Z"
   },
   {
    "duration": 2,
    "start_time": "2023-03-02T12:32:37.819Z"
   },
   {
    "duration": 32,
    "start_time": "2023-03-02T12:32:37.823Z"
   },
   {
    "duration": 9,
    "start_time": "2023-03-02T12:32:37.857Z"
   },
   {
    "duration": 26,
    "start_time": "2023-03-02T12:32:37.868Z"
   },
   {
    "duration": 18,
    "start_time": "2023-03-02T12:32:37.896Z"
   },
   {
    "duration": 3,
    "start_time": "2023-03-02T12:32:37.915Z"
   },
   {
    "duration": 4,
    "start_time": "2023-03-02T12:32:37.920Z"
   },
   {
    "duration": 75,
    "start_time": "2023-03-02T12:41:54.711Z"
   },
   {
    "duration": 23,
    "start_time": "2023-03-02T12:44:04.116Z"
   },
   {
    "duration": 19,
    "start_time": "2023-03-02T12:44:10.749Z"
   },
   {
    "duration": 479,
    "start_time": "2023-03-02T12:47:14.850Z"
   },
   {
    "duration": 32,
    "start_time": "2023-03-02T12:47:15.332Z"
   },
   {
    "duration": 15,
    "start_time": "2023-03-02T12:47:15.366Z"
   },
   {
    "duration": 11,
    "start_time": "2023-03-02T12:47:15.384Z"
   },
   {
    "duration": 31,
    "start_time": "2023-03-02T12:47:15.396Z"
   },
   {
    "duration": 4,
    "start_time": "2023-03-02T12:47:15.428Z"
   },
   {
    "duration": 8,
    "start_time": "2023-03-02T12:47:15.455Z"
   },
   {
    "duration": 6,
    "start_time": "2023-03-02T12:47:15.465Z"
   },
   {
    "duration": 10,
    "start_time": "2023-03-02T12:47:15.472Z"
   },
   {
    "duration": 4,
    "start_time": "2023-03-02T12:47:15.486Z"
   },
   {
    "duration": 36,
    "start_time": "2023-03-02T12:47:15.492Z"
   },
   {
    "duration": 15,
    "start_time": "2023-03-02T12:47:15.556Z"
   },
   {
    "duration": 11,
    "start_time": "2023-03-02T12:47:15.573Z"
   },
   {
    "duration": 29,
    "start_time": "2023-03-02T12:47:15.586Z"
   },
   {
    "duration": 22,
    "start_time": "2023-03-02T12:47:15.617Z"
   },
   {
    "duration": 25,
    "start_time": "2023-03-02T12:47:15.642Z"
   },
   {
    "duration": 4,
    "start_time": "2023-03-02T12:47:15.669Z"
   },
   {
    "duration": 14,
    "start_time": "2023-03-02T12:47:15.675Z"
   },
   {
    "duration": 16,
    "start_time": "2023-03-02T12:47:15.691Z"
   },
   {
    "duration": 9,
    "start_time": "2023-03-02T12:47:15.709Z"
   },
   {
    "duration": 40,
    "start_time": "2023-03-02T12:47:15.720Z"
   },
   {
    "duration": 49,
    "start_time": "2023-03-02T12:47:15.762Z"
   },
   {
    "duration": 19,
    "start_time": "2023-03-02T12:47:15.813Z"
   },
   {
    "duration": 43,
    "start_time": "2023-03-02T12:47:15.856Z"
   },
   {
    "duration": 56,
    "start_time": "2023-03-02T12:47:15.902Z"
   },
   {
    "duration": 7,
    "start_time": "2023-03-02T12:47:15.960Z"
   },
   {
    "duration": 53,
    "start_time": "2023-03-02T12:47:15.969Z"
   },
   {
    "duration": 17,
    "start_time": "2023-03-02T12:47:16.026Z"
   },
   {
    "duration": 5,
    "start_time": "2023-03-02T12:47:16.044Z"
   },
   {
    "duration": 18,
    "start_time": "2023-03-02T12:47:16.050Z"
   },
   {
    "duration": 3,
    "start_time": "2023-03-02T12:47:16.070Z"
   },
   {
    "duration": 11,
    "start_time": "2023-03-02T12:47:16.074Z"
   },
   {
    "duration": 32,
    "start_time": "2023-03-02T12:47:16.087Z"
   },
   {
    "duration": 39,
    "start_time": "2023-03-02T12:47:16.121Z"
   },
   {
    "duration": 21,
    "start_time": "2023-03-02T12:47:16.162Z"
   },
   {
    "duration": 19,
    "start_time": "2023-03-02T12:47:16.184Z"
   },
   {
    "duration": 4,
    "start_time": "2023-03-02T12:47:16.204Z"
   },
   {
    "duration": 430,
    "start_time": "2023-03-02T12:48:13.306Z"
   },
   {
    "duration": 30,
    "start_time": "2023-03-02T12:48:13.737Z"
   },
   {
    "duration": 19,
    "start_time": "2023-03-02T12:48:13.769Z"
   },
   {
    "duration": 9,
    "start_time": "2023-03-02T12:48:13.790Z"
   },
   {
    "duration": 32,
    "start_time": "2023-03-02T12:48:13.800Z"
   },
   {
    "duration": 24,
    "start_time": "2023-03-02T12:48:13.833Z"
   },
   {
    "duration": 13,
    "start_time": "2023-03-02T12:48:13.859Z"
   },
   {
    "duration": 19,
    "start_time": "2023-03-02T12:48:13.873Z"
   },
   {
    "duration": 15,
    "start_time": "2023-03-02T12:48:13.894Z"
   },
   {
    "duration": 5,
    "start_time": "2023-03-02T12:48:13.913Z"
   },
   {
    "duration": 37,
    "start_time": "2023-03-02T12:48:13.920Z"
   },
   {
    "duration": 10,
    "start_time": "2023-03-02T12:48:13.959Z"
   },
   {
    "duration": 4,
    "start_time": "2023-03-02T12:48:13.970Z"
   },
   {
    "duration": 12,
    "start_time": "2023-03-02T12:48:13.975Z"
   },
   {
    "duration": 18,
    "start_time": "2023-03-02T12:48:13.989Z"
   },
   {
    "duration": 50,
    "start_time": "2023-03-02T12:48:14.009Z"
   },
   {
    "duration": 4,
    "start_time": "2023-03-02T12:48:14.061Z"
   },
   {
    "duration": 19,
    "start_time": "2023-03-02T12:48:14.066Z"
   },
   {
    "duration": 7,
    "start_time": "2023-03-02T12:48:14.087Z"
   },
   {
    "duration": 5,
    "start_time": "2023-03-02T12:48:14.096Z"
   },
   {
    "duration": 53,
    "start_time": "2023-03-02T12:48:14.103Z"
   },
   {
    "duration": 59,
    "start_time": "2023-03-02T12:48:14.159Z"
   },
   {
    "duration": 23,
    "start_time": "2023-03-02T12:48:14.220Z"
   },
   {
    "duration": 45,
    "start_time": "2023-03-02T12:48:14.255Z"
   },
   {
    "duration": 61,
    "start_time": "2023-03-02T12:48:14.302Z"
   },
   {
    "duration": 6,
    "start_time": "2023-03-02T12:48:14.365Z"
   },
   {
    "duration": 48,
    "start_time": "2023-03-02T12:48:14.372Z"
   },
   {
    "duration": 22,
    "start_time": "2023-03-02T12:48:14.424Z"
   },
   {
    "duration": 4,
    "start_time": "2023-03-02T12:48:14.447Z"
   },
   {
    "duration": 25,
    "start_time": "2023-03-02T12:48:14.452Z"
   },
   {
    "duration": 4,
    "start_time": "2023-03-02T12:48:14.479Z"
   },
   {
    "duration": 20,
    "start_time": "2023-03-02T12:48:14.485Z"
   },
   {
    "duration": 23,
    "start_time": "2023-03-02T12:48:14.507Z"
   },
   {
    "duration": 30,
    "start_time": "2023-03-02T12:48:14.531Z"
   },
   {
    "duration": 24,
    "start_time": "2023-03-02T12:48:14.563Z"
   },
   {
    "duration": 32,
    "start_time": "2023-03-02T12:48:14.589Z"
   },
   {
    "duration": 2,
    "start_time": "2023-03-02T12:48:14.624Z"
   },
   {
    "duration": 19,
    "start_time": "2023-03-02T12:48:59.790Z"
   },
   {
    "duration": 20,
    "start_time": "2023-03-02T12:49:08.537Z"
   },
   {
    "duration": 20,
    "start_time": "2023-03-02T12:49:22.591Z"
   },
   {
    "duration": 20,
    "start_time": "2023-03-02T12:49:29.077Z"
   },
   {
    "duration": 21,
    "start_time": "2023-03-02T12:49:42.648Z"
   },
   {
    "duration": 23,
    "start_time": "2023-03-02T13:03:59.527Z"
   },
   {
    "duration": 24,
    "start_time": "2023-03-02T13:04:40.958Z"
   },
   {
    "duration": 74,
    "start_time": "2023-03-02T13:04:52.898Z"
   },
   {
    "duration": 458,
    "start_time": "2023-03-02T13:05:39.847Z"
   },
   {
    "duration": 21,
    "start_time": "2023-03-02T13:05:40.307Z"
   },
   {
    "duration": 13,
    "start_time": "2023-03-02T13:05:40.330Z"
   },
   {
    "duration": 17,
    "start_time": "2023-03-02T13:05:40.345Z"
   },
   {
    "duration": 30,
    "start_time": "2023-03-02T13:05:40.364Z"
   },
   {
    "duration": 3,
    "start_time": "2023-03-02T13:05:40.396Z"
   },
   {
    "duration": 10,
    "start_time": "2023-03-02T13:05:40.400Z"
   },
   {
    "duration": 4,
    "start_time": "2023-03-02T13:05:40.411Z"
   },
   {
    "duration": 7,
    "start_time": "2023-03-02T13:05:40.416Z"
   },
   {
    "duration": 5,
    "start_time": "2023-03-02T13:05:40.455Z"
   },
   {
    "duration": 37,
    "start_time": "2023-03-02T13:05:40.461Z"
   },
   {
    "duration": 8,
    "start_time": "2023-03-02T13:05:40.500Z"
   },
   {
    "duration": 4,
    "start_time": "2023-03-02T13:05:40.509Z"
   },
   {
    "duration": 10,
    "start_time": "2023-03-02T13:05:40.514Z"
   },
   {
    "duration": 42,
    "start_time": "2023-03-02T13:05:40.526Z"
   },
   {
    "duration": 25,
    "start_time": "2023-03-02T13:05:40.569Z"
   },
   {
    "duration": 5,
    "start_time": "2023-03-02T13:05:40.596Z"
   },
   {
    "duration": 11,
    "start_time": "2023-03-02T13:05:40.603Z"
   },
   {
    "duration": 8,
    "start_time": "2023-03-02T13:05:40.616Z"
   },
   {
    "duration": 31,
    "start_time": "2023-03-02T13:05:40.625Z"
   },
   {
    "duration": 19,
    "start_time": "2023-03-02T13:05:40.658Z"
   },
   {
    "duration": 34,
    "start_time": "2023-03-02T13:05:40.678Z"
   },
   {
    "duration": 14,
    "start_time": "2023-03-02T13:05:40.713Z"
   },
   {
    "duration": 53,
    "start_time": "2023-03-02T13:05:40.728Z"
   },
   {
    "duration": 28,
    "start_time": "2023-03-02T13:05:40.783Z"
   },
   {
    "duration": 3,
    "start_time": "2023-03-02T13:05:40.813Z"
   },
   {
    "duration": 43,
    "start_time": "2023-03-02T13:05:40.818Z"
   },
   {
    "duration": 15,
    "start_time": "2023-03-02T13:05:40.863Z"
   },
   {
    "duration": 3,
    "start_time": "2023-03-02T13:05:40.879Z"
   },
   {
    "duration": 14,
    "start_time": "2023-03-02T13:05:40.884Z"
   },
   {
    "duration": 2,
    "start_time": "2023-03-02T13:05:40.900Z"
   },
   {
    "duration": 5,
    "start_time": "2023-03-02T13:05:40.903Z"
   },
   {
    "duration": 46,
    "start_time": "2023-03-02T13:05:40.909Z"
   },
   {
    "duration": 25,
    "start_time": "2023-03-02T13:05:40.957Z"
   },
   {
    "duration": 20,
    "start_time": "2023-03-02T13:05:40.983Z"
   },
   {
    "duration": 19,
    "start_time": "2023-03-02T13:05:41.004Z"
   },
   {
    "duration": 96,
    "start_time": "2023-03-02T13:05:41.024Z"
   },
   {
    "duration": 22,
    "start_time": "2023-03-02T13:06:01.138Z"
   },
   {
    "duration": 24,
    "start_time": "2023-03-02T13:06:15.174Z"
   },
   {
    "duration": 20,
    "start_time": "2023-03-02T13:17:54.187Z"
   },
   {
    "duration": 20,
    "start_time": "2023-03-02T13:25:17.057Z"
   },
   {
    "duration": 22,
    "start_time": "2023-03-02T13:25:28.571Z"
   },
   {
    "duration": 22,
    "start_time": "2023-03-02T13:25:34.324Z"
   },
   {
    "duration": 137,
    "start_time": "2023-03-02T22:32:38.953Z"
   },
   {
    "duration": 162,
    "start_time": "2023-03-02T22:34:40.442Z"
   },
   {
    "duration": 55,
    "start_time": "2023-03-03T08:09:40.265Z"
   },
   {
    "duration": 705,
    "start_time": "2023-03-03T08:09:56.262Z"
   },
   {
    "duration": 23,
    "start_time": "2023-03-03T08:09:56.969Z"
   },
   {
    "duration": 16,
    "start_time": "2023-03-03T08:09:56.994Z"
   },
   {
    "duration": 9,
    "start_time": "2023-03-03T08:09:57.012Z"
   },
   {
    "duration": 49,
    "start_time": "2023-03-03T08:09:57.023Z"
   },
   {
    "duration": 4,
    "start_time": "2023-03-03T08:09:57.074Z"
   },
   {
    "duration": 12,
    "start_time": "2023-03-03T08:09:57.079Z"
   },
   {
    "duration": 5,
    "start_time": "2023-03-03T08:09:57.092Z"
   },
   {
    "duration": 10,
    "start_time": "2023-03-03T08:09:57.099Z"
   },
   {
    "duration": 5,
    "start_time": "2023-03-03T08:09:57.112Z"
   },
   {
    "duration": 37,
    "start_time": "2023-03-03T08:09:57.145Z"
   },
   {
    "duration": 10,
    "start_time": "2023-03-03T08:09:57.184Z"
   },
   {
    "duration": 10,
    "start_time": "2023-03-03T08:09:57.195Z"
   },
   {
    "duration": 16,
    "start_time": "2023-03-03T08:09:57.207Z"
   },
   {
    "duration": 39,
    "start_time": "2023-03-03T08:09:57.225Z"
   },
   {
    "duration": 18,
    "start_time": "2023-03-03T08:09:57.266Z"
   },
   {
    "duration": 8,
    "start_time": "2023-03-03T08:09:57.286Z"
   },
   {
    "duration": 20,
    "start_time": "2023-03-03T08:09:57.296Z"
   },
   {
    "duration": 27,
    "start_time": "2023-03-03T08:09:57.318Z"
   },
   {
    "duration": 7,
    "start_time": "2023-03-03T08:09:57.347Z"
   },
   {
    "duration": 24,
    "start_time": "2023-03-03T08:09:57.356Z"
   },
   {
    "duration": 39,
    "start_time": "2023-03-03T08:09:57.382Z"
   },
   {
    "duration": 43,
    "start_time": "2023-03-03T08:09:57.423Z"
   },
   {
    "duration": 33,
    "start_time": "2023-03-03T08:09:57.468Z"
   },
   {
    "duration": 57,
    "start_time": "2023-03-03T08:09:57.503Z"
   },
   {
    "duration": 5,
    "start_time": "2023-03-03T08:09:57.562Z"
   },
   {
    "duration": 16,
    "start_time": "2023-03-03T08:09:57.568Z"
   },
   {
    "duration": 17,
    "start_time": "2023-03-03T08:09:57.587Z"
   },
   {
    "duration": 12,
    "start_time": "2023-03-03T08:09:57.606Z"
   },
   {
    "duration": 35,
    "start_time": "2023-03-03T08:09:57.620Z"
   },
   {
    "duration": 18,
    "start_time": "2023-03-03T08:09:57.657Z"
   },
   {
    "duration": 18,
    "start_time": "2023-03-03T08:09:57.677Z"
   },
   {
    "duration": 19,
    "start_time": "2023-03-03T08:09:57.697Z"
   },
   {
    "duration": 36,
    "start_time": "2023-03-03T08:09:57.719Z"
   },
   {
    "duration": 32,
    "start_time": "2023-03-03T08:09:57.758Z"
   },
   {
    "duration": 24,
    "start_time": "2023-03-03T08:09:57.792Z"
   },
   {
    "duration": 45,
    "start_time": "2023-03-03T08:09:57.818Z"
   },
   {
    "duration": 23,
    "start_time": "2023-03-03T08:10:09.226Z"
   },
   {
    "duration": 27,
    "start_time": "2023-03-03T08:10:50.125Z"
   },
   {
    "duration": 15,
    "start_time": "2023-03-03T08:12:04.976Z"
   },
   {
    "duration": 622,
    "start_time": "2023-03-03T08:15:08.522Z"
   },
   {
    "duration": 15,
    "start_time": "2023-03-03T08:15:16.342Z"
   },
   {
    "duration": 17,
    "start_time": "2023-03-03T08:15:17.993Z"
   },
   {
    "duration": 25,
    "start_time": "2023-03-03T08:15:29.716Z"
   },
   {
    "duration": 22,
    "start_time": "2023-03-03T08:15:47.245Z"
   },
   {
    "duration": 23,
    "start_time": "2023-03-03T08:15:52.064Z"
   },
   {
    "duration": 27,
    "start_time": "2023-03-03T08:16:05.223Z"
   },
   {
    "duration": 50,
    "start_time": "2023-03-03T08:16:44.504Z"
   },
   {
    "duration": 874,
    "start_time": "2023-03-03T08:16:48.360Z"
   },
   {
    "duration": 21,
    "start_time": "2023-03-03T08:17:02.275Z"
   },
   {
    "duration": 21,
    "start_time": "2023-03-03T08:17:09.977Z"
   },
   {
    "duration": 21,
    "start_time": "2023-03-03T08:17:22.283Z"
   },
   {
    "duration": 302,
    "start_time": "2023-03-03T08:17:52.788Z"
   },
   {
    "duration": 21,
    "start_time": "2023-03-03T08:18:06.071Z"
   },
   {
    "duration": 250,
    "start_time": "2023-03-03T08:18:45.611Z"
   },
   {
    "duration": 17,
    "start_time": "2023-03-03T08:18:52.367Z"
   },
   {
    "duration": 24,
    "start_time": "2023-03-03T08:19:01.592Z"
   },
   {
    "duration": 23,
    "start_time": "2023-03-03T08:19:07.661Z"
   },
   {
    "duration": 21,
    "start_time": "2023-03-03T08:27:52.075Z"
   },
   {
    "duration": 59,
    "start_time": "2023-03-03T21:28:08.752Z"
   },
   {
    "duration": 76,
    "start_time": "2023-03-03T21:30:28.887Z"
   }
  ],
  "colab": {
   "provenance": []
  },
  "kernelspec": {
   "display_name": "Python 3 (ipykernel)",
   "language": "python",
   "name": "python3"
  },
  "language_info": {
   "codemirror_mode": {
    "name": "ipython",
    "version": 3
   },
   "file_extension": ".py",
   "mimetype": "text/x-python",
   "name": "python",
   "nbconvert_exporter": "python",
   "pygments_lexer": "ipython3",
   "version": "3.9.5"
  },
  "toc": {
   "base_numbering": 1,
   "nav_menu": {
    "height": "382px",
    "width": "855px"
   },
   "number_sections": true,
   "sideBar": true,
   "skip_h1_title": true,
   "title_cell": "Table of Contents",
   "title_sidebar": "Contents",
   "toc_cell": false,
   "toc_position": {},
   "toc_section_display": true,
   "toc_window_display": false
  }
 },
 "nbformat": 4,
 "nbformat_minor": 5
}
