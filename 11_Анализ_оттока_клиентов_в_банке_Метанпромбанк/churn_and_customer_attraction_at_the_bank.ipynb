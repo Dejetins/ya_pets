{
 "cells": [
  {
   "cell_type": "markdown",
   "metadata": {},
   "source": [
    "# Анализ оттока и привлечение клиентов в банке Метанпром.  "
   ]
  },
  {
   "cell_type": "markdown",
   "metadata": {},
   "source": [
    "## Материалы:"
   ]
  },
  {
   "cell_type": "markdown",
   "metadata": {},
   "source": [
    "- [Презентация](https://www.dropbox.com/s/bknbvilsdm828sq/%D0%9F%D1%80%D0%B5%D0%B7%D0%B5%D0%BD%D1%82%D0%B0%D1%86%D0%B8%D1%8F%20%D0%94%D0%B5%D0%B3%D1%82%D1%8F%D1%80%D1%91%D0%B2%20%D0%94.%D0%A1%2016.06.2023.pdf?dl=0)"
   ]
  },
  {
   "cell_type": "markdown",
   "metadata": {},
   "source": [
    "- [Дашборд](https://public.tableau.com/app/profile/daniil.degtyarev/viz/YPDashboard2/Dashboard1)"
   ]
  },
  {
   "cell_type": "markdown",
   "metadata": {},
   "source": [
    "## Описание проекта"
   ]
  },
  {
   "cell_type": "markdown",
   "metadata": {},
   "source": [
    "Проект посвящен анализу оттока клиентов в региональном банке «Метанпром», расположенном в Ярославле и областных городах: Ростов Великий и Рыбинск. Цель проекта - выявить сегменты клиентов, которые склонны оставаться в банке, и дать рекомендации по привлечению клиентов из этих сегментов.\n",
    "\n",
    "В ходе работы будет проведен исследовательский анализ данных, выделены характеристики клиентов, влияющие на их отток, разработана бизнес-метрика, связанная с ценностью клиента. С помощью этой метрики будут приоритизированы сегменты клиентов.\n",
    "\n",
    "Также в рамках проекта будут проверены статистические гипотезы, в том числе о различии доходов между клиентами, которые ушли из банка, и теми, кто остался.\n",
    "\n",
    "Данные для анализа представлены в виде датасета, содержащего информацию об идентификаторе пользователя, баллах кредитного скоринга, городе проживания, поле, возрасте, количестве объектов в собственности, балансе на счете, количестве используемых продуктов, наличии кредитной карты, активности клиента, заработной плате и факте оттока."
   ]
  },
  {
   "cell_type": "markdown",
   "metadata": {},
   "source": [
    "### Описание данных\n",
    "\n",
    "Файл `bank_dataset.csv` содержит данные о клиентах банка «Метанпром».\n",
    "Колонки:\n",
    "\n",
    "- `userid` — идентификатор пользователя\n",
    "- `score` — баллы кредитного скоринга\n",
    "- `City` — город\n",
    "- `Gender` — пол\n",
    "- `Age` — возраст\n",
    "- `Objects` — количество объектов в собственности\n",
    "- `Balance` — баланс на счёте\n",
    "- `Products` — количество продуктов, которыми пользуется клиент\n",
    "- `CreditCard` — есть ли кредитная карта\n",
    "- `Loyalty`  — активный клиент\n",
    "- `estimated_salary` — заработная плата клиента\n",
    "- `Churn` — ушёл или нет"
   ]
  },
  {
   "cell_type": "markdown",
   "metadata": {},
   "source": [
    "## Ход исследования и задачи"
   ]
  },
  {
   "cell_type": "markdown",
   "metadata": {},
   "source": [
    "**Предобработка данных**\n",
    "\n",
    "\n",
    "- Чтение и изучение данных (info, describe)\n",
    "- Привести столбцы к нижнему регистру\n",
    "- Привести типы данных в соответвии со значениями (float / int + False / True)\n",
    "- Проверка на явные и неявные дубликаты (по user_id)\n",
    "- Проверка пропусков, определить случайные и не случайные пропуски, при возможности заполнить\n",
    "- Добавление столбцов с кодировкой городов (0-1)  /  Ярославль, Ростов Великий, Рыбинск)\n",
    "- Добавление столбцов с кодировкой пола (0 для женщин, 1 для мужчин)"
   ]
  },
  {
   "cell_type": "markdown",
   "metadata": {},
   "source": [
    "**Исследовательский анализ данных:**\n",
    "\n",
    "- Изучить средние значения и стандартное отклонение в данных\n",
    "- Проверить средние значения признаков по группам ушедших и оставшихся клиентов\n",
    "- Визуализировать значения признаков в разбивке по двум группам - отточных и оставшихся клиентов\n",
    "    - Построить нормированные гистограммы  по непрерывным переменным в разрезе оттока \n",
    "    - Построить графики с уровнями оттока по категориям\n",
    "    - Указать, когда отточность выше чем в среднем по банку по всем характеристикам, от которых отток зависит\n",
    "- Построить матрицу корреляций для каждого из признаков признаков\n",
    "- Составить портреты клиентов склонных к уходу"
   ]
  },
  {
   "cell_type": "markdown",
   "metadata": {},
   "source": [
    "**Проверка гипотез:**\n",
    "\n",
    "- проверить гипотезу о различии между средним доходом клиентов, которые ушли и теми, кто остался;\n",
    "- проверить ещё одну гипотезу, способную помочь нам в решении поставленных задач;\n",
    "- выводы по этапу проверки гипотез.\n",
    "- Выводы по итогам исследовательского анализа данных\n"
   ]
  },
  {
   "cell_type": "markdown",
   "metadata": {},
   "source": [
    "**Разработка бизнес метрики которая определяет ценность клиента:**\n",
    "\n",
    "\n",
    "- Прямая ценность клиентов у нас связана с балансом, доходом\n",
    "- Определить приоритетные сегменты для удержания клиентов на основе метрики ценности клиента"
   ]
  },
  {
   "cell_type": "markdown",
   "metadata": {},
   "source": [
    "**Рекомендации по снижению оттока клиентов**\n",
    "\n",
    "- Практические рекомендации для выделенных сегментов"
   ]
  },
  {
   "cell_type": "markdown",
   "metadata": {},
   "source": [
    "## Предобработка данных"
   ]
  },
  {
   "cell_type": "markdown",
   "metadata": {},
   "source": [
    "### Импорт библиотек, чтение файла"
   ]
  },
  {
   "cell_type": "code",
   "execution_count": 1,
   "metadata": {},
   "outputs": [
    {
     "name": "stdout",
     "output_type": "stream",
     "text": [
      "Collecting phik\n",
      "  Downloading phik-0.12.3-cp39-cp39-manylinux_2_17_x86_64.manylinux2014_x86_64.whl (679 kB)\n",
      "\u001b[K     |████████████████████████████████| 679 kB 2.5 MB/s eta 0:00:01\n",
      "\u001b[?25hRequirement already satisfied: pandas>=0.25.1 in /opt/conda/lib/python3.9/site-packages (from phik) (1.2.4)\n",
      "Requirement already satisfied: scipy>=1.5.2 in /opt/conda/lib/python3.9/site-packages (from phik) (1.9.1)\n",
      "Requirement already satisfied: numpy>=1.18.0 in /opt/conda/lib/python3.9/site-packages (from phik) (1.21.1)\n",
      "Requirement already satisfied: joblib>=0.14.1 in /opt/conda/lib/python3.9/site-packages (from phik) (1.1.0)\n",
      "Requirement already satisfied: matplotlib>=2.2.3 in /opt/conda/lib/python3.9/site-packages (from phik) (3.3.4)\n",
      "Requirement already satisfied: pyparsing!=2.0.4,!=2.1.2,!=2.1.6,>=2.0.3 in /opt/conda/lib/python3.9/site-packages (from matplotlib>=2.2.3->phik) (2.4.7)\n",
      "Requirement already satisfied: pillow>=6.2.0 in /opt/conda/lib/python3.9/site-packages (from matplotlib>=2.2.3->phik) (8.4.0)\n",
      "Requirement already satisfied: cycler>=0.10 in /opt/conda/lib/python3.9/site-packages (from matplotlib>=2.2.3->phik) (0.11.0)\n",
      "Requirement already satisfied: kiwisolver>=1.0.1 in /opt/conda/lib/python3.9/site-packages (from matplotlib>=2.2.3->phik) (1.4.4)\n",
      "Requirement already satisfied: python-dateutil>=2.1 in /opt/conda/lib/python3.9/site-packages (from matplotlib>=2.2.3->phik) (2.8.1)\n",
      "Requirement already satisfied: pytz>=2017.3 in /opt/conda/lib/python3.9/site-packages (from pandas>=0.25.1->phik) (2021.1)\n",
      "Requirement already satisfied: six>=1.5 in /opt/conda/lib/python3.9/site-packages (from python-dateutil>=2.1->matplotlib>=2.2.3->phik) (1.16.0)\n",
      "Installing collected packages: phik\n",
      "Successfully installed phik-0.12.3\n",
      "Note: you may need to restart the kernel to use updated packages.\n"
     ]
    }
   ],
   "source": [
    "pip install phik "
   ]
  },
  {
   "cell_type": "code",
   "execution_count": 2,
   "metadata": {},
   "outputs": [],
   "source": [
    "\n",
    "import pandas as pd\n",
    "import datetime as dt\n",
    "import numpy as np\n",
    "\n",
    "from scipy import stats\n",
    "from scipy.stats import chi2_contingency\n",
    "\n",
    "import phik\n",
    "from phik.report import plot_correlation_matrix\n",
    "\n",
    "from matplotlib import pyplot as plt\n",
    "import plotly.graph_objects as go\n",
    "import plotly.express as px\n",
    "import seaborn as sns\n",
    "\n",
    "pd.set_option('display.max_columns', None)\n",
    "pd.set_option('display.max_colwidth', None)\n",
    "pd.set_option('display.max_rows', None)"
   ]
  },
  {
   "cell_type": "code",
   "execution_count": 3,
   "metadata": {},
   "outputs": [],
   "source": [
    "# решил использовать старый файл, загрузил себе в dropbox \n",
    "path = \"https://www.dropbox.com/s/ag2n3blwin8p8ot/bank_dataset.csv?dl=1\" \n",
    "df = pd.read_csv(path)"
   ]
  },
  {
   "cell_type": "markdown",
   "metadata": {},
   "source": [
    "### Изучение данных"
   ]
  },
  {
   "cell_type": "code",
   "execution_count": 4,
   "metadata": {},
   "outputs": [],
   "source": [
    "# сразу преобразуем необходимые столбцы согласно snake case стиля\n",
    "df.columns = df.columns.str.lower()\n",
    "\n",
    "new_columns = {\n",
    "    'userid': 'user_id',\n",
    "    'creditcard': 'credit_card',\n",
    "    'estimated_salary': 'estimated_salary'}\n",
    "\n",
    "df = df.rename(columns=new_columns)"
   ]
  },
  {
   "cell_type": "code",
   "execution_count": 5,
   "metadata": {
    "scrolled": false
   },
   "outputs": [
    {
     "name": "stdout",
     "output_type": "stream",
     "text": [
      "<class 'pandas.core.frame.DataFrame'>\n",
      "RangeIndex: 10000 entries, 0 to 9999\n",
      "Data columns (total 12 columns):\n",
      " #   Column            Non-Null Count  Dtype  \n",
      "---  ------            --------------  -----  \n",
      " 0   user_id           10000 non-null  int64  \n",
      " 1   score             10000 non-null  int64  \n",
      " 2   city              10000 non-null  object \n",
      " 3   gender            10000 non-null  object \n",
      " 4   age               10000 non-null  int64  \n",
      " 5   objects           10000 non-null  int64  \n",
      " 6   balance           6383 non-null   float64\n",
      " 7   products          10000 non-null  int64  \n",
      " 8   credit_card       10000 non-null  int64  \n",
      " 9   loyalty           10000 non-null  int64  \n",
      " 10  estimated_salary  10000 non-null  float64\n",
      " 11  churn             10000 non-null  int64  \n",
      "dtypes: float64(2), int64(8), object(2)\n",
      "memory usage: 937.6+ KB\n",
      "\n",
      "Количество явных дубликатов = 0\n",
      "\n",
      "Количество неявных дубликатов = 0\n"
     ]
    },
    {
     "data": {
      "text/html": [
       "<div>\n",
       "<style scoped>\n",
       "    .dataframe tbody tr th:only-of-type {\n",
       "        vertical-align: middle;\n",
       "    }\n",
       "\n",
       "    .dataframe tbody tr th {\n",
       "        vertical-align: top;\n",
       "    }\n",
       "\n",
       "    .dataframe thead th {\n",
       "        text-align: right;\n",
       "    }\n",
       "</style>\n",
       "<table border=\"1\" class=\"dataframe\">\n",
       "  <thead>\n",
       "    <tr style=\"text-align: right;\">\n",
       "      <th></th>\n",
       "      <th>user_id</th>\n",
       "      <th>score</th>\n",
       "      <th>city</th>\n",
       "      <th>gender</th>\n",
       "      <th>age</th>\n",
       "      <th>objects</th>\n",
       "      <th>balance</th>\n",
       "      <th>products</th>\n",
       "      <th>credit_card</th>\n",
       "      <th>loyalty</th>\n",
       "      <th>estimated_salary</th>\n",
       "      <th>churn</th>\n",
       "    </tr>\n",
       "  </thead>\n",
       "  <tbody>\n",
       "    <tr>\n",
       "      <th>4214</th>\n",
       "      <td>15685446</td>\n",
       "      <td>686</td>\n",
       "      <td>Ярославль</td>\n",
       "      <td>М</td>\n",
       "      <td>26</td>\n",
       "      <td>7</td>\n",
       "      <td>NaN</td>\n",
       "      <td>2</td>\n",
       "      <td>1</td>\n",
       "      <td>0</td>\n",
       "      <td>1540.89</td>\n",
       "      <td>0</td>\n",
       "    </tr>\n",
       "    <tr>\n",
       "      <th>8772</th>\n",
       "      <td>15634859</td>\n",
       "      <td>768</td>\n",
       "      <td>Ярославль</td>\n",
       "      <td>М</td>\n",
       "      <td>30</td>\n",
       "      <td>6</td>\n",
       "      <td>NaN</td>\n",
       "      <td>2</td>\n",
       "      <td>1</td>\n",
       "      <td>1</td>\n",
       "      <td>199454.37</td>\n",
       "      <td>0</td>\n",
       "    </tr>\n",
       "    <tr>\n",
       "      <th>9039</th>\n",
       "      <td>15820350</td>\n",
       "      <td>545</td>\n",
       "      <td>Рыбинск</td>\n",
       "      <td>Ж</td>\n",
       "      <td>44</td>\n",
       "      <td>1</td>\n",
       "      <td>NaN</td>\n",
       "      <td>2</td>\n",
       "      <td>1</td>\n",
       "      <td>1</td>\n",
       "      <td>82614.89</td>\n",
       "      <td>0</td>\n",
       "    </tr>\n",
       "    <tr>\n",
       "      <th>7770</th>\n",
       "      <td>15852245</td>\n",
       "      <td>699</td>\n",
       "      <td>Ярославль</td>\n",
       "      <td>М</td>\n",
       "      <td>29</td>\n",
       "      <td>3</td>\n",
       "      <td>125689.29</td>\n",
       "      <td>1</td>\n",
       "      <td>1</td>\n",
       "      <td>1</td>\n",
       "      <td>151623.71</td>\n",
       "      <td>0</td>\n",
       "    </tr>\n",
       "    <tr>\n",
       "      <th>8189</th>\n",
       "      <td>15656028</td>\n",
       "      <td>715</td>\n",
       "      <td>Ярославль</td>\n",
       "      <td>М</td>\n",
       "      <td>21</td>\n",
       "      <td>8</td>\n",
       "      <td>NaN</td>\n",
       "      <td>2</td>\n",
       "      <td>1</td>\n",
       "      <td>0</td>\n",
       "      <td>68666.63</td>\n",
       "      <td>0</td>\n",
       "    </tr>\n",
       "    <tr>\n",
       "      <th>9273</th>\n",
       "      <td>15782896</td>\n",
       "      <td>616</td>\n",
       "      <td>Ярославль</td>\n",
       "      <td>М</td>\n",
       "      <td>31</td>\n",
       "      <td>1</td>\n",
       "      <td>NaN</td>\n",
       "      <td>2</td>\n",
       "      <td>1</td>\n",
       "      <td>1</td>\n",
       "      <td>54706.75</td>\n",
       "      <td>0</td>\n",
       "    </tr>\n",
       "    <tr>\n",
       "      <th>3801</th>\n",
       "      <td>15696733</td>\n",
       "      <td>699</td>\n",
       "      <td>Рыбинск</td>\n",
       "      <td>М</td>\n",
       "      <td>31</td>\n",
       "      <td>6</td>\n",
       "      <td>114493.68</td>\n",
       "      <td>1</td>\n",
       "      <td>0</td>\n",
       "      <td>0</td>\n",
       "      <td>138396.32</td>\n",
       "      <td>0</td>\n",
       "    </tr>\n",
       "    <tr>\n",
       "      <th>5265</th>\n",
       "      <td>15750224</td>\n",
       "      <td>560</td>\n",
       "      <td>Ярославль</td>\n",
       "      <td>Ж</td>\n",
       "      <td>27</td>\n",
       "      <td>5</td>\n",
       "      <td>NaN</td>\n",
       "      <td>2</td>\n",
       "      <td>1</td>\n",
       "      <td>0</td>\n",
       "      <td>131919.48</td>\n",
       "      <td>0</td>\n",
       "    </tr>\n",
       "    <tr>\n",
       "      <th>8635</th>\n",
       "      <td>15651437</td>\n",
       "      <td>651</td>\n",
       "      <td>Ростов Великий</td>\n",
       "      <td>М</td>\n",
       "      <td>29</td>\n",
       "      <td>3</td>\n",
       "      <td>121890.06</td>\n",
       "      <td>1</td>\n",
       "      <td>1</td>\n",
       "      <td>0</td>\n",
       "      <td>54530.51</td>\n",
       "      <td>1</td>\n",
       "    </tr>\n",
       "    <tr>\n",
       "      <th>7835</th>\n",
       "      <td>15830925</td>\n",
       "      <td>665</td>\n",
       "      <td>Ярославль</td>\n",
       "      <td>Ж</td>\n",
       "      <td>41</td>\n",
       "      <td>8</td>\n",
       "      <td>96147.55</td>\n",
       "      <td>1</td>\n",
       "      <td>1</td>\n",
       "      <td>0</td>\n",
       "      <td>137037.97</td>\n",
       "      <td>0</td>\n",
       "    </tr>\n",
       "  </tbody>\n",
       "</table>\n",
       "</div>"
      ],
      "text/plain": [
       "       user_id  score            city gender  age  objects    balance  \\\n",
       "4214  15685446    686       Ярославль      М   26        7        NaN   \n",
       "8772  15634859    768       Ярославль      М   30        6        NaN   \n",
       "9039  15820350    545         Рыбинск      Ж   44        1        NaN   \n",
       "7770  15852245    699       Ярославль      М   29        3  125689.29   \n",
       "8189  15656028    715       Ярославль      М   21        8        NaN   \n",
       "9273  15782896    616       Ярославль      М   31        1        NaN   \n",
       "3801  15696733    699         Рыбинск      М   31        6  114493.68   \n",
       "5265  15750224    560       Ярославль      Ж   27        5        NaN   \n",
       "8635  15651437    651  Ростов Великий      М   29        3  121890.06   \n",
       "7835  15830925    665       Ярославль      Ж   41        8   96147.55   \n",
       "\n",
       "      products  credit_card  loyalty  estimated_salary  churn  \n",
       "4214         2            1        0           1540.89      0  \n",
       "8772         2            1        1         199454.37      0  \n",
       "9039         2            1        1          82614.89      0  \n",
       "7770         1            1        1         151623.71      0  \n",
       "8189         2            1        0          68666.63      0  \n",
       "9273         2            1        1          54706.75      0  \n",
       "3801         1            0        0         138396.32      0  \n",
       "5265         2            1        0         131919.48      0  \n",
       "8635         1            1        0          54530.51      1  \n",
       "7835         1            1        0         137037.97      0  "
      ]
     },
     "metadata": {},
     "output_type": "display_data"
    }
   ],
   "source": [
    "df.info()\n",
    "\n",
    "print('\\nКоличество явных дубликатов =', df.duplicated().sum())\n",
    "print('\\nКоличество неявных дубликатов =', df.duplicated(subset=['user_id'], keep=False).sum())\n",
    "display(df.sample(10))\n"
   ]
  },
  {
   "cell_type": "markdown",
   "metadata": {},
   "source": [
    "**Вывод:**\n",
    "\n",
    "- Пропущенные значения: столбец \"balance\" (баланс на счете) содержит пропущенные значения, так как общее количество записей в этом столбце - 6383, в то время как общее количество записей в других столбцах - 10000. Возможно, отсутствующие значения указывают на клиентов, у которых нет банковского счета или его баланс равен нулю. \n",
    "\n",
    "\n",
    "- Дубликаты: Ни явных, ни неявных дубликатов в данных не обнаружено.\n",
    "\n",
    "\n",
    "- Категориальные данные: \"сity\" и \"ender\" являются категориальными переменными. Самым часто встречающимся городом является \"Ярославль\", а наиболее часто встречающийся пол - \"М\". Возможно, эти переменные могут влиять на другие переменные и будут важны в дальнейшем анализе.\n",
    "\n",
    "\n",
    "- Числовые данные: Средний возраст клиентов - примерно 39 лет, а средний баланс - около 119,827. Средний кредитный рейтинг клиентов составляет около 650.\n",
    "\n",
    "\n",
    "- \"сhurn\": Это целевая переменная, она указывает, ушел клиент из банка или нет. В данном случае, среднее значение составляет 0.2, что говорит о том, что 20% клиентов банка ушли."
   ]
  },
  {
   "cell_type": "markdown",
   "metadata": {},
   "source": [
    "### Проверка на наличие выбросов и аномальных значений"
   ]
  },
  {
   "cell_type": "code",
   "execution_count": 6,
   "metadata": {},
   "outputs": [
    {
     "name": "stdout",
     "output_type": "stream",
     "text": [
      "city\n",
      "Ярославль         5014\n",
      "Ростов Великий    2509\n",
      "Рыбинск           2477\n",
      "Name: city, dtype: int64\n",
      "\n",
      "gender\n",
      "М    5457\n",
      "Ж    4543\n",
      "Name: gender, dtype: int64\n",
      "\n",
      "objects\n",
      "2     1048\n",
      "1     1035\n",
      "7     1028\n",
      "8     1025\n",
      "5     1012\n",
      "3     1009\n",
      "4      989\n",
      "9      984\n",
      "6      967\n",
      "10     490\n",
      "0      413\n",
      "Name: objects, dtype: int64\n",
      "\n",
      "products\n",
      "1    5084\n",
      "2    4590\n",
      "3     266\n",
      "4      60\n",
      "Name: products, dtype: int64\n",
      "\n",
      "credit_card\n",
      "1    7055\n",
      "0    2945\n",
      "Name: credit_card, dtype: int64\n",
      "\n",
      "loyalty\n",
      "1    5151\n",
      "0    4849\n",
      "Name: loyalty, dtype: int64\n",
      "\n",
      "churn\n",
      "0    7963\n",
      "1    2037\n",
      "Name: churn, dtype: int64\n",
      "\n"
     ]
    }
   ],
   "source": [
    "#Посмотрим количество каждого значения в столбцах с категориальными данными\n",
    "for column in ['city','gender','objects','products','credit_card','loyalty','churn']:\n",
    "    print(column)\n",
    "    print (df[column].value_counts())\n",
    "    print()"
   ]
  },
  {
   "cell_type": "markdown",
   "metadata": {},
   "source": [
    "**Вывод:**\n",
    "\n",
    "- City (Город): Все клиенты распределены по трем городам: Ярославль, Ростов Великий и Рыбинск. Большинство клиентов (5014 из 10000) находятся в Ярославле.\n",
    "\n",
    "\n",
    "- Gender (Пол): Распределение по полу показывает, что у нас есть больше мужчин (5457) чем женщин (4543).\n",
    "\n",
    "\n",
    "- Objects (Объекты в собственности): Пользователи владеют от 0 до 10 объектов. Большинство пользователей владеют 1-9 объектами, в то время как пользователи с 10 объектами в меньшинстве.\n",
    "\n",
    "\n",
    "- Products (Продукты): Большинство пользователей используют 1 или 2 банковских продукта. Намного меньше пользователей используют 3 или 4 продукта.\n",
    "\n",
    "\n",
    "- CreditCard (Кредитная карта): Большинство клиентов (7055 из 10000) имеют кредитную карту.\n",
    "\n",
    "\n",
    "- Loyalty (Активность клиента): Почти одинаковое количество активных (5151) и неактивных (4849) клиентов.\n",
    "\n",
    "\n",
    "- Churn (Отток клиентов): Отток составляет примерно 20% (2037 из 10000) клиентов.\n",
    "\n",
    "\n",
    "В столбцах содержащих категориальные данные каких-то странных значений нет и распределение по количеству значений не вызывает подозрений.\n"
   ]
  },
  {
   "cell_type": "markdown",
   "metadata": {},
   "source": [
    "### Изучим столбцы, содержащие количественные данные"
   ]
  },
  {
   "cell_type": "code",
   "execution_count": 7,
   "metadata": {
    "scrolled": false
   },
   "outputs": [
    {
     "data": {
      "image/png": "[encoded data removed]",
      "text/plain": [
       "<Figure size 576x432 with 1 Axes>"
      ]
     },
     "metadata": {
      "needs_background": "light"
     },
     "output_type": "display_data"
    },
    {
     "name": "stdout",
     "output_type": "stream",
     "text": [
      "Статистическая информация по: score\n",
      "count    10000.000000\n",
      "mean       650.528800\n",
      "std         96.653299\n",
      "min        350.000000\n",
      "25%        584.000000\n",
      "50%        652.000000\n",
      "75%        718.000000\n",
      "max        850.000000\n",
      "Name: score, dtype: float64\n",
      "\n",
      "\n"
     ]
    },
    {
     "data": {
      "image/png": "[encoded data removed]",
      "text/plain": [
       "<Figure size 576x432 with 1 Axes>"
      ]
     },
     "metadata": {
      "needs_background": "light"
     },
     "output_type": "display_data"
    },
    {
     "name": "stdout",
     "output_type": "stream",
     "text": [
      "Статистическая информация по: age\n",
      "count    10000.000000\n",
      "mean        38.921800\n",
      "std         10.487806\n",
      "min         18.000000\n",
      "25%         32.000000\n",
      "50%         37.000000\n",
      "75%         44.000000\n",
      "max         92.000000\n",
      "Name: age, dtype: float64\n",
      "\n",
      "\n"
     ]
    },
    {
     "data": {
      "image/png": "[encoded data removed]",
      "text/plain": [
       "<Figure size 576x432 with 1 Axes>"
      ]
     },
     "metadata": {
      "needs_background": "light"
     },
     "output_type": "display_data"
    },
    {
     "name": "stdout",
     "output_type": "stream",
     "text": [
      "Статистическая информация по: balance\n",
      "count      6383.000000\n",
      "mean     119827.493793\n",
      "std       30095.056462\n",
      "min        3768.690000\n",
      "25%      100181.975000\n",
      "50%      119839.690000\n",
      "75%      139512.290000\n",
      "max      250898.090000\n",
      "Name: balance, dtype: float64\n",
      "\n",
      "\n"
     ]
    },
    {
     "data": {
      "image/png": "[encoded data removed]",
      "text/plain": [
       "<Figure size 576x432 with 1 Axes>"
      ]
     },
     "metadata": {
      "needs_background": "light"
     },
     "output_type": "display_data"
    },
    {
     "name": "stdout",
     "output_type": "stream",
     "text": [
      "Статистическая информация по: estimated_salary\n",
      "count     10000.000000\n",
      "mean     100090.239881\n",
      "std       57510.492818\n",
      "min          11.580000\n",
      "25%       51002.110000\n",
      "50%      100193.915000\n",
      "75%      149388.247500\n",
      "max      199992.480000\n",
      "Name: estimated_salary, dtype: float64\n",
      "\n",
      "\n"
     ]
    }
   ],
   "source": [
    "# Список количественных переменных\n",
    "quantitative_variables = ['score', 'age', 'balance', 'estimated_salary']\n",
    "\n",
    "for variable in quantitative_variables:\n",
    "    # Проверка на наличие ненулевых значений в столбце\n",
    "    if df[variable].dropna().shape[0] > 0:  \n",
    "        # Построение гистограммы\n",
    "        plt.figure(figsize=(8, 6))\n",
    "        plt.hist(df[variable].dropna(), bins=30, alpha=0.5, color='g', edgecolor='black')\n",
    "        plt.title('Распределение значений ' + variable)\n",
    "        plt.xlabel(variable)\n",
    "        plt.ylabel('Количество')\n",
    "        plt.grid(True)\n",
    "        plt.show()\n",
    "        \n",
    "        # Вывод статистической информации\n",
    "        print('Статистическая информация по:', variable)\n",
    "        print(df[variable].describe())\n",
    "        print('\\n')"
   ]
  },
  {
   "cell_type": "markdown",
   "metadata": {},
   "source": [
    "**Вывод:**\n",
    "\n",
    "- Score (баллы кредитного скоринга): Баллы кредитного скоринга варьируются от 350 до 850. Среднее значение составляет 650.53, что говорит о том, что большинство клиентов имеют достаточно высокий кредитный рейтинг.\n",
    "\n",
    "\n",
    "- Age (возраст): Возраст клиентов варьируется от 18 до 92 лет. Средний возраст клиентов составляет около 39 лет, что говорит о том, что большинство клиентов банка - это люди среднего возраста.\n",
    "\n",
    "\n",
    "- Balance (баланс на счете): Значения баланса варьируются от 3768.69 до 250898.09. Средний баланс на счете составляет около 119827.49. Однако, следует отметить, что эти данные присутствуют только для 6383 клиентов из 10000. Нужно решить, что делать с отсутствующими значениями в этом столбце.\n",
    "\n",
    "\n",
    "- Estimated_salary (прогнозируемая зарплата): Зарплата варьируется от 11.58 до 199992.48. Средняя зарплата клиентов составляет около 100090.24. Это очень большой разброс, поэтому возможно, в данных есть выбросы или аномалии, которые могут исказить анализ."
   ]
  },
  {
   "cell_type": "markdown",
   "metadata": {
    "scrolled": false
   },
   "source": [
    "### Работа с пропусками"
   ]
  },
  {
   "cell_type": "markdown",
   "metadata": {},
   "source": [
    "Для проверки данных на MAR (Missing At Random), мы сравним распределение других переменных между строками, где \"balance\" имеет пропуски, и строками, где значения \"balance\" присутствуют"
   ]
  },
  {
   "cell_type": "code",
   "execution_count": 8,
   "metadata": {
    "scrolled": false
   },
   "outputs": [
    {
     "data": {
      "image/png": "[encoded data removed]",
      "text/plain": [
       "<Figure size 720x288 with 2 Axes>"
      ]
     },
     "metadata": {
      "needs_background": "light"
     },
     "output_type": "display_data"
    },
    {
     "data": {
      "image/png": "[encoded data removed]",
      "text/plain": [
       "<Figure size 720x288 with 2 Axes>"
      ]
     },
     "metadata": {
      "needs_background": "light"
     },
     "output_type": "display_data"
    },
    {
     "data": {
      "image/png": "[encoded data removed]",
      "text/plain": [
       "<Figure size 720x288 with 2 Axes>"
      ]
     },
     "metadata": {
      "needs_background": "light"
     },
     "output_type": "display_data"
    },
    {
     "data": {
      "image/png": "[encoded data removed]",
      "text/plain": [
       "<Figure size 720x288 with 2 Axes>"
      ]
     },
     "metadata": {
      "needs_background": "light"
     },
     "output_type": "display_data"
    },
    {
     "data": {
      "image/png": "[encoded data removed]",
      "text/plain": [
       "<Figure size 720x288 with 2 Axes>"
      ]
     },
     "metadata": {
      "needs_background": "light"
     },
     "output_type": "display_data"
    },
    {
     "data": {
      "image/png": "[encoded data removed]",
      "text/plain": [
       "<Figure size 720x288 with 2 Axes>"
      ]
     },
     "metadata": {
      "needs_background": "light"
     },
     "output_type": "display_data"
    },
    {
     "data": {
      "image/png": "[encoded data removed]",
      "text/plain": [
       "<Figure size 720x288 with 2 Axes>"
      ]
     },
     "metadata": {
      "needs_background": "light"
     },
     "output_type": "display_data"
    },
    {
     "data": {
      "image/png": "[encoded data removed]",
      "text/plain": [
       "<Figure size 720x288 with 2 Axes>"
      ]
     },
     "metadata": {
      "needs_background": "light"
     },
     "output_type": "display_data"
    },
    {
     "data": {
      "text/plain": [
       "city       gender  loyalty\n",
       "Рыбинск    Ж       0          270\n",
       "                   1          275\n",
       "           М       0          316\n",
       "                   1          338\n",
       "Ярославль  Ж       0          535\n",
       "                   1          574\n",
       "           М       0          623\n",
       "                   1          686\n",
       "dtype: int64"
      ]
     },
     "execution_count": 8,
     "metadata": {},
     "output_type": "execute_result"
    }
   ],
   "source": [
    "df_missing = df[df['balance'].isnull()]\n",
    "df_not_missing = df[df['balance'].notnull()]\n",
    "\n",
    "# Графический анализ для сравнения распределений и проверки пропусков\n",
    "variables_to_compare = ['age', 'score', 'products', 'credit_card', 'estimated_salary', 'city', 'gender', 'loyalty']\n",
    "\n",
    "\n",
    "for var in variables_to_compare:\n",
    "    plt.figure(figsize=(10, 4))\n",
    "\n",
    "    plt.subplot(1, 2, 2)\n",
    "    sns.histplot(df_not_missing[var], bins=30, color='green', kde=True)\n",
    "    plt.title('Без пропусков в балансе')\n",
    "\n",
    "    plt.subplot(1, 2, 1)\n",
    "    sns.histplot(df_missing[var], bins=30, color='blue', kde=True)\n",
    "    plt.title('С пропусками в балансе')\n",
    "\n",
    "    plt.suptitle('Столбец: ' + var)\n",
    "    plt.show()\n",
    "    \n",
    "missing_grouped = df[df['balance'].isnull()].groupby(['city', 'gender', 'loyalty']).size()\n",
    "\n",
    "# Вывод результатов\n",
    "missing_grouped"
   ]
  },
  {
   "cell_type": "markdown",
   "metadata": {},
   "source": [
    "**Вывод:**\n",
    "\n",
    "Визуальный анализ указывает на различия распределений только по столбцу `products`.\n",
    "Люди с пропусками в балансе в большей степени пользуются двумя продуктами банка (около 2500 юзеров).\n",
    "Ниже подробнее рассмотрим статистические данные по пропускам в этом разрезе.\n",
    "\n",
    "\n",
    "Группировка данных по столбцам 'city', 'gender' и 'loyalty' позволяет увидеть количество пропусков для каждого сочетания значений этих столбцов.\n",
    "\n",
    "Ниже приведены результаты анализа пропусков в столбце 'balance':\n",
    "\n",
    "\n",
    "- В городе Рыбинск:\n",
    "\n",
    "Для женщин (gender=Ж):\n",
    "270 пропусков для клиентов, не являющихся активными (loyalty=0).\n",
    "275 пропусков для клиентов, являющихся активными (loyalty=1).\n",
    "Для мужчин (gender=М):\n",
    "316 пропусков для клиентов, не являющихся активными (loyalty=0).\n",
    "338 пропусков для клиентов, являющихся активными (loyalty=1).\n",
    "\n",
    "\n",
    "- В городе Ярославль:\n",
    "\n",
    "Для женщин (gender=Ж):\n",
    "535 пропусков для клиентов, не являющихся активными (loyalty=0).\n",
    "574 пропусков для клиентов, являющихся активными (loyalty=1).\n",
    "Для мужчин (gender=М):\n",
    "623 пропуска для клиентов, не являющихся активными (loyalty=0).\n",
    "686 пропусков для клиентов, являющихся активными (loyalty=1).\n",
    "\n",
    "\n",
    "- В городе Ростов великий нет клиентов с пропусками в балансе. "
   ]
  },
  {
   "cell_type": "code",
   "execution_count": 9,
   "metadata": {},
   "outputs": [
    {
     "name": "stdout",
     "output_type": "stream",
     "text": [
      "Статистическая информация для 'products', где баланс пропущен:\n",
      "count    3617.000000\n",
      "mean        1.784628\n",
      "std         0.496455\n",
      "min         1.000000\n",
      "25%         1.000000\n",
      "50%         2.000000\n",
      "75%         2.000000\n",
      "max         4.000000\n",
      "Name: products, dtype: float64\n",
      "\n",
      "Статистическая информация для 'products', где баланс не пропущен:\n",
      "count    6383.000000\n",
      "mean        1.386025\n",
      "std         0.577011\n",
      "min         1.000000\n",
      "25%         1.000000\n",
      "50%         1.000000\n",
      "75%         2.000000\n",
      "max         4.000000\n",
      "Name: products, dtype: float64\n",
      "\n",
      "Количество клиентов в каждой группе 'products', где баланс пропущен:\n",
      "2    2600\n",
      "1     905\n",
      "3      98\n",
      "4      14\n",
      "Name: products, dtype: int64\n",
      "\n",
      "Количество клиентов в каждой группе 'products', где баланс не пропущен:\n",
      "1    4179\n",
      "2    1990\n",
      "3     168\n",
      "4      46\n",
      "Name: products, dtype: int64\n"
     ]
    }
   ],
   "source": [
    "# Получение статистической информации для 'products' в обоих датасетах\n",
    "print(\"Статистическая информация для 'products', где баланс пропущен:\")\n",
    "print(df_missing['products'].describe())\n",
    "\n",
    "print(\"\\nСтатистическая информация для 'products', где баланс не пропущен:\")\n",
    "print(df_not_missing['products'].describe())\n",
    "\n",
    "# Получение количества клиентов в каждой группе 'products' в зависимости от наличия пропущенных значений баланса\n",
    "print(\"\\nКоличество клиентов в каждой группе 'products', где баланс пропущен:\")\n",
    "print(df_missing['products'].value_counts())\n",
    "\n",
    "print(\"\\nКоличество клиентов в каждой группе 'products', где баланс не пропущен:\")\n",
    "print(df_not_missing['products'].value_counts())"
   ]
  },
  {
   "cell_type": "markdown",
   "metadata": {},
   "source": [
    "**Вывод:**\n",
    "\n",
    "- Количество клиентов, использующих продукты, в случае отсутствия пропусков в балансе, сосредоточено вокруг значения 1 (среднее значение 1.39, медиана 1). В случае пропусков в балансе, количество используемых продуктов более равномерно распределено между 1 и 2 (среднее значение 1.78, медиана 2).\n",
    "\n",
    "\n",
    "- Распределение количества продуктов, которыми пользуются клиенты, различается для случаев с пропущенными и не пропущенными балансами. Например, в случае пропусков в балансе, большинство клиентов используют 2 продукта, тогда как при отсутствии пропусков большинство клиентов используют только 1 продукт.\n",
    "\n",
    "Эти различия могут указывать на некоторую зависимость между количеством используемых продуктов и пропущенными значениями баланса. \n",
    "\n",
    "\n",
    "**Вывод по разделу:**\n",
    "\n",
    "Заполнение пропусков в данных может внести искажения, особенно если нет ясного способа предсказать отсутствующие значения. Вместо заполнения пропусков, может быть более целесообразно учесть их при анализе данных, например, проводя сравнительный анализ для пользователей с известным балансом и без него. "
   ]
  },
  {
   "cell_type": "markdown",
   "metadata": {},
   "source": [
    "### Добавление столбцов с кодировкой"
   ]
  },
  {
   "cell_type": "markdown",
   "metadata": {},
   "source": [
    "#### Города"
   ]
  },
  {
   "cell_type": "code",
   "execution_count": 10,
   "metadata": {},
   "outputs": [
    {
     "data": {
      "text/html": [
       "<div>\n",
       "<style scoped>\n",
       "    .dataframe tbody tr th:only-of-type {\n",
       "        vertical-align: middle;\n",
       "    }\n",
       "\n",
       "    .dataframe tbody tr th {\n",
       "        vertical-align: top;\n",
       "    }\n",
       "\n",
       "    .dataframe thead th {\n",
       "        text-align: right;\n",
       "    }\n",
       "</style>\n",
       "<table border=\"1\" class=\"dataframe\">\n",
       "  <thead>\n",
       "    <tr style=\"text-align: right;\">\n",
       "      <th></th>\n",
       "      <th>user_id</th>\n",
       "      <th>score</th>\n",
       "      <th>city</th>\n",
       "      <th>gender</th>\n",
       "      <th>age</th>\n",
       "      <th>objects</th>\n",
       "      <th>balance</th>\n",
       "      <th>products</th>\n",
       "      <th>credit_card</th>\n",
       "      <th>loyalty</th>\n",
       "      <th>estimated_salary</th>\n",
       "      <th>churn</th>\n",
       "      <th>город_Ростов Великий</th>\n",
       "      <th>город_Рыбинск</th>\n",
       "      <th>город_Ярославль</th>\n",
       "    </tr>\n",
       "  </thead>\n",
       "  <tbody>\n",
       "    <tr>\n",
       "      <th>9058</th>\n",
       "      <td>15845296</td>\n",
       "      <td>470</td>\n",
       "      <td>Рыбинск</td>\n",
       "      <td>Ж</td>\n",
       "      <td>48</td>\n",
       "      <td>6</td>\n",
       "      <td>140576.11</td>\n",
       "      <td>1</td>\n",
       "      <td>1</td>\n",
       "      <td>1</td>\n",
       "      <td>116971.05</td>\n",
       "      <td>0</td>\n",
       "      <td>0</td>\n",
       "      <td>1</td>\n",
       "      <td>0</td>\n",
       "    </tr>\n",
       "    <tr>\n",
       "      <th>5334</th>\n",
       "      <td>15856417</td>\n",
       "      <td>786</td>\n",
       "      <td>Ростов Великий</td>\n",
       "      <td>М</td>\n",
       "      <td>24</td>\n",
       "      <td>2</td>\n",
       "      <td>120135.55</td>\n",
       "      <td>2</td>\n",
       "      <td>1</td>\n",
       "      <td>1</td>\n",
       "      <td>125449.47</td>\n",
       "      <td>0</td>\n",
       "      <td>1</td>\n",
       "      <td>0</td>\n",
       "      <td>0</td>\n",
       "    </tr>\n",
       "    <tr>\n",
       "      <th>9326</th>\n",
       "      <td>15644523</td>\n",
       "      <td>641</td>\n",
       "      <td>Ростов Великий</td>\n",
       "      <td>М</td>\n",
       "      <td>35</td>\n",
       "      <td>2</td>\n",
       "      <td>103711.56</td>\n",
       "      <td>1</td>\n",
       "      <td>0</td>\n",
       "      <td>1</td>\n",
       "      <td>192464.21</td>\n",
       "      <td>1</td>\n",
       "      <td>1</td>\n",
       "      <td>0</td>\n",
       "      <td>0</td>\n",
       "    </tr>\n",
       "    <tr>\n",
       "      <th>8912</th>\n",
       "      <td>15680090</td>\n",
       "      <td>623</td>\n",
       "      <td>Ярославль</td>\n",
       "      <td>Ж</td>\n",
       "      <td>24</td>\n",
       "      <td>7</td>\n",
       "      <td>148167.83</td>\n",
       "      <td>2</td>\n",
       "      <td>1</td>\n",
       "      <td>1</td>\n",
       "      <td>109470.34</td>\n",
       "      <td>0</td>\n",
       "      <td>0</td>\n",
       "      <td>0</td>\n",
       "      <td>1</td>\n",
       "    </tr>\n",
       "    <tr>\n",
       "      <th>3183</th>\n",
       "      <td>15776897</td>\n",
       "      <td>636</td>\n",
       "      <td>Ярославль</td>\n",
       "      <td>М</td>\n",
       "      <td>43</td>\n",
       "      <td>6</td>\n",
       "      <td>NaN</td>\n",
       "      <td>2</td>\n",
       "      <td>1</td>\n",
       "      <td>0</td>\n",
       "      <td>43128.95</td>\n",
       "      <td>0</td>\n",
       "      <td>0</td>\n",
       "      <td>0</td>\n",
       "      <td>1</td>\n",
       "    </tr>\n",
       "    <tr>\n",
       "      <th>2836</th>\n",
       "      <td>15811191</td>\n",
       "      <td>679</td>\n",
       "      <td>Ярославль</td>\n",
       "      <td>М</td>\n",
       "      <td>60</td>\n",
       "      <td>8</td>\n",
       "      <td>NaN</td>\n",
       "      <td>2</td>\n",
       "      <td>1</td>\n",
       "      <td>1</td>\n",
       "      <td>51380.90</td>\n",
       "      <td>0</td>\n",
       "      <td>0</td>\n",
       "      <td>0</td>\n",
       "      <td>1</td>\n",
       "    </tr>\n",
       "    <tr>\n",
       "      <th>4807</th>\n",
       "      <td>15795984</td>\n",
       "      <td>611</td>\n",
       "      <td>Ярославль</td>\n",
       "      <td>М</td>\n",
       "      <td>28</td>\n",
       "      <td>2</td>\n",
       "      <td>NaN</td>\n",
       "      <td>2</td>\n",
       "      <td>0</td>\n",
       "      <td>0</td>\n",
       "      <td>25395.83</td>\n",
       "      <td>0</td>\n",
       "      <td>0</td>\n",
       "      <td>0</td>\n",
       "      <td>1</td>\n",
       "    </tr>\n",
       "    <tr>\n",
       "      <th>3024</th>\n",
       "      <td>15653537</td>\n",
       "      <td>648</td>\n",
       "      <td>Ростов Великий</td>\n",
       "      <td>М</td>\n",
       "      <td>41</td>\n",
       "      <td>5</td>\n",
       "      <td>123049.21</td>\n",
       "      <td>1</td>\n",
       "      <td>0</td>\n",
       "      <td>1</td>\n",
       "      <td>5066.76</td>\n",
       "      <td>0</td>\n",
       "      <td>1</td>\n",
       "      <td>0</td>\n",
       "      <td>0</td>\n",
       "    </tr>\n",
       "    <tr>\n",
       "      <th>1815</th>\n",
       "      <td>15626235</td>\n",
       "      <td>510</td>\n",
       "      <td>Ярославль</td>\n",
       "      <td>М</td>\n",
       "      <td>32</td>\n",
       "      <td>9</td>\n",
       "      <td>103324.78</td>\n",
       "      <td>1</td>\n",
       "      <td>1</td>\n",
       "      <td>1</td>\n",
       "      <td>46127.70</td>\n",
       "      <td>0</td>\n",
       "      <td>0</td>\n",
       "      <td>0</td>\n",
       "      <td>1</td>\n",
       "    </tr>\n",
       "    <tr>\n",
       "      <th>3495</th>\n",
       "      <td>15829897</td>\n",
       "      <td>591</td>\n",
       "      <td>Ростов Великий</td>\n",
       "      <td>М</td>\n",
       "      <td>46</td>\n",
       "      <td>4</td>\n",
       "      <td>129269.27</td>\n",
       "      <td>1</td>\n",
       "      <td>1</td>\n",
       "      <td>0</td>\n",
       "      <td>163504.33</td>\n",
       "      <td>0</td>\n",
       "      <td>1</td>\n",
       "      <td>0</td>\n",
       "      <td>0</td>\n",
       "    </tr>\n",
       "  </tbody>\n",
       "</table>\n",
       "</div>"
      ],
      "text/plain": [
       "       user_id  score            city gender  age  objects    balance  \\\n",
       "9058  15845296    470         Рыбинск      Ж   48        6  140576.11   \n",
       "5334  15856417    786  Ростов Великий      М   24        2  120135.55   \n",
       "9326  15644523    641  Ростов Великий      М   35        2  103711.56   \n",
       "8912  15680090    623       Ярославль      Ж   24        7  148167.83   \n",
       "3183  15776897    636       Ярославль      М   43        6        NaN   \n",
       "2836  15811191    679       Ярославль      М   60        8        NaN   \n",
       "4807  15795984    611       Ярославль      М   28        2        NaN   \n",
       "3024  15653537    648  Ростов Великий      М   41        5  123049.21   \n",
       "1815  15626235    510       Ярославль      М   32        9  103324.78   \n",
       "3495  15829897    591  Ростов Великий      М   46        4  129269.27   \n",
       "\n",
       "      products  credit_card  loyalty  estimated_salary  churn  \\\n",
       "9058         1            1        1         116971.05      0   \n",
       "5334         2            1        1         125449.47      0   \n",
       "9326         1            0        1         192464.21      1   \n",
       "8912         2            1        1         109470.34      0   \n",
       "3183         2            1        0          43128.95      0   \n",
       "2836         2            1        1          51380.90      0   \n",
       "4807         2            0        0          25395.83      0   \n",
       "3024         1            0        1           5066.76      0   \n",
       "1815         1            1        1          46127.70      0   \n",
       "3495         1            1        0         163504.33      0   \n",
       "\n",
       "      город_Ростов Великий  город_Рыбинск  город_Ярославль  \n",
       "9058                     0              1                0  \n",
       "5334                     1              0                0  \n",
       "9326                     1              0                0  \n",
       "8912                     0              0                1  \n",
       "3183                     0              0                1  \n",
       "2836                     0              0                1  \n",
       "4807                     0              0                1  \n",
       "3024                     1              0                0  \n",
       "1815                     0              0                1  \n",
       "3495                     1              0                0  "
      ]
     },
     "metadata": {},
     "output_type": "display_data"
    }
   ],
   "source": [
    "# Создаем столбцы с кодировкой городов\n",
    "df_dummies = pd.get_dummies(df['city'], prefix='город')\n",
    "\n",
    "# Добавляем новые столбцы к исходному датафрейму\n",
    "df = pd.concat([df, df_dummies], axis=1)\n",
    "# Проверяем\n",
    "display(df.sample(10))"
   ]
  },
  {
   "cell_type": "markdown",
   "metadata": {},
   "source": [
    "#### Пол"
   ]
  },
  {
   "cell_type": "code",
   "execution_count": 11,
   "metadata": {},
   "outputs": [
    {
     "data": {
      "text/html": [
       "<div>\n",
       "<style scoped>\n",
       "    .dataframe tbody tr th:only-of-type {\n",
       "        vertical-align: middle;\n",
       "    }\n",
       "\n",
       "    .dataframe tbody tr th {\n",
       "        vertical-align: top;\n",
       "    }\n",
       "\n",
       "    .dataframe thead th {\n",
       "        text-align: right;\n",
       "    }\n",
       "</style>\n",
       "<table border=\"1\" class=\"dataframe\">\n",
       "  <thead>\n",
       "    <tr style=\"text-align: right;\">\n",
       "      <th></th>\n",
       "      <th>user_id</th>\n",
       "      <th>score</th>\n",
       "      <th>city</th>\n",
       "      <th>gender</th>\n",
       "      <th>age</th>\n",
       "      <th>objects</th>\n",
       "      <th>balance</th>\n",
       "      <th>products</th>\n",
       "      <th>credit_card</th>\n",
       "      <th>loyalty</th>\n",
       "      <th>estimated_salary</th>\n",
       "      <th>churn</th>\n",
       "      <th>город_Ростов Великий</th>\n",
       "      <th>город_Рыбинск</th>\n",
       "      <th>город_Ярославль</th>\n",
       "      <th>пол_Ж</th>\n",
       "      <th>пол_М</th>\n",
       "    </tr>\n",
       "  </thead>\n",
       "  <tbody>\n",
       "    <tr>\n",
       "      <th>4666</th>\n",
       "      <td>15734611</td>\n",
       "      <td>850</td>\n",
       "      <td>Ростов Великий</td>\n",
       "      <td>Ж</td>\n",
       "      <td>39</td>\n",
       "      <td>5</td>\n",
       "      <td>114491.82</td>\n",
       "      <td>1</td>\n",
       "      <td>1</td>\n",
       "      <td>0</td>\n",
       "      <td>99689.48</td>\n",
       "      <td>0</td>\n",
       "      <td>1</td>\n",
       "      <td>0</td>\n",
       "      <td>0</td>\n",
       "      <td>1</td>\n",
       "      <td>0</td>\n",
       "    </tr>\n",
       "    <tr>\n",
       "      <th>3227</th>\n",
       "      <td>15682312</td>\n",
       "      <td>691</td>\n",
       "      <td>Ярославль</td>\n",
       "      <td>М</td>\n",
       "      <td>26</td>\n",
       "      <td>9</td>\n",
       "      <td>136623.19</td>\n",
       "      <td>1</td>\n",
       "      <td>1</td>\n",
       "      <td>0</td>\n",
       "      <td>153228.00</td>\n",
       "      <td>0</td>\n",
       "      <td>0</td>\n",
       "      <td>0</td>\n",
       "      <td>1</td>\n",
       "      <td>0</td>\n",
       "      <td>1</td>\n",
       "    </tr>\n",
       "    <tr>\n",
       "      <th>2292</th>\n",
       "      <td>15821800</td>\n",
       "      <td>677</td>\n",
       "      <td>Ярославль</td>\n",
       "      <td>М</td>\n",
       "      <td>27</td>\n",
       "      <td>2</td>\n",
       "      <td>NaN</td>\n",
       "      <td>2</td>\n",
       "      <td>1</td>\n",
       "      <td>1</td>\n",
       "      <td>20092.89</td>\n",
       "      <td>0</td>\n",
       "      <td>0</td>\n",
       "      <td>0</td>\n",
       "      <td>1</td>\n",
       "      <td>0</td>\n",
       "      <td>1</td>\n",
       "    </tr>\n",
       "    <tr>\n",
       "      <th>4447</th>\n",
       "      <td>15759117</td>\n",
       "      <td>666</td>\n",
       "      <td>Ростов Великий</td>\n",
       "      <td>Ж</td>\n",
       "      <td>50</td>\n",
       "      <td>7</td>\n",
       "      <td>109062.28</td>\n",
       "      <td>1</td>\n",
       "      <td>1</td>\n",
       "      <td>1</td>\n",
       "      <td>140136.10</td>\n",
       "      <td>1</td>\n",
       "      <td>1</td>\n",
       "      <td>0</td>\n",
       "      <td>0</td>\n",
       "      <td>1</td>\n",
       "      <td>0</td>\n",
       "    </tr>\n",
       "    <tr>\n",
       "      <th>8772</th>\n",
       "      <td>15634859</td>\n",
       "      <td>768</td>\n",
       "      <td>Ярославль</td>\n",
       "      <td>М</td>\n",
       "      <td>30</td>\n",
       "      <td>6</td>\n",
       "      <td>NaN</td>\n",
       "      <td>2</td>\n",
       "      <td>1</td>\n",
       "      <td>1</td>\n",
       "      <td>199454.37</td>\n",
       "      <td>0</td>\n",
       "      <td>0</td>\n",
       "      <td>0</td>\n",
       "      <td>1</td>\n",
       "      <td>0</td>\n",
       "      <td>1</td>\n",
       "    </tr>\n",
       "    <tr>\n",
       "      <th>4742</th>\n",
       "      <td>15804870</td>\n",
       "      <td>506</td>\n",
       "      <td>Ростов Великий</td>\n",
       "      <td>М</td>\n",
       "      <td>59</td>\n",
       "      <td>8</td>\n",
       "      <td>119152.10</td>\n",
       "      <td>2</td>\n",
       "      <td>1</td>\n",
       "      <td>1</td>\n",
       "      <td>170679.74</td>\n",
       "      <td>0</td>\n",
       "      <td>1</td>\n",
       "      <td>0</td>\n",
       "      <td>0</td>\n",
       "      <td>0</td>\n",
       "      <td>1</td>\n",
       "    </tr>\n",
       "    <tr>\n",
       "      <th>9849</th>\n",
       "      <td>15818947</td>\n",
       "      <td>678</td>\n",
       "      <td>Ярославль</td>\n",
       "      <td>Ж</td>\n",
       "      <td>34</td>\n",
       "      <td>6</td>\n",
       "      <td>NaN</td>\n",
       "      <td>2</td>\n",
       "      <td>1</td>\n",
       "      <td>1</td>\n",
       "      <td>124592.84</td>\n",
       "      <td>0</td>\n",
       "      <td>0</td>\n",
       "      <td>0</td>\n",
       "      <td>1</td>\n",
       "      <td>1</td>\n",
       "      <td>0</td>\n",
       "    </tr>\n",
       "    <tr>\n",
       "      <th>3253</th>\n",
       "      <td>15649208</td>\n",
       "      <td>585</td>\n",
       "      <td>Ярославль</td>\n",
       "      <td>Ж</td>\n",
       "      <td>38</td>\n",
       "      <td>5</td>\n",
       "      <td>NaN</td>\n",
       "      <td>1</td>\n",
       "      <td>1</td>\n",
       "      <td>1</td>\n",
       "      <td>87363.56</td>\n",
       "      <td>0</td>\n",
       "      <td>0</td>\n",
       "      <td>0</td>\n",
       "      <td>1</td>\n",
       "      <td>1</td>\n",
       "      <td>0</td>\n",
       "    </tr>\n",
       "    <tr>\n",
       "      <th>7395</th>\n",
       "      <td>15851122</td>\n",
       "      <td>721</td>\n",
       "      <td>Ростов Великий</td>\n",
       "      <td>Ж</td>\n",
       "      <td>45</td>\n",
       "      <td>7</td>\n",
       "      <td>138523.20</td>\n",
       "      <td>1</td>\n",
       "      <td>0</td>\n",
       "      <td>0</td>\n",
       "      <td>59604.45</td>\n",
       "      <td>1</td>\n",
       "      <td>1</td>\n",
       "      <td>0</td>\n",
       "      <td>0</td>\n",
       "      <td>1</td>\n",
       "      <td>0</td>\n",
       "    </tr>\n",
       "    <tr>\n",
       "      <th>6755</th>\n",
       "      <td>15726219</td>\n",
       "      <td>812</td>\n",
       "      <td>Рыбинск</td>\n",
       "      <td>М</td>\n",
       "      <td>38</td>\n",
       "      <td>3</td>\n",
       "      <td>127117.80</td>\n",
       "      <td>2</td>\n",
       "      <td>1</td>\n",
       "      <td>1</td>\n",
       "      <td>174822.74</td>\n",
       "      <td>0</td>\n",
       "      <td>0</td>\n",
       "      <td>1</td>\n",
       "      <td>0</td>\n",
       "      <td>0</td>\n",
       "      <td>1</td>\n",
       "    </tr>\n",
       "  </tbody>\n",
       "</table>\n",
       "</div>"
      ],
      "text/plain": [
       "       user_id  score            city gender  age  objects    balance  \\\n",
       "4666  15734611    850  Ростов Великий      Ж   39        5  114491.82   \n",
       "3227  15682312    691       Ярославль      М   26        9  136623.19   \n",
       "2292  15821800    677       Ярославль      М   27        2        NaN   \n",
       "4447  15759117    666  Ростов Великий      Ж   50        7  109062.28   \n",
       "8772  15634859    768       Ярославль      М   30        6        NaN   \n",
       "4742  15804870    506  Ростов Великий      М   59        8  119152.10   \n",
       "9849  15818947    678       Ярославль      Ж   34        6        NaN   \n",
       "3253  15649208    585       Ярославль      Ж   38        5        NaN   \n",
       "7395  15851122    721  Ростов Великий      Ж   45        7  138523.20   \n",
       "6755  15726219    812         Рыбинск      М   38        3  127117.80   \n",
       "\n",
       "      products  credit_card  loyalty  estimated_salary  churn  \\\n",
       "4666         1            1        0          99689.48      0   \n",
       "3227         1            1        0         153228.00      0   \n",
       "2292         2            1        1          20092.89      0   \n",
       "4447         1            1        1         140136.10      1   \n",
       "8772         2            1        1         199454.37      0   \n",
       "4742         2            1        1         170679.74      0   \n",
       "9849         2            1        1         124592.84      0   \n",
       "3253         1            1        1          87363.56      0   \n",
       "7395         1            0        0          59604.45      1   \n",
       "6755         2            1        1         174822.74      0   \n",
       "\n",
       "      город_Ростов Великий  город_Рыбинск  город_Ярославль  пол_Ж  пол_М  \n",
       "4666                     1              0                0      1      0  \n",
       "3227                     0              0                1      0      1  \n",
       "2292                     0              0                1      0      1  \n",
       "4447                     1              0                0      1      0  \n",
       "8772                     0              0                1      0      1  \n",
       "4742                     1              0                0      0      1  \n",
       "9849                     0              0                1      1      0  \n",
       "3253                     0              0                1      1      0  \n",
       "7395                     1              0                0      1      0  \n",
       "6755                     0              1                0      0      1  "
      ]
     },
     "metadata": {},
     "output_type": "display_data"
    }
   ],
   "source": [
    "# Создаем столбцы с кодировкой пола\n",
    "df_gender = pd.get_dummies(df['gender'], prefix='пол')\n",
    "\n",
    "# Добавляем новые столбцы к исходному датафрейму\n",
    "df = pd.concat([df, df_gender], axis=1)\n",
    "\n",
    "# Проверяем\n",
    "display(df.sample(10))"
   ]
  },
  {
   "cell_type": "markdown",
   "metadata": {},
   "source": [
    "## Исследовательский анализ данных"
   ]
  },
  {
   "cell_type": "markdown",
   "metadata": {},
   "source": [
    "### Средние значения и стандартное отклонение в данных"
   ]
  },
  {
   "cell_type": "code",
   "execution_count": 12,
   "metadata": {},
   "outputs": [
    {
     "data": {
      "text/html": [
       "<div>\n",
       "<style scoped>\n",
       "    .dataframe tbody tr th:only-of-type {\n",
       "        vertical-align: middle;\n",
       "    }\n",
       "\n",
       "    .dataframe tbody tr th {\n",
       "        vertical-align: top;\n",
       "    }\n",
       "\n",
       "    .dataframe thead th {\n",
       "        text-align: right;\n",
       "    }\n",
       "</style>\n",
       "<table border=\"1\" class=\"dataframe\">\n",
       "  <thead>\n",
       "    <tr style=\"text-align: right;\">\n",
       "      <th></th>\n",
       "      <th>count</th>\n",
       "      <th>mean</th>\n",
       "      <th>std</th>\n",
       "      <th>min</th>\n",
       "      <th>25%</th>\n",
       "      <th>50%</th>\n",
       "      <th>75%</th>\n",
       "      <th>max</th>\n",
       "    </tr>\n",
       "  </thead>\n",
       "  <tbody>\n",
       "    <tr>\n",
       "      <th>score</th>\n",
       "      <td>10000.0</td>\n",
       "      <td>650.53</td>\n",
       "      <td>96.65</td>\n",
       "      <td>350.00</td>\n",
       "      <td>584.00</td>\n",
       "      <td>652.00</td>\n",
       "      <td>718.00</td>\n",
       "      <td>850.00</td>\n",
       "    </tr>\n",
       "    <tr>\n",
       "      <th>age</th>\n",
       "      <td>10000.0</td>\n",
       "      <td>38.92</td>\n",
       "      <td>10.49</td>\n",
       "      <td>18.00</td>\n",
       "      <td>32.00</td>\n",
       "      <td>37.00</td>\n",
       "      <td>44.00</td>\n",
       "      <td>92.00</td>\n",
       "    </tr>\n",
       "    <tr>\n",
       "      <th>objects</th>\n",
       "      <td>10000.0</td>\n",
       "      <td>5.01</td>\n",
       "      <td>2.89</td>\n",
       "      <td>0.00</td>\n",
       "      <td>3.00</td>\n",
       "      <td>5.00</td>\n",
       "      <td>7.00</td>\n",
       "      <td>10.00</td>\n",
       "    </tr>\n",
       "    <tr>\n",
       "      <th>balance</th>\n",
       "      <td>6383.0</td>\n",
       "      <td>119827.49</td>\n",
       "      <td>30095.06</td>\n",
       "      <td>3768.69</td>\n",
       "      <td>100181.98</td>\n",
       "      <td>119839.69</td>\n",
       "      <td>139512.29</td>\n",
       "      <td>250898.09</td>\n",
       "    </tr>\n",
       "    <tr>\n",
       "      <th>products</th>\n",
       "      <td>10000.0</td>\n",
       "      <td>1.53</td>\n",
       "      <td>0.58</td>\n",
       "      <td>1.00</td>\n",
       "      <td>1.00</td>\n",
       "      <td>1.00</td>\n",
       "      <td>2.00</td>\n",
       "      <td>4.00</td>\n",
       "    </tr>\n",
       "    <tr>\n",
       "      <th>credit_card</th>\n",
       "      <td>10000.0</td>\n",
       "      <td>0.71</td>\n",
       "      <td>0.46</td>\n",
       "      <td>0.00</td>\n",
       "      <td>0.00</td>\n",
       "      <td>1.00</td>\n",
       "      <td>1.00</td>\n",
       "      <td>1.00</td>\n",
       "    </tr>\n",
       "    <tr>\n",
       "      <th>loyalty</th>\n",
       "      <td>10000.0</td>\n",
       "      <td>0.52</td>\n",
       "      <td>0.50</td>\n",
       "      <td>0.00</td>\n",
       "      <td>0.00</td>\n",
       "      <td>1.00</td>\n",
       "      <td>1.00</td>\n",
       "      <td>1.00</td>\n",
       "    </tr>\n",
       "    <tr>\n",
       "      <th>estimated_salary</th>\n",
       "      <td>10000.0</td>\n",
       "      <td>100090.24</td>\n",
       "      <td>57510.49</td>\n",
       "      <td>11.58</td>\n",
       "      <td>51002.11</td>\n",
       "      <td>100193.92</td>\n",
       "      <td>149388.25</td>\n",
       "      <td>199992.48</td>\n",
       "    </tr>\n",
       "    <tr>\n",
       "      <th>churn</th>\n",
       "      <td>10000.0</td>\n",
       "      <td>0.20</td>\n",
       "      <td>0.40</td>\n",
       "      <td>0.00</td>\n",
       "      <td>0.00</td>\n",
       "      <td>0.00</td>\n",
       "      <td>0.00</td>\n",
       "      <td>1.00</td>\n",
       "    </tr>\n",
       "    <tr>\n",
       "      <th>город_Ростов Великий</th>\n",
       "      <td>10000.0</td>\n",
       "      <td>0.25</td>\n",
       "      <td>0.43</td>\n",
       "      <td>0.00</td>\n",
       "      <td>0.00</td>\n",
       "      <td>0.00</td>\n",
       "      <td>1.00</td>\n",
       "      <td>1.00</td>\n",
       "    </tr>\n",
       "    <tr>\n",
       "      <th>город_Рыбинск</th>\n",
       "      <td>10000.0</td>\n",
       "      <td>0.25</td>\n",
       "      <td>0.43</td>\n",
       "      <td>0.00</td>\n",
       "      <td>0.00</td>\n",
       "      <td>0.00</td>\n",
       "      <td>0.00</td>\n",
       "      <td>1.00</td>\n",
       "    </tr>\n",
       "    <tr>\n",
       "      <th>город_Ярославль</th>\n",
       "      <td>10000.0</td>\n",
       "      <td>0.50</td>\n",
       "      <td>0.50</td>\n",
       "      <td>0.00</td>\n",
       "      <td>0.00</td>\n",
       "      <td>1.00</td>\n",
       "      <td>1.00</td>\n",
       "      <td>1.00</td>\n",
       "    </tr>\n",
       "    <tr>\n",
       "      <th>пол_Ж</th>\n",
       "      <td>10000.0</td>\n",
       "      <td>0.45</td>\n",
       "      <td>0.50</td>\n",
       "      <td>0.00</td>\n",
       "      <td>0.00</td>\n",
       "      <td>0.00</td>\n",
       "      <td>1.00</td>\n",
       "      <td>1.00</td>\n",
       "    </tr>\n",
       "    <tr>\n",
       "      <th>пол_М</th>\n",
       "      <td>10000.0</td>\n",
       "      <td>0.55</td>\n",
       "      <td>0.50</td>\n",
       "      <td>0.00</td>\n",
       "      <td>0.00</td>\n",
       "      <td>1.00</td>\n",
       "      <td>1.00</td>\n",
       "      <td>1.00</td>\n",
       "    </tr>\n",
       "  </tbody>\n",
       "</table>\n",
       "</div>"
      ],
      "text/plain": [
       "                        count       mean       std      min        25%  \\\n",
       "score                 10000.0     650.53     96.65   350.00     584.00   \n",
       "age                   10000.0      38.92     10.49    18.00      32.00   \n",
       "objects               10000.0       5.01      2.89     0.00       3.00   \n",
       "balance                6383.0  119827.49  30095.06  3768.69  100181.98   \n",
       "products              10000.0       1.53      0.58     1.00       1.00   \n",
       "credit_card           10000.0       0.71      0.46     0.00       0.00   \n",
       "loyalty               10000.0       0.52      0.50     0.00       0.00   \n",
       "estimated_salary      10000.0  100090.24  57510.49    11.58   51002.11   \n",
       "churn                 10000.0       0.20      0.40     0.00       0.00   \n",
       "город_Ростов Великий  10000.0       0.25      0.43     0.00       0.00   \n",
       "город_Рыбинск         10000.0       0.25      0.43     0.00       0.00   \n",
       "город_Ярославль       10000.0       0.50      0.50     0.00       0.00   \n",
       "пол_Ж                 10000.0       0.45      0.50     0.00       0.00   \n",
       "пол_М                 10000.0       0.55      0.50     0.00       0.00   \n",
       "\n",
       "                            50%        75%        max  \n",
       "score                    652.00     718.00     850.00  \n",
       "age                       37.00      44.00      92.00  \n",
       "objects                    5.00       7.00      10.00  \n",
       "balance               119839.69  139512.29  250898.09  \n",
       "products                   1.00       2.00       4.00  \n",
       "credit_card                1.00       1.00       1.00  \n",
       "loyalty                    1.00       1.00       1.00  \n",
       "estimated_salary      100193.92  149388.25  199992.48  \n",
       "churn                      0.00       0.00       1.00  \n",
       "город_Ростов Великий       0.00       1.00       1.00  \n",
       "город_Рыбинск              0.00       0.00       1.00  \n",
       "город_Ярославль            1.00       1.00       1.00  \n",
       "пол_Ж                      0.00       1.00       1.00  \n",
       "пол_М                      1.00       1.00       1.00  "
      ]
     },
     "execution_count": 12,
     "metadata": {},
     "output_type": "execute_result"
    }
   ],
   "source": [
    "df.describe().drop('user_id', axis=1).round(2).T"
   ]
  },
  {
   "cell_type": "markdown",
   "metadata": {},
   "source": [
    "**Вывод:**\n",
    "\n",
    "- Score (баллы кредитного скоринга): Средний балл скоринга составляет 650.53. В то время как минимальное значение - 350, максимальное - 850. Это указывает на то, что большинство клиентов имеют достаточно хороший кредитный рейтинг.\n",
    "\n",
    "\n",
    "- Age (возраст): Средний возраст клиентов - примерно 39 лет. Возраст клиентов варьируется от 18 до 92 лет, при этом большинство клиентов в возрасте от 32 до 44 лет.\n",
    "\n",
    "\n",
    "- Balance (баланс на счете): Средний баланс на счете составляет 119827.49. Однако, следует отметить, что эти данные присутствуют только для 6383 клиентов из 10000.\n",
    "\n",
    "\n",
    "- Estimated_salary (оценочная зарплата): Средняя оценочная зарплата клиентов составляет 100090.24, при этом зарплаты клиентов варьируются от очень низкой (11.58) до высокой (199992.48).\n",
    "\n",
    "\n",
    "- City (город): Большинство клиентов (50%) находятся в Ярославле. 25% клиентов находятся в Ростове Великом и остальные 25% - в Рыбинске.\n",
    "\n",
    "\n",
    "- Gender (пол): Среди клиентов банка больше мужчин (55%) по сравнению с женщинами (45%).\n",
    "\n",
    "\n",
    "- Objects (количество объектов в собственности): Количество объектов в собственности варьируется от 0 до 10. Среднее значение равно 5, что говорит о том, что в среднем у клиента 5 объектов в собственности.\n",
    "\n",
    "\n",
    "- Products (количество продуктов, которыми пользуется клиент): Среднее количество продуктов, которыми пользуется клиент, равно 1.53. Большинство клиентов пользуются 1 или 2 продуктами банка.\n",
    "\n",
    "\n",
    "- CreditCard (наличие кредитной карты): В среднем, 71% клиентов имеют кредитную карту.\n",
    "\n",
    "\n",
    "- Loyalty (активный клиент): В среднем, 52% клиентов являются активными. Это демонстрирует примерно равное распределение между активными и неактивными клиентами.\n",
    "\n",
    "\n",
    "- Churn (ушёл клиент или нет): Среднее значение составляет 0.2, что означает, что 20% клиентов ушли. Это может указывать на потенциальные проблемы с удержанием клиентов, которые могут требовать дополнительного анализа."
   ]
  },
  {
   "cell_type": "markdown",
   "metadata": {},
   "source": [
    "### Проверка средних значений признаков по группам ушедших и оставшихся клиентов"
   ]
  },
  {
   "cell_type": "code",
   "execution_count": 29,
   "metadata": {
    "scrolled": false
   },
   "outputs": [
    {
     "data": {
      "text/html": [
       "<div>\n",
       "<style scoped>\n",
       "    .dataframe tbody tr th:only-of-type {\n",
       "        vertical-align: middle;\n",
       "    }\n",
       "\n",
       "    .dataframe tbody tr th {\n",
       "        vertical-align: top;\n",
       "    }\n",
       "\n",
       "    .dataframe thead th {\n",
       "        text-align: right;\n",
       "    }\n",
       "</style>\n",
       "<table border=\"1\" class=\"dataframe\">\n",
       "  <thead>\n",
       "    <tr style=\"text-align: right;\">\n",
       "      <th></th>\n",
       "      <th>Не отточные</th>\n",
       "      <th>Отточные</th>\n",
       "      <th>Разница в процентах (%)</th>\n",
       "    </tr>\n",
       "  </thead>\n",
       "  <tbody>\n",
       "    <tr>\n",
       "      <th>score</th>\n",
       "      <td>651.9</td>\n",
       "      <td>645.4</td>\n",
       "      <td>-1.0</td>\n",
       "    </tr>\n",
       "    <tr>\n",
       "      <th>age</th>\n",
       "      <td>37.4</td>\n",
       "      <td>44.8</td>\n",
       "      <td>19.8</td>\n",
       "    </tr>\n",
       "    <tr>\n",
       "      <th>objects</th>\n",
       "      <td>5.0</td>\n",
       "      <td>4.9</td>\n",
       "      <td>-2.0</td>\n",
       "    </tr>\n",
       "    <tr>\n",
       "      <th>balance</th>\n",
       "      <td>119535.9</td>\n",
       "      <td>120747.0</td>\n",
       "      <td>1.0</td>\n",
       "    </tr>\n",
       "    <tr>\n",
       "      <th>products</th>\n",
       "      <td>1.5</td>\n",
       "      <td>1.5</td>\n",
       "      <td>0.0</td>\n",
       "    </tr>\n",
       "    <tr>\n",
       "      <th>credit_card</th>\n",
       "      <td>0.7</td>\n",
       "      <td>0.7</td>\n",
       "      <td>0.0</td>\n",
       "    </tr>\n",
       "    <tr>\n",
       "      <th>loyalty</th>\n",
       "      <td>0.6</td>\n",
       "      <td>0.4</td>\n",
       "      <td>-33.3</td>\n",
       "    </tr>\n",
       "    <tr>\n",
       "      <th>estimated_salary</th>\n",
       "      <td>99738.4</td>\n",
       "      <td>101465.7</td>\n",
       "      <td>1.7</td>\n",
       "    </tr>\n",
       "    <tr>\n",
       "      <th>город_Ростов Великий</th>\n",
       "      <td>0.2</td>\n",
       "      <td>0.4</td>\n",
       "      <td>100.0</td>\n",
       "    </tr>\n",
       "    <tr>\n",
       "      <th>город_Рыбинск</th>\n",
       "      <td>0.3</td>\n",
       "      <td>0.2</td>\n",
       "      <td>-33.3</td>\n",
       "    </tr>\n",
       "    <tr>\n",
       "      <th>город_Ярославль</th>\n",
       "      <td>0.5</td>\n",
       "      <td>0.4</td>\n",
       "      <td>-20.0</td>\n",
       "    </tr>\n",
       "    <tr>\n",
       "      <th>пол_Ж</th>\n",
       "      <td>0.4</td>\n",
       "      <td>0.6</td>\n",
       "      <td>50.0</td>\n",
       "    </tr>\n",
       "    <tr>\n",
       "      <th>пол_М</th>\n",
       "      <td>0.6</td>\n",
       "      <td>0.4</td>\n",
       "      <td>-33.3</td>\n",
       "    </tr>\n",
       "  </tbody>\n",
       "</table>\n",
       "</div>"
      ],
      "text/plain": [
       "                      Не отточные  Отточные  Разница в процентах (%)\n",
       "score                       651.9     645.4                     -1.0\n",
       "age                          37.4      44.8                     19.8\n",
       "objects                       5.0       4.9                     -2.0\n",
       "balance                  119535.9  120747.0                      1.0\n",
       "products                      1.5       1.5                      0.0\n",
       "credit_card                   0.7       0.7                      0.0\n",
       "loyalty                       0.6       0.4                    -33.3\n",
       "estimated_salary          99738.4  101465.7                      1.7\n",
       "город_Ростов Великий          0.2       0.4                    100.0\n",
       "город_Рыбинск                 0.3       0.2                    -33.3\n",
       "город_Ярославль               0.5       0.4                    -20.0\n",
       "пол_Ж                         0.4       0.6                     50.0\n",
       "пол_М                         0.6       0.4                    -33.3"
      ]
     },
     "execution_count": 29,
     "metadata": {},
     "output_type": "execute_result"
    }
   ],
   "source": [
    "# Группировка данных и расчет средних значений\n",
    "mean_values = df.drop('user_id', axis=1).groupby('churn').agg('mean').round(1)\n",
    "\n",
    "# Вычисление процентной разницы и округление до одного десятичного знака\n",
    "percentage_difference = (((mean_values.iloc[1] - mean_values.iloc[0]) / mean_values.iloc[0]) * 100).round(1)\n",
    "\n",
    "# Добавление результата в таблицу\n",
    "mean_values = mean_values.append(percentage_difference, ignore_index=True)\n",
    "\n",
    "# Изменение индекса для новой строки\n",
    "mean_values = mean_values.rename(index={2: 'Разница в процентах (%)'})\n",
    "\n",
    "# Транспонирование таблицы для лучшего отображения\n",
    "mean_values = mean_values.T\n",
    "mean_values.columns = ['Не отточные', 'Отточные', 'Разница в процентах (%)']\n",
    "\n",
    "# Вывод результата\n",
    "mean_values\n"
   ]
  },
  {
   "cell_type": "code",
   "execution_count": 32,
   "metadata": {},
   "outputs": [
    {
     "data": {
      "text/html": [
       "<div>\n",
       "<style scoped>\n",
       "    .dataframe tbody tr th:only-of-type {\n",
       "        vertical-align: middle;\n",
       "    }\n",
       "\n",
       "    .dataframe tbody tr th {\n",
       "        vertical-align: top;\n",
       "    }\n",
       "\n",
       "    .dataframe thead th {\n",
       "        text-align: right;\n",
       "    }\n",
       "</style>\n",
       "<table border=\"1\" class=\"dataframe\">\n",
       "  <thead>\n",
       "    <tr style=\"text-align: right;\">\n",
       "      <th></th>\n",
       "      <th>churn</th>\n",
       "    </tr>\n",
       "    <tr>\n",
       "      <th>city</th>\n",
       "      <th></th>\n",
       "    </tr>\n",
       "  </thead>\n",
       "  <tbody>\n",
       "    <tr>\n",
       "      <th>Ростов Великий</th>\n",
       "      <td>0.32</td>\n",
       "    </tr>\n",
       "    <tr>\n",
       "      <th>Рыбинск</th>\n",
       "      <td>0.17</td>\n",
       "    </tr>\n",
       "    <tr>\n",
       "      <th>Ярославль</th>\n",
       "      <td>0.16</td>\n",
       "    </tr>\n",
       "  </tbody>\n",
       "</table>\n",
       "</div>"
      ],
      "text/plain": [
       "                churn\n",
       "city                 \n",
       "Ростов Великий   0.32\n",
       "Рыбинск          0.17\n",
       "Ярославль        0.16"
      ]
     },
     "execution_count": 32,
     "metadata": {},
     "output_type": "execute_result"
    }
   ],
   "source": [
    "df.groupby('city').agg({'churn':'mean'}).round(2)\n"
   ]
  },
  {
   "cell_type": "markdown",
   "metadata": {},
   "source": [
    "**Вывод:**\n",
    "\n",
    "\n",
    "- В категории кредитного скоринга наблюдается незначительное различие между теми, кто остался клиентом банка, и теми, кто его покинул. Однако, гендерный состав двух групп заметно отличается. В группе оставшихся клиентов преобладают мужчины (57%), тогда как среди ушедших в отток - женщины (44%). Это может указывать на то, что пол клиента влияет на вероятность его ухода.\n",
    "\n",
    "\n",
    "- Рассматривая возраст клиентов, мы видим, что средний возраст тех, кто покинул банк, на 7 лет больше, чем у оставшихся. Это важный индикатор, который подчеркивает значимость возрастного фактора при анализе оттока.\n",
    "\n",
    "\n",
    "- Оба типа клиентов в среднем владеют пятью объектами и имеют близкие балансы на своих счетах, что делает эти признаки менее информативными для нашего анализа.\n",
    "\n",
    "\n",
    "- Однако, стоит отметить, что среди активных клиентов больше тех, кто остался (55% против 35% ушедших). Это подчеркивает важность уровня активности клиента в контексте его возможного ухода.\n",
    "\n",
    "\n",
    "- В отношении заработной платы среди оставшихся и ушедших клиентов разница незначительна, но есть тенденция к тому, что клиенты с более высокими зарплатами чаще покидают банк. Этот момент требует дополнительного изучения.\n",
    "\n",
    "\n",
    "- Наконец, отток клиентов сильно варьируется в зависимости от города: в Ростове Великом уровень оттока в два раза выше, чем в Рыбинске и Ярославле. Это важный географический аспект, который следует учесть при дальнейшем анализе."
   ]
  },
  {
   "cell_type": "markdown",
   "metadata": {},
   "source": [
    "### Визуализация значений признаков в разбивке по двум группам - отточных и оставшихся клиентов"
   ]
  },
  {
   "cell_type": "code",
   "execution_count": 15,
   "metadata": {
    "scrolled": false
   },
   "outputs": [
    {
     "data": {
      "image/png": "[encoded data removed]",
      "text/plain": [
       "<Figure size 720x360 with 1 Axes>"
      ]
     },
     "metadata": {
      "needs_background": "light"
     },
     "output_type": "display_data"
    },
    {
     "name": "stdout",
     "output_type": "stream",
     "text": [
      "   products  count      mean\n",
      "0         1   5084  0.277144\n",
      "1         2   4590  0.075817\n",
      "2         3    266  0.827068\n",
      "3         4     60  1.000000\n"
     ]
    },
    {
     "data": {
      "image/png": "[encoded data removed]",
      "text/plain": [
       "<Figure size 720x360 with 1 Axes>"
      ]
     },
     "metadata": {
      "needs_background": "light"
     },
     "output_type": "display_data"
    },
    {
     "name": "stdout",
     "output_type": "stream",
     "text": [
      "   credit_card  count      mean\n",
      "0            0   2945  0.208149\n",
      "1            1   7055  0.201843\n"
     ]
    },
    {
     "data": {
      "image/png": "[encoded data removed]",
      "text/plain": [
       "<Figure size 720x360 with 1 Axes>"
      ]
     },
     "metadata": {
      "needs_background": "light"
     },
     "output_type": "display_data"
    },
    {
     "name": "stdout",
     "output_type": "stream",
     "text": [
      "   loyalty  count      mean\n",
      "0        0   4849  0.268509\n",
      "1        1   5151  0.142691\n"
     ]
    },
    {
     "data": {
      "image/png": "[encoded data removed]",
      "text/plain": [
       "<Figure size 720x360 with 1 Axes>"
      ]
     },
     "metadata": {
      "needs_background": "light"
     },
     "output_type": "display_data"
    },
    {
     "name": "stdout",
     "output_type": "stream",
     "text": [
      "             city  count      mean\n",
      "0  Ростов Великий   2509  0.324432\n",
      "1         Рыбинск   2477  0.166734\n",
      "2       Ярославль   5014  0.161548\n"
     ]
    },
    {
     "data": {
      "image/png": "[encoded data removed]",
      "text/plain": [
       "<Figure size 720x360 with 1 Axes>"
      ]
     },
     "metadata": {
      "needs_background": "light"
     },
     "output_type": "display_data"
    },
    {
     "name": "stdout",
     "output_type": "stream",
     "text": [
      "  gender  count      mean\n",
      "0      Ж   4543  0.250715\n",
      "1      М   5457  0.164559\n"
     ]
    },
    {
     "data": {
      "image/png": "[encoded data removed]",
      "text/plain": [
       "<Figure size 720x360 with 1 Axes>"
      ]
     },
     "metadata": {
      "needs_background": "light"
     },
     "output_type": "display_data"
    },
    {
     "name": "stdout",
     "output_type": "stream",
     "text": [
      "    objects  count      mean\n",
      "0         0    413  0.230024\n",
      "1         1   1035  0.224155\n",
      "2         2   1048  0.191794\n",
      "3         3   1009  0.211100\n",
      "4         4    989  0.205258\n",
      "5         5   1012  0.206522\n",
      "6         6    967  0.202689\n",
      "7         7   1028  0.172179\n",
      "8         8   1025  0.192195\n",
      "9         9    984  0.216463\n",
      "10       10    490  0.206122\n"
     ]
    }
   ],
   "source": [
    "categorical_columns = ['products', 'credit_card', 'loyalty', 'city', 'gender', 'objects']\n",
    "\n",
    "for col in categorical_columns:\n",
    "    churn_means = df.groupby(col)['churn'].mean().reset_index()\n",
    "    \n",
    "    fig, ax = plt.subplots(figsize=(10, 5))\n",
    "    sns.barplot(x=col, y='churn', data=churn_means, ax=ax)\n",
    "    ax.axhline(churn_means['churn'].mean(), color='red', linestyle='--')\n",
    "    ax.set_title(f'Средний уровень оттока по {col}')\n",
    "    ax.set_xlabel(col)\n",
    "    ax.set_ylabel('Средний уровень оттока')\n",
    "    plt.show()\n",
    "\n",
    "    # Вывод сводной таблицы\n",
    "    print(df.groupby(col)['churn'].agg(['count', 'mean']).reset_index())"
   ]
  },
  {
   "cell_type": "markdown",
   "metadata": {},
   "source": [
    "**Вывод:**\n",
    "\n",
    "\n",
    "- Products: Видно, что клиенты с 4 продуктами полностью ушли в отток, клиенты с 3 продуктами также показывают высокий уровень оттока (82,7%), а у клиентов с 1 или 2 продуктами уровень оттока значительно меньше (27,7% и 7,6% соответственно). Это может указывать на то, что клиенты, которые используют больше продуктов, могут столкнуться с проблемами управления этими продуктами или быть недовольными некоторыми из них.\n",
    "\n",
    "\n",
    "- Credit Card: Уровень оттока клиентов с кредитной картой и без нее почти одинаков (20,8% и 20,1% соответственно). Это позволяет предположить, что наличие кредитной карты не оказывает значительного влияния на вероятность оттока.\n",
    "\n",
    "\n",
    "- Loyalty: Среди лояльных клиентов уровень оттока значительно ниже (14,2% против 26,9% у не лояльных клиентов). Это довольно очевидный результат, который подтверждает важность программ лояльности.\n",
    "\n",
    "\n",
    "- City: В Ростове Великом наблюдается наибольший уровень оттока (32,4%), в то время как в Рыбинске и Ярославле уровень оттока существенно ниже (16,7% и 16,2% соответственно). \n",
    "\n",
    "\n",
    "- Gender: Среди женщин уровень оттока выше, чем среди мужчин (25,1% против 16,5%). Это может указывать на то, что банк может не удовлетворять некоторые специфические потребности женской аудитории.\n",
    "\n",
    "\n",
    "- Objects: Уровень оттока практически одинаков для клиентов, имеющих от 0 до 6 объектов (от 20,2% до 23%), однако он снижается до 17,2% для тех, у кого 7 объектов, и затем снова возрастает. Данный признак требует дальнейшего исследования."
   ]
  },
  {
   "cell_type": "code",
   "execution_count": 16,
   "metadata": {
    "scrolled": false
   },
   "outputs": [
    {
     "name": "stdout",
     "output_type": "stream",
     "text": [
      "        score     churn  above_average_churn\n",
      "0    (0, 100]       NaN                False\n",
      "1  (100, 200]       NaN                False\n",
      "2  (200, 300]       NaN                False\n",
      "3  (300, 400]  1.000000                 True\n",
      "4  (400, 500]  0.213141                 True\n",
      "5  (500, 600]  0.211721                 True\n",
      "6  (600, 700]  0.197224                False\n",
      "7  (700, 800]  0.199110                False\n",
      "8  (800, 900]  0.196899                False\n",
      "Сводная таблица и статистические показатели для score:\n",
      "\n",
      "             mean median         std\n",
      "            score  score       score\n",
      "churn                               \n",
      "0      651.853196    653   95.653837\n",
      "1      645.351497    646  100.321503 \n",
      "\n",
      "\n",
      "        age     churn  above_average_churn\n",
      "0   (0, 10]       NaN                False\n",
      "1  (10, 20]  0.056180                False\n",
      "2  (20, 30]  0.076104                False\n",
      "3  (30, 40]  0.120872                False\n",
      "4  (40, 50]  0.339655                 True\n",
      "5  (50, 60]  0.562108                 True\n",
      "6  (60, 70]  0.314199                 True\n",
      "7  (70, 80]  0.082645                False\n",
      "8  (80, 90]  0.100000                False\n",
      "Сводная таблица и статистические показатели для age:\n",
      "\n",
      "            mean median        std\n",
      "             age    age        age\n",
      "churn                             \n",
      "0      37.408389     36  10.125363\n",
      "1      44.837997     45   9.761562 \n",
      "\n",
      "\n",
      "             balance     churn  above_average_churn\n",
      "0         (0, 25000]  0.666667                 True\n",
      "1     (25000, 50000]  0.318841                 True\n",
      "2     (50000, 75000]  0.214900                 True\n",
      "3    (75000, 100000]  0.193966                False\n",
      "4   (100000, 125000]  0.269826                 True\n",
      "5   (125000, 150000]  0.243473                 True\n",
      "6   (150000, 175000]  0.211382                 True\n",
      "7   (175000, 200000]  0.248731                 True\n",
      "8   (200000, 225000]  0.531250                 True\n",
      "9   (225000, 250000]  1.000000                 True\n",
      "10  (250000, 275000]  1.000000                 True\n",
      "Сводная таблица и статистические показатели для balance:\n",
      "\n",
      "                mean      median           std\n",
      "             balance     balance       balance\n",
      "churn                                         \n",
      "0      119535.864270  119791.215  29944.927372\n",
      "1      120746.971132  119948.090  30555.192802 \n",
      "\n",
      "\n",
      "    estimated_salary     churn  above_average_churn\n",
      "0         (0, 20000]  0.200811                False\n",
      "1     (20000, 40000]  0.202270                False\n",
      "2     (40000, 60000]  0.189861                False\n",
      "3     (60000, 80000]  0.206426                 True\n",
      "4    (80000, 100000]  0.195609                False\n",
      "5   (100000, 120000]  0.205453                 True\n",
      "6   (120000, 140000]  0.194638                False\n",
      "7   (140000, 160000]  0.209776                 True\n",
      "8   (160000, 180000]  0.222993                 True\n",
      "9   (180000, 200000]  0.209137                 True\n",
      "10  (200000, 220000]       NaN                False\n",
      "11  (220000, 240000]       NaN                False\n",
      "Сводная таблица и статистические показатели для estimated_salary:\n",
      "\n",
      "                  mean           median              std\n",
      "      estimated_salary estimated_salary estimated_salary\n",
      "churn                                                   \n",
      "0         99738.391772         99645.04     57405.586966\n",
      "1        101465.677531        102460.84     57912.418071 \n",
      "\n",
      "\n"
     ]
    },
    {
     "data": {
      "image/png": "[encoded data removed]",
      "text/plain": [
       "<Figure size 1152x720 with 4 Axes>"
      ]
     },
     "metadata": {
      "needs_background": "light"
     },
     "output_type": "display_data"
    }
   ],
   "source": [
    "# Непрерывные переменные для анализа\n",
    "continuous_columns = ['score', 'age', 'balance', 'estimated_salary']\n",
    "\n",
    "\n",
    "# Создаем фигуру и оси для построения графиков\n",
    "fig, axes = plt.subplots(nrows=2, ncols=2, figsize=(16, 10))\n",
    "\n",
    "# Рассчитаем среднее значение оттока для банка\n",
    "average_churn = df['churn'].mean()\n",
    "\n",
    "# Обрабатываем каждый столбец\n",
    "for ax, column in zip(axes.flatten(), continuous_columns):\n",
    "\n",
    "    # Гистограмма для всех клиентов с различным оттоком\n",
    "    sns.histplot(df, x=column, hue='churn', palette=['blue', 'red'], stat='density', common_norm=False, kde=True, ax=ax)\n",
    "    \n",
    "    ax.set_xlabel(column)\n",
    "\n",
    "    # Создаем сводную таблицу\n",
    "    if column == 'score':\n",
    "        bins = np.arange(0, 1000, 100)\n",
    "    elif column == 'age':\n",
    "        bins = np.arange(0, 100, 10)\n",
    "    elif column == 'balance':\n",
    "        bins = np.arange(0, 300000, 25000)\n",
    "    elif column == 'estimated_salary':\n",
    "        bins = np.arange(0, 250000, 20000)\n",
    "\n",
    "    pivot_table = df.groupby(pd.cut(df[column], bins))['churn'].mean().reset_index()\n",
    "\n",
    "    # Указываем, когда отточность выше, чем в среднем по банку\n",
    "    pivot_table['above_average_churn'] = pivot_table['churn'] > average_churn\n",
    "\n",
    "    print(pivot_table)\n",
    "    \n",
    "    pivot = df.pivot_table(index='churn', values=column, aggfunc=['mean', 'median', 'std'])\n",
    "    print(f\"Сводная таблица и статистические показатели для {column}:\\n\")\n",
    "    print(pivot, \"\\n\\n\")\n",
    "\n",
    "plt.tight_layout()\n",
    "plt.show()\n"
   ]
  },
  {
   "cell_type": "markdown",
   "metadata": {},
   "source": [
    "**Вывод:**\n",
    "\n",
    "Исходя из данных и графиков, можно сделать следующие выводы:\n",
    "\n",
    "- Credit Score: Клиенты с очень низким кредитным рейтингом (менее 400) имеют очень высокую вероятность ухода. Отметим, что большинство клиентов имеют кредитный рейтинг от 400 до 900, и в этом диапазоне вероятность ухода немного снижается с увеличением рейтинга.\n",
    "\n",
    "\n",
    "- Возраст: Видим, что молодые люди (возрастом до 40 лет) склонны оставаться с банком, в то время как вероятность ухода заметно увеличивается среди клиентов от 40 до 60 лет. Затем после 60 лет вероятность ухода начинает снижаться.\n",
    "\n",
    "\n",
    "- Баланс: Клиенты с балансом от 0 до 75000 имеют значительно более высокую вероятность ухода по сравнению со средним уровнем банка. Однако наблюдается исключение для тех, у кого баланс превышает 200000, тут вероятность ухода существенно возрастает, возможно, это связано с небольшим количеством таких клиентов.\n",
    "\n",
    "\n",
    "- Оценочная зарплата: Вероятность ухода не сильно варьируется в зависимости от оцененной зарплаты. Мы видим небольшое увеличение вероятности ухода для клиентов с оцененной зарплатой от 60000 до 200000."
   ]
  },
  {
   "cell_type": "markdown",
   "metadata": {},
   "source": [
    "### Анализ корреляций"
   ]
  },
  {
   "cell_type": "code",
   "execution_count": 17,
   "metadata": {
    "scrolled": false
   },
   "outputs": [
    {
     "name": "stdout",
     "output_type": "stream",
     "text": [
      "Значительные особенности:\n",
      " age                     0.285323\n",
      "loyalty                -0.156128\n",
      "churn                   1.000000\n",
      "город_Ростов Великий    0.173488\n",
      "город_Ярославль        -0.104955\n",
      "пол_Ж                   0.106512\n",
      "пол_М                  -0.106512\n",
      "Name: churn, dtype: float64\n"
     ]
    },
    {
     "data": {
      "image/png": "[encoded data removed]",
      "text/plain": [
       "<Figure size 864x720 with 2 Axes>"
      ]
     },
     "metadata": {
      "needs_background": "light"
     },
     "output_type": "display_data"
    },
    {
     "name": "stdout",
     "output_type": "stream",
     "text": [
      "\n",
      "Описание корреляций с помощью шкалы Чеддока:\n",
      " user_id                  Очень слабая\n",
      "score                    Очень слабая\n",
      "age                            Слабая\n",
      "objects                  Очень слабая\n",
      "balance                  Очень слабая\n",
      "products                 Очень слабая\n",
      "credit_card              Очень слабая\n",
      "loyalty                  Очень слабая\n",
      "estimated_salary         Очень слабая\n",
      "churn                   Очень сильная\n",
      "город_Ростов Великий     Очень слабая\n",
      "город_Рыбинск            Очень слабая\n",
      "город_Ярославль          Очень слабая\n",
      "пол_Ж                    Очень слабая\n",
      "пол_М                    Очень слабая\n",
      "Name: churn, dtype: object\n",
      "interval columns not set, guessing: ['user_id', 'score', 'age', 'objects', 'balance', 'products', 'credit_card', 'loyalty', 'estimated_salary', 'churn', 'город_Ростов Великий', 'город_Рыбинск', 'город_Ярославль', 'пол_Ж', 'пол_М']\n"
     ]
    },
    {
     "data": {
      "image/png": "[encoded data removed]",
      "text/plain": [
       "<Figure size 864x720 with 2 Axes>"
      ]
     },
     "metadata": {
      "needs_background": "light"
     },
     "output_type": "display_data"
    }
   ],
   "source": [
    "# Анализ зависимостей между характеристиками и целевой переменной\n",
    "correlation = df.corr()\n",
    "\n",
    "# Найдем характеристики, которые коррелируют с целевой переменной более чем на 10%\n",
    "significant_features = correlation[abs(correlation['churn']) > 0.10]['churn']\n",
    "print(\"Значительные особенности:\\n\", significant_features)\n",
    "\n",
    "# Подготовим корреляционную матрицу для визуализации\n",
    "correlation_percent = correlation.applymap(lambda x: round(x*100, 0))\n",
    "\n",
    "# Визуализируем корреляционную матрицу\n",
    "plt.figure(figsize=(12,10))\n",
    "sns.heatmap(correlation_percent, annot=True, cmap='coolwarm', center=0, fmt='g')\n",
    "plt.title('Корреляционная матрица в процентах')\n",
    "plt.show()\n",
    "\n",
    "# Описание корреляций с помощью шкалы Чеддока\n",
    "def chedhok_scale(val):\n",
    "    val = abs(val)\n",
    "    if val == 0:\n",
    "        return 'Корреляции нет'\n",
    "    elif val < 0.2:\n",
    "        return 'Очень слабая'\n",
    "    elif val < 0.4:\n",
    "        return 'Слабая'\n",
    "    elif val < 0.6:\n",
    "        return 'Умеренная'\n",
    "    elif val < 0.8:\n",
    "        return 'Сильная'\n",
    "    else:\n",
    "        return 'Очень сильная'\n",
    "\n",
    "correlation_description = correlation['churn'].apply(chedhok_scale)\n",
    "print(\"\\nОписание корреляций с помощью шкалы Чеддока:\\n\", correlation_description)\n",
    "\n",
    "# Применение матрицы корреляции phik для нелинейных зависимостей\n",
    "phik_correlation = df.phik_matrix()\n",
    "plt.figure(figsize=(12,10))\n",
    "sns.heatmap(phik_correlation, annot=True, cmap='coolwarm')\n",
    "plt.title('Phik корреляционная матрица')\n",
    "plt.show()"
   ]
  },
  {
   "cell_type": "code",
   "execution_count": 34,
   "metadata": {},
   "outputs": [
    {
     "data": {
      "image/png": "[encoded data removed]",
      "text/plain": [
       "<Figure size 360x720 with 1 Axes>"
      ]
     },
     "metadata": {
      "needs_background": "light"
     },
     "output_type": "display_data"
    },
    {
     "data": {
      "text/html": [
       "<div>\n",
       "<style scoped>\n",
       "    .dataframe tbody tr th:only-of-type {\n",
       "        vertical-align: middle;\n",
       "    }\n",
       "\n",
       "    .dataframe tbody tr th {\n",
       "        vertical-align: top;\n",
       "    }\n",
       "\n",
       "    .dataframe thead th {\n",
       "        text-align: right;\n",
       "    }\n",
       "</style>\n",
       "<table border=\"1\" class=\"dataframe\">\n",
       "  <thead>\n",
       "    <tr style=\"text-align: right;\">\n",
       "      <th></th>\n",
       "      <th>churn</th>\n",
       "    </tr>\n",
       "  </thead>\n",
       "  <tbody>\n",
       "    <tr>\n",
       "      <th>age</th>\n",
       "      <td>0.285323</td>\n",
       "    </tr>\n",
       "    <tr>\n",
       "      <th>город_Ростов Великий</th>\n",
       "      <td>0.173488</td>\n",
       "    </tr>\n",
       "    <tr>\n",
       "      <th>пол_Ж</th>\n",
       "      <td>0.106512</td>\n",
       "    </tr>\n",
       "    <tr>\n",
       "      <th>balance</th>\n",
       "      <td>0.017208</td>\n",
       "    </tr>\n",
       "    <tr>\n",
       "      <th>estimated_salary</th>\n",
       "      <td>0.012097</td>\n",
       "    </tr>\n",
       "    <tr>\n",
       "      <th>user_id</th>\n",
       "      <td>-0.006248</td>\n",
       "    </tr>\n",
       "    <tr>\n",
       "      <th>credit_card</th>\n",
       "      <td>-0.007138</td>\n",
       "    </tr>\n",
       "    <tr>\n",
       "      <th>objects</th>\n",
       "      <td>-0.014001</td>\n",
       "    </tr>\n",
       "    <tr>\n",
       "      <th>score</th>\n",
       "      <td>-0.027094</td>\n",
       "    </tr>\n",
       "    <tr>\n",
       "      <th>products</th>\n",
       "      <td>-0.047820</td>\n",
       "    </tr>\n",
       "    <tr>\n",
       "      <th>город_Рыбинск</th>\n",
       "      <td>-0.052667</td>\n",
       "    </tr>\n",
       "    <tr>\n",
       "      <th>город_Ярославль</th>\n",
       "      <td>-0.104955</td>\n",
       "    </tr>\n",
       "    <tr>\n",
       "      <th>пол_М</th>\n",
       "      <td>-0.106512</td>\n",
       "    </tr>\n",
       "    <tr>\n",
       "      <th>loyalty</th>\n",
       "      <td>-0.156128</td>\n",
       "    </tr>\n",
       "  </tbody>\n",
       "</table>\n",
       "</div>"
      ],
      "text/plain": [
       "                         churn\n",
       "age                   0.285323\n",
       "город_Ростов Великий  0.173488\n",
       "пол_Ж                 0.106512\n",
       "balance               0.017208\n",
       "estimated_salary      0.012097\n",
       "user_id              -0.006248\n",
       "credit_card          -0.007138\n",
       "objects              -0.014001\n",
       "score                -0.027094\n",
       "products             -0.047820\n",
       "город_Рыбинск        -0.052667\n",
       "город_Ярославль      -0.104955\n",
       "пол_М                -0.106512\n",
       "loyalty              -0.156128"
      ]
     },
     "execution_count": 34,
     "metadata": {},
     "output_type": "execute_result"
    }
   ],
   "source": [
    "# Подготовим корреляционную матрицу только для целевой переменной\n",
    "target_correlation = correlation[['churn']].drop(['churn'])\n",
    "\n",
    "# Сортировка по величине корреляции\n",
    "sorted_target_correlation = target_correlation.sort_values(by='churn', ascending=False)\n",
    "\n",
    "# Визуализируем отсортированную корреляционную матрицу\n",
    "plt.figure(figsize=(5,10))\n",
    "sns.heatmap(sorted_target_correlation, annot=True, cmap='coolwarm', center=0, fmt='.0%', cbar=False, annot_kws={\"size\": 12})\n",
    "plt.title('Корреляция по целевой переменной (churn)', fontsize=14)\n",
    "plt.show()\n",
    "target_correlation.sort_values(by='churn', ascending = False)"
   ]
  },
  {
   "cell_type": "markdown",
   "metadata": {},
   "source": [
    "**Вывод:**\n",
    "\n",
    "- Корреляционный анализ и Phik_correlation:\n",
    "\n",
    "Возраст клиента имеет положительную корреляцию с оттоком (0.285323).\n",
    "С другой стороны, переменная \"loyalty\" имеет отрицательную корреляцию с оттоком (-0.156128), что подтверждает наше предположение, что более лояльные клиенты менее склонны уходить.\n",
    "Phik корреляция показывает более высокие значения по сравнению с обычной корреляцией, особенно заметна сильная связь оттока с возрастом, количеством продуктов и городом проживания."
   ]
  },
  {
   "cell_type": "markdown",
   "metadata": {},
   "source": [
    "**На основании полученных данных можно сделать следующие выводы:**\n",
    "\n",
    "- Города и пол клиентов:\n",
    "\n",
    "    - Клиенты из Ростова Великого имеют значительно большую вероятность уйти из банка, чем клиенты из других городов. Отток клиентов в Ростове Великом составляет около 32.4%, что гораздо выше, чем в Рыбинске (16.7%) или Ярославле (16.1%).\n",
    "    - Женщины более склонны к оттоку, чем мужчины. Доля оттока среди женщин составляет 25.1%, в то время как среди мужчин - 16.5%.\n",
    "\n",
    "\n",
    "- Количество продуктов, кредитная карта и лояльность:\n",
    "\n",
    "    - Количество продуктов, которыми пользуются клиенты, также влияет на отток. Причем клиенты, использующие 3 или 4 продукта, имеют высокий уровень оттока.\n",
    "    - Наличие кредитной карты не имеет значительного влияния на вероятность оттока клиента. Однако, активные клиенты (те, у кого высокий показатель лояльности) склонны уходить реже.\n",
    "   \n",
    "   \n",
    "- Корреляционный анализ и Phik_correlation:\n",
    "\n",
    "    - Возраст клиента имеет положительную корреляцию с оттоком (0.285323). Это может означать, что старшие клиенты склонны уходить чаще, чем молодые.\n",
    "    - С другой стороны, переменная \"loyalty\" имеет отрицательную корреляцию с оттоком (-0.156128), что подтверждает наше предположение, что более лояльные клиенты менее склонны уходить.\n",
    "    - Phik корреляция показывает более высокие значения по сравнению с обычной корреляцией, особенно заметна сильная связь оттока с возрастом, количеством продуктов и городом проживания."
   ]
  },
  {
   "cell_type": "markdown",
   "metadata": {},
   "source": [
    "### Вывод по разделу"
   ]
  },
  {
   "cell_type": "markdown",
   "metadata": {},
   "source": [
    "\n",
    "\n",
    "- Возраст между 40 и 60: Средний отток в этой группе составляет около 39%, что выше, чем средний показатель по всему банку.\n",
    "\n",
    "\n",
    "- Используют 3 или 4 продукта: Отток в этой группе составляет около 86%, что намного выше среднего показателя. Это может указывать на то, что клиенты, использующие больше продуктов, склонны к оттоку, возможно, из-за сложностей в управлении несколькими продуктами или недовольства одним или несколькими из них.\n",
    "\n",
    "\n",
    "- Проживают в Ростове Великом: Средний уровень оттока в этом городе составляет около 32%, что также выше, чем средний показатель по банку.\n",
    "\n",
    "\n",
    "- Пол мужской: Мужчины показывают меньший отток (около 16%), чем женщины (около 25%).\n",
    "\n",
    "\n",
    "- Кредитный скоринг от 400 до 600: Уровень оттока в этой группе (около 21%) близок к среднему уровню по банку.\n",
    "\n",
    "\n",
    "- Баланс больше 200000: Эта группа имеет очень высокий уровень оттока - около 56%, что указывает на то, что клиенты с высоким балансом склонны к оттоку. Это может быть связано с тем, что эти клиенты могут найти более привлекательные условия в других банках.\n",
    "\n",
    "\n",
    "- Неактивные клиенты: Как и ожидалось, неактивные клиенты имеют более высокий уровень оттока (около 27%) по сравнению со средним показателем по банку."
   ]
  },
  {
   "cell_type": "markdown",
   "metadata": {},
   "source": [
    "## Проверка статистических гипотез\n",
    "\n",
    "Мы проверяем статистическую гипотезу о различии дохода между клиентами, которые ушли, и теми, кто остался. Будем использовать оба теста: t-тест Стьюдента и U-тест Манна-Уитни. Т-тест используется, когда данные распределены нормально, в то время как U-тест является непараметрическим тестом и может использоваться, когда нет уверенности в нормальности данных."
   ]
  },
  {
   "cell_type": "markdown",
   "metadata": {},
   "source": [
    "### Первая гипотеза"
   ]
  },
  {
   "cell_type": "markdown",
   "metadata": {},
   "source": [
    "**- Нулевая гипотеза (H0):** Распределения доходов среди клиентов, которые ушли, и тех, кто остался, одинаковы.\n",
    "\n",
    "\n",
    "**- Альтернативная гипотеза (H1):** Распределения доходов среди клиентов, которые ушли, и тех, кто остался, отличаются."
   ]
  },
  {
   "cell_type": "code",
   "execution_count": 35,
   "metadata": {},
   "outputs": [
    {
     "data": {
      "image/png": "[encoded data removed]",
      "text/plain": [
       "<Figure size 864x432 with 2 Axes>"
      ]
     },
     "metadata": {
      "needs_background": "light"
     },
     "output_type": "display_data"
    },
    {
     "name": "stdout",
     "output_type": "stream",
     "text": [
      "Результаты t-теста Стьюдента:\n",
      "Статистика: 1.2, p-value: 0.23\n",
      "Не можем отвергнуть нулевую гипотезу для t-теста Стьюдента\n",
      "\n",
      "Результаты U-теста Манна-Уитни:\n",
      "Статистика: 8250768.0, p-value: 0.23\n",
      "Не можем отвергнуть нулевую гипотезу для U-теста Манна-Уитни\n"
     ]
    }
   ],
   "source": [
    "# Разделение данных\n",
    "left = df[df['churn'] == 1]['estimated_salary']\n",
    "stayed = df[df['churn'] == 0]['estimated_salary']\n",
    "\n",
    "# Проверка на нормальность с помощью QQ-plot\n",
    "plt.figure(figsize=(12,6))\n",
    "plt.subplot(1, 2, 1)\n",
    "stats.probplot(left, dist=\"norm\", plot=plt)\n",
    "plt.title('QQ-plot для дохода клиентов, которые ушли')\n",
    "\n",
    "plt.subplot(1, 2, 2)\n",
    "stats.probplot(stayed, dist=\"norm\", plot=plt)\n",
    "plt.title('QQ-plot для дохода клиентов, которые остались')\n",
    "plt.show()\n",
    "\n",
    "# T-тест Стьюдента\n",
    "t_stat, t_p_val = stats.ttest_ind(left, stayed, equal_var = False)\n",
    "print(f'Результаты t-теста Стьюдента:\\nСтатистика: {round(t_stat, 2)}, p-value: {round(t_p_val, 2)}')\n",
    "if t_p_val < 0.05:\n",
    "    print(\"Отвергаем нулевую гипотезу для t-теста Стьюдента\")\n",
    "else:\n",
    "    print(\"Не можем отвергнуть нулевую гипотезу для t-теста Стьюдента\")\n",
    "\n",
    "# U-тест Манна-Уитни\n",
    "u_stat, u_p_val = stats.mannwhitneyu(left, stayed)\n",
    "print(f'\\nРезультаты U-теста Манна-Уитни:\\nСтатистика: {round(u_stat, 2)}, p-value: {round(u_p_val, 2)}')\n",
    "if u_p_val < 0.05:\n",
    "    print(\"Отвергаем нулевую гипотезу для U-теста Манна-Уитни\")\n",
    "else:\n",
    "    print(\"Не можем отвергнуть нулевую гипотезу для U-теста Манна-Уитни\")\n"
   ]
  },
  {
   "cell_type": "markdown",
   "metadata": {},
   "source": [
    "**Вывод**\n",
    "\n",
    "- По результатам как t-теста Стьюдента, так и U-теста Манна-Уитни, мы не можем отвергнуть нулевую гипотезу. Это означает, что у нас нет достаточных доказательств для утверждения, что есть статистически значимые различия в доходах между клиентами, которые остались, и клиентами, которые ушли.\n",
    "\n",
    "\n",
    "- Наш p-value больше общепринятого порогового значения 0.05, что указывает на то, что вероятность получить такие или еще более выраженные различия при верности нулевой гипотезы достаточно высока.\n",
    "\n",
    "В связи с этим, мы не можем утверждать, что доход клиента влияет на его решение об уходе из банка. Это важная информация для банка, поскольку она позволяет пересмотреть стратегию удержания клиентов, учитывая, что доходы клиентов, скорее всего, не играют значительной роли в решении об уходе."
   ]
  },
  {
   "cell_type": "markdown",
   "metadata": {},
   "source": [
    "### Вторая гипотеза"
   ]
  },
  {
   "cell_type": "markdown",
   "metadata": {},
   "source": [
    "Проверим гипотезу о том, влияет ли географическое местоположение на отток клиентов.\n",
    "\n",
    "**Нулевая гипотеза (H0):** Распределение оттока клиентов между различными географическими регионами одинаково.\n",
    "\n",
    "**Альтернативная гипотеза (H1):** Распределение оттока клиентов между различными географическими регионами различно."
   ]
  },
  {
   "cell_type": "code",
   "execution_count": 37,
   "metadata": {},
   "outputs": [
    {
     "name": "stdout",
     "output_type": "stream",
     "text": [
      "Результаты chi-square теста:\n",
      "Статистика: 301.25533682434536, p-value: 3.8303176053541544e-66\n",
      "Отвергаем нулевую гипотезу для chi-square теста\n"
     ]
    }
   ],
   "source": [
    "# Подсчет количества ушедших и оставшихся клиентов в каждом регионе\n",
    "crosstab = pd.crosstab(df['city'], df['churn'])\n",
    "\n",
    "# Применение chi-square теста\n",
    "chi2, p, dof, expected = chi2_contingency(crosstab)\n",
    "\n",
    "print(f'Результаты chi-square теста:\\nСтатистика: {chi2}, p-value: {p}')\n",
    "if p < 0.05:\n",
    "    print(\"Отвергаем нулевую гипотезу для chi-square теста\")\n",
    "else:\n",
    "    print(\"Не можем отвергнуть нулевую гипотезу для chi-square теста\")"
   ]
  },
  {
   "cell_type": "markdown",
   "metadata": {},
   "source": [
    "**Вывод:**\n",
    "Результаты теста говорят о том, что распределение оттока клиентов между различными городами значимо отличается. Это означает, что географическое местоположение влияет на отток клиентов."
   ]
  },
  {
   "cell_type": "markdown",
   "metadata": {},
   "source": [
    "## Рекомендации по привлечению приоритетных сегментов "
   ]
  },
  {
   "cell_type": "markdown",
   "metadata": {},
   "source": [
    "### Выделяем лояльные группы клиентов"
   ]
  },
  {
   "cell_type": "markdown",
   "metadata": {},
   "source": [
    "Создадим многофакторную сегментацию на основе возраста, активности клиента, баланса на счету и количества используемых продуктов. В качестве метрики ценности сегмента мы можем использовать среднюю заработную плату клиентов в этом сегменте"
   ]
  },
  {
   "cell_type": "code",
   "execution_count": 20,
   "metadata": {},
   "outputs": [
    {
     "data": {
      "text/html": [
       "<div>\n",
       "<style scoped>\n",
       "    .dataframe tbody tr th:only-of-type {\n",
       "        vertical-align: middle;\n",
       "    }\n",
       "\n",
       "    .dataframe tbody tr th {\n",
       "        vertical-align: top;\n",
       "    }\n",
       "\n",
       "    .dataframe thead th {\n",
       "        text-align: right;\n",
       "    }\n",
       "</style>\n",
       "<table border=\"1\" class=\"dataframe\">\n",
       "  <thead>\n",
       "    <tr style=\"text-align: right;\">\n",
       "      <th></th>\n",
       "      <th>age_group</th>\n",
       "      <th>loyalty</th>\n",
       "      <th>balance_group</th>\n",
       "      <th>products</th>\n",
       "      <th>segment_size</th>\n",
       "      <th>churn_rate</th>\n",
       "      <th>avg_salary</th>\n",
       "      <th>segment_value</th>\n",
       "    </tr>\n",
       "  </thead>\n",
       "  <tbody>\n",
       "    <tr>\n",
       "      <th>12</th>\n",
       "      <td>18-29</td>\n",
       "      <td>1</td>\n",
       "      <td>low</td>\n",
       "      <td>1</td>\n",
       "      <td>177</td>\n",
       "      <td>0.045198</td>\n",
       "      <td>101534.630395</td>\n",
       "      <td>96945.494558</td>\n",
       "    </tr>\n",
       "    <tr>\n",
       "      <th>13</th>\n",
       "      <td>18-29</td>\n",
       "      <td>1</td>\n",
       "      <td>low</td>\n",
       "      <td>2</td>\n",
       "      <td>366</td>\n",
       "      <td>0.019126</td>\n",
       "      <td>101869.934454</td>\n",
       "      <td>99921.602374</td>\n",
       "    </tr>\n",
       "    <tr>\n",
       "      <th>14</th>\n",
       "      <td>18-29</td>\n",
       "      <td>1</td>\n",
       "      <td>low</td>\n",
       "      <td>3</td>\n",
       "      <td>9</td>\n",
       "      <td>0.333333</td>\n",
       "      <td>99066.864444</td>\n",
       "      <td>66044.576296</td>\n",
       "    </tr>\n",
       "    <tr>\n",
       "      <th>15</th>\n",
       "      <td>18-29</td>\n",
       "      <td>1</td>\n",
       "      <td>low</td>\n",
       "      <td>4</td>\n",
       "      <td>0</td>\n",
       "      <td>NaN</td>\n",
       "      <td>NaN</td>\n",
       "      <td>NaN</td>\n",
       "    </tr>\n",
       "    <tr>\n",
       "      <th>16</th>\n",
       "      <td>18-29</td>\n",
       "      <td>1</td>\n",
       "      <td>medium</td>\n",
       "      <td>1</td>\n",
       "      <td>298</td>\n",
       "      <td>0.070470</td>\n",
       "      <td>102155.182651</td>\n",
       "      <td>94956.327498</td>\n",
       "    </tr>\n",
       "    <tr>\n",
       "      <th>17</th>\n",
       "      <td>18-29</td>\n",
       "      <td>1</td>\n",
       "      <td>medium</td>\n",
       "      <td>2</td>\n",
       "      <td>148</td>\n",
       "      <td>0.033784</td>\n",
       "      <td>100168.970473</td>\n",
       "      <td>96784.883633</td>\n",
       "    </tr>\n",
       "    <tr>\n",
       "      <th>18</th>\n",
       "      <td>18-29</td>\n",
       "      <td>1</td>\n",
       "      <td>medium</td>\n",
       "      <td>3</td>\n",
       "      <td>5</td>\n",
       "      <td>0.800000</td>\n",
       "      <td>141935.750000</td>\n",
       "      <td>28387.150000</td>\n",
       "    </tr>\n",
       "    <tr>\n",
       "      <th>19</th>\n",
       "      <td>18-29</td>\n",
       "      <td>1</td>\n",
       "      <td>medium</td>\n",
       "      <td>4</td>\n",
       "      <td>0</td>\n",
       "      <td>NaN</td>\n",
       "      <td>NaN</td>\n",
       "      <td>NaN</td>\n",
       "    </tr>\n",
       "    <tr>\n",
       "      <th>20</th>\n",
       "      <td>18-29</td>\n",
       "      <td>1</td>\n",
       "      <td>high</td>\n",
       "      <td>1</td>\n",
       "      <td>2</td>\n",
       "      <td>1.000000</td>\n",
       "      <td>108070.165000</td>\n",
       "      <td>0.000000</td>\n",
       "    </tr>\n",
       "    <tr>\n",
       "      <th>21</th>\n",
       "      <td>18-29</td>\n",
       "      <td>1</td>\n",
       "      <td>high</td>\n",
       "      <td>2</td>\n",
       "      <td>1</td>\n",
       "      <td>1.000000</td>\n",
       "      <td>197297.770000</td>\n",
       "      <td>0.000000</td>\n",
       "    </tr>\n",
       "    <tr>\n",
       "      <th>22</th>\n",
       "      <td>18-29</td>\n",
       "      <td>1</td>\n",
       "      <td>high</td>\n",
       "      <td>3</td>\n",
       "      <td>0</td>\n",
       "      <td>NaN</td>\n",
       "      <td>NaN</td>\n",
       "      <td>NaN</td>\n",
       "    </tr>\n",
       "    <tr>\n",
       "      <th>23</th>\n",
       "      <td>18-29</td>\n",
       "      <td>1</td>\n",
       "      <td>high</td>\n",
       "      <td>4</td>\n",
       "      <td>0</td>\n",
       "      <td>NaN</td>\n",
       "      <td>NaN</td>\n",
       "      <td>NaN</td>\n",
       "    </tr>\n",
       "    <tr>\n",
       "      <th>36</th>\n",
       "      <td>30-39</td>\n",
       "      <td>1</td>\n",
       "      <td>low</td>\n",
       "      <td>1</td>\n",
       "      <td>407</td>\n",
       "      <td>0.149877</td>\n",
       "      <td>99272.270295</td>\n",
       "      <td>84393.625361</td>\n",
       "    </tr>\n",
       "    <tr>\n",
       "      <th>37</th>\n",
       "      <td>30-39</td>\n",
       "      <td>1</td>\n",
       "      <td>low</td>\n",
       "      <td>2</td>\n",
       "      <td>721</td>\n",
       "      <td>0.015257</td>\n",
       "      <td>95415.047795</td>\n",
       "      <td>93959.339715</td>\n",
       "    </tr>\n",
       "    <tr>\n",
       "      <th>38</th>\n",
       "      <td>30-39</td>\n",
       "      <td>1</td>\n",
       "      <td>low</td>\n",
       "      <td>3</td>\n",
       "      <td>16</td>\n",
       "      <td>0.375000</td>\n",
       "      <td>78776.401250</td>\n",
       "      <td>49235.250781</td>\n",
       "    </tr>\n",
       "    <tr>\n",
       "      <th>39</th>\n",
       "      <td>30-39</td>\n",
       "      <td>1</td>\n",
       "      <td>low</td>\n",
       "      <td>4</td>\n",
       "      <td>3</td>\n",
       "      <td>1.000000</td>\n",
       "      <td>139215.500000</td>\n",
       "      <td>0.000000</td>\n",
       "    </tr>\n",
       "    <tr>\n",
       "      <th>40</th>\n",
       "      <td>30-39</td>\n",
       "      <td>1</td>\n",
       "      <td>medium</td>\n",
       "      <td>1</td>\n",
       "      <td>668</td>\n",
       "      <td>0.119760</td>\n",
       "      <td>98911.697186</td>\n",
       "      <td>87065.984948</td>\n",
       "    </tr>\n",
       "    <tr>\n",
       "      <th>41</th>\n",
       "      <td>30-39</td>\n",
       "      <td>1</td>\n",
       "      <td>medium</td>\n",
       "      <td>2</td>\n",
       "      <td>371</td>\n",
       "      <td>0.059299</td>\n",
       "      <td>102951.818706</td>\n",
       "      <td>96846.859106</td>\n",
       "    </tr>\n",
       "    <tr>\n",
       "      <th>42</th>\n",
       "      <td>30-39</td>\n",
       "      <td>1</td>\n",
       "      <td>medium</td>\n",
       "      <td>3</td>\n",
       "      <td>16</td>\n",
       "      <td>0.750000</td>\n",
       "      <td>95463.476250</td>\n",
       "      <td>23865.869063</td>\n",
       "    </tr>\n",
       "    <tr>\n",
       "      <th>43</th>\n",
       "      <td>30-39</td>\n",
       "      <td>1</td>\n",
       "      <td>medium</td>\n",
       "      <td>4</td>\n",
       "      <td>6</td>\n",
       "      <td>1.000000</td>\n",
       "      <td>51653.051667</td>\n",
       "      <td>0.000000</td>\n",
       "    </tr>\n",
       "    <tr>\n",
       "      <th>44</th>\n",
       "      <td>30-39</td>\n",
       "      <td>1</td>\n",
       "      <td>high</td>\n",
       "      <td>1</td>\n",
       "      <td>4</td>\n",
       "      <td>0.250000</td>\n",
       "      <td>94516.255000</td>\n",
       "      <td>70887.191250</td>\n",
       "    </tr>\n",
       "    <tr>\n",
       "      <th>45</th>\n",
       "      <td>30-39</td>\n",
       "      <td>1</td>\n",
       "      <td>high</td>\n",
       "      <td>2</td>\n",
       "      <td>2</td>\n",
       "      <td>0.500000</td>\n",
       "      <td>72880.495000</td>\n",
       "      <td>36440.247500</td>\n",
       "    </tr>\n",
       "    <tr>\n",
       "      <th>46</th>\n",
       "      <td>30-39</td>\n",
       "      <td>1</td>\n",
       "      <td>high</td>\n",
       "      <td>3</td>\n",
       "      <td>1</td>\n",
       "      <td>1.000000</td>\n",
       "      <td>81054.000000</td>\n",
       "      <td>0.000000</td>\n",
       "    </tr>\n",
       "    <tr>\n",
       "      <th>47</th>\n",
       "      <td>30-39</td>\n",
       "      <td>1</td>\n",
       "      <td>high</td>\n",
       "      <td>4</td>\n",
       "      <td>0</td>\n",
       "      <td>NaN</td>\n",
       "      <td>NaN</td>\n",
       "      <td>NaN</td>\n",
       "    </tr>\n",
       "    <tr>\n",
       "      <th>60</th>\n",
       "      <td>40-49</td>\n",
       "      <td>1</td>\n",
       "      <td>low</td>\n",
       "      <td>1</td>\n",
       "      <td>213</td>\n",
       "      <td>0.323944</td>\n",
       "      <td>96941.300704</td>\n",
       "      <td>65537.780758</td>\n",
       "    </tr>\n",
       "    <tr>\n",
       "      <th>61</th>\n",
       "      <td>40-49</td>\n",
       "      <td>1</td>\n",
       "      <td>low</td>\n",
       "      <td>2</td>\n",
       "      <td>324</td>\n",
       "      <td>0.061728</td>\n",
       "      <td>105342.386173</td>\n",
       "      <td>98839.769742</td>\n",
       "    </tr>\n",
       "    <tr>\n",
       "      <th>62</th>\n",
       "      <td>40-49</td>\n",
       "      <td>1</td>\n",
       "      <td>low</td>\n",
       "      <td>3</td>\n",
       "      <td>23</td>\n",
       "      <td>0.913043</td>\n",
       "      <td>122953.725217</td>\n",
       "      <td>10691.628280</td>\n",
       "    </tr>\n",
       "    <tr>\n",
       "      <th>63</th>\n",
       "      <td>40-49</td>\n",
       "      <td>1</td>\n",
       "      <td>low</td>\n",
       "      <td>4</td>\n",
       "      <td>4</td>\n",
       "      <td>1.000000</td>\n",
       "      <td>145803.237500</td>\n",
       "      <td>0.000000</td>\n",
       "    </tr>\n",
       "    <tr>\n",
       "      <th>64</th>\n",
       "      <td>40-49</td>\n",
       "      <td>1</td>\n",
       "      <td>medium</td>\n",
       "      <td>1</td>\n",
       "      <td>336</td>\n",
       "      <td>0.309524</td>\n",
       "      <td>94795.524702</td>\n",
       "      <td>65454.052771</td>\n",
       "    </tr>\n",
       "    <tr>\n",
       "      <th>65</th>\n",
       "      <td>40-49</td>\n",
       "      <td>1</td>\n",
       "      <td>medium</td>\n",
       "      <td>2</td>\n",
       "      <td>167</td>\n",
       "      <td>0.197605</td>\n",
       "      <td>108985.165689</td>\n",
       "      <td>87449.174864</td>\n",
       "    </tr>\n",
       "    <tr>\n",
       "      <th>66</th>\n",
       "      <td>40-49</td>\n",
       "      <td>1</td>\n",
       "      <td>medium</td>\n",
       "      <td>3</td>\n",
       "      <td>17</td>\n",
       "      <td>1.000000</td>\n",
       "      <td>120133.740000</td>\n",
       "      <td>0.000000</td>\n",
       "    </tr>\n",
       "    <tr>\n",
       "      <th>67</th>\n",
       "      <td>40-49</td>\n",
       "      <td>1</td>\n",
       "      <td>medium</td>\n",
       "      <td>4</td>\n",
       "      <td>8</td>\n",
       "      <td>1.000000</td>\n",
       "      <td>124247.988750</td>\n",
       "      <td>0.000000</td>\n",
       "    </tr>\n",
       "    <tr>\n",
       "      <th>68</th>\n",
       "      <td>40-49</td>\n",
       "      <td>1</td>\n",
       "      <td>high</td>\n",
       "      <td>1</td>\n",
       "      <td>2</td>\n",
       "      <td>1.000000</td>\n",
       "      <td>9018.800000</td>\n",
       "      <td>0.000000</td>\n",
       "    </tr>\n",
       "    <tr>\n",
       "      <th>69</th>\n",
       "      <td>40-49</td>\n",
       "      <td>1</td>\n",
       "      <td>high</td>\n",
       "      <td>2</td>\n",
       "      <td>0</td>\n",
       "      <td>NaN</td>\n",
       "      <td>NaN</td>\n",
       "      <td>NaN</td>\n",
       "    </tr>\n",
       "    <tr>\n",
       "      <th>70</th>\n",
       "      <td>40-49</td>\n",
       "      <td>1</td>\n",
       "      <td>high</td>\n",
       "      <td>3</td>\n",
       "      <td>0</td>\n",
       "      <td>NaN</td>\n",
       "      <td>NaN</td>\n",
       "      <td>NaN</td>\n",
       "    </tr>\n",
       "    <tr>\n",
       "      <th>71</th>\n",
       "      <td>40-49</td>\n",
       "      <td>1</td>\n",
       "      <td>high</td>\n",
       "      <td>4</td>\n",
       "      <td>0</td>\n",
       "      <td>NaN</td>\n",
       "      <td>NaN</td>\n",
       "      <td>NaN</td>\n",
       "    </tr>\n",
       "    <tr>\n",
       "      <th>84</th>\n",
       "      <td>50-59</td>\n",
       "      <td>1</td>\n",
       "      <td>low</td>\n",
       "      <td>1</td>\n",
       "      <td>110</td>\n",
       "      <td>0.409091</td>\n",
       "      <td>98582.295545</td>\n",
       "      <td>58253.174640</td>\n",
       "    </tr>\n",
       "    <tr>\n",
       "      <th>85</th>\n",
       "      <td>50-59</td>\n",
       "      <td>1</td>\n",
       "      <td>low</td>\n",
       "      <td>2</td>\n",
       "      <td>120</td>\n",
       "      <td>0.091667</td>\n",
       "      <td>91051.291250</td>\n",
       "      <td>82704.922885</td>\n",
       "    </tr>\n",
       "    <tr>\n",
       "      <th>86</th>\n",
       "      <td>50-59</td>\n",
       "      <td>1</td>\n",
       "      <td>low</td>\n",
       "      <td>3</td>\n",
       "      <td>11</td>\n",
       "      <td>0.909091</td>\n",
       "      <td>92973.410000</td>\n",
       "      <td>8452.128182</td>\n",
       "    </tr>\n",
       "    <tr>\n",
       "      <th>87</th>\n",
       "      <td>50-59</td>\n",
       "      <td>1</td>\n",
       "      <td>low</td>\n",
       "      <td>4</td>\n",
       "      <td>3</td>\n",
       "      <td>1.000000</td>\n",
       "      <td>58753.900000</td>\n",
       "      <td>0.000000</td>\n",
       "    </tr>\n",
       "    <tr>\n",
       "      <th>88</th>\n",
       "      <td>50-59</td>\n",
       "      <td>1</td>\n",
       "      <td>medium</td>\n",
       "      <td>1</td>\n",
       "      <td>151</td>\n",
       "      <td>0.410596</td>\n",
       "      <td>96058.785762</td>\n",
       "      <td>56617.430018</td>\n",
       "    </tr>\n",
       "    <tr>\n",
       "      <th>89</th>\n",
       "      <td>50-59</td>\n",
       "      <td>1</td>\n",
       "      <td>medium</td>\n",
       "      <td>2</td>\n",
       "      <td>52</td>\n",
       "      <td>0.288462</td>\n",
       "      <td>103065.242885</td>\n",
       "      <td>73334.884360</td>\n",
       "    </tr>\n",
       "    <tr>\n",
       "      <th>90</th>\n",
       "      <td>50-59</td>\n",
       "      <td>1</td>\n",
       "      <td>medium</td>\n",
       "      <td>3</td>\n",
       "      <td>8</td>\n",
       "      <td>1.000000</td>\n",
       "      <td>133866.567500</td>\n",
       "      <td>0.000000</td>\n",
       "    </tr>\n",
       "    <tr>\n",
       "      <th>91</th>\n",
       "      <td>50-59</td>\n",
       "      <td>1</td>\n",
       "      <td>medium</td>\n",
       "      <td>4</td>\n",
       "      <td>3</td>\n",
       "      <td>1.000000</td>\n",
       "      <td>104128.100000</td>\n",
       "      <td>0.000000</td>\n",
       "    </tr>\n",
       "    <tr>\n",
       "      <th>92</th>\n",
       "      <td>50-59</td>\n",
       "      <td>1</td>\n",
       "      <td>high</td>\n",
       "      <td>1</td>\n",
       "      <td>2</td>\n",
       "      <td>1.000000</td>\n",
       "      <td>111070.850000</td>\n",
       "      <td>0.000000</td>\n",
       "    </tr>\n",
       "    <tr>\n",
       "      <th>93</th>\n",
       "      <td>50-59</td>\n",
       "      <td>1</td>\n",
       "      <td>high</td>\n",
       "      <td>2</td>\n",
       "      <td>1</td>\n",
       "      <td>1.000000</td>\n",
       "      <td>150694.420000</td>\n",
       "      <td>0.000000</td>\n",
       "    </tr>\n",
       "    <tr>\n",
       "      <th>94</th>\n",
       "      <td>50-59</td>\n",
       "      <td>1</td>\n",
       "      <td>high</td>\n",
       "      <td>3</td>\n",
       "      <td>0</td>\n",
       "      <td>NaN</td>\n",
       "      <td>NaN</td>\n",
       "      <td>NaN</td>\n",
       "    </tr>\n",
       "    <tr>\n",
       "      <th>95</th>\n",
       "      <td>50-59</td>\n",
       "      <td>1</td>\n",
       "      <td>high</td>\n",
       "      <td>4</td>\n",
       "      <td>0</td>\n",
       "      <td>NaN</td>\n",
       "      <td>NaN</td>\n",
       "      <td>NaN</td>\n",
       "    </tr>\n",
       "    <tr>\n",
       "      <th>108</th>\n",
       "      <td>60+</td>\n",
       "      <td>1</td>\n",
       "      <td>low</td>\n",
       "      <td>1</td>\n",
       "      <td>76</td>\n",
       "      <td>0.118421</td>\n",
       "      <td>93560.691842</td>\n",
       "      <td>82481.136229</td>\n",
       "    </tr>\n",
       "    <tr>\n",
       "      <th>109</th>\n",
       "      <td>60+</td>\n",
       "      <td>1</td>\n",
       "      <td>low</td>\n",
       "      <td>2</td>\n",
       "      <td>119</td>\n",
       "      <td>0.025210</td>\n",
       "      <td>97020.312269</td>\n",
       "      <td>94574.422044</td>\n",
       "    </tr>\n",
       "    <tr>\n",
       "      <th>110</th>\n",
       "      <td>60+</td>\n",
       "      <td>1</td>\n",
       "      <td>low</td>\n",
       "      <td>3</td>\n",
       "      <td>5</td>\n",
       "      <td>0.200000</td>\n",
       "      <td>88443.370000</td>\n",
       "      <td>70754.696000</td>\n",
       "    </tr>\n",
       "    <tr>\n",
       "      <th>111</th>\n",
       "      <td>60+</td>\n",
       "      <td>1</td>\n",
       "      <td>low</td>\n",
       "      <td>4</td>\n",
       "      <td>1</td>\n",
       "      <td>1.000000</td>\n",
       "      <td>176353.870000</td>\n",
       "      <td>0.000000</td>\n",
       "    </tr>\n",
       "    <tr>\n",
       "      <th>112</th>\n",
       "      <td>60+</td>\n",
       "      <td>1</td>\n",
       "      <td>medium</td>\n",
       "      <td>1</td>\n",
       "      <td>117</td>\n",
       "      <td>0.162393</td>\n",
       "      <td>92723.512906</td>\n",
       "      <td>77665.848417</td>\n",
       "    </tr>\n",
       "    <tr>\n",
       "      <th>113</th>\n",
       "      <td>60+</td>\n",
       "      <td>1</td>\n",
       "      <td>medium</td>\n",
       "      <td>2</td>\n",
       "      <td>54</td>\n",
       "      <td>0.111111</td>\n",
       "      <td>110926.374259</td>\n",
       "      <td>98601.221564</td>\n",
       "    </tr>\n",
       "    <tr>\n",
       "      <th>114</th>\n",
       "      <td>60+</td>\n",
       "      <td>1</td>\n",
       "      <td>medium</td>\n",
       "      <td>3</td>\n",
       "      <td>2</td>\n",
       "      <td>1.000000</td>\n",
       "      <td>45970.285000</td>\n",
       "      <td>0.000000</td>\n",
       "    </tr>\n",
       "    <tr>\n",
       "      <th>115</th>\n",
       "      <td>60+</td>\n",
       "      <td>1</td>\n",
       "      <td>medium</td>\n",
       "      <td>4</td>\n",
       "      <td>1</td>\n",
       "      <td>1.000000</td>\n",
       "      <td>66238.230000</td>\n",
       "      <td>0.000000</td>\n",
       "    </tr>\n",
       "    <tr>\n",
       "      <th>116</th>\n",
       "      <td>60+</td>\n",
       "      <td>1</td>\n",
       "      <td>high</td>\n",
       "      <td>1</td>\n",
       "      <td>0</td>\n",
       "      <td>NaN</td>\n",
       "      <td>NaN</td>\n",
       "      <td>NaN</td>\n",
       "    </tr>\n",
       "    <tr>\n",
       "      <th>117</th>\n",
       "      <td>60+</td>\n",
       "      <td>1</td>\n",
       "      <td>high</td>\n",
       "      <td>2</td>\n",
       "      <td>0</td>\n",
       "      <td>NaN</td>\n",
       "      <td>NaN</td>\n",
       "      <td>NaN</td>\n",
       "    </tr>\n",
       "    <tr>\n",
       "      <th>118</th>\n",
       "      <td>60+</td>\n",
       "      <td>1</td>\n",
       "      <td>high</td>\n",
       "      <td>3</td>\n",
       "      <td>0</td>\n",
       "      <td>NaN</td>\n",
       "      <td>NaN</td>\n",
       "      <td>NaN</td>\n",
       "    </tr>\n",
       "    <tr>\n",
       "      <th>119</th>\n",
       "      <td>60+</td>\n",
       "      <td>1</td>\n",
       "      <td>high</td>\n",
       "      <td>4</td>\n",
       "      <td>0</td>\n",
       "      <td>NaN</td>\n",
       "      <td>NaN</td>\n",
       "      <td>NaN</td>\n",
       "    </tr>\n",
       "  </tbody>\n",
       "</table>\n",
       "</div>"
      ],
      "text/plain": [
       "    age_group  loyalty balance_group  products  segment_size  churn_rate  \\\n",
       "12      18-29        1           low         1           177    0.045198   \n",
       "13      18-29        1           low         2           366    0.019126   \n",
       "14      18-29        1           low         3             9    0.333333   \n",
       "15      18-29        1           low         4             0         NaN   \n",
       "16      18-29        1        medium         1           298    0.070470   \n",
       "17      18-29        1        medium         2           148    0.033784   \n",
       "18      18-29        1        medium         3             5    0.800000   \n",
       "19      18-29        1        medium         4             0         NaN   \n",
       "20      18-29        1          high         1             2    1.000000   \n",
       "21      18-29        1          high         2             1    1.000000   \n",
       "22      18-29        1          high         3             0         NaN   \n",
       "23      18-29        1          high         4             0         NaN   \n",
       "36      30-39        1           low         1           407    0.149877   \n",
       "37      30-39        1           low         2           721    0.015257   \n",
       "38      30-39        1           low         3            16    0.375000   \n",
       "39      30-39        1           low         4             3    1.000000   \n",
       "40      30-39        1        medium         1           668    0.119760   \n",
       "41      30-39        1        medium         2           371    0.059299   \n",
       "42      30-39        1        medium         3            16    0.750000   \n",
       "43      30-39        1        medium         4             6    1.000000   \n",
       "44      30-39        1          high         1             4    0.250000   \n",
       "45      30-39        1          high         2             2    0.500000   \n",
       "46      30-39        1          high         3             1    1.000000   \n",
       "47      30-39        1          high         4             0         NaN   \n",
       "60      40-49        1           low         1           213    0.323944   \n",
       "61      40-49        1           low         2           324    0.061728   \n",
       "62      40-49        1           low         3            23    0.913043   \n",
       "63      40-49        1           low         4             4    1.000000   \n",
       "64      40-49        1        medium         1           336    0.309524   \n",
       "65      40-49        1        medium         2           167    0.197605   \n",
       "66      40-49        1        medium         3            17    1.000000   \n",
       "67      40-49        1        medium         4             8    1.000000   \n",
       "68      40-49        1          high         1             2    1.000000   \n",
       "69      40-49        1          high         2             0         NaN   \n",
       "70      40-49        1          high         3             0         NaN   \n",
       "71      40-49        1          high         4             0         NaN   \n",
       "84      50-59        1           low         1           110    0.409091   \n",
       "85      50-59        1           low         2           120    0.091667   \n",
       "86      50-59        1           low         3            11    0.909091   \n",
       "87      50-59        1           low         4             3    1.000000   \n",
       "88      50-59        1        medium         1           151    0.410596   \n",
       "89      50-59        1        medium         2            52    0.288462   \n",
       "90      50-59        1        medium         3             8    1.000000   \n",
       "91      50-59        1        medium         4             3    1.000000   \n",
       "92      50-59        1          high         1             2    1.000000   \n",
       "93      50-59        1          high         2             1    1.000000   \n",
       "94      50-59        1          high         3             0         NaN   \n",
       "95      50-59        1          high         4             0         NaN   \n",
       "108       60+        1           low         1            76    0.118421   \n",
       "109       60+        1           low         2           119    0.025210   \n",
       "110       60+        1           low         3             5    0.200000   \n",
       "111       60+        1           low         4             1    1.000000   \n",
       "112       60+        1        medium         1           117    0.162393   \n",
       "113       60+        1        medium         2            54    0.111111   \n",
       "114       60+        1        medium         3             2    1.000000   \n",
       "115       60+        1        medium         4             1    1.000000   \n",
       "116       60+        1          high         1             0         NaN   \n",
       "117       60+        1          high         2             0         NaN   \n",
       "118       60+        1          high         3             0         NaN   \n",
       "119       60+        1          high         4             0         NaN   \n",
       "\n",
       "        avg_salary  segment_value  \n",
       "12   101534.630395   96945.494558  \n",
       "13   101869.934454   99921.602374  \n",
       "14    99066.864444   66044.576296  \n",
       "15             NaN            NaN  \n",
       "16   102155.182651   94956.327498  \n",
       "17   100168.970473   96784.883633  \n",
       "18   141935.750000   28387.150000  \n",
       "19             NaN            NaN  \n",
       "20   108070.165000       0.000000  \n",
       "21   197297.770000       0.000000  \n",
       "22             NaN            NaN  \n",
       "23             NaN            NaN  \n",
       "36    99272.270295   84393.625361  \n",
       "37    95415.047795   93959.339715  \n",
       "38    78776.401250   49235.250781  \n",
       "39   139215.500000       0.000000  \n",
       "40    98911.697186   87065.984948  \n",
       "41   102951.818706   96846.859106  \n",
       "42    95463.476250   23865.869063  \n",
       "43    51653.051667       0.000000  \n",
       "44    94516.255000   70887.191250  \n",
       "45    72880.495000   36440.247500  \n",
       "46    81054.000000       0.000000  \n",
       "47             NaN            NaN  \n",
       "60    96941.300704   65537.780758  \n",
       "61   105342.386173   98839.769742  \n",
       "62   122953.725217   10691.628280  \n",
       "63   145803.237500       0.000000  \n",
       "64    94795.524702   65454.052771  \n",
       "65   108985.165689   87449.174864  \n",
       "66   120133.740000       0.000000  \n",
       "67   124247.988750       0.000000  \n",
       "68     9018.800000       0.000000  \n",
       "69             NaN            NaN  \n",
       "70             NaN            NaN  \n",
       "71             NaN            NaN  \n",
       "84    98582.295545   58253.174640  \n",
       "85    91051.291250   82704.922885  \n",
       "86    92973.410000    8452.128182  \n",
       "87    58753.900000       0.000000  \n",
       "88    96058.785762   56617.430018  \n",
       "89   103065.242885   73334.884360  \n",
       "90   133866.567500       0.000000  \n",
       "91   104128.100000       0.000000  \n",
       "92   111070.850000       0.000000  \n",
       "93   150694.420000       0.000000  \n",
       "94             NaN            NaN  \n",
       "95             NaN            NaN  \n",
       "108   93560.691842   82481.136229  \n",
       "109   97020.312269   94574.422044  \n",
       "110   88443.370000   70754.696000  \n",
       "111  176353.870000       0.000000  \n",
       "112   92723.512906   77665.848417  \n",
       "113  110926.374259   98601.221564  \n",
       "114   45970.285000       0.000000  \n",
       "115   66238.230000       0.000000  \n",
       "116            NaN            NaN  \n",
       "117            NaN            NaN  \n",
       "118            NaN            NaN  \n",
       "119            NaN            NaN  "
      ]
     },
     "execution_count": 20,
     "metadata": {},
     "output_type": "execute_result"
    }
   ],
   "source": [
    "# Добавляем столбцы для групп возраста и баланса\n",
    "df['age_group'] = pd.cut(df['age'], bins=[0, 30, 40, 50, 60, np.inf], labels=['18-29', '30-39', '40-49', '50-59', '60+'])\n",
    "df['balance_group'] = pd.cut(df['balance'].fillna(0), bins=[-np.inf, 100000, 200000, np.inf], labels=['low', 'medium', 'high'])\n",
    "\n",
    "# Группируем по возрастной группе, лояльности, группе баланса и количеству продуктов\n",
    "segmented_df = df.groupby(['age_group', 'loyalty', 'balance_group', 'products']).agg({\n",
    "    'user_id': 'count',\n",
    "    'churn': 'mean',\n",
    "    'estimated_salary': 'mean'\n",
    "}).reset_index()\n",
    "\n",
    "# Переименовываем столбцы для ясности\n",
    "segmented_df.rename(columns={\n",
    "    'user_id': 'segment_size',\n",
    "    'churn': 'churn_rate',\n",
    "    'estimated_salary': 'avg_salary'\n",
    "}, inplace=True)\n",
    "\n",
    "# Вычисляем среднюю ценность клиента в сегменте как среднюю заработную плату, умноженную на (1 - уровень оттока)\n",
    "segmented_df['segment_value'] = segmented_df['avg_salary'] * (1 - segmented_df['churn_rate'])\n",
    "\n",
    "# Фильтруем по лояльным клиентам\n",
    "loyal_customer_segments = segmented_df[segmented_df['loyalty'] == 1]\n",
    "\n",
    "loyal_customer_segments\n"
   ]
  },
  {
   "cell_type": "markdown",
   "metadata": {},
   "source": [
    "**Вывод:**\n",
    "\n",
    "Мы хотим сфокусироваться на больших, высокоценных сегментах с низким уровнем оттока. Вот какие сегменты удалось выделить из данных:\n",
    "\n",
    "\n",
    "- Сегмент \"18-29\", средний баланс, 2 продукта: Размер этого сегмента 148, а его средняя ценность высока - 96,784. Это относительно молодые люди, использующие два наших продукта, и у них средний баланс, что указывает на умеренный уровень финансовых возможностей.\n",
    "\n",
    "\n",
    "- Сегмент \"30-39\", низкий баланс, 2 продукта: Сегмент составляет 721 человек с средней ценностью в 93,959. Это молодые профессионалы, которые могут быть в начале своей карьеры или в процессе перехода к более высокооплачиваемой работе.\n",
    "\n",
    "\n",
    "- Сегмент \"40-49\", низкий баланс, 2 продукта: Этот сегмент имеет размер 324 и среднюю ценность в 98,839. Это более взрослые профессионалы, которые могут иметь больший доход и лояльность к банку.\n",
    "\n",
    "\n",
    "- Сегмент \"18-29\", низкий баланс, 2 продукта: Размер сегмента составляет 366 с средней ценностью 99,921. Это молодые клиенты, которые активно используют два наших продукта.\n",
    "\n",
    "\n",
    "- Сегмент \"60+\", низкий баланс, 2 продукта: Сегмент состоит из 119 человек, средняя ценность 94,574. Это старшие клиенты, которые могут иметь устойчивый доход от пенсий или сбережений."
   ]
  },
  {
   "cell_type": "markdown",
   "metadata": {},
   "source": [
    "### Практические рекомендации по привлечению клиентов из выделенных сегментов"
   ]
  },
  {
   "cell_type": "markdown",
   "metadata": {},
   "source": [
    "Вот некоторые практические рекомендации для привлечения клиентов из этих сегментов:\n",
    "\n",
    "- Сегмент \"18-29\", средний баланс, 2 продукта:\n",
    "    - Ориентироваться на молодых людей через социальные медиа и онлайн-рекламу, подчеркивая преимущества использования двух наших продуктов. Можно предложить специальные скидки или бонусы для молодых клиентов, которые привлекают второй продукт.\n",
    "\n",
    "\n",
    "- Сегмент \"30-39\", низкий баланс, 2 продукта:\n",
    "    - Для более взрослых профессионалов, акцентировать внимание на преимуществах наших продуктов для их конкретных потребностей, таких как семья, образование детей или планирование пенсии. Предложить индивидуализированные консультации или вебинары по финансовому планированию может быть привлекательным.\n",
    "\n",
    "\n",
    "- Сегмент \"40-49\", низкий баланс, 2 продукта: \n",
    "    - Для старших клиентов удобство и доступность являются ключевыми. Обеспечьте, чтобы наши продукты были легко доступны и понятны, предложите помощь в использовании цифровых каналов или возможность обслуживания на дому.\n",
    "\n",
    "\n",
    "- Сегмент \"18-29\", низкий баланс, 2 продукта:\n",
    "    - Всегда старайтесь минимизировать отток, улучшая уровень обслуживания клиентов и решая проблемы быстро и эффективно. Регулярно собирайте обратную связь от клиентов, чтобы понять их потребности и проблемы.\n",
    "\n",
    "\n",
    "- Сегмент \"60+\", низкий баланс, 2 продукта: \n",
    "    - Проведите кампании по удержанию для клиентов с высоким риском оттока, предлагая им персонализированные предложения или бонусы за их лояльность.\n",
    "\n",
    "\n",
    "\n",
    "\n"
   ]
  }
 ],
 "metadata": {
  "ExecuteTimeLog": [
   {
    "duration": 1713,
    "start_time": "2023-06-08T13:33:08.888Z"
   },
   {
    "duration": 1380,
    "start_time": "2023-06-08T13:33:27.187Z"
   },
   {
    "duration": 27,
    "start_time": "2023-06-08T13:33:31.456Z"
   },
   {
    "duration": 1995,
    "start_time": "2023-06-08T13:35:43.330Z"
   },
   {
    "duration": 20,
    "start_time": "2023-06-08T13:35:46.599Z"
   },
   {
    "duration": 6,
    "start_time": "2023-06-08T17:32:59.003Z"
   },
   {
    "duration": 7,
    "start_time": "2023-06-08T17:36:00.751Z"
   },
   {
    "duration": 46,
    "start_time": "2023-06-10T11:37:20.829Z"
   },
   {
    "duration": 1458,
    "start_time": "2023-06-10T11:37:29.338Z"
   },
   {
    "duration": 1570,
    "start_time": "2023-06-10T11:37:30.798Z"
   },
   {
    "duration": 13,
    "start_time": "2023-06-10T11:37:32.369Z"
   },
   {
    "duration": 2099,
    "start_time": "2023-06-10T11:37:37.473Z"
   },
   {
    "duration": 1411,
    "start_time": "2023-06-10T11:38:07.921Z"
   },
   {
    "duration": 1361,
    "start_time": "2023-06-10T11:38:09.334Z"
   },
   {
    "duration": 57,
    "start_time": "2023-06-10T11:38:10.696Z"
   },
   {
    "duration": 102,
    "start_time": "2023-06-10T11:42:18.781Z"
   },
   {
    "duration": 11,
    "start_time": "2023-06-10T11:42:21.801Z"
   },
   {
    "duration": 119,
    "start_time": "2023-06-10T11:42:23.910Z"
   },
   {
    "duration": 15,
    "start_time": "2023-06-10T11:42:31.917Z"
   },
   {
    "duration": 44,
    "start_time": "2023-06-10T11:44:29.647Z"
   },
   {
    "duration": 43,
    "start_time": "2023-06-10T11:44:40.241Z"
   },
   {
    "duration": 45,
    "start_time": "2023-06-10T11:44:44.585Z"
   },
   {
    "duration": 43,
    "start_time": "2023-06-10T11:44:53.913Z"
   },
   {
    "duration": 62,
    "start_time": "2023-06-10T11:45:01.417Z"
   },
   {
    "duration": 48,
    "start_time": "2023-06-10T11:45:14.553Z"
   },
   {
    "duration": 3,
    "start_time": "2023-06-10T11:50:50.325Z"
   },
   {
    "duration": 66,
    "start_time": "2023-06-10T11:51:02.130Z"
   },
   {
    "duration": 63,
    "start_time": "2023-06-10T11:51:05.568Z"
   },
   {
    "duration": 4,
    "start_time": "2023-06-10T11:51:19.865Z"
   },
   {
    "duration": 51,
    "start_time": "2023-06-10T11:51:27.606Z"
   },
   {
    "duration": 107,
    "start_time": "2023-06-10T11:52:20.331Z"
   },
   {
    "duration": 53,
    "start_time": "2023-06-10T11:52:39.376Z"
   },
   {
    "duration": 53,
    "start_time": "2023-06-10T11:55:19.734Z"
   },
   {
    "duration": 1512,
    "start_time": "2023-06-10T11:57:09.796Z"
   },
   {
    "duration": 2449,
    "start_time": "2023-06-10T11:58:41.407Z"
   },
   {
    "duration": 58,
    "start_time": "2023-06-10T12:09:19.016Z"
   },
   {
    "duration": 64,
    "start_time": "2023-06-10T12:09:26.903Z"
   },
   {
    "duration": 73,
    "start_time": "2023-06-10T12:12:17.647Z"
   },
   {
    "duration": 32,
    "start_time": "2023-06-10T12:20:04.124Z"
   },
   {
    "duration": 78,
    "start_time": "2023-06-10T12:20:14.136Z"
   },
   {
    "duration": 72,
    "start_time": "2023-06-10T13:01:13.534Z"
   },
   {
    "duration": 1435,
    "start_time": "2023-06-10T13:07:26.749Z"
   },
   {
    "duration": 17,
    "start_time": "2023-06-10T13:08:33.515Z"
   },
   {
    "duration": 5,
    "start_time": "2023-06-10T13:08:50.727Z"
   },
   {
    "duration": 8,
    "start_time": "2023-06-10T13:08:55.354Z"
   },
   {
    "duration": 2215,
    "start_time": "2023-06-10T13:21:02.185Z"
   },
   {
    "duration": 1216,
    "start_time": "2023-06-10T13:21:41.877Z"
   },
   {
    "duration": 1564,
    "start_time": "2023-06-10T13:21:43.095Z"
   },
   {
    "duration": 93,
    "start_time": "2023-06-10T13:21:44.661Z"
   },
   {
    "duration": 2524,
    "start_time": "2023-06-10T13:21:44.756Z"
   },
   {
    "duration": 0,
    "start_time": "2023-06-10T13:21:47.283Z"
   },
   {
    "duration": 5,
    "start_time": "2023-06-10T13:22:47.315Z"
   },
   {
    "duration": 72,
    "start_time": "2023-06-10T13:22:47.735Z"
   },
   {
    "duration": 2262,
    "start_time": "2023-06-10T13:22:48.654Z"
   },
   {
    "duration": 0,
    "start_time": "2023-06-10T13:22:50.918Z"
   },
   {
    "duration": 1320,
    "start_time": "2023-06-10T13:23:30.719Z"
   },
   {
    "duration": 1524,
    "start_time": "2023-06-10T13:23:32.041Z"
   },
   {
    "duration": 5,
    "start_time": "2023-06-10T13:23:33.567Z"
   },
   {
    "duration": 91,
    "start_time": "2023-06-10T13:23:33.573Z"
   },
   {
    "duration": 2240,
    "start_time": "2023-06-10T13:23:33.666Z"
   },
   {
    "duration": 0,
    "start_time": "2023-06-10T13:23:35.907Z"
   },
   {
    "duration": 4,
    "start_time": "2023-06-10T13:24:06.324Z"
   },
   {
    "duration": 70,
    "start_time": "2023-06-10T13:24:06.717Z"
   },
   {
    "duration": 2507,
    "start_time": "2023-06-10T13:24:07.470Z"
   },
   {
    "duration": 0,
    "start_time": "2023-06-10T13:24:09.979Z"
   },
   {
    "duration": 5,
    "start_time": "2023-06-10T13:24:19.127Z"
   },
   {
    "duration": 68,
    "start_time": "2023-06-10T13:24:19.420Z"
   },
   {
    "duration": 5,
    "start_time": "2023-06-10T13:24:29.443Z"
   },
   {
    "duration": 68,
    "start_time": "2023-06-10T13:24:29.620Z"
   },
   {
    "duration": 1991,
    "start_time": "2023-06-10T13:24:30.212Z"
   },
   {
    "duration": 9,
    "start_time": "2023-06-10T13:24:32.206Z"
   },
   {
    "duration": 1937,
    "start_time": "2023-06-10T13:25:15.932Z"
   },
   {
    "duration": 9,
    "start_time": "2023-06-10T13:43:06.600Z"
   },
   {
    "duration": 9,
    "start_time": "2023-06-10T13:43:24.500Z"
   },
   {
    "duration": 9,
    "start_time": "2023-06-10T13:43:33.506Z"
   },
   {
    "duration": 11,
    "start_time": "2023-06-10T13:44:03.076Z"
   },
   {
    "duration": 9,
    "start_time": "2023-06-10T13:44:14.993Z"
   },
   {
    "duration": 9,
    "start_time": "2023-06-10T13:44:23.021Z"
   },
   {
    "duration": 9,
    "start_time": "2023-06-10T13:44:30.920Z"
   },
   {
    "duration": 1852,
    "start_time": "2023-06-10T13:46:00.124Z"
   },
   {
    "duration": 9,
    "start_time": "2023-06-10T13:46:01.978Z"
   },
   {
    "duration": 2008,
    "start_time": "2023-06-10T14:03:11.138Z"
   },
   {
    "duration": 12,
    "start_time": "2023-06-10T14:06:51.574Z"
   },
   {
    "duration": 812,
    "start_time": "2023-06-10T14:07:01.909Z"
   },
   {
    "duration": 12,
    "start_time": "2023-06-10T14:10:54.396Z"
   },
   {
    "duration": 14,
    "start_time": "2023-06-10T14:11:23.059Z"
   },
   {
    "duration": 2094,
    "start_time": "2023-06-10T14:15:29.150Z"
   },
   {
    "duration": 20,
    "start_time": "2023-06-10T14:15:40.665Z"
   },
   {
    "duration": 14,
    "start_time": "2023-06-10T14:15:49.528Z"
   },
   {
    "duration": 6,
    "start_time": "2023-06-10T14:31:15.512Z"
   },
   {
    "duration": 20,
    "start_time": "2023-06-10T14:31:38.904Z"
   },
   {
    "duration": 1235,
    "start_time": "2023-06-10T14:33:05.929Z"
   },
   {
    "duration": 1636,
    "start_time": "2023-06-10T14:33:07.166Z"
   },
   {
    "duration": 5,
    "start_time": "2023-06-10T14:33:08.803Z"
   },
   {
    "duration": 76,
    "start_time": "2023-06-10T14:33:08.810Z"
   },
   {
    "duration": 1784,
    "start_time": "2023-06-10T14:33:08.888Z"
   },
   {
    "duration": 14,
    "start_time": "2023-06-10T14:33:10.673Z"
   },
   {
    "duration": 20,
    "start_time": "2023-06-10T14:33:10.689Z"
   },
   {
    "duration": 19,
    "start_time": "2023-06-10T14:35:03.620Z"
   },
   {
    "duration": 23,
    "start_time": "2023-06-10T14:35:16.564Z"
   },
   {
    "duration": 1218,
    "start_time": "2023-06-10T14:35:49.749Z"
   },
   {
    "duration": 1440,
    "start_time": "2023-06-10T14:35:50.970Z"
   },
   {
    "duration": 6,
    "start_time": "2023-06-10T14:35:52.412Z"
   },
   {
    "duration": 81,
    "start_time": "2023-06-10T14:35:52.419Z"
   },
   {
    "duration": 1809,
    "start_time": "2023-06-10T14:35:52.502Z"
   },
   {
    "duration": 15,
    "start_time": "2023-06-10T14:35:54.313Z"
   },
   {
    "duration": 19,
    "start_time": "2023-06-10T14:35:54.342Z"
   },
   {
    "duration": 20,
    "start_time": "2023-06-10T14:35:54.363Z"
   },
   {
    "duration": 747,
    "start_time": "2023-06-10T14:38:51.807Z"
   },
   {
    "duration": 1377,
    "start_time": "2023-06-10T14:42:30.263Z"
   },
   {
    "duration": 1162,
    "start_time": "2023-06-10T14:42:57.996Z"
   },
   {
    "duration": 1020,
    "start_time": "2023-06-10T14:43:15.294Z"
   },
   {
    "duration": 1158,
    "start_time": "2023-06-10T14:44:35.001Z"
   },
   {
    "duration": 1583,
    "start_time": "2023-06-10T14:46:24.553Z"
   },
   {
    "duration": 1850,
    "start_time": "2023-06-10T14:46:58.046Z"
   },
   {
    "duration": 3190,
    "start_time": "2023-06-10T14:50:47.273Z"
   },
   {
    "duration": 1771,
    "start_time": "2023-06-10T14:52:28.802Z"
   },
   {
    "duration": 3446,
    "start_time": "2023-06-10T14:53:46.175Z"
   },
   {
    "duration": 26,
    "start_time": "2023-06-10T14:57:06.474Z"
   },
   {
    "duration": 13,
    "start_time": "2023-06-10T15:31:13.645Z"
   },
   {
    "duration": 3614,
    "start_time": "2023-06-10T15:42:22.671Z"
   },
   {
    "duration": 3476,
    "start_time": "2023-06-10T15:45:40.984Z"
   },
   {
    "duration": 3600,
    "start_time": "2023-06-10T15:46:25.784Z"
   },
   {
    "duration": 3716,
    "start_time": "2023-06-10T15:50:56.929Z"
   },
   {
    "duration": 28,
    "start_time": "2023-06-10T15:51:28.882Z"
   },
   {
    "duration": 3554,
    "start_time": "2023-06-10T16:00:40.849Z"
   },
   {
    "duration": 4005,
    "start_time": "2023-06-10T16:44:36.711Z"
   },
   {
    "duration": 5004,
    "start_time": "2023-06-10T16:45:29.097Z"
   },
   {
    "duration": 40,
    "start_time": "2023-06-10T16:46:00.435Z"
   },
   {
    "duration": 7277,
    "start_time": "2023-06-10T16:52:17.503Z"
   },
   {
    "duration": 23,
    "start_time": "2023-06-10T16:53:07.095Z"
   },
   {
    "duration": 22,
    "start_time": "2023-06-10T16:53:33.809Z"
   },
   {
    "duration": 4559,
    "start_time": "2023-06-10T17:09:13.632Z"
   },
   {
    "duration": 172,
    "start_time": "2023-06-10T17:20:30.363Z"
   },
   {
    "duration": 76,
    "start_time": "2023-06-10T17:32:21.105Z"
   },
   {
    "duration": 298,
    "start_time": "2023-06-10T17:32:26.417Z"
   },
   {
    "duration": 54,
    "start_time": "2023-06-10T17:32:32.306Z"
   },
   {
    "duration": 1208,
    "start_time": "2023-06-10T17:33:40.090Z"
   },
   {
    "duration": 1257,
    "start_time": "2023-06-10T19:49:23.345Z"
   },
   {
    "duration": 0,
    "start_time": "2023-06-10T19:49:24.604Z"
   },
   {
    "duration": 0,
    "start_time": "2023-06-10T19:49:24.605Z"
   },
   {
    "duration": 0,
    "start_time": "2023-06-10T19:49:24.606Z"
   },
   {
    "duration": 0,
    "start_time": "2023-06-10T19:49:24.607Z"
   },
   {
    "duration": 0,
    "start_time": "2023-06-10T19:49:24.608Z"
   },
   {
    "duration": 0,
    "start_time": "2023-06-10T19:49:24.609Z"
   },
   {
    "duration": 0,
    "start_time": "2023-06-10T19:49:24.610Z"
   },
   {
    "duration": 0,
    "start_time": "2023-06-10T19:49:24.612Z"
   },
   {
    "duration": 0,
    "start_time": "2023-06-10T19:49:24.613Z"
   },
   {
    "duration": 21,
    "start_time": "2023-06-10T19:51:20.891Z"
   },
   {
    "duration": 0,
    "start_time": "2023-06-10T19:52:54.055Z"
   },
   {
    "duration": 0,
    "start_time": "2023-06-10T19:52:54.056Z"
   },
   {
    "duration": 0,
    "start_time": "2023-06-10T19:52:54.057Z"
   },
   {
    "duration": 0,
    "start_time": "2023-06-10T19:52:54.058Z"
   },
   {
    "duration": 0,
    "start_time": "2023-06-10T19:52:54.059Z"
   },
   {
    "duration": 0,
    "start_time": "2023-06-10T19:52:54.060Z"
   },
   {
    "duration": 0,
    "start_time": "2023-06-10T19:52:54.086Z"
   },
   {
    "duration": 0,
    "start_time": "2023-06-10T19:52:54.088Z"
   },
   {
    "duration": 0,
    "start_time": "2023-06-10T19:52:54.089Z"
   },
   {
    "duration": 0,
    "start_time": "2023-06-10T19:52:54.090Z"
   },
   {
    "duration": 0,
    "start_time": "2023-06-10T19:52:54.091Z"
   },
   {
    "duration": 1822,
    "start_time": "2023-06-10T19:53:02.153Z"
   },
   {
    "duration": 6,
    "start_time": "2023-06-10T19:53:04.860Z"
   },
   {
    "duration": 84,
    "start_time": "2023-06-10T19:53:05.022Z"
   },
   {
    "duration": 24,
    "start_time": "2023-06-10T19:53:05.678Z"
   },
   {
    "duration": 18,
    "start_time": "2023-06-10T19:53:05.999Z"
   },
   {
    "duration": 18,
    "start_time": "2023-06-10T19:53:06.714Z"
   },
   {
    "duration": 27,
    "start_time": "2023-06-10T19:53:07.029Z"
   },
   {
    "duration": 14,
    "start_time": "2023-06-10T19:53:07.534Z"
   },
   {
    "duration": 686,
    "start_time": "2023-06-10T19:53:07.899Z"
   },
   {
    "duration": 15,
    "start_time": "2023-06-10T19:53:19.399Z"
   },
   {
    "duration": 16,
    "start_time": "2023-06-10T19:53:45.581Z"
   },
   {
    "duration": 14,
    "start_time": "2023-06-10T19:53:52.254Z"
   },
   {
    "duration": 12,
    "start_time": "2023-06-10T19:53:56.920Z"
   },
   {
    "duration": 3310,
    "start_time": "2023-06-10T19:54:00.163Z"
   },
   {
    "duration": 19,
    "start_time": "2023-06-10T19:54:05.382Z"
   },
   {
    "duration": 82,
    "start_time": "2023-06-10T19:54:17.023Z"
   },
   {
    "duration": 10,
    "start_time": "2023-06-10T19:54:22.197Z"
   },
   {
    "duration": 44,
    "start_time": "2023-06-10T19:54:31.821Z"
   },
   {
    "duration": 0,
    "start_time": "2023-06-10T19:54:31.867Z"
   },
   {
    "duration": 0,
    "start_time": "2023-06-10T19:54:31.868Z"
   },
   {
    "duration": 0,
    "start_time": "2023-06-10T19:54:31.869Z"
   },
   {
    "duration": 7,
    "start_time": "2023-06-10T19:54:31.952Z"
   },
   {
    "duration": 0,
    "start_time": "2023-06-10T19:54:31.960Z"
   },
   {
    "duration": 0,
    "start_time": "2023-06-10T19:54:31.961Z"
   },
   {
    "duration": 0,
    "start_time": "2023-06-10T19:54:31.962Z"
   },
   {
    "duration": 0,
    "start_time": "2023-06-10T19:54:31.963Z"
   },
   {
    "duration": 12,
    "start_time": "2023-06-10T19:54:32.052Z"
   },
   {
    "duration": 0,
    "start_time": "2023-06-10T19:54:32.065Z"
   },
   {
    "duration": 1394,
    "start_time": "2023-06-10T19:54:39.576Z"
   },
   {
    "duration": 9,
    "start_time": "2023-06-10T19:54:46.767Z"
   },
   {
    "duration": 11,
    "start_time": "2023-06-10T19:55:17.292Z"
   },
   {
    "duration": 9,
    "start_time": "2023-06-10T19:55:17.968Z"
   },
   {
    "duration": 1573,
    "start_time": "2023-06-10T19:55:18.317Z"
   },
   {
    "duration": 5,
    "start_time": "2023-06-10T19:55:19.892Z"
   },
   {
    "duration": 71,
    "start_time": "2023-06-10T19:55:20.093Z"
   },
   {
    "duration": 12,
    "start_time": "2023-06-10T19:55:21.264Z"
   },
   {
    "duration": 12,
    "start_time": "2023-06-10T19:55:21.333Z"
   },
   {
    "duration": 16,
    "start_time": "2023-06-10T19:55:21.465Z"
   },
   {
    "duration": 16,
    "start_time": "2023-06-10T19:55:21.531Z"
   },
   {
    "duration": 21,
    "start_time": "2023-06-10T19:55:21.683Z"
   },
   {
    "duration": 534,
    "start_time": "2023-06-10T19:55:21.757Z"
   },
   {
    "duration": 648,
    "start_time": "2023-06-10T19:55:44.516Z"
   },
   {
    "duration": 1679,
    "start_time": "2023-06-10T19:55:45.963Z"
   },
   {
    "duration": 4,
    "start_time": "2023-06-10T19:55:47.644Z"
   },
   {
    "duration": 73,
    "start_time": "2023-06-10T19:55:47.649Z"
   },
   {
    "duration": 1609,
    "start_time": "2023-06-10T19:55:47.724Z"
   },
   {
    "duration": 11,
    "start_time": "2023-06-10T19:55:49.335Z"
   },
   {
    "duration": 61,
    "start_time": "2023-06-10T19:55:49.348Z"
   },
   {
    "duration": 16,
    "start_time": "2023-06-10T19:55:49.410Z"
   },
   {
    "duration": 3137,
    "start_time": "2023-06-10T19:55:49.427Z"
   },
   {
    "duration": 0,
    "start_time": "2023-06-10T19:55:52.566Z"
   },
   {
    "duration": 9,
    "start_time": "2023-06-10T19:56:01.960Z"
   },
   {
    "duration": 3,
    "start_time": "2023-06-10T19:56:08.630Z"
   },
   {
    "duration": 4,
    "start_time": "2023-06-10T19:56:12.930Z"
   },
   {
    "duration": 1561,
    "start_time": "2023-06-10T19:56:13.504Z"
   },
   {
    "duration": 3,
    "start_time": "2023-06-10T19:56:15.067Z"
   },
   {
    "duration": 177,
    "start_time": "2023-06-10T19:56:15.072Z"
   },
   {
    "duration": 1728,
    "start_time": "2023-06-10T19:56:15.252Z"
   },
   {
    "duration": 25,
    "start_time": "2023-06-10T19:56:16.984Z"
   },
   {
    "duration": 28,
    "start_time": "2023-06-10T19:56:17.011Z"
   },
   {
    "duration": 49,
    "start_time": "2023-06-10T19:56:17.041Z"
   },
   {
    "duration": 3048,
    "start_time": "2023-06-10T19:56:17.099Z"
   },
   {
    "duration": 0,
    "start_time": "2023-06-10T19:56:20.149Z"
   },
   {
    "duration": 10,
    "start_time": "2023-06-10T19:57:20.798Z"
   },
   {
    "duration": 2602,
    "start_time": "2023-06-10T19:57:27.006Z"
   },
   {
    "duration": 33,
    "start_time": "2023-06-10T19:57:33.107Z"
   },
   {
    "duration": 1399,
    "start_time": "2023-06-10T19:57:33.316Z"
   },
   {
    "duration": 5,
    "start_time": "2023-06-10T19:57:34.717Z"
   },
   {
    "duration": 69,
    "start_time": "2023-06-10T19:57:34.723Z"
   },
   {
    "duration": 1519,
    "start_time": "2023-06-10T19:57:34.796Z"
   },
   {
    "duration": 12,
    "start_time": "2023-06-10T19:57:36.316Z"
   },
   {
    "duration": 25,
    "start_time": "2023-06-10T19:57:36.329Z"
   },
   {
    "duration": 43,
    "start_time": "2023-06-10T19:57:36.356Z"
   },
   {
    "duration": 5308,
    "start_time": "2023-06-10T19:57:36.401Z"
   },
   {
    "duration": 1106,
    "start_time": "2023-06-10T19:57:41.711Z"
   },
   {
    "duration": 5645,
    "start_time": "2023-06-10T20:19:10.288Z"
   },
   {
    "duration": 960,
    "start_time": "2023-06-10T20:28:59.364Z"
   },
   {
    "duration": 14,
    "start_time": "2023-06-10T20:29:32.196Z"
   },
   {
    "duration": 5,
    "start_time": "2023-06-10T20:29:59.640Z"
   },
   {
    "duration": 14,
    "start_time": "2023-06-10T20:30:10.036Z"
   },
   {
    "duration": 66,
    "start_time": "2023-06-10T20:32:11.587Z"
   },
   {
    "duration": 21,
    "start_time": "2023-06-10T20:33:11.916Z"
   },
   {
    "duration": 24,
    "start_time": "2023-06-10T20:33:24.572Z"
   },
   {
    "duration": 11,
    "start_time": "2023-06-10T20:35:13.150Z"
   },
   {
    "duration": 31,
    "start_time": "2023-06-10T20:35:13.676Z"
   },
   {
    "duration": 262,
    "start_time": "2023-06-10T20:47:02.341Z"
   },
   {
    "duration": 257,
    "start_time": "2023-06-10T20:52:40.215Z"
   },
   {
    "duration": 8,
    "start_time": "2023-06-10T21:03:43.575Z"
   },
   {
    "duration": 4,
    "start_time": "2023-06-10T21:08:54.611Z"
   },
   {
    "duration": 2752,
    "start_time": "2023-06-10T21:09:00.246Z"
   },
   {
    "duration": 2620,
    "start_time": "2023-06-10T21:09:05.200Z"
   },
   {
    "duration": 2726,
    "start_time": "2023-06-10T21:09:10.938Z"
   },
   {
    "duration": 14,
    "start_time": "2023-06-10T21:11:32.352Z"
   },
   {
    "duration": 8,
    "start_time": "2023-06-10T21:12:38.000Z"
   },
   {
    "duration": 6,
    "start_time": "2023-06-10T21:13:00.740Z"
   },
   {
    "duration": 5,
    "start_time": "2023-06-10T21:13:27.373Z"
   },
   {
    "duration": 7,
    "start_time": "2023-06-10T21:13:46.278Z"
   },
   {
    "duration": 1051,
    "start_time": "2023-06-10T21:14:48.315Z"
   },
   {
    "duration": 16,
    "start_time": "2023-06-10T21:16:19.871Z"
   },
   {
    "duration": 16,
    "start_time": "2023-06-10T21:16:54.818Z"
   },
   {
    "duration": 2383,
    "start_time": "2023-06-11T21:02:22.566Z"
   },
   {
    "duration": 0,
    "start_time": "2023-06-11T21:02:24.950Z"
   },
   {
    "duration": 0,
    "start_time": "2023-06-11T21:02:24.956Z"
   },
   {
    "duration": 0,
    "start_time": "2023-06-11T21:02:24.958Z"
   },
   {
    "duration": 0,
    "start_time": "2023-06-11T21:02:24.959Z"
   },
   {
    "duration": 0,
    "start_time": "2023-06-11T21:02:24.960Z"
   },
   {
    "duration": 0,
    "start_time": "2023-06-11T21:02:24.961Z"
   },
   {
    "duration": 0,
    "start_time": "2023-06-11T21:02:24.963Z"
   },
   {
    "duration": 0,
    "start_time": "2023-06-11T21:02:24.964Z"
   },
   {
    "duration": 0,
    "start_time": "2023-06-11T21:02:24.966Z"
   },
   {
    "duration": 0,
    "start_time": "2023-06-11T21:02:24.967Z"
   },
   {
    "duration": 3280,
    "start_time": "2023-06-11T21:03:32.664Z"
   },
   {
    "duration": 570,
    "start_time": "2023-06-11T21:03:42.428Z"
   },
   {
    "duration": 1713,
    "start_time": "2023-06-11T21:03:46.679Z"
   },
   {
    "duration": 6,
    "start_time": "2023-06-11T21:03:48.394Z"
   },
   {
    "duration": 86,
    "start_time": "2023-06-11T21:03:48.402Z"
   },
   {
    "duration": 1743,
    "start_time": "2023-06-11T21:03:48.490Z"
   },
   {
    "duration": 13,
    "start_time": "2023-06-11T21:03:50.234Z"
   },
   {
    "duration": 16,
    "start_time": "2023-06-11T21:03:50.257Z"
   },
   {
    "duration": 17,
    "start_time": "2023-06-11T21:03:50.275Z"
   },
   {
    "duration": 5817,
    "start_time": "2023-06-11T21:03:50.352Z"
   },
   {
    "duration": 4,
    "start_time": "2023-06-11T21:03:56.172Z"
   },
   {
    "duration": 17,
    "start_time": "2023-06-11T21:03:56.177Z"
   },
   {
    "duration": 12,
    "start_time": "2023-06-11T21:03:56.196Z"
   },
   {
    "duration": 15,
    "start_time": "2023-06-11T21:03:56.210Z"
   },
   {
    "duration": 34,
    "start_time": "2023-06-11T21:03:56.226Z"
   },
   {
    "duration": 19,
    "start_time": "2023-06-11T21:03:56.261Z"
   },
   {
    "duration": 6,
    "start_time": "2023-06-11T21:04:16.966Z"
   },
   {
    "duration": 163,
    "start_time": "2023-06-11T21:04:38.963Z"
   },
   {
    "duration": 173,
    "start_time": "2023-06-11T21:04:52.184Z"
   },
   {
    "duration": 836,
    "start_time": "2023-06-11T21:05:19.411Z"
   },
   {
    "duration": 209,
    "start_time": "2023-06-11T21:05:26.065Z"
   },
   {
    "duration": 1346,
    "start_time": "2023-06-12T07:59:02.302Z"
   },
   {
    "duration": 0,
    "start_time": "2023-06-12T07:59:03.650Z"
   },
   {
    "duration": 0,
    "start_time": "2023-06-12T07:59:03.657Z"
   },
   {
    "duration": 0,
    "start_time": "2023-06-12T07:59:03.659Z"
   },
   {
    "duration": 0,
    "start_time": "2023-06-12T07:59:03.660Z"
   },
   {
    "duration": 0,
    "start_time": "2023-06-12T07:59:03.661Z"
   },
   {
    "duration": 0,
    "start_time": "2023-06-12T07:59:03.662Z"
   },
   {
    "duration": 0,
    "start_time": "2023-06-12T07:59:03.663Z"
   },
   {
    "duration": 0,
    "start_time": "2023-06-12T07:59:03.665Z"
   },
   {
    "duration": 0,
    "start_time": "2023-06-12T07:59:03.666Z"
   },
   {
    "duration": 0,
    "start_time": "2023-06-12T07:59:03.668Z"
   },
   {
    "duration": 0,
    "start_time": "2023-06-12T07:59:03.668Z"
   },
   {
    "duration": 0,
    "start_time": "2023-06-12T07:59:03.670Z"
   },
   {
    "duration": 0,
    "start_time": "2023-06-12T07:59:03.671Z"
   },
   {
    "duration": 0,
    "start_time": "2023-06-12T07:59:03.672Z"
   },
   {
    "duration": 12,
    "start_time": "2023-06-12T08:03:32.290Z"
   },
   {
    "duration": 12,
    "start_time": "2023-06-12T08:03:40.700Z"
   },
   {
    "duration": 3398,
    "start_time": "2023-06-12T08:04:01.359Z"
   },
   {
    "duration": 603,
    "start_time": "2023-06-12T08:04:09.222Z"
   },
   {
    "duration": 4,
    "start_time": "2023-06-12T08:04:24.759Z"
   },
   {
    "duration": 33,
    "start_time": "2023-06-12T08:08:35.324Z"
   },
   {
    "duration": 11,
    "start_time": "2023-06-12T08:08:42.167Z"
   },
   {
    "duration": 1784,
    "start_time": "2023-06-12T08:08:46.741Z"
   },
   {
    "duration": 6,
    "start_time": "2023-06-12T08:08:48.527Z"
   },
   {
    "duration": 98,
    "start_time": "2023-06-12T08:08:48.536Z"
   },
   {
    "duration": 2109,
    "start_time": "2023-06-12T08:08:48.636Z"
   },
   {
    "duration": 22,
    "start_time": "2023-06-12T08:08:50.748Z"
   },
   {
    "duration": 21,
    "start_time": "2023-06-12T08:08:50.772Z"
   },
   {
    "duration": 22,
    "start_time": "2023-06-12T08:08:50.795Z"
   },
   {
    "duration": 6840,
    "start_time": "2023-06-12T08:08:50.820Z"
   },
   {
    "duration": 6,
    "start_time": "2023-06-12T08:08:57.663Z"
   },
   {
    "duration": 16,
    "start_time": "2023-06-12T08:08:57.671Z"
   },
   {
    "duration": 5,
    "start_time": "2023-06-12T08:08:57.688Z"
   },
   {
    "duration": 69,
    "start_time": "2023-06-12T08:08:57.695Z"
   },
   {
    "duration": 23,
    "start_time": "2023-06-12T08:08:57.766Z"
   },
   {
    "duration": 317,
    "start_time": "2023-06-12T08:08:57.791Z"
   },
   {
    "duration": 2990,
    "start_time": "2023-06-12T08:12:17.226Z"
   },
   {
    "duration": 80,
    "start_time": "2023-06-12T08:29:11.593Z"
   },
   {
    "duration": 95,
    "start_time": "2023-06-12T08:29:26.554Z"
   },
   {
    "duration": 117,
    "start_time": "2023-06-12T08:29:45.330Z"
   },
   {
    "duration": 77,
    "start_time": "2023-06-12T08:30:21.378Z"
   },
   {
    "duration": 0,
    "start_time": "2023-06-12T08:30:21.457Z"
   },
   {
    "duration": 0,
    "start_time": "2023-06-12T08:30:21.458Z"
   },
   {
    "duration": 0,
    "start_time": "2023-06-12T08:30:21.459Z"
   },
   {
    "duration": 0,
    "start_time": "2023-06-12T08:30:21.460Z"
   },
   {
    "duration": 0,
    "start_time": "2023-06-12T08:30:21.461Z"
   },
   {
    "duration": 0,
    "start_time": "2023-06-12T08:30:21.462Z"
   },
   {
    "duration": 0,
    "start_time": "2023-06-12T08:30:21.464Z"
   },
   {
    "duration": 0,
    "start_time": "2023-06-12T08:30:21.464Z"
   },
   {
    "duration": 0,
    "start_time": "2023-06-12T08:30:21.467Z"
   },
   {
    "duration": 0,
    "start_time": "2023-06-12T08:30:21.468Z"
   },
   {
    "duration": 0,
    "start_time": "2023-06-12T08:30:21.468Z"
   },
   {
    "duration": 0,
    "start_time": "2023-06-12T08:30:21.469Z"
   },
   {
    "duration": 0,
    "start_time": "2023-06-12T08:30:21.470Z"
   },
   {
    "duration": 75,
    "start_time": "2023-06-12T08:30:21.490Z"
   },
   {
    "duration": 11,
    "start_time": "2023-06-12T08:31:19.432Z"
   },
   {
    "duration": 7,
    "start_time": "2023-06-12T08:31:25.185Z"
   },
   {
    "duration": 1253,
    "start_time": "2023-06-12T08:31:34.905Z"
   },
   {
    "duration": 1770,
    "start_time": "2023-06-12T08:31:36.851Z"
   },
   {
    "duration": 5,
    "start_time": "2023-06-12T08:31:38.623Z"
   },
   {
    "duration": 99,
    "start_time": "2023-06-12T08:31:38.630Z"
   },
   {
    "duration": 2746,
    "start_time": "2023-06-12T08:31:38.731Z"
   },
   {
    "duration": 15,
    "start_time": "2023-06-12T08:31:41.479Z"
   },
   {
    "duration": 19,
    "start_time": "2023-06-12T08:31:41.495Z"
   },
   {
    "duration": 43,
    "start_time": "2023-06-12T08:31:41.515Z"
   },
   {
    "duration": 6203,
    "start_time": "2023-06-12T08:31:41.560Z"
   },
   {
    "duration": 4,
    "start_time": "2023-06-12T08:31:47.765Z"
   },
   {
    "duration": 46,
    "start_time": "2023-06-12T08:31:47.771Z"
   },
   {
    "duration": 4,
    "start_time": "2023-06-12T08:31:47.819Z"
   },
   {
    "duration": 36,
    "start_time": "2023-06-12T08:31:47.825Z"
   },
   {
    "duration": 20,
    "start_time": "2023-06-12T08:31:47.863Z"
   },
   {
    "duration": 292,
    "start_time": "2023-06-12T08:31:47.885Z"
   },
   {
    "duration": 2813,
    "start_time": "2023-06-12T08:41:31.077Z"
   },
   {
    "duration": 2778,
    "start_time": "2023-06-12T08:41:52.531Z"
   },
   {
    "duration": 2752,
    "start_time": "2023-06-12T08:42:02.834Z"
   },
   {
    "duration": 3004,
    "start_time": "2023-06-12T08:42:11.271Z"
   },
   {
    "duration": 2751,
    "start_time": "2023-06-12T08:43:50.000Z"
   },
   {
    "duration": 9,
    "start_time": "2023-06-12T08:43:58.738Z"
   },
   {
    "duration": 12,
    "start_time": "2023-06-12T08:47:19.835Z"
   },
   {
    "duration": 1187,
    "start_time": "2023-06-12T09:07:43.012Z"
   },
   {
    "duration": 1428,
    "start_time": "2023-06-12T09:08:43.088Z"
   },
   {
    "duration": 5002,
    "start_time": "2023-06-12T09:11:02.525Z"
   },
   {
    "duration": 2835,
    "start_time": "2023-06-12T09:25:07.526Z"
   },
   {
    "duration": 878,
    "start_time": "2023-06-12T09:29:22.620Z"
   },
   {
    "duration": 1226,
    "start_time": "2023-06-12T09:32:29.362Z"
   },
   {
    "duration": 1308,
    "start_time": "2023-06-12T09:32:41.082Z"
   },
   {
    "duration": 1563,
    "start_time": "2023-06-12T09:34:30.404Z"
   },
   {
    "duration": 1525,
    "start_time": "2023-06-12T09:34:51.403Z"
   },
   {
    "duration": 187,
    "start_time": "2023-06-12T09:35:49.551Z"
   },
   {
    "duration": 73,
    "start_time": "2023-06-12T09:36:08.646Z"
   },
   {
    "duration": 187,
    "start_time": "2023-06-12T09:36:57.543Z"
   },
   {
    "duration": 84,
    "start_time": "2023-06-12T09:37:09.289Z"
   },
   {
    "duration": 1504,
    "start_time": "2023-06-12T09:37:13.653Z"
   },
   {
    "duration": 763,
    "start_time": "2023-06-12T09:37:31.813Z"
   },
   {
    "duration": 1515,
    "start_time": "2023-06-12T09:37:45.111Z"
   },
   {
    "duration": 1622,
    "start_time": "2023-06-12T10:11:26.518Z"
   },
   {
    "duration": 12,
    "start_time": "2023-06-12T10:28:00.672Z"
   },
   {
    "duration": 1512,
    "start_time": "2023-06-12T10:28:08.222Z"
   },
   {
    "duration": 1495,
    "start_time": "2023-06-12T10:28:13.622Z"
   },
   {
    "duration": 1585,
    "start_time": "2023-06-12T10:28:54.947Z"
   },
   {
    "duration": 1323,
    "start_time": "2023-06-12T11:05:36.973Z"
   },
   {
    "duration": 1822,
    "start_time": "2023-06-12T11:10:38.656Z"
   },
   {
    "duration": 26,
    "start_time": "2023-06-12T11:14:09.849Z"
   },
   {
    "duration": 28,
    "start_time": "2023-06-12T11:20:07.772Z"
   },
   {
    "duration": 31,
    "start_time": "2023-06-12T11:20:28.479Z"
   },
   {
    "duration": 5095,
    "start_time": "2023-06-12T11:22:06.002Z"
   },
   {
    "duration": 4932,
    "start_time": "2023-06-12T11:22:58.957Z"
   },
   {
    "duration": 1069,
    "start_time": "2023-06-14T17:14:19.448Z"
   },
   {
    "duration": 0,
    "start_time": "2023-06-14T17:14:20.520Z"
   },
   {
    "duration": 1,
    "start_time": "2023-06-14T17:14:20.521Z"
   },
   {
    "duration": 0,
    "start_time": "2023-06-14T17:14:20.523Z"
   },
   {
    "duration": 0,
    "start_time": "2023-06-14T17:14:20.526Z"
   },
   {
    "duration": 0,
    "start_time": "2023-06-14T17:14:20.527Z"
   },
   {
    "duration": 0,
    "start_time": "2023-06-14T17:14:20.528Z"
   },
   {
    "duration": 0,
    "start_time": "2023-06-14T17:14:20.530Z"
   },
   {
    "duration": 0,
    "start_time": "2023-06-14T17:14:20.532Z"
   },
   {
    "duration": 0,
    "start_time": "2023-06-14T17:14:20.535Z"
   },
   {
    "duration": 0,
    "start_time": "2023-06-14T17:14:20.537Z"
   },
   {
    "duration": 0,
    "start_time": "2023-06-14T17:14:20.539Z"
   },
   {
    "duration": 0,
    "start_time": "2023-06-14T17:14:20.540Z"
   },
   {
    "duration": 0,
    "start_time": "2023-06-14T17:14:20.583Z"
   },
   {
    "duration": 0,
    "start_time": "2023-06-14T17:14:20.585Z"
   },
   {
    "duration": 1,
    "start_time": "2023-06-14T17:14:20.586Z"
   },
   {
    "duration": 0,
    "start_time": "2023-06-14T17:14:20.588Z"
   },
   {
    "duration": 0,
    "start_time": "2023-06-14T17:14:20.589Z"
   },
   {
    "duration": 78,
    "start_time": "2023-06-14T17:14:28.291Z"
   },
   {
    "duration": 72,
    "start_time": "2023-06-14T17:14:32.383Z"
   },
   {
    "duration": 3100,
    "start_time": "2023-06-14T17:14:38.891Z"
   },
   {
    "duration": 687,
    "start_time": "2023-06-14T17:14:45.647Z"
   },
   {
    "duration": 1726,
    "start_time": "2023-06-14T17:14:46.336Z"
   },
   {
    "duration": 5,
    "start_time": "2023-06-14T17:14:48.064Z"
   },
   {
    "duration": 89,
    "start_time": "2023-06-14T17:14:48.070Z"
   },
   {
    "duration": 22,
    "start_time": "2023-06-14T17:14:48.161Z"
   },
   {
    "duration": 3095,
    "start_time": "2023-06-14T17:14:48.185Z"
   },
   {
    "duration": 20,
    "start_time": "2023-06-14T17:14:51.282Z"
   },
   {
    "duration": 38,
    "start_time": "2023-06-14T17:14:51.304Z"
   },
   {
    "duration": 31,
    "start_time": "2023-06-14T17:14:51.344Z"
   },
   {
    "duration": 1365,
    "start_time": "2023-06-14T17:14:51.379Z"
   },
   {
    "duration": 1538,
    "start_time": "2023-06-14T17:14:52.747Z"
   },
   {
    "duration": 4723,
    "start_time": "2023-06-14T17:14:54.287Z"
   },
   {
    "duration": 4,
    "start_time": "2023-06-14T17:14:59.012Z"
   },
   {
    "duration": 20,
    "start_time": "2023-06-14T17:14:59.018Z"
   },
   {
    "duration": 5,
    "start_time": "2023-06-14T17:14:59.040Z"
   },
   {
    "duration": 47,
    "start_time": "2023-06-14T17:14:59.046Z"
   },
   {
    "duration": 22,
    "start_time": "2023-06-14T17:14:59.094Z"
   },
   {
    "duration": 464,
    "start_time": "2023-06-14T17:14:59.118Z"
   },
   {
    "duration": 14,
    "start_time": "2023-06-14T17:31:56.207Z"
   },
   {
    "duration": 915,
    "start_time": "2023-06-14T17:38:47.008Z"
   },
   {
    "duration": 1020,
    "start_time": "2023-06-14T17:39:33.494Z"
   },
   {
    "duration": 1135,
    "start_time": "2023-06-14T17:40:30.397Z"
   },
   {
    "duration": 834,
    "start_time": "2023-06-14T17:40:53.021Z"
   },
   {
    "duration": 25,
    "start_time": "2023-06-14T17:56:00.887Z"
   },
   {
    "duration": 7,
    "start_time": "2023-06-14T17:56:34.201Z"
   },
   {
    "duration": 7,
    "start_time": "2023-06-14T17:56:50.730Z"
   },
   {
    "duration": 8,
    "start_time": "2023-06-14T17:57:06.435Z"
   },
   {
    "duration": 8,
    "start_time": "2023-06-14T17:57:24.235Z"
   },
   {
    "duration": 14,
    "start_time": "2023-06-14T17:57:26.973Z"
   },
   {
    "duration": 284,
    "start_time": "2023-06-14T18:12:33.700Z"
   },
   {
    "duration": 38,
    "start_time": "2023-06-14T18:14:41.529Z"
   },
   {
    "duration": 57,
    "start_time": "2023-06-14T18:17:26.708Z"
   },
   {
    "duration": 21,
    "start_time": "2023-06-14T19:35:24.388Z"
   },
   {
    "duration": 15,
    "start_time": "2023-06-14T19:35:54.650Z"
   },
   {
    "duration": 17,
    "start_time": "2023-06-14T19:36:07.598Z"
   },
   {
    "duration": 26,
    "start_time": "2023-06-14T19:36:11.358Z"
   },
   {
    "duration": 22,
    "start_time": "2023-06-14T19:36:16.568Z"
   },
   {
    "duration": 26,
    "start_time": "2023-06-14T19:36:22.256Z"
   },
   {
    "duration": 5202,
    "start_time": "2023-06-15T08:44:05.352Z"
   },
   {
    "duration": 2300,
    "start_time": "2023-06-15T08:44:10.557Z"
   },
   {
    "duration": 2509,
    "start_time": "2023-06-15T08:44:12.859Z"
   },
   {
    "duration": 18,
    "start_time": "2023-06-15T08:44:15.374Z"
   },
   {
    "duration": 74,
    "start_time": "2023-06-15T08:44:15.400Z"
   },
   {
    "duration": 25,
    "start_time": "2023-06-15T08:44:15.479Z"
   },
   {
    "duration": 1084,
    "start_time": "2023-06-15T08:44:15.511Z"
   },
   {
    "duration": 4006,
    "start_time": "2023-06-15T08:44:16.601Z"
   },
   {
    "duration": 37,
    "start_time": "2023-06-15T08:44:20.611Z"
   },
   {
    "duration": 75,
    "start_time": "2023-06-15T08:44:20.657Z"
   },
   {
    "duration": 40,
    "start_time": "2023-06-15T08:44:20.737Z"
   },
   {
    "duration": 108,
    "start_time": "2023-06-15T08:44:20.780Z"
   },
   {
    "duration": 54,
    "start_time": "2023-06-15T08:44:20.898Z"
   },
   {
    "duration": 31,
    "start_time": "2023-06-15T08:44:20.960Z"
   },
   {
    "duration": 1685,
    "start_time": "2023-06-15T08:44:21.001Z"
   },
   {
    "duration": 1995,
    "start_time": "2023-06-15T08:44:22.695Z"
   },
   {
    "duration": 6697,
    "start_time": "2023-06-15T08:44:24.693Z"
   },
   {
    "duration": 22,
    "start_time": "2023-06-15T08:44:31.392Z"
   },
   {
    "duration": 58,
    "start_time": "2023-06-15T08:44:31.422Z"
   },
   {
    "duration": 25,
    "start_time": "2023-06-15T08:44:31.482Z"
   },
   {
    "duration": 75,
    "start_time": "2023-06-15T08:44:31.509Z"
   },
   {
    "duration": 31,
    "start_time": "2023-06-15T08:44:31.592Z"
   },
   {
    "duration": 464,
    "start_time": "2023-06-15T08:44:31.625Z"
   },
   {
    "duration": 1199,
    "start_time": "2023-06-15T10:26:46.215Z"
   },
   {
    "duration": 260,
    "start_time": "2023-06-15T10:28:59.502Z"
   },
   {
    "duration": 1031,
    "start_time": "2023-06-15T10:30:46.127Z"
   },
   {
    "duration": 1195,
    "start_time": "2023-06-15T10:31:53.136Z"
   },
   {
    "duration": 1185,
    "start_time": "2023-06-15T10:34:11.047Z"
   },
   {
    "duration": 1390,
    "start_time": "2023-06-15T10:35:36.603Z"
   },
   {
    "duration": 1850,
    "start_time": "2023-06-15T10:55:38.323Z"
   },
   {
    "duration": 2165,
    "start_time": "2023-06-15T11:13:19.560Z"
   },
   {
    "duration": 2197,
    "start_time": "2023-06-15T11:14:04.624Z"
   },
   {
    "duration": 2450,
    "start_time": "2023-06-15T11:18:14.023Z"
   },
   {
    "duration": 84,
    "start_time": "2023-06-15T12:45:30.032Z"
   },
   {
    "duration": 108,
    "start_time": "2023-06-15T12:46:42.966Z"
   },
   {
    "duration": 35,
    "start_time": "2023-06-15T13:00:29.767Z"
   },
   {
    "duration": 18,
    "start_time": "2023-06-15T13:00:42.100Z"
   },
   {
    "duration": 16,
    "start_time": "2023-06-15T13:04:12.897Z"
   },
   {
    "duration": 13,
    "start_time": "2023-06-15T13:16:54.642Z"
   },
   {
    "duration": 3733,
    "start_time": "2023-06-15T13:17:04.073Z"
   },
   {
    "duration": 14,
    "start_time": "2023-06-15T13:17:09.311Z"
   },
   {
    "duration": 3034,
    "start_time": "2023-06-15T13:17:30.237Z"
   },
   {
    "duration": 16,
    "start_time": "2023-06-15T13:17:52.556Z"
   },
   {
    "duration": 7,
    "start_time": "2023-06-15T13:19:16.902Z"
   },
   {
    "duration": 16,
    "start_time": "2023-06-15T13:19:25.945Z"
   },
   {
    "duration": 14,
    "start_time": "2023-06-15T13:19:32.814Z"
   },
   {
    "duration": 10,
    "start_time": "2023-06-15T13:37:23.768Z"
   },
   {
    "duration": 10,
    "start_time": "2023-06-15T13:37:26.223Z"
   },
   {
    "duration": 27,
    "start_time": "2023-06-15T13:38:22.121Z"
   },
   {
    "duration": 1660,
    "start_time": "2023-06-15T13:38:29.626Z"
   },
   {
    "duration": 6,
    "start_time": "2023-06-15T13:40:38.523Z"
   },
   {
    "duration": 113,
    "start_time": "2023-06-15T13:40:40.720Z"
   },
   {
    "duration": 40,
    "start_time": "2023-06-15T13:42:32.381Z"
   },
   {
    "duration": 2527,
    "start_time": "2023-06-15T13:45:58.218Z"
   },
   {
    "duration": 77,
    "start_time": "2023-06-15T13:46:00.748Z"
   },
   {
    "duration": 0,
    "start_time": "2023-06-15T13:46:00.827Z"
   },
   {
    "duration": 0,
    "start_time": "2023-06-15T13:46:00.829Z"
   },
   {
    "duration": 0,
    "start_time": "2023-06-15T13:46:00.831Z"
   },
   {
    "duration": 0,
    "start_time": "2023-06-15T13:46:00.832Z"
   },
   {
    "duration": 0,
    "start_time": "2023-06-15T13:46:00.834Z"
   },
   {
    "duration": 0,
    "start_time": "2023-06-15T13:46:00.836Z"
   },
   {
    "duration": 0,
    "start_time": "2023-06-15T13:46:00.837Z"
   },
   {
    "duration": 0,
    "start_time": "2023-06-15T13:46:00.839Z"
   },
   {
    "duration": 0,
    "start_time": "2023-06-15T13:46:00.840Z"
   },
   {
    "duration": 0,
    "start_time": "2023-06-15T13:46:00.842Z"
   },
   {
    "duration": 0,
    "start_time": "2023-06-15T13:46:00.870Z"
   },
   {
    "duration": 0,
    "start_time": "2023-06-15T13:46:00.871Z"
   },
   {
    "duration": 0,
    "start_time": "2023-06-15T13:46:00.872Z"
   },
   {
    "duration": 0,
    "start_time": "2023-06-15T13:46:00.874Z"
   },
   {
    "duration": 0,
    "start_time": "2023-06-15T13:46:00.875Z"
   },
   {
    "duration": 0,
    "start_time": "2023-06-15T13:46:00.876Z"
   },
   {
    "duration": 0,
    "start_time": "2023-06-15T13:46:00.877Z"
   },
   {
    "duration": 0,
    "start_time": "2023-06-15T13:46:00.879Z"
   },
   {
    "duration": 0,
    "start_time": "2023-06-15T13:46:00.880Z"
   },
   {
    "duration": 1370,
    "start_time": "2023-06-15T13:46:50.408Z"
   },
   {
    "duration": 1859,
    "start_time": "2023-06-15T13:46:51.782Z"
   },
   {
    "duration": 6,
    "start_time": "2023-06-15T13:46:53.643Z"
   },
   {
    "duration": 62,
    "start_time": "2023-06-15T13:46:53.652Z"
   },
   {
    "duration": 17,
    "start_time": "2023-06-15T13:46:53.716Z"
   },
   {
    "duration": 987,
    "start_time": "2023-06-15T13:46:53.735Z"
   },
   {
    "duration": 3128,
    "start_time": "2023-06-15T13:46:54.724Z"
   },
   {
    "duration": 21,
    "start_time": "2023-06-15T13:46:57.853Z"
   },
   {
    "duration": 40,
    "start_time": "2023-06-15T13:46:57.881Z"
   },
   {
    "duration": 18,
    "start_time": "2023-06-15T13:46:57.924Z"
   },
   {
    "duration": 79,
    "start_time": "2023-06-15T13:46:57.944Z"
   },
   {
    "duration": 18,
    "start_time": "2023-06-15T13:46:58.025Z"
   },
   {
    "duration": 12,
    "start_time": "2023-06-15T13:46:58.045Z"
   },
   {
    "duration": 1530,
    "start_time": "2023-06-15T13:46:58.060Z"
   },
   {
    "duration": 2427,
    "start_time": "2023-06-15T13:46:59.593Z"
   },
   {
    "duration": 4872,
    "start_time": "2023-06-15T13:47:02.022Z"
   },
   {
    "duration": 330,
    "start_time": "2023-06-15T13:47:06.896Z"
   },
   {
    "duration": 17,
    "start_time": "2023-06-15T13:47:07.228Z"
   },
   {
    "duration": 31,
    "start_time": "2023-06-15T13:47:07.247Z"
   },
   {
    "duration": 81,
    "start_time": "2023-06-15T13:49:42.125Z"
   },
   {
    "duration": 62,
    "start_time": "2023-06-15T13:51:07.317Z"
   },
   {
    "duration": 3945,
    "start_time": "2023-06-16T14:20:33.028Z"
   },
   {
    "duration": 1669,
    "start_time": "2023-06-16T14:20:36.975Z"
   },
   {
    "duration": 1767,
    "start_time": "2023-06-16T14:20:38.646Z"
   },
   {
    "duration": 13,
    "start_time": "2023-06-16T14:20:40.423Z"
   },
   {
    "duration": 71,
    "start_time": "2023-06-16T14:20:40.440Z"
   },
   {
    "duration": 31,
    "start_time": "2023-06-16T14:20:40.514Z"
   },
   {
    "duration": 1020,
    "start_time": "2023-06-16T14:20:40.548Z"
   },
   {
    "duration": 3302,
    "start_time": "2023-06-16T14:20:41.570Z"
   },
   {
    "duration": 15,
    "start_time": "2023-06-16T14:20:44.873Z"
   },
   {
    "duration": 52,
    "start_time": "2023-06-16T14:20:44.903Z"
   },
   {
    "duration": 20,
    "start_time": "2023-06-16T14:20:44.957Z"
   },
   {
    "duration": 69,
    "start_time": "2023-06-16T14:20:44.978Z"
   },
   {
    "duration": 20,
    "start_time": "2023-06-16T14:20:45.049Z"
   },
   {
    "duration": 35,
    "start_time": "2023-06-16T14:20:45.072Z"
   },
   {
    "duration": 1609,
    "start_time": "2023-06-16T14:20:45.109Z"
   },
   {
    "duration": 2526,
    "start_time": "2023-06-16T14:20:46.720Z"
   },
   {
    "duration": 2593,
    "start_time": "2023-06-16T14:20:49.248Z"
   },
   {
    "duration": 56,
    "start_time": "2023-06-16T14:41:47.106Z"
   },
   {
    "duration": 3097,
    "start_time": "2023-06-16T14:41:58.549Z"
   },
   {
    "duration": 1404,
    "start_time": "2023-06-16T14:42:01.649Z"
   },
   {
    "duration": 1694,
    "start_time": "2023-06-16T14:42:03.055Z"
   },
   {
    "duration": 4,
    "start_time": "2023-06-16T14:42:04.751Z"
   },
   {
    "duration": 38,
    "start_time": "2023-06-16T14:42:04.757Z"
   },
   {
    "duration": 11,
    "start_time": "2023-06-16T14:42:04.797Z"
   },
   {
    "duration": 771,
    "start_time": "2023-06-16T14:42:04.809Z"
   },
   {
    "duration": 2653,
    "start_time": "2023-06-16T14:42:05.582Z"
   },
   {
    "duration": 13,
    "start_time": "2023-06-16T14:42:08.237Z"
   },
   {
    "duration": 34,
    "start_time": "2023-06-16T14:42:08.251Z"
   },
   {
    "duration": 19,
    "start_time": "2023-06-16T14:42:08.287Z"
   },
   {
    "duration": 65,
    "start_time": "2023-06-16T14:42:08.307Z"
   },
   {
    "duration": 16,
    "start_time": "2023-06-16T14:42:08.374Z"
   },
   {
    "duration": 29,
    "start_time": "2023-06-16T14:42:08.393Z"
   },
   {
    "duration": 1531,
    "start_time": "2023-06-16T14:42:08.423Z"
   },
   {
    "duration": 2327,
    "start_time": "2023-06-16T14:42:09.956Z"
   },
   {
    "duration": 3944,
    "start_time": "2023-06-16T14:42:12.284Z"
   },
   {
    "duration": 297,
    "start_time": "2023-06-16T14:42:16.230Z"
   },
   {
    "duration": 20,
    "start_time": "2023-06-16T14:42:16.529Z"
   },
   {
    "duration": 79,
    "start_time": "2023-06-16T14:42:16.551Z"
   },
   {
    "duration": 316,
    "start_time": "2023-06-16T14:51:39.546Z"
   },
   {
    "duration": 307,
    "start_time": "2023-06-16T14:52:01.951Z"
   },
   {
    "duration": 343,
    "start_time": "2023-06-16T14:52:24.112Z"
   },
   {
    "duration": 398,
    "start_time": "2023-06-16T14:52:36.290Z"
   },
   {
    "duration": 302,
    "start_time": "2023-06-16T14:52:39.591Z"
   },
   {
    "duration": 312,
    "start_time": "2023-06-16T14:52:46.100Z"
   },
   {
    "duration": 379,
    "start_time": "2023-06-16T14:53:06.004Z"
   },
   {
    "duration": 33,
    "start_time": "2023-06-16T16:59:09.175Z"
   },
   {
    "duration": 32,
    "start_time": "2023-06-16T17:01:30.307Z"
   },
   {
    "duration": 140,
    "start_time": "2023-06-16T17:13:26.193Z"
   },
   {
    "duration": 125,
    "start_time": "2023-06-16T17:14:39.640Z"
   },
   {
    "duration": 16,
    "start_time": "2023-06-16T17:15:01.295Z"
   },
   {
    "duration": 367,
    "start_time": "2023-06-16T17:16:53.919Z"
   },
   {
    "duration": 313,
    "start_time": "2023-06-16T17:18:41.055Z"
   },
   {
    "duration": 243,
    "start_time": "2023-06-16T18:37:39.977Z"
   },
   {
    "duration": 16,
    "start_time": "2023-06-16T18:41:16.967Z"
   },
   {
    "duration": 14,
    "start_time": "2023-06-16T18:41:20.231Z"
   }
  ],
  "kernelspec": {
   "display_name": "Python 3 (ipykernel)",
   "language": "python",
   "name": "python3"
  },
  "language_info": {
   "codemirror_mode": {
    "name": "ipython",
    "version": 3
   },
   "file_extension": ".py",
   "mimetype": "text/x-python",
   "name": "python",
   "nbconvert_exporter": "python",
   "pygments_lexer": "ipython3",
   "version": "3.9.5"
  },
  "toc": {
   "base_numbering": 1,
   "nav_menu": {
    "height": "362px",
    "width": "523px"
   },
   "number_sections": true,
   "sideBar": true,
   "skip_h1_title": true,
   "title_cell": "Table of Contents",
   "title_sidebar": "Contents",
   "toc_cell": false,
   "toc_position": {},
   "toc_section_display": true,
   "toc_window_display": false
  }
 },
 "nbformat": 4,
 "nbformat_minor": 2
}
