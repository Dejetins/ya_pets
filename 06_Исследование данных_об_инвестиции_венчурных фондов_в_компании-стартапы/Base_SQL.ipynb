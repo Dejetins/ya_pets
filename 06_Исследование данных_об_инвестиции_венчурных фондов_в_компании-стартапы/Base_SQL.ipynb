{
 "cells": [
  {
   "cell_type": "markdown",
   "id": "ec357f29",
   "metadata": {},
   "source": [
    "## Нам нужно проанализировать данные о фондах и инвестициях и написать запросы к базе"
   ]
  },
  {
   "cell_type": "markdown",
   "id": "f527cd59",
   "metadata": {},
   "source": [
    "###  Задача №1\n",
    "Посчитайте, сколько компаний закрылось."
   ]
  },
  {
   "cell_type": "markdown",
   "id": "a717ccb5",
   "metadata": {},
   "source": [
    "**Решение:**\n",
    "\n",
    "`SELECT count(status)\n",
    " FROM company\n",
    " WHERE status = 'closed'`"
   ]
  },
  {
   "cell_type": "markdown",
   "id": "7f6caa73",
   "metadata": {},
   "source": [
    "###  Задача №2\n",
    "Отобразите количество привлечённых средств для новостных компаний США. Используйте данные из таблицы `company`. Отсортируйте таблицу по убыванию значений в поле `funding_total`"
   ]
  },
  {
   "cell_type": "markdown",
   "id": "3750ad7e",
   "metadata": {},
   "source": [
    "**Решение:**\n",
    "\n",
    "`SELECT funding_total\n",
    " FROM company\n",
    " WHERE country_code = 'USA' AND category_code = 'news'\n",
    " ORDER BY funding_total DESC;`"
   ]
  },
  {
   "cell_type": "markdown",
   "id": "9a61acf3",
   "metadata": {},
   "source": [
    "###  Задача №3\n",
    "Найдите общую сумму сделок по покупке одних компаний другими в долларах. Отберите сделки, которые осуществлялись только за наличные с 2011 по 2013 год включительно."
   ]
  },
  {
   "cell_type": "markdown",
   "id": "624875af",
   "metadata": {},
   "source": [
    "**Решение:**\n",
    "\n",
    "`SELECT SUM(price_amount)\n",
    " FROM acquisition\n",
    " WHERE term_code = 'cash' AND EXTRACT (year from acquired_at) BETWEEN 2011 AND 2013`"
   ]
  },
  {
   "cell_type": "markdown",
   "id": "56484950",
   "metadata": {},
   "source": [
    "###  Задача №4\n",
    "Отобразите имя, фамилию и названия аккаунтов людей в твиттере, у которых названия аккаунтов начинаются на `Silver`"
   ]
  },
  {
   "cell_type": "markdown",
   "id": "e6de8f11",
   "metadata": {},
   "source": [
    "**Решение:**\n",
    "\n",
    "`SELECT first_name, last_name, twitter_username\n",
    " FROM people\n",
    " WHERE twitter_username LIKE 'Silver%'`"
   ]
  },
  {
   "cell_type": "markdown",
   "id": "78f5ee2f",
   "metadata": {},
   "source": [
    "### Задача №5\n",
    "Выведите на экран всю информацию о людях, у которых названия аккаунтов в твиттере содержат подстроку `money`, а фамилия начинается на `K`."
   ]
  },
  {
   "cell_type": "markdown",
   "id": "a394f16d",
   "metadata": {},
   "source": [
    "**Решение:**\n",
    "\n",
    "`SELECT *\n",
    " FROM people\n",
    " WHERE twitter_username LIKE '%money%' AND last_name LIKE 'K%'`"
   ]
  },
  {
   "cell_type": "markdown",
   "id": "d73dfeb5",
   "metadata": {},
   "source": [
    "### Задача №6\n",
    "Для каждой страны отобразите общую сумму привлечённых инвестиций, которые получили компании, зарегистрированные в этой стране. Страну, в которой зарегистрирована компания, можно определить по коду страны. Отсортируйте данные по убыванию суммы."
   ]
  },
  {
   "cell_type": "markdown",
   "id": "33c0be0b",
   "metadata": {},
   "source": [
    "**Решение:**\n",
    "\n",
    "`SELECT country_code, SUM(funding_total) AS total\n",
    " FROM company\n",
    " GROUP BY country_code\n",
    " ORDER BY total desc`"
   ]
  },
  {
   "cell_type": "markdown",
   "id": "0a4983f0",
   "metadata": {},
   "source": [
    "### Задача №7\n",
    "Составьте таблицу, в которую войдёт дата проведения раунда, а также минимальное и максимальное значения суммы инвестиций, привлечённых в эту дату.\n",
    "\n",
    "Оставьте в итоговой таблице только те записи, в которых минимальное значение суммы инвестиций не равно нулю и не равно максимальному значению."
   ]
  },
  {
   "cell_type": "markdown",
   "id": "2446e9a8",
   "metadata": {},
   "source": [
    "**Решение:**\n",
    "\n",
    "`SELECT funded_at,\n",
    " MIN(raised_amount),\n",
    " MAX(raised_amount)\n",
    " FROM funding_round\n",
    " GROUP BY funded_at\n",
    " HAVING MIN(raised_amount) <> 0 AND MIN(raised_amount) <> MAX(raised_amount)`"
   ]
  },
  {
   "cell_type": "markdown",
   "id": "218abe7d",
   "metadata": {},
   "source": [
    "### Задача №8\n",
    "Создайте поле с категориями:\n",
    "- Для фондов, которые инвестируют в 100 и более компаний, назначьте категорию `high_activity`.\n",
    "- Для фондов, которые инвестируют в 20 и более компаний до 100, назначьте категорию `middle_activity`.\n",
    "- Если количество инвестируемых компаний фонда не достигает 20, назначьте категорию `low_activity`.\n",
    "\n",
    "Отобразите все поля таблицы `fund` и новое поле с категориями."
   ]
  },
  {
   "cell_type": "markdown",
   "id": "36e85cbd",
   "metadata": {},
   "source": [
    "**Решение:**\n",
    "\n",
    "`SELECT *,\n",
    "      CASE\n",
    "          WHEN invested_companies >=100 THEN 'high_activity'\n",
    "          WHEN invested_companies between 20 and 99 THEN 'middle_activity'\n",
    "          WHEN invested_companies < 20 THEN 'low_activity'\n",
    "      END AS activity\n",
    "FROM fund`"
   ]
  },
  {
   "cell_type": "markdown",
   "id": "684fab25",
   "metadata": {},
   "source": [
    "### Задача №9\n",
    "Для каждой из категорий, назначенных в предыдущем задании, посчитайте округлённое до ближайшего целого числа среднее количество инвестиционных раундов, в которых фонд принимал участие. Выведите на экран категории и среднее число инвестиционных раундов. Отсортируйте таблицу по возрастанию среднего."
   ]
  },
  {
   "cell_type": "markdown",
   "id": "bc989b2b",
   "metadata": {},
   "source": [
    "**Решение:**\n",
    "\n",
    "`SELECT ROUND(AVG(investment_rounds)),\n",
    "       CASE\n",
    "           WHEN invested_companies>=100 THEN 'high_activity'\n",
    "           WHEN invested_companies>=20 THEN 'middle_activity'\n",
    "           ELSE 'low_activity'\n",
    "       END AS activity\n",
    "FROM fund\n",
    "GROUP BY activity\n",
    "ORDER BY count(investment_rounds) DESC `"
   ]
  },
  {
   "cell_type": "markdown",
   "id": "640f1c71",
   "metadata": {},
   "source": [
    "### Задача №10\n",
    "Проанализируйте, в каких странах находятся фонды, которые чаще всего инвестируют в стартапы. \n",
    "\n",
    "Для каждой страны посчитайте минимальное, максимальное и среднее число компаний, в которые инвестировали фонды этой страны, основанные с 2010 по 2012 год включительно. Исключите страны с фондами, у которых минимальное число компаний, получивших инвестиции, равно нулю.\n",
    "\n",
    "Выгрузите десять самых активных стран-инвесторов: отсортируйте таблицу по среднему количеству компаний от большего к меньшему. Затем добавьте сортировку по коду страны в лексикографическом порядке."
   ]
  },
  {
   "cell_type": "markdown",
   "id": "d800c276",
   "metadata": {},
   "source": [
    "**Решение:**\n",
    "\n",
    "`SELECT сountry_Code, MIN(invested_Companies), MAX(invested_Companies), AVG(invested_Companies)\n",
    " FROM Fund\n",
    " WHERE EXTRACT(YEAR FROM founded_At) BETWEEN 2010 AND 2012\n",
    " GROUP BY country_Code\n",
    " HAVING MIN(invested_Companies) != 0\n",
    " ORDER BY AVG(invested_Companies) DESC, country_Code\n",
    " LIMIT 10`"
   ]
  },
  {
   "cell_type": "markdown",
   "id": "756c246d",
   "metadata": {},
   "source": [
    "### Задача №11\n",
    "Отобразите имя и фамилию всех сотрудников стартапов. Добавьте поле с названием учебного заведения, которое окончил сотрудник, если эта информация известна."
   ]
  },
  {
   "cell_type": "markdown",
   "id": "85ebe120",
   "metadata": {},
   "source": [
    "**Решение:**\n",
    "\n",
    "`SELECT first_name, last_name, instituition\n",
    " FROM people AS p\n",
    " LEFT JOIN education AS e ON p.id = e.person_id`\n"
   ]
  },
  {
   "cell_type": "markdown",
   "id": "f6980ac9",
   "metadata": {},
   "source": [
    "### Задача №12\n",
    "Для каждой компании найдите количество учебных заведений, которые окончили её сотрудники. Выведите название компании и число уникальных названий учебных заведений. Составьте топ-5 компаний по количеству университетов."
   ]
  },
  {
   "cell_type": "markdown",
   "id": "03699820",
   "metadata": {},
   "source": [
    "**Решение:**\n",
    "\n",
    "`SELECT c.name,\n",
    " COUNT(DISTINCT e.instituition)\n",
    " FROM company AS c\n",
    " JOIN people AS p ON c.id = p.company_id\n",
    " JOIN education AS e ON p.id = e.person_id\n",
    " GROUP BY c.name\n",
    " ORDER BY COUNT(DISTINCT e.instituition) DESC\n",
    " LIMIT 5`"
   ]
  },
  {
   "cell_type": "markdown",
   "id": "b46d4349",
   "metadata": {},
   "source": [
    "### Задача №13\n",
    "Составьте список с уникальными названиями закрытых компаний, для которых первый раунд финансирования оказался последним."
   ]
  },
  {
   "cell_type": "markdown",
   "id": "10d31267",
   "metadata": {},
   "source": [
    "**Решение:**\n",
    "\n",
    "`SELECT name\n",
    " FROM company AS c\n",
    " JOIN funding_round AS fr ON c.id = fr.company_id\n",
    " WHERE STATUS ='closed'\n",
    " AND is_first_round = 1\n",
    " AND is_last_round = 1\n",
    " GROUP BY name`"
   ]
  },
  {
   "cell_type": "markdown",
   "id": "6ebfee5c",
   "metadata": {},
   "source": [
    "### Задача №14\n",
    "Составьте список уникальных номеров сотрудников, которые работают в компаниях, отобранных в предыдущем задании."
   ]
  },
  {
   "cell_type": "markdown",
   "id": "02af87b5",
   "metadata": {},
   "source": [
    "**Решение:**\n",
    "\n",
    "`SELECT DISTINCT p.id\n",
    "FROM people AS p\n",
    "WHERE p.company_id IN (\n",
    "    SELECT c.id\n",
    "    FROM company AS c\n",
    "    JOIN funding_round AS fr ON c.id = fr.company_id\n",
    "    WHERE status ='closed'\n",
    "    AND is_first_round = 1\n",
    "    AND is_last_round = 1\n",
    "    GROUP BY c.id\n",
    ")`"
   ]
  },
  {
   "cell_type": "markdown",
   "id": "4f4bb636",
   "metadata": {},
   "source": [
    "### Задача №15\n",
    "Составьте таблицу, куда войдут уникальные пары с номерами сотрудников из предыдущей задачи и учебным заведением, которое окончил сотрудник."
   ]
  },
  {
   "cell_type": "markdown",
   "id": "72225a8f",
   "metadata": {},
   "source": [
    "**Решение:**\n",
    "\n",
    "`SELECT p.id,\n",
    "e.instituition\n",
    "FROM people AS p\n",
    "LEFT JOIN education AS e ON p.id = e.person_id\n",
    "WHERE p.company_id IN (\n",
    "    SELECT c.id\n",
    "    FROM company AS c\n",
    "    JOIN funding_round AS fr ON c.id = fr.company_id\n",
    "    WHERE status ='closed'\n",
    "    AND is_first_round = 1\n",
    "    AND is_last_round = 1\n",
    "    GROUP BY c.id\n",
    ")\n",
    "GROUP BY p.id, e.instituition\n",
    "HAVING instituition IS NOT NULL`"
   ]
  },
  {
   "cell_type": "markdown",
   "id": "6ade5f2a",
   "metadata": {},
   "source": [
    "### Задача №16\n",
    "Посчитайте количество учебных заведений для каждого сотрудника из предыдущего задания. При подсчёте учитывайте, что некоторые сотрудники могли окончить одно и то же заведение дважды."
   ]
  },
  {
   "cell_type": "markdown",
   "id": "ba62e954",
   "metadata": {},
   "source": [
    "**Решение:**\n",
    "\n",
    "`SELECT p.id,\n",
    "COUNT(e.instituition)\n",
    "FROM people AS p\n",
    "LEFT JOIN education AS e ON p.id = e.person_id\n",
    "WHERE p.company_id IN (\n",
    "    SELECT c.id\n",
    "    FROM company AS c\n",
    "    JOIN funding_round AS fr ON c.id = fr.company_id\n",
    "    WHERE status ='closed'\n",
    "    AND is_first_round = 1\n",
    "    AND is_last_round = 1\n",
    "    GROUP BY c.id\n",
    ")\n",
    "GROUP BY p.id\n",
    "HAVING COUNT(DISTINCT e.instituition) > 0`"
   ]
  },
  {
   "cell_type": "markdown",
   "id": "8d131ef8",
   "metadata": {},
   "source": [
    "### Задача №17\n",
    "Дополните предыдущий запрос и выведите среднее число учебных заведений (всех, не только уникальных), которые окончили сотрудники разных компаний. Нужно вывести только одну запись, группировка здесь не понадобится."
   ]
  },
  {
   "cell_type": "markdown",
   "id": "bf030467",
   "metadata": {},
   "source": [
    "**Решение:**\n",
    "\n",
    "`WITH base AS (\n",
    "    SELECT p.id,\n",
    "    COUNT(e.instituition)\n",
    "    FROM people AS p\n",
    "    LEFT JOIN education AS e ON p.id = e.person_id\n",
    "    WHERE p.company_id IN (\n",
    "        SELECT c.id\n",
    "        FROM company AS c\n",
    "        JOIN funding_round AS fr ON c.id = fr.company_id\n",
    "        WHERE status ='closed'\n",
    "        AND is_first_round = 1\n",
    "        AND is_last_round = 1\n",
    "        GROUP BY c.id\n",
    "    )\n",
    "    GROUP BY p.id\n",
    "    HAVING COUNT(DISTINCT e.instituition) > 0\n",
    ")\n",
    "SELECT AVG(COUNT)\n",
    "FROM base`"
   ]
  },
  {
   "cell_type": "markdown",
   "id": "4376c17f",
   "metadata": {},
   "source": [
    "### Задача №18\n",
    "Напишите похожий запрос: выведите среднее число учебных заведений (всех, не только уникальных), которые окончили сотрудники Facebook."
   ]
  },
  {
   "cell_type": "markdown",
   "id": "2860355e",
   "metadata": {},
   "source": [
    "**Решение:**\n",
    "\n",
    "`WITH base AS (\n",
    "    SELECT p.id,\n",
    "    COUNT(e.instituition)\n",
    "    FROM people AS p\n",
    "    RIGHT JOIN education AS e ON p.id = e.person_id\n",
    "    WHERE p.company_id IN (\n",
    "        SELECT id\n",
    "        FROM company\n",
    "        WHERE name = 'Facebook'\n",
    "    )\n",
    "    GROUP BY p.id\n",
    ")\n",
    "SELECT AVG(COUNT)\n",
    "FROM base`"
   ]
  },
  {
   "cell_type": "markdown",
   "id": "e145473b",
   "metadata": {},
   "source": [
    "### Задача №19\n",
    "Составьте таблицу из полей:\n",
    "- `name_of_fund` — название фонда;\n",
    "- `name_of_company` — название компании;\n",
    "- `amount` — сумма инвестиций, которую привлекла компания в раунде.\n",
    "\n",
    "В таблицу войдут данные о компаниях, в истории которых было больше шести важных этапов, а раунды финансирования проходили с 2012 по 2013 год включительно."
   ]
  },
  {
   "cell_type": "markdown",
   "id": "0c7619ce",
   "metadata": {},
   "source": [
    "**Решение:**\n",
    "\n",
    "`SELECT f.name AS name_of_fund,\n",
    "c.name AS name_of_company,\n",
    "fr.raised_amount AS amount\n",
    "FROM investment AS i\n",
    "LEFT JOIN company AS c ON c.id = i.company_id\n",
    "LEFT JOIN fund AS f ON i.fund_id = f.id\n",
    "INNER JOIN \n",
    "    (SELECT *\n",
    "    FROM funding_round\n",
    "    WHERE funded_at BETWEEN '2012-01-01' AND '2013-12-31')\n",
    "AS fr ON fr.id = i.funding_round_id\n",
    "WHERE c.milestones > 6`"
   ]
  },
  {
   "cell_type": "markdown",
   "id": "622d0df8",
   "metadata": {},
   "source": [
    "### Задача №20\n",
    "\n",
    "Выгрузите таблицу, в которой будут такие поля:\n",
    "- название компании-покупателя;\n",
    "- сумма сделки;\n",
    "- название компании, которую купили;\n",
    "- сумма инвестиций, вложенных в купленную компанию;\n",
    "- доля, которая отображает, во сколько раз сумма покупки превысила сумму вложенных в компанию инвестиций, округлённая до ближайшего целого числа.\n",
    "\n",
    "Не учитывайте те сделки, в которых сумма покупки равна нулю. Если сумма инвестиций в компанию равна нулю, исключите такую компанию из таблицы. \n",
    "\n",
    "Отсортируйте таблицу по сумме сделки от большей к меньшей, а затем по названию купленной компании в лексикографическом порядке. Ограничьте таблицу первыми десятью записями."
   ]
  },
  {
   "cell_type": "markdown",
   "id": "d775529a",
   "metadata": {},
   "source": [
    "**Решение:**\n",
    "\n",
    "`WITH acquiring AS (\n",
    "    SELECT c.name AS buyer,\n",
    "    a.price_amount AS price,\n",
    "    a.id AS key\n",
    "    FROM acquisition AS a\n",
    "    LEFT JOIN company AS c ON a.acquiring_company_id = c.id\n",
    "    WHERE a.price_amount > 0\n",
    "),\n",
    "acquired AS (\n",
    "    SELECT c.name AS acquisition,\n",
    "    c.funding_total AS investment,\n",
    "    a.id AS key\n",
    "    FROM acquisition AS a\n",
    "    LEFT JOIN company AS c ON a.acquired_company_id = c.id\n",
    "    WHERE c.funding_total > 0\n",
    ")\n",
    "SELECT acqn.buyer,\n",
    "acqn.price,\n",
    "acqd.acquisition,\n",
    "acqd.investment,\n",
    "ROUND(acqn.price / acqd.investment) AS uplift\n",
    "FROM acquiring AS acqn\n",
    "JOIN acquired AS acqd ON acqn.key = acqd.key\n",
    "ORDER BY price DESC, acquisition\n",
    "LIMIT 10`"
   ]
  },
  {
   "cell_type": "markdown",
   "id": "260ec268",
   "metadata": {},
   "source": [
    "### Задача №21\n",
    "Выгрузите таблицу, в которую войдут названия компаний из категории `social`, получившие финансирование с 2010 по 2013 год включительно. Проверьте, что сумма инвестиций не равна нулю. Выведите также номер месяца, в котором проходил раунд финансирования."
   ]
  },
  {
   "cell_type": "markdown",
   "id": "709fe220",
   "metadata": {},
   "source": [
    "**Решение:**\n",
    "\n",
    "`SELECT c.name, EXTRACT(MONTH FROM fr.funded_at) AS month\n",
    "FROM company AS c\n",
    "LEFT JOIN funding_round AS fr ON c.id = fr.company_id\n",
    "WHERE c.category_code = 'social' \n",
    "AND EXTRACT(YEAR FROM fr.funded_at) BETWEEN 2010 AND 2013 \n",
    "AND fr.raised_amount != 0`"
   ]
  },
  {
   "cell_type": "markdown",
   "id": "2736b5b6",
   "metadata": {},
   "source": [
    "### Задача №22\n",
    "Отберите данные по месяцам с 2010 по 2013 год, когда проходили инвестиционные раунды. Сгруппируйте данные по номеру месяца и получите таблицу, в которой будут поля:\n",
    "- номер месяца, в котором проходили раунды;\n",
    "- количество уникальных названий фондов из США, которые инвестировали в этом месяце;\n",
    "- количество компаний, купленных за этот месяц;\n",
    "- общая сумма сделок по покупкам в этом месяце."
   ]
  },
  {
   "cell_type": "markdown",
   "id": "11830dc1",
   "metadata": {},
   "source": [
    "**Решение:**\n",
    "\n",
    "`WITH fundings AS (\n",
    "    SELECT EXTRACT(MONTH FROM CAST(fr.funded_at AS DATE)) AS funding_month,\n",
    "    COUNT(DISTINCT f.id) AS us_funds\n",
    "    FROM fund AS f\n",
    "    LEFT JOIN investment AS i ON f.id = i.fund_id\n",
    "    LEFT JOIN funding_round AS fr ON i.funding_round_id = fr.id\n",
    "    WHERE f.country_code = 'USA'\n",
    "    AND EXTRACT(YEAR FROM CAST(fr.funded_at AS DATE)) BETWEEN 2010 AND 2013\n",
    "    GROUP BY funding_month\n",
    "),\n",
    "acquisitions AS (\n",
    "    SELECT EXTRACT(MONTH FROM CAST(acquired_at AS DATE)) AS funding_month,\n",
    "    COUNT(acquired_company_id) AS bought_co,\n",
    "    SUM(price_amount) AS sum_total\n",
    "    FROM acquisition\n",
    "    WHERE EXTRACT(YEAR FROM CAST(acquired_at AS DATE)) BETWEEN 2010 AND 2013\n",
    "    GROUP BY funding_month\n",
    ")\n",
    "SELECT fnd.funding_month, fnd.us_funds, acq.bought_co, acq.sum_total\n",
    "FROM fundings AS fnd\n",
    "LEFT JOIN acquisitions AS acq ON fnd.funding_month = acq.funding_month`"
   ]
  },
  {
   "cell_type": "markdown",
   "id": "26be75c7",
   "metadata": {},
   "source": [
    "### Задача №23\n",
    "Составьте сводную таблицу и выведите среднюю сумму инвестиций для стран, в которых есть стартапы, зарегистрированные в 2011, 2012 и 2013 годах. Данные за каждый год должны быть в отдельном поле. Отсортируйте таблицу по среднему значению инвестиций за 2011 год от большего к меньшему."
   ]
  },
  {
   "cell_type": "markdown",
   "id": "ebd2be8b",
   "metadata": {},
   "source": [
    "**Решение:**\n",
    "\n",
    "`WITH y_11 AS (\n",
    "    SELECT country_code AS country,\n",
    "    AVG(funding_total) AS y_2011\n",
    "    FROM company\n",
    "    WHERE EXTRACT(YEAR FROM founded_at::DATE) IN(2011, 2012, 2013)\n",
    "    GROUP BY country, EXTRACT(YEAR FROM founded_at)\n",
    "    HAVING EXTRACT(YEAR FROM founded_at) = 2011\n",
    "),\n",
    "y_12 AS (\n",
    "    SELECT country_code AS country,\n",
    "    AVG(funding_total) AS y_2012\n",
    "    FROM company\n",
    "    WHERE EXTRACT(YEAR FROM founded_at::DATE) IN(2011, 2012, 2013)\n",
    "    GROUP BY country, EXTRACT(YEAR FROM founded_at)\n",
    "    HAVING EXTRACT(YEAR FROM founded_at) = 2012\n",
    "),\n",
    "y_13 AS (\n",
    "    SELECT country_code AS country,\n",
    "    AVG(funding_total) AS y_2013\n",
    "    FROM company\n",
    "    WHERE EXTRACT(YEAR FROM founded_at::DATE) IN(2011, 2012, 2013)\n",
    "    GROUP BY country, EXTRACT(YEAR FROM founded_at)\n",
    "    HAVING EXTRACT(YEAR FROM founded_at) = 2013\n",
    ")\n",
    "SELECT y_11.country, y_2011, y_2012, y_2013\n",
    "FROM y_11\n",
    "JOIN y_12 ON y_11.country = y_12.country\n",
    "JOIN y_13 ON y_12.country = y_13.country\n",
    "ORDER BY y_2011 DESC`"
   ]
  },
  {
   "cell_type": "markdown",
   "id": "17af1efa",
   "metadata": {},
   "source": [
    "## Спасибо за внимание! "
   ]
  }
 ],
 "metadata": {
  "kernelspec": {
   "display_name": "Python 3 (ipykernel)",
   "language": "python",
   "name": "python3"
  },
  "language_info": {
   "codemirror_mode": {
    "name": "ipython",
    "version": 3
   },
   "file_extension": ".py",
   "mimetype": "text/x-python",
   "name": "python",
   "nbconvert_exporter": "python",
   "pygments_lexer": "ipython3",
   "version": "3.9.13"
  }
 },
 "nbformat": 4,
 "nbformat_minor": 5
}
